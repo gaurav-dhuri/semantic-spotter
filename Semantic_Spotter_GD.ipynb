{
  "nbformat": 4,
  "nbformat_minor": 0,
  "metadata": {
    "colab": {
      "provenance": []
    },
    "kernelspec": {
      "name": "python3",
      "display_name": "Python 3"
    },
    "language_info": {
      "name": "python"
    },
    "widgets": {
      "application/vnd.jupyter.widget-state+json": {
        "88edd8c14a9b49df863889f8698d21c3": {
          "model_module": "@jupyter-widgets/controls",
          "model_name": "HBoxModel",
          "model_module_version": "1.5.0",
          "state": {
            "_dom_classes": [],
            "_model_module": "@jupyter-widgets/controls",
            "_model_module_version": "1.5.0",
            "_model_name": "HBoxModel",
            "_view_count": null,
            "_view_module": "@jupyter-widgets/controls",
            "_view_module_version": "1.5.0",
            "_view_name": "HBoxView",
            "box_style": "",
            "children": [
              "IPY_MODEL_7935b37f6fa34c3f842b876e21eba340",
              "IPY_MODEL_34529aff0a4f47a7a676abe58492f32e",
              "IPY_MODEL_896e2aa8ebfe4d298e778954db75ed9a"
            ],
            "layout": "IPY_MODEL_96ac5bae9e7e4484b434bff3647331e9"
          }
        },
        "7935b37f6fa34c3f842b876e21eba340": {
          "model_module": "@jupyter-widgets/controls",
          "model_name": "HTMLModel",
          "model_module_version": "1.5.0",
          "state": {
            "_dom_classes": [],
            "_model_module": "@jupyter-widgets/controls",
            "_model_module_version": "1.5.0",
            "_model_name": "HTMLModel",
            "_view_count": null,
            "_view_module": "@jupyter-widgets/controls",
            "_view_module_version": "1.5.0",
            "_view_name": "HTMLView",
            "description": "",
            "description_tooltip": null,
            "layout": "IPY_MODEL_3f9961dd76a04bdfb4966eb7794db2c2",
            "placeholder": "​",
            "style": "IPY_MODEL_c43ab9be60144fc8b47afd17003e23cb",
            "value": "config.json: 100%"
          }
        },
        "34529aff0a4f47a7a676abe58492f32e": {
          "model_module": "@jupyter-widgets/controls",
          "model_name": "FloatProgressModel",
          "model_module_version": "1.5.0",
          "state": {
            "_dom_classes": [],
            "_model_module": "@jupyter-widgets/controls",
            "_model_module_version": "1.5.0",
            "_model_name": "FloatProgressModel",
            "_view_count": null,
            "_view_module": "@jupyter-widgets/controls",
            "_view_module_version": "1.5.0",
            "_view_name": "ProgressView",
            "bar_style": "success",
            "description": "",
            "description_tooltip": null,
            "layout": "IPY_MODEL_910569139b964ba5b0a5a95716a680f4",
            "max": 794,
            "min": 0,
            "orientation": "horizontal",
            "style": "IPY_MODEL_57b9730ce8e944978e6748859b5f358e",
            "value": 794
          }
        },
        "896e2aa8ebfe4d298e778954db75ed9a": {
          "model_module": "@jupyter-widgets/controls",
          "model_name": "HTMLModel",
          "model_module_version": "1.5.0",
          "state": {
            "_dom_classes": [],
            "_model_module": "@jupyter-widgets/controls",
            "_model_module_version": "1.5.0",
            "_model_name": "HTMLModel",
            "_view_count": null,
            "_view_module": "@jupyter-widgets/controls",
            "_view_module_version": "1.5.0",
            "_view_name": "HTMLView",
            "description": "",
            "description_tooltip": null,
            "layout": "IPY_MODEL_da4243e6de2d45328b34bbd957fba536",
            "placeholder": "​",
            "style": "IPY_MODEL_162ddfbf238e4dc5bb4d3ed3adda5f20",
            "value": " 794/794 [00:00&lt;00:00, 30.5kB/s]"
          }
        },
        "96ac5bae9e7e4484b434bff3647331e9": {
          "model_module": "@jupyter-widgets/base",
          "model_name": "LayoutModel",
          "model_module_version": "1.2.0",
          "state": {
            "_model_module": "@jupyter-widgets/base",
            "_model_module_version": "1.2.0",
            "_model_name": "LayoutModel",
            "_view_count": null,
            "_view_module": "@jupyter-widgets/base",
            "_view_module_version": "1.2.0",
            "_view_name": "LayoutView",
            "align_content": null,
            "align_items": null,
            "align_self": null,
            "border": null,
            "bottom": null,
            "display": null,
            "flex": null,
            "flex_flow": null,
            "grid_area": null,
            "grid_auto_columns": null,
            "grid_auto_flow": null,
            "grid_auto_rows": null,
            "grid_column": null,
            "grid_gap": null,
            "grid_row": null,
            "grid_template_areas": null,
            "grid_template_columns": null,
            "grid_template_rows": null,
            "height": null,
            "justify_content": null,
            "justify_items": null,
            "left": null,
            "margin": null,
            "max_height": null,
            "max_width": null,
            "min_height": null,
            "min_width": null,
            "object_fit": null,
            "object_position": null,
            "order": null,
            "overflow": null,
            "overflow_x": null,
            "overflow_y": null,
            "padding": null,
            "right": null,
            "top": null,
            "visibility": null,
            "width": null
          }
        },
        "3f9961dd76a04bdfb4966eb7794db2c2": {
          "model_module": "@jupyter-widgets/base",
          "model_name": "LayoutModel",
          "model_module_version": "1.2.0",
          "state": {
            "_model_module": "@jupyter-widgets/base",
            "_model_module_version": "1.2.0",
            "_model_name": "LayoutModel",
            "_view_count": null,
            "_view_module": "@jupyter-widgets/base",
            "_view_module_version": "1.2.0",
            "_view_name": "LayoutView",
            "align_content": null,
            "align_items": null,
            "align_self": null,
            "border": null,
            "bottom": null,
            "display": null,
            "flex": null,
            "flex_flow": null,
            "grid_area": null,
            "grid_auto_columns": null,
            "grid_auto_flow": null,
            "grid_auto_rows": null,
            "grid_column": null,
            "grid_gap": null,
            "grid_row": null,
            "grid_template_areas": null,
            "grid_template_columns": null,
            "grid_template_rows": null,
            "height": null,
            "justify_content": null,
            "justify_items": null,
            "left": null,
            "margin": null,
            "max_height": null,
            "max_width": null,
            "min_height": null,
            "min_width": null,
            "object_fit": null,
            "object_position": null,
            "order": null,
            "overflow": null,
            "overflow_x": null,
            "overflow_y": null,
            "padding": null,
            "right": null,
            "top": null,
            "visibility": null,
            "width": null
          }
        },
        "c43ab9be60144fc8b47afd17003e23cb": {
          "model_module": "@jupyter-widgets/controls",
          "model_name": "DescriptionStyleModel",
          "model_module_version": "1.5.0",
          "state": {
            "_model_module": "@jupyter-widgets/controls",
            "_model_module_version": "1.5.0",
            "_model_name": "DescriptionStyleModel",
            "_view_count": null,
            "_view_module": "@jupyter-widgets/base",
            "_view_module_version": "1.2.0",
            "_view_name": "StyleView",
            "description_width": ""
          }
        },
        "910569139b964ba5b0a5a95716a680f4": {
          "model_module": "@jupyter-widgets/base",
          "model_name": "LayoutModel",
          "model_module_version": "1.2.0",
          "state": {
            "_model_module": "@jupyter-widgets/base",
            "_model_module_version": "1.2.0",
            "_model_name": "LayoutModel",
            "_view_count": null,
            "_view_module": "@jupyter-widgets/base",
            "_view_module_version": "1.2.0",
            "_view_name": "LayoutView",
            "align_content": null,
            "align_items": null,
            "align_self": null,
            "border": null,
            "bottom": null,
            "display": null,
            "flex": null,
            "flex_flow": null,
            "grid_area": null,
            "grid_auto_columns": null,
            "grid_auto_flow": null,
            "grid_auto_rows": null,
            "grid_column": null,
            "grid_gap": null,
            "grid_row": null,
            "grid_template_areas": null,
            "grid_template_columns": null,
            "grid_template_rows": null,
            "height": null,
            "justify_content": null,
            "justify_items": null,
            "left": null,
            "margin": null,
            "max_height": null,
            "max_width": null,
            "min_height": null,
            "min_width": null,
            "object_fit": null,
            "object_position": null,
            "order": null,
            "overflow": null,
            "overflow_x": null,
            "overflow_y": null,
            "padding": null,
            "right": null,
            "top": null,
            "visibility": null,
            "width": null
          }
        },
        "57b9730ce8e944978e6748859b5f358e": {
          "model_module": "@jupyter-widgets/controls",
          "model_name": "ProgressStyleModel",
          "model_module_version": "1.5.0",
          "state": {
            "_model_module": "@jupyter-widgets/controls",
            "_model_module_version": "1.5.0",
            "_model_name": "ProgressStyleModel",
            "_view_count": null,
            "_view_module": "@jupyter-widgets/base",
            "_view_module_version": "1.2.0",
            "_view_name": "StyleView",
            "bar_color": null,
            "description_width": ""
          }
        },
        "da4243e6de2d45328b34bbd957fba536": {
          "model_module": "@jupyter-widgets/base",
          "model_name": "LayoutModel",
          "model_module_version": "1.2.0",
          "state": {
            "_model_module": "@jupyter-widgets/base",
            "_model_module_version": "1.2.0",
            "_model_name": "LayoutModel",
            "_view_count": null,
            "_view_module": "@jupyter-widgets/base",
            "_view_module_version": "1.2.0",
            "_view_name": "LayoutView",
            "align_content": null,
            "align_items": null,
            "align_self": null,
            "border": null,
            "bottom": null,
            "display": null,
            "flex": null,
            "flex_flow": null,
            "grid_area": null,
            "grid_auto_columns": null,
            "grid_auto_flow": null,
            "grid_auto_rows": null,
            "grid_column": null,
            "grid_gap": null,
            "grid_row": null,
            "grid_template_areas": null,
            "grid_template_columns": null,
            "grid_template_rows": null,
            "height": null,
            "justify_content": null,
            "justify_items": null,
            "left": null,
            "margin": null,
            "max_height": null,
            "max_width": null,
            "min_height": null,
            "min_width": null,
            "object_fit": null,
            "object_position": null,
            "order": null,
            "overflow": null,
            "overflow_x": null,
            "overflow_y": null,
            "padding": null,
            "right": null,
            "top": null,
            "visibility": null,
            "width": null
          }
        },
        "162ddfbf238e4dc5bb4d3ed3adda5f20": {
          "model_module": "@jupyter-widgets/controls",
          "model_name": "DescriptionStyleModel",
          "model_module_version": "1.5.0",
          "state": {
            "_model_module": "@jupyter-widgets/controls",
            "_model_module_version": "1.5.0",
            "_model_name": "DescriptionStyleModel",
            "_view_count": null,
            "_view_module": "@jupyter-widgets/base",
            "_view_module_version": "1.2.0",
            "_view_name": "StyleView",
            "description_width": ""
          }
        },
        "7b16d9b9cc5f43db8a65f2f620745072": {
          "model_module": "@jupyter-widgets/controls",
          "model_name": "HBoxModel",
          "model_module_version": "1.5.0",
          "state": {
            "_dom_classes": [],
            "_model_module": "@jupyter-widgets/controls",
            "_model_module_version": "1.5.0",
            "_model_name": "HBoxModel",
            "_view_count": null,
            "_view_module": "@jupyter-widgets/controls",
            "_view_module_version": "1.5.0",
            "_view_name": "HBoxView",
            "box_style": "",
            "children": [
              "IPY_MODEL_40b9e12e175e4055a8cc427f1ce13d06",
              "IPY_MODEL_0df212d4cf6a4ffe9d30068e89e3abe1",
              "IPY_MODEL_b1464ce576004c2fa63aaace376183ba"
            ],
            "layout": "IPY_MODEL_d88cc6fade0a4c8491fa85dc480ff9bc"
          }
        },
        "40b9e12e175e4055a8cc427f1ce13d06": {
          "model_module": "@jupyter-widgets/controls",
          "model_name": "HTMLModel",
          "model_module_version": "1.5.0",
          "state": {
            "_dom_classes": [],
            "_model_module": "@jupyter-widgets/controls",
            "_model_module_version": "1.5.0",
            "_model_name": "HTMLModel",
            "_view_count": null,
            "_view_module": "@jupyter-widgets/controls",
            "_view_module_version": "1.5.0",
            "_view_name": "HTMLView",
            "description": "",
            "description_tooltip": null,
            "layout": "IPY_MODEL_506d193ff4a84c539035c94683d1e286",
            "placeholder": "​",
            "style": "IPY_MODEL_e43ef872895b45be97593cb752fd6fd0",
            "value": "pytorch_model.bin: 100%"
          }
        },
        "0df212d4cf6a4ffe9d30068e89e3abe1": {
          "model_module": "@jupyter-widgets/controls",
          "model_name": "FloatProgressModel",
          "model_module_version": "1.5.0",
          "state": {
            "_dom_classes": [],
            "_model_module": "@jupyter-widgets/controls",
            "_model_module_version": "1.5.0",
            "_model_name": "FloatProgressModel",
            "_view_count": null,
            "_view_module": "@jupyter-widgets/controls",
            "_view_module_version": "1.5.0",
            "_view_name": "ProgressView",
            "bar_style": "success",
            "description": "",
            "description_tooltip": null,
            "layout": "IPY_MODEL_5b70afd1940a4febb1ea28e0d5090fbf",
            "max": 62484521,
            "min": 0,
            "orientation": "horizontal",
            "style": "IPY_MODEL_e24f8306d6364b83979d4caaec3c82d1",
            "value": 62484521
          }
        },
        "b1464ce576004c2fa63aaace376183ba": {
          "model_module": "@jupyter-widgets/controls",
          "model_name": "HTMLModel",
          "model_module_version": "1.5.0",
          "state": {
            "_dom_classes": [],
            "_model_module": "@jupyter-widgets/controls",
            "_model_module_version": "1.5.0",
            "_model_name": "HTMLModel",
            "_view_count": null,
            "_view_module": "@jupyter-widgets/controls",
            "_view_module_version": "1.5.0",
            "_view_name": "HTMLView",
            "description": "",
            "description_tooltip": null,
            "layout": "IPY_MODEL_e717de67976541868a55c57c61bca814",
            "placeholder": "​",
            "style": "IPY_MODEL_ca71fec771534173ae5ab99d1a3318d4",
            "value": " 62.5M/62.5M [00:04&lt;00:00, 21.6MB/s]"
          }
        },
        "d88cc6fade0a4c8491fa85dc480ff9bc": {
          "model_module": "@jupyter-widgets/base",
          "model_name": "LayoutModel",
          "model_module_version": "1.2.0",
          "state": {
            "_model_module": "@jupyter-widgets/base",
            "_model_module_version": "1.2.0",
            "_model_name": "LayoutModel",
            "_view_count": null,
            "_view_module": "@jupyter-widgets/base",
            "_view_module_version": "1.2.0",
            "_view_name": "LayoutView",
            "align_content": null,
            "align_items": null,
            "align_self": null,
            "border": null,
            "bottom": null,
            "display": null,
            "flex": null,
            "flex_flow": null,
            "grid_area": null,
            "grid_auto_columns": null,
            "grid_auto_flow": null,
            "grid_auto_rows": null,
            "grid_column": null,
            "grid_gap": null,
            "grid_row": null,
            "grid_template_areas": null,
            "grid_template_columns": null,
            "grid_template_rows": null,
            "height": null,
            "justify_content": null,
            "justify_items": null,
            "left": null,
            "margin": null,
            "max_height": null,
            "max_width": null,
            "min_height": null,
            "min_width": null,
            "object_fit": null,
            "object_position": null,
            "order": null,
            "overflow": null,
            "overflow_x": null,
            "overflow_y": null,
            "padding": null,
            "right": null,
            "top": null,
            "visibility": null,
            "width": null
          }
        },
        "506d193ff4a84c539035c94683d1e286": {
          "model_module": "@jupyter-widgets/base",
          "model_name": "LayoutModel",
          "model_module_version": "1.2.0",
          "state": {
            "_model_module": "@jupyter-widgets/base",
            "_model_module_version": "1.2.0",
            "_model_name": "LayoutModel",
            "_view_count": null,
            "_view_module": "@jupyter-widgets/base",
            "_view_module_version": "1.2.0",
            "_view_name": "LayoutView",
            "align_content": null,
            "align_items": null,
            "align_self": null,
            "border": null,
            "bottom": null,
            "display": null,
            "flex": null,
            "flex_flow": null,
            "grid_area": null,
            "grid_auto_columns": null,
            "grid_auto_flow": null,
            "grid_auto_rows": null,
            "grid_column": null,
            "grid_gap": null,
            "grid_row": null,
            "grid_template_areas": null,
            "grid_template_columns": null,
            "grid_template_rows": null,
            "height": null,
            "justify_content": null,
            "justify_items": null,
            "left": null,
            "margin": null,
            "max_height": null,
            "max_width": null,
            "min_height": null,
            "min_width": null,
            "object_fit": null,
            "object_position": null,
            "order": null,
            "overflow": null,
            "overflow_x": null,
            "overflow_y": null,
            "padding": null,
            "right": null,
            "top": null,
            "visibility": null,
            "width": null
          }
        },
        "e43ef872895b45be97593cb752fd6fd0": {
          "model_module": "@jupyter-widgets/controls",
          "model_name": "DescriptionStyleModel",
          "model_module_version": "1.5.0",
          "state": {
            "_model_module": "@jupyter-widgets/controls",
            "_model_module_version": "1.5.0",
            "_model_name": "DescriptionStyleModel",
            "_view_count": null,
            "_view_module": "@jupyter-widgets/base",
            "_view_module_version": "1.2.0",
            "_view_name": "StyleView",
            "description_width": ""
          }
        },
        "5b70afd1940a4febb1ea28e0d5090fbf": {
          "model_module": "@jupyter-widgets/base",
          "model_name": "LayoutModel",
          "model_module_version": "1.2.0",
          "state": {
            "_model_module": "@jupyter-widgets/base",
            "_model_module_version": "1.2.0",
            "_model_name": "LayoutModel",
            "_view_count": null,
            "_view_module": "@jupyter-widgets/base",
            "_view_module_version": "1.2.0",
            "_view_name": "LayoutView",
            "align_content": null,
            "align_items": null,
            "align_self": null,
            "border": null,
            "bottom": null,
            "display": null,
            "flex": null,
            "flex_flow": null,
            "grid_area": null,
            "grid_auto_columns": null,
            "grid_auto_flow": null,
            "grid_auto_rows": null,
            "grid_column": null,
            "grid_gap": null,
            "grid_row": null,
            "grid_template_areas": null,
            "grid_template_columns": null,
            "grid_template_rows": null,
            "height": null,
            "justify_content": null,
            "justify_items": null,
            "left": null,
            "margin": null,
            "max_height": null,
            "max_width": null,
            "min_height": null,
            "min_width": null,
            "object_fit": null,
            "object_position": null,
            "order": null,
            "overflow": null,
            "overflow_x": null,
            "overflow_y": null,
            "padding": null,
            "right": null,
            "top": null,
            "visibility": null,
            "width": null
          }
        },
        "e24f8306d6364b83979d4caaec3c82d1": {
          "model_module": "@jupyter-widgets/controls",
          "model_name": "ProgressStyleModel",
          "model_module_version": "1.5.0",
          "state": {
            "_model_module": "@jupyter-widgets/controls",
            "_model_module_version": "1.5.0",
            "_model_name": "ProgressStyleModel",
            "_view_count": null,
            "_view_module": "@jupyter-widgets/base",
            "_view_module_version": "1.2.0",
            "_view_name": "StyleView",
            "bar_color": null,
            "description_width": ""
          }
        },
        "e717de67976541868a55c57c61bca814": {
          "model_module": "@jupyter-widgets/base",
          "model_name": "LayoutModel",
          "model_module_version": "1.2.0",
          "state": {
            "_model_module": "@jupyter-widgets/base",
            "_model_module_version": "1.2.0",
            "_model_name": "LayoutModel",
            "_view_count": null,
            "_view_module": "@jupyter-widgets/base",
            "_view_module_version": "1.2.0",
            "_view_name": "LayoutView",
            "align_content": null,
            "align_items": null,
            "align_self": null,
            "border": null,
            "bottom": null,
            "display": null,
            "flex": null,
            "flex_flow": null,
            "grid_area": null,
            "grid_auto_columns": null,
            "grid_auto_flow": null,
            "grid_auto_rows": null,
            "grid_column": null,
            "grid_gap": null,
            "grid_row": null,
            "grid_template_areas": null,
            "grid_template_columns": null,
            "grid_template_rows": null,
            "height": null,
            "justify_content": null,
            "justify_items": null,
            "left": null,
            "margin": null,
            "max_height": null,
            "max_width": null,
            "min_height": null,
            "min_width": null,
            "object_fit": null,
            "object_position": null,
            "order": null,
            "overflow": null,
            "overflow_x": null,
            "overflow_y": null,
            "padding": null,
            "right": null,
            "top": null,
            "visibility": null,
            "width": null
          }
        },
        "ca71fec771534173ae5ab99d1a3318d4": {
          "model_module": "@jupyter-widgets/controls",
          "model_name": "DescriptionStyleModel",
          "model_module_version": "1.5.0",
          "state": {
            "_model_module": "@jupyter-widgets/controls",
            "_model_module_version": "1.5.0",
            "_model_name": "DescriptionStyleModel",
            "_view_count": null,
            "_view_module": "@jupyter-widgets/base",
            "_view_module_version": "1.2.0",
            "_view_name": "StyleView",
            "description_width": ""
          }
        },
        "c02b445992204c399f6d0c05bea7d95f": {
          "model_module": "@jupyter-widgets/controls",
          "model_name": "HBoxModel",
          "model_module_version": "1.5.0",
          "state": {
            "_dom_classes": [],
            "_model_module": "@jupyter-widgets/controls",
            "_model_module_version": "1.5.0",
            "_model_name": "HBoxModel",
            "_view_count": null,
            "_view_module": "@jupyter-widgets/controls",
            "_view_module_version": "1.5.0",
            "_view_name": "HBoxView",
            "box_style": "",
            "children": [
              "IPY_MODEL_fb0cde43ff2d4d22aaf98d91b07edb69",
              "IPY_MODEL_f20019c63d3749bf8d671c0bccdc1425",
              "IPY_MODEL_d838e998e15d4631a93472bd8d6c37b4"
            ],
            "layout": "IPY_MODEL_c14b8a4f570d4b87b092e5f90fa1a76c"
          }
        },
        "fb0cde43ff2d4d22aaf98d91b07edb69": {
          "model_module": "@jupyter-widgets/controls",
          "model_name": "HTMLModel",
          "model_module_version": "1.5.0",
          "state": {
            "_dom_classes": [],
            "_model_module": "@jupyter-widgets/controls",
            "_model_module_version": "1.5.0",
            "_model_name": "HTMLModel",
            "_view_count": null,
            "_view_module": "@jupyter-widgets/controls",
            "_view_module_version": "1.5.0",
            "_view_name": "HTMLView",
            "description": "",
            "description_tooltip": null,
            "layout": "IPY_MODEL_052ce11e8f3942f89858289c1da9011d",
            "placeholder": "​",
            "style": "IPY_MODEL_bb1f73b5ed994fb6941b8c20d89a6e8e",
            "value": "tokenizer_config.json: 100%"
          }
        },
        "f20019c63d3749bf8d671c0bccdc1425": {
          "model_module": "@jupyter-widgets/controls",
          "model_name": "FloatProgressModel",
          "model_module_version": "1.5.0",
          "state": {
            "_dom_classes": [],
            "_model_module": "@jupyter-widgets/controls",
            "_model_module_version": "1.5.0",
            "_model_name": "FloatProgressModel",
            "_view_count": null,
            "_view_module": "@jupyter-widgets/controls",
            "_view_module_version": "1.5.0",
            "_view_name": "ProgressView",
            "bar_style": "success",
            "description": "",
            "description_tooltip": null,
            "layout": "IPY_MODEL_5c9e56d457a34e6f9eeb9bdc89e86a45",
            "max": 316,
            "min": 0,
            "orientation": "horizontal",
            "style": "IPY_MODEL_fe2605ed292f4556b4816eec507cc958",
            "value": 316
          }
        },
        "d838e998e15d4631a93472bd8d6c37b4": {
          "model_module": "@jupyter-widgets/controls",
          "model_name": "HTMLModel",
          "model_module_version": "1.5.0",
          "state": {
            "_dom_classes": [],
            "_model_module": "@jupyter-widgets/controls",
            "_model_module_version": "1.5.0",
            "_model_name": "HTMLModel",
            "_view_count": null,
            "_view_module": "@jupyter-widgets/controls",
            "_view_module_version": "1.5.0",
            "_view_name": "HTMLView",
            "description": "",
            "description_tooltip": null,
            "layout": "IPY_MODEL_f63863b8713d4ca389ed3893200be264",
            "placeholder": "​",
            "style": "IPY_MODEL_fbe7b851c0f947d48566c883dd4e9d79",
            "value": " 316/316 [00:00&lt;00:00, 13.6kB/s]"
          }
        },
        "c14b8a4f570d4b87b092e5f90fa1a76c": {
          "model_module": "@jupyter-widgets/base",
          "model_name": "LayoutModel",
          "model_module_version": "1.2.0",
          "state": {
            "_model_module": "@jupyter-widgets/base",
            "_model_module_version": "1.2.0",
            "_model_name": "LayoutModel",
            "_view_count": null,
            "_view_module": "@jupyter-widgets/base",
            "_view_module_version": "1.2.0",
            "_view_name": "LayoutView",
            "align_content": null,
            "align_items": null,
            "align_self": null,
            "border": null,
            "bottom": null,
            "display": null,
            "flex": null,
            "flex_flow": null,
            "grid_area": null,
            "grid_auto_columns": null,
            "grid_auto_flow": null,
            "grid_auto_rows": null,
            "grid_column": null,
            "grid_gap": null,
            "grid_row": null,
            "grid_template_areas": null,
            "grid_template_columns": null,
            "grid_template_rows": null,
            "height": null,
            "justify_content": null,
            "justify_items": null,
            "left": null,
            "margin": null,
            "max_height": null,
            "max_width": null,
            "min_height": null,
            "min_width": null,
            "object_fit": null,
            "object_position": null,
            "order": null,
            "overflow": null,
            "overflow_x": null,
            "overflow_y": null,
            "padding": null,
            "right": null,
            "top": null,
            "visibility": null,
            "width": null
          }
        },
        "052ce11e8f3942f89858289c1da9011d": {
          "model_module": "@jupyter-widgets/base",
          "model_name": "LayoutModel",
          "model_module_version": "1.2.0",
          "state": {
            "_model_module": "@jupyter-widgets/base",
            "_model_module_version": "1.2.0",
            "_model_name": "LayoutModel",
            "_view_count": null,
            "_view_module": "@jupyter-widgets/base",
            "_view_module_version": "1.2.0",
            "_view_name": "LayoutView",
            "align_content": null,
            "align_items": null,
            "align_self": null,
            "border": null,
            "bottom": null,
            "display": null,
            "flex": null,
            "flex_flow": null,
            "grid_area": null,
            "grid_auto_columns": null,
            "grid_auto_flow": null,
            "grid_auto_rows": null,
            "grid_column": null,
            "grid_gap": null,
            "grid_row": null,
            "grid_template_areas": null,
            "grid_template_columns": null,
            "grid_template_rows": null,
            "height": null,
            "justify_content": null,
            "justify_items": null,
            "left": null,
            "margin": null,
            "max_height": null,
            "max_width": null,
            "min_height": null,
            "min_width": null,
            "object_fit": null,
            "object_position": null,
            "order": null,
            "overflow": null,
            "overflow_x": null,
            "overflow_y": null,
            "padding": null,
            "right": null,
            "top": null,
            "visibility": null,
            "width": null
          }
        },
        "bb1f73b5ed994fb6941b8c20d89a6e8e": {
          "model_module": "@jupyter-widgets/controls",
          "model_name": "DescriptionStyleModel",
          "model_module_version": "1.5.0",
          "state": {
            "_model_module": "@jupyter-widgets/controls",
            "_model_module_version": "1.5.0",
            "_model_name": "DescriptionStyleModel",
            "_view_count": null,
            "_view_module": "@jupyter-widgets/base",
            "_view_module_version": "1.2.0",
            "_view_name": "StyleView",
            "description_width": ""
          }
        },
        "5c9e56d457a34e6f9eeb9bdc89e86a45": {
          "model_module": "@jupyter-widgets/base",
          "model_name": "LayoutModel",
          "model_module_version": "1.2.0",
          "state": {
            "_model_module": "@jupyter-widgets/base",
            "_model_module_version": "1.2.0",
            "_model_name": "LayoutModel",
            "_view_count": null,
            "_view_module": "@jupyter-widgets/base",
            "_view_module_version": "1.2.0",
            "_view_name": "LayoutView",
            "align_content": null,
            "align_items": null,
            "align_self": null,
            "border": null,
            "bottom": null,
            "display": null,
            "flex": null,
            "flex_flow": null,
            "grid_area": null,
            "grid_auto_columns": null,
            "grid_auto_flow": null,
            "grid_auto_rows": null,
            "grid_column": null,
            "grid_gap": null,
            "grid_row": null,
            "grid_template_areas": null,
            "grid_template_columns": null,
            "grid_template_rows": null,
            "height": null,
            "justify_content": null,
            "justify_items": null,
            "left": null,
            "margin": null,
            "max_height": null,
            "max_width": null,
            "min_height": null,
            "min_width": null,
            "object_fit": null,
            "object_position": null,
            "order": null,
            "overflow": null,
            "overflow_x": null,
            "overflow_y": null,
            "padding": null,
            "right": null,
            "top": null,
            "visibility": null,
            "width": null
          }
        },
        "fe2605ed292f4556b4816eec507cc958": {
          "model_module": "@jupyter-widgets/controls",
          "model_name": "ProgressStyleModel",
          "model_module_version": "1.5.0",
          "state": {
            "_model_module": "@jupyter-widgets/controls",
            "_model_module_version": "1.5.0",
            "_model_name": "ProgressStyleModel",
            "_view_count": null,
            "_view_module": "@jupyter-widgets/base",
            "_view_module_version": "1.2.0",
            "_view_name": "StyleView",
            "bar_color": null,
            "description_width": ""
          }
        },
        "f63863b8713d4ca389ed3893200be264": {
          "model_module": "@jupyter-widgets/base",
          "model_name": "LayoutModel",
          "model_module_version": "1.2.0",
          "state": {
            "_model_module": "@jupyter-widgets/base",
            "_model_module_version": "1.2.0",
            "_model_name": "LayoutModel",
            "_view_count": null,
            "_view_module": "@jupyter-widgets/base",
            "_view_module_version": "1.2.0",
            "_view_name": "LayoutView",
            "align_content": null,
            "align_items": null,
            "align_self": null,
            "border": null,
            "bottom": null,
            "display": null,
            "flex": null,
            "flex_flow": null,
            "grid_area": null,
            "grid_auto_columns": null,
            "grid_auto_flow": null,
            "grid_auto_rows": null,
            "grid_column": null,
            "grid_gap": null,
            "grid_row": null,
            "grid_template_areas": null,
            "grid_template_columns": null,
            "grid_template_rows": null,
            "height": null,
            "justify_content": null,
            "justify_items": null,
            "left": null,
            "margin": null,
            "max_height": null,
            "max_width": null,
            "min_height": null,
            "min_width": null,
            "object_fit": null,
            "object_position": null,
            "order": null,
            "overflow": null,
            "overflow_x": null,
            "overflow_y": null,
            "padding": null,
            "right": null,
            "top": null,
            "visibility": null,
            "width": null
          }
        },
        "fbe7b851c0f947d48566c883dd4e9d79": {
          "model_module": "@jupyter-widgets/controls",
          "model_name": "DescriptionStyleModel",
          "model_module_version": "1.5.0",
          "state": {
            "_model_module": "@jupyter-widgets/controls",
            "_model_module_version": "1.5.0",
            "_model_name": "DescriptionStyleModel",
            "_view_count": null,
            "_view_module": "@jupyter-widgets/base",
            "_view_module_version": "1.2.0",
            "_view_name": "StyleView",
            "description_width": ""
          }
        },
        "6f2cb78e81684f0baa2b075c27ce9732": {
          "model_module": "@jupyter-widgets/controls",
          "model_name": "HBoxModel",
          "model_module_version": "1.5.0",
          "state": {
            "_dom_classes": [],
            "_model_module": "@jupyter-widgets/controls",
            "_model_module_version": "1.5.0",
            "_model_name": "HBoxModel",
            "_view_count": null,
            "_view_module": "@jupyter-widgets/controls",
            "_view_module_version": "1.5.0",
            "_view_name": "HBoxView",
            "box_style": "",
            "children": [
              "IPY_MODEL_db722e7cd04e4f669d815a3fa6774154",
              "IPY_MODEL_f27062d3636544d2a43eeb9b1f5a42aa",
              "IPY_MODEL_53b4a7834c0b4c279d40ed464091520a"
            ],
            "layout": "IPY_MODEL_361a2137c49a44dbad46fbccc55d0ddd"
          }
        },
        "db722e7cd04e4f669d815a3fa6774154": {
          "model_module": "@jupyter-widgets/controls",
          "model_name": "HTMLModel",
          "model_module_version": "1.5.0",
          "state": {
            "_dom_classes": [],
            "_model_module": "@jupyter-widgets/controls",
            "_model_module_version": "1.5.0",
            "_model_name": "HTMLModel",
            "_view_count": null,
            "_view_module": "@jupyter-widgets/controls",
            "_view_module_version": "1.5.0",
            "_view_name": "HTMLView",
            "description": "",
            "description_tooltip": null,
            "layout": "IPY_MODEL_973abd68bb9642fbabca7150d7232276",
            "placeholder": "​",
            "style": "IPY_MODEL_24c23755812b4c0cb8931c0180f45d9c",
            "value": "vocab.txt: 100%"
          }
        },
        "f27062d3636544d2a43eeb9b1f5a42aa": {
          "model_module": "@jupyter-widgets/controls",
          "model_name": "FloatProgressModel",
          "model_module_version": "1.5.0",
          "state": {
            "_dom_classes": [],
            "_model_module": "@jupyter-widgets/controls",
            "_model_module_version": "1.5.0",
            "_model_name": "FloatProgressModel",
            "_view_count": null,
            "_view_module": "@jupyter-widgets/controls",
            "_view_module_version": "1.5.0",
            "_view_name": "ProgressView",
            "bar_style": "success",
            "description": "",
            "description_tooltip": null,
            "layout": "IPY_MODEL_c9bc6e5b0a64430db7ead3db8cc2876d",
            "max": 231508,
            "min": 0,
            "orientation": "horizontal",
            "style": "IPY_MODEL_0fd78b5c721c4cd683c9d7f2e5b95f28",
            "value": 231508
          }
        },
        "53b4a7834c0b4c279d40ed464091520a": {
          "model_module": "@jupyter-widgets/controls",
          "model_name": "HTMLModel",
          "model_module_version": "1.5.0",
          "state": {
            "_dom_classes": [],
            "_model_module": "@jupyter-widgets/controls",
            "_model_module_version": "1.5.0",
            "_model_name": "HTMLModel",
            "_view_count": null,
            "_view_module": "@jupyter-widgets/controls",
            "_view_module_version": "1.5.0",
            "_view_name": "HTMLView",
            "description": "",
            "description_tooltip": null,
            "layout": "IPY_MODEL_5ee6176c14ee4c7bb423ee91d23b15e5",
            "placeholder": "​",
            "style": "IPY_MODEL_03d0d73b854f48e88165b649da692886",
            "value": " 232k/232k [00:00&lt;00:00, 2.56MB/s]"
          }
        },
        "361a2137c49a44dbad46fbccc55d0ddd": {
          "model_module": "@jupyter-widgets/base",
          "model_name": "LayoutModel",
          "model_module_version": "1.2.0",
          "state": {
            "_model_module": "@jupyter-widgets/base",
            "_model_module_version": "1.2.0",
            "_model_name": "LayoutModel",
            "_view_count": null,
            "_view_module": "@jupyter-widgets/base",
            "_view_module_version": "1.2.0",
            "_view_name": "LayoutView",
            "align_content": null,
            "align_items": null,
            "align_self": null,
            "border": null,
            "bottom": null,
            "display": null,
            "flex": null,
            "flex_flow": null,
            "grid_area": null,
            "grid_auto_columns": null,
            "grid_auto_flow": null,
            "grid_auto_rows": null,
            "grid_column": null,
            "grid_gap": null,
            "grid_row": null,
            "grid_template_areas": null,
            "grid_template_columns": null,
            "grid_template_rows": null,
            "height": null,
            "justify_content": null,
            "justify_items": null,
            "left": null,
            "margin": null,
            "max_height": null,
            "max_width": null,
            "min_height": null,
            "min_width": null,
            "object_fit": null,
            "object_position": null,
            "order": null,
            "overflow": null,
            "overflow_x": null,
            "overflow_y": null,
            "padding": null,
            "right": null,
            "top": null,
            "visibility": null,
            "width": null
          }
        },
        "973abd68bb9642fbabca7150d7232276": {
          "model_module": "@jupyter-widgets/base",
          "model_name": "LayoutModel",
          "model_module_version": "1.2.0",
          "state": {
            "_model_module": "@jupyter-widgets/base",
            "_model_module_version": "1.2.0",
            "_model_name": "LayoutModel",
            "_view_count": null,
            "_view_module": "@jupyter-widgets/base",
            "_view_module_version": "1.2.0",
            "_view_name": "LayoutView",
            "align_content": null,
            "align_items": null,
            "align_self": null,
            "border": null,
            "bottom": null,
            "display": null,
            "flex": null,
            "flex_flow": null,
            "grid_area": null,
            "grid_auto_columns": null,
            "grid_auto_flow": null,
            "grid_auto_rows": null,
            "grid_column": null,
            "grid_gap": null,
            "grid_row": null,
            "grid_template_areas": null,
            "grid_template_columns": null,
            "grid_template_rows": null,
            "height": null,
            "justify_content": null,
            "justify_items": null,
            "left": null,
            "margin": null,
            "max_height": null,
            "max_width": null,
            "min_height": null,
            "min_width": null,
            "object_fit": null,
            "object_position": null,
            "order": null,
            "overflow": null,
            "overflow_x": null,
            "overflow_y": null,
            "padding": null,
            "right": null,
            "top": null,
            "visibility": null,
            "width": null
          }
        },
        "24c23755812b4c0cb8931c0180f45d9c": {
          "model_module": "@jupyter-widgets/controls",
          "model_name": "DescriptionStyleModel",
          "model_module_version": "1.5.0",
          "state": {
            "_model_module": "@jupyter-widgets/controls",
            "_model_module_version": "1.5.0",
            "_model_name": "DescriptionStyleModel",
            "_view_count": null,
            "_view_module": "@jupyter-widgets/base",
            "_view_module_version": "1.2.0",
            "_view_name": "StyleView",
            "description_width": ""
          }
        },
        "c9bc6e5b0a64430db7ead3db8cc2876d": {
          "model_module": "@jupyter-widgets/base",
          "model_name": "LayoutModel",
          "model_module_version": "1.2.0",
          "state": {
            "_model_module": "@jupyter-widgets/base",
            "_model_module_version": "1.2.0",
            "_model_name": "LayoutModel",
            "_view_count": null,
            "_view_module": "@jupyter-widgets/base",
            "_view_module_version": "1.2.0",
            "_view_name": "LayoutView",
            "align_content": null,
            "align_items": null,
            "align_self": null,
            "border": null,
            "bottom": null,
            "display": null,
            "flex": null,
            "flex_flow": null,
            "grid_area": null,
            "grid_auto_columns": null,
            "grid_auto_flow": null,
            "grid_auto_rows": null,
            "grid_column": null,
            "grid_gap": null,
            "grid_row": null,
            "grid_template_areas": null,
            "grid_template_columns": null,
            "grid_template_rows": null,
            "height": null,
            "justify_content": null,
            "justify_items": null,
            "left": null,
            "margin": null,
            "max_height": null,
            "max_width": null,
            "min_height": null,
            "min_width": null,
            "object_fit": null,
            "object_position": null,
            "order": null,
            "overflow": null,
            "overflow_x": null,
            "overflow_y": null,
            "padding": null,
            "right": null,
            "top": null,
            "visibility": null,
            "width": null
          }
        },
        "0fd78b5c721c4cd683c9d7f2e5b95f28": {
          "model_module": "@jupyter-widgets/controls",
          "model_name": "ProgressStyleModel",
          "model_module_version": "1.5.0",
          "state": {
            "_model_module": "@jupyter-widgets/controls",
            "_model_module_version": "1.5.0",
            "_model_name": "ProgressStyleModel",
            "_view_count": null,
            "_view_module": "@jupyter-widgets/base",
            "_view_module_version": "1.2.0",
            "_view_name": "StyleView",
            "bar_color": null,
            "description_width": ""
          }
        },
        "5ee6176c14ee4c7bb423ee91d23b15e5": {
          "model_module": "@jupyter-widgets/base",
          "model_name": "LayoutModel",
          "model_module_version": "1.2.0",
          "state": {
            "_model_module": "@jupyter-widgets/base",
            "_model_module_version": "1.2.0",
            "_model_name": "LayoutModel",
            "_view_count": null,
            "_view_module": "@jupyter-widgets/base",
            "_view_module_version": "1.2.0",
            "_view_name": "LayoutView",
            "align_content": null,
            "align_items": null,
            "align_self": null,
            "border": null,
            "bottom": null,
            "display": null,
            "flex": null,
            "flex_flow": null,
            "grid_area": null,
            "grid_auto_columns": null,
            "grid_auto_flow": null,
            "grid_auto_rows": null,
            "grid_column": null,
            "grid_gap": null,
            "grid_row": null,
            "grid_template_areas": null,
            "grid_template_columns": null,
            "grid_template_rows": null,
            "height": null,
            "justify_content": null,
            "justify_items": null,
            "left": null,
            "margin": null,
            "max_height": null,
            "max_width": null,
            "min_height": null,
            "min_width": null,
            "object_fit": null,
            "object_position": null,
            "order": null,
            "overflow": null,
            "overflow_x": null,
            "overflow_y": null,
            "padding": null,
            "right": null,
            "top": null,
            "visibility": null,
            "width": null
          }
        },
        "03d0d73b854f48e88165b649da692886": {
          "model_module": "@jupyter-widgets/controls",
          "model_name": "DescriptionStyleModel",
          "model_module_version": "1.5.0",
          "state": {
            "_model_module": "@jupyter-widgets/controls",
            "_model_module_version": "1.5.0",
            "_model_name": "DescriptionStyleModel",
            "_view_count": null,
            "_view_module": "@jupyter-widgets/base",
            "_view_module_version": "1.2.0",
            "_view_name": "StyleView",
            "description_width": ""
          }
        },
        "a175249ce8804dffa65c85e736192a29": {
          "model_module": "@jupyter-widgets/controls",
          "model_name": "HBoxModel",
          "model_module_version": "1.5.0",
          "state": {
            "_dom_classes": [],
            "_model_module": "@jupyter-widgets/controls",
            "_model_module_version": "1.5.0",
            "_model_name": "HBoxModel",
            "_view_count": null,
            "_view_module": "@jupyter-widgets/controls",
            "_view_module_version": "1.5.0",
            "_view_name": "HBoxView",
            "box_style": "",
            "children": [
              "IPY_MODEL_5786a31e61764305aab5e63f054c4458",
              "IPY_MODEL_98d9e93de0b74d559fa9ceef40a3363b",
              "IPY_MODEL_1531fb57a1084021948fe6e4592d4ef8"
            ],
            "layout": "IPY_MODEL_3365a95e3e1048c2acca4cb6211a6380"
          }
        },
        "5786a31e61764305aab5e63f054c4458": {
          "model_module": "@jupyter-widgets/controls",
          "model_name": "HTMLModel",
          "model_module_version": "1.5.0",
          "state": {
            "_dom_classes": [],
            "_model_module": "@jupyter-widgets/controls",
            "_model_module_version": "1.5.0",
            "_model_name": "HTMLModel",
            "_view_count": null,
            "_view_module": "@jupyter-widgets/controls",
            "_view_module_version": "1.5.0",
            "_view_name": "HTMLView",
            "description": "",
            "description_tooltip": null,
            "layout": "IPY_MODEL_866f34f896614e89a5f2f8bb9ae5b4e7",
            "placeholder": "​",
            "style": "IPY_MODEL_885342438038486fb65147bfba9fe5ea",
            "value": "special_tokens_map.json: 100%"
          }
        },
        "98d9e93de0b74d559fa9ceef40a3363b": {
          "model_module": "@jupyter-widgets/controls",
          "model_name": "FloatProgressModel",
          "model_module_version": "1.5.0",
          "state": {
            "_dom_classes": [],
            "_model_module": "@jupyter-widgets/controls",
            "_model_module_version": "1.5.0",
            "_model_name": "FloatProgressModel",
            "_view_count": null,
            "_view_module": "@jupyter-widgets/controls",
            "_view_module_version": "1.5.0",
            "_view_name": "ProgressView",
            "bar_style": "success",
            "description": "",
            "description_tooltip": null,
            "layout": "IPY_MODEL_37bb7fdc892a4a779430b5df0fa7433b",
            "max": 112,
            "min": 0,
            "orientation": "horizontal",
            "style": "IPY_MODEL_b67d5106ca5245ad8c8c22572da7bbd5",
            "value": 112
          }
        },
        "1531fb57a1084021948fe6e4592d4ef8": {
          "model_module": "@jupyter-widgets/controls",
          "model_name": "HTMLModel",
          "model_module_version": "1.5.0",
          "state": {
            "_dom_classes": [],
            "_model_module": "@jupyter-widgets/controls",
            "_model_module_version": "1.5.0",
            "_model_name": "HTMLModel",
            "_view_count": null,
            "_view_module": "@jupyter-widgets/controls",
            "_view_module_version": "1.5.0",
            "_view_name": "HTMLView",
            "description": "",
            "description_tooltip": null,
            "layout": "IPY_MODEL_826fff4d7cbd4fcdb76b87d810ad3ee2",
            "placeholder": "​",
            "style": "IPY_MODEL_15572df1af3140d5a9cd073b7fc0a0bb",
            "value": " 112/112 [00:00&lt;00:00, 6.23kB/s]"
          }
        },
        "3365a95e3e1048c2acca4cb6211a6380": {
          "model_module": "@jupyter-widgets/base",
          "model_name": "LayoutModel",
          "model_module_version": "1.2.0",
          "state": {
            "_model_module": "@jupyter-widgets/base",
            "_model_module_version": "1.2.0",
            "_model_name": "LayoutModel",
            "_view_count": null,
            "_view_module": "@jupyter-widgets/base",
            "_view_module_version": "1.2.0",
            "_view_name": "LayoutView",
            "align_content": null,
            "align_items": null,
            "align_self": null,
            "border": null,
            "bottom": null,
            "display": null,
            "flex": null,
            "flex_flow": null,
            "grid_area": null,
            "grid_auto_columns": null,
            "grid_auto_flow": null,
            "grid_auto_rows": null,
            "grid_column": null,
            "grid_gap": null,
            "grid_row": null,
            "grid_template_areas": null,
            "grid_template_columns": null,
            "grid_template_rows": null,
            "height": null,
            "justify_content": null,
            "justify_items": null,
            "left": null,
            "margin": null,
            "max_height": null,
            "max_width": null,
            "min_height": null,
            "min_width": null,
            "object_fit": null,
            "object_position": null,
            "order": null,
            "overflow": null,
            "overflow_x": null,
            "overflow_y": null,
            "padding": null,
            "right": null,
            "top": null,
            "visibility": null,
            "width": null
          }
        },
        "866f34f896614e89a5f2f8bb9ae5b4e7": {
          "model_module": "@jupyter-widgets/base",
          "model_name": "LayoutModel",
          "model_module_version": "1.2.0",
          "state": {
            "_model_module": "@jupyter-widgets/base",
            "_model_module_version": "1.2.0",
            "_model_name": "LayoutModel",
            "_view_count": null,
            "_view_module": "@jupyter-widgets/base",
            "_view_module_version": "1.2.0",
            "_view_name": "LayoutView",
            "align_content": null,
            "align_items": null,
            "align_self": null,
            "border": null,
            "bottom": null,
            "display": null,
            "flex": null,
            "flex_flow": null,
            "grid_area": null,
            "grid_auto_columns": null,
            "grid_auto_flow": null,
            "grid_auto_rows": null,
            "grid_column": null,
            "grid_gap": null,
            "grid_row": null,
            "grid_template_areas": null,
            "grid_template_columns": null,
            "grid_template_rows": null,
            "height": null,
            "justify_content": null,
            "justify_items": null,
            "left": null,
            "margin": null,
            "max_height": null,
            "max_width": null,
            "min_height": null,
            "min_width": null,
            "object_fit": null,
            "object_position": null,
            "order": null,
            "overflow": null,
            "overflow_x": null,
            "overflow_y": null,
            "padding": null,
            "right": null,
            "top": null,
            "visibility": null,
            "width": null
          }
        },
        "885342438038486fb65147bfba9fe5ea": {
          "model_module": "@jupyter-widgets/controls",
          "model_name": "DescriptionStyleModel",
          "model_module_version": "1.5.0",
          "state": {
            "_model_module": "@jupyter-widgets/controls",
            "_model_module_version": "1.5.0",
            "_model_name": "DescriptionStyleModel",
            "_view_count": null,
            "_view_module": "@jupyter-widgets/base",
            "_view_module_version": "1.2.0",
            "_view_name": "StyleView",
            "description_width": ""
          }
        },
        "37bb7fdc892a4a779430b5df0fa7433b": {
          "model_module": "@jupyter-widgets/base",
          "model_name": "LayoutModel",
          "model_module_version": "1.2.0",
          "state": {
            "_model_module": "@jupyter-widgets/base",
            "_model_module_version": "1.2.0",
            "_model_name": "LayoutModel",
            "_view_count": null,
            "_view_module": "@jupyter-widgets/base",
            "_view_module_version": "1.2.0",
            "_view_name": "LayoutView",
            "align_content": null,
            "align_items": null,
            "align_self": null,
            "border": null,
            "bottom": null,
            "display": null,
            "flex": null,
            "flex_flow": null,
            "grid_area": null,
            "grid_auto_columns": null,
            "grid_auto_flow": null,
            "grid_auto_rows": null,
            "grid_column": null,
            "grid_gap": null,
            "grid_row": null,
            "grid_template_areas": null,
            "grid_template_columns": null,
            "grid_template_rows": null,
            "height": null,
            "justify_content": null,
            "justify_items": null,
            "left": null,
            "margin": null,
            "max_height": null,
            "max_width": null,
            "min_height": null,
            "min_width": null,
            "object_fit": null,
            "object_position": null,
            "order": null,
            "overflow": null,
            "overflow_x": null,
            "overflow_y": null,
            "padding": null,
            "right": null,
            "top": null,
            "visibility": null,
            "width": null
          }
        },
        "b67d5106ca5245ad8c8c22572da7bbd5": {
          "model_module": "@jupyter-widgets/controls",
          "model_name": "ProgressStyleModel",
          "model_module_version": "1.5.0",
          "state": {
            "_model_module": "@jupyter-widgets/controls",
            "_model_module_version": "1.5.0",
            "_model_name": "ProgressStyleModel",
            "_view_count": null,
            "_view_module": "@jupyter-widgets/base",
            "_view_module_version": "1.2.0",
            "_view_name": "StyleView",
            "bar_color": null,
            "description_width": ""
          }
        },
        "826fff4d7cbd4fcdb76b87d810ad3ee2": {
          "model_module": "@jupyter-widgets/base",
          "model_name": "LayoutModel",
          "model_module_version": "1.2.0",
          "state": {
            "_model_module": "@jupyter-widgets/base",
            "_model_module_version": "1.2.0",
            "_model_name": "LayoutModel",
            "_view_count": null,
            "_view_module": "@jupyter-widgets/base",
            "_view_module_version": "1.2.0",
            "_view_name": "LayoutView",
            "align_content": null,
            "align_items": null,
            "align_self": null,
            "border": null,
            "bottom": null,
            "display": null,
            "flex": null,
            "flex_flow": null,
            "grid_area": null,
            "grid_auto_columns": null,
            "grid_auto_flow": null,
            "grid_auto_rows": null,
            "grid_column": null,
            "grid_gap": null,
            "grid_row": null,
            "grid_template_areas": null,
            "grid_template_columns": null,
            "grid_template_rows": null,
            "height": null,
            "justify_content": null,
            "justify_items": null,
            "left": null,
            "margin": null,
            "max_height": null,
            "max_width": null,
            "min_height": null,
            "min_width": null,
            "object_fit": null,
            "object_position": null,
            "order": null,
            "overflow": null,
            "overflow_x": null,
            "overflow_y": null,
            "padding": null,
            "right": null,
            "top": null,
            "visibility": null,
            "width": null
          }
        },
        "15572df1af3140d5a9cd073b7fc0a0bb": {
          "model_module": "@jupyter-widgets/controls",
          "model_name": "DescriptionStyleModel",
          "model_module_version": "1.5.0",
          "state": {
            "_model_module": "@jupyter-widgets/controls",
            "_model_module_version": "1.5.0",
            "_model_name": "DescriptionStyleModel",
            "_view_count": null,
            "_view_module": "@jupyter-widgets/base",
            "_view_module_version": "1.2.0",
            "_view_name": "StyleView",
            "description_width": ""
          }
        }
      }
    }
  },
  "cells": [
    {
      "cell_type": "markdown",
      "source": [
        "1. Install required libraries"
      ],
      "metadata": {
        "id": "Evr2iC30qzmu"
      }
    },
    {
      "cell_type": "code",
      "execution_count": 1,
      "metadata": {
        "id": "ONpIo3CzqIOK",
        "colab": {
          "base_uri": "https://localhost:8080/"
        },
        "outputId": "5f3c5ead-0619-4567-8b2b-1c38347d2bc7",
        "collapsed": true
      },
      "outputs": [
        {
          "output_type": "stream",
          "name": "stdout",
          "text": [
            "Collecting llama-index\n",
            "  Downloading llama_index-0.11.11-py3-none-any.whl.metadata (11 kB)\n",
            "Collecting llama-index-agent-openai<0.4.0,>=0.3.4 (from llama-index)\n",
            "  Downloading llama_index_agent_openai-0.3.4-py3-none-any.whl.metadata (728 bytes)\n",
            "Collecting llama-index-cli<0.4.0,>=0.3.1 (from llama-index)\n",
            "  Downloading llama_index_cli-0.3.1-py3-none-any.whl.metadata (1.5 kB)\n",
            "Collecting llama-index-core<0.12.0,>=0.11.10 (from llama-index)\n",
            "  Downloading llama_index_core-0.11.11-py3-none-any.whl.metadata (2.4 kB)\n",
            "Collecting llama-index-embeddings-openai<0.3.0,>=0.2.4 (from llama-index)\n",
            "  Downloading llama_index_embeddings_openai-0.2.5-py3-none-any.whl.metadata (686 bytes)\n",
            "Collecting llama-index-indices-managed-llama-cloud>=0.3.0 (from llama-index)\n",
            "  Downloading llama_index_indices_managed_llama_cloud-0.3.1-py3-none-any.whl.metadata (3.8 kB)\n",
            "Collecting llama-index-legacy<0.10.0,>=0.9.48 (from llama-index)\n",
            "  Downloading llama_index_legacy-0.9.48.post3-py3-none-any.whl.metadata (8.5 kB)\n",
            "Collecting llama-index-llms-openai<0.3.0,>=0.2.9 (from llama-index)\n",
            "  Downloading llama_index_llms_openai-0.2.9-py3-none-any.whl.metadata (648 bytes)\n",
            "Collecting llama-index-multi-modal-llms-openai<0.3.0,>=0.2.0 (from llama-index)\n",
            "  Downloading llama_index_multi_modal_llms_openai-0.2.1-py3-none-any.whl.metadata (728 bytes)\n",
            "Collecting llama-index-program-openai<0.3.0,>=0.2.0 (from llama-index)\n",
            "  Downloading llama_index_program_openai-0.2.0-py3-none-any.whl.metadata (766 bytes)\n",
            "Collecting llama-index-question-gen-openai<0.3.0,>=0.2.0 (from llama-index)\n",
            "  Downloading llama_index_question_gen_openai-0.2.0-py3-none-any.whl.metadata (785 bytes)\n",
            "Collecting llama-index-readers-file<0.3.0,>=0.2.0 (from llama-index)\n",
            "  Downloading llama_index_readers_file-0.2.2-py3-none-any.whl.metadata (5.4 kB)\n",
            "Collecting llama-index-readers-llama-parse>=0.3.0 (from llama-index)\n",
            "  Downloading llama_index_readers_llama_parse-0.3.0-py3-none-any.whl.metadata (3.5 kB)\n",
            "Collecting nltk>3.8.1 (from llama-index)\n",
            "  Downloading nltk-3.9.1-py3-none-any.whl.metadata (2.9 kB)\n",
            "Collecting openai>=1.14.0 (from llama-index-agent-openai<0.4.0,>=0.3.4->llama-index)\n",
            "  Downloading openai-1.47.0-py3-none-any.whl.metadata (24 kB)\n",
            "Requirement already satisfied: PyYAML>=6.0.1 in /usr/local/lib/python3.10/dist-packages (from llama-index-core<0.12.0,>=0.11.10->llama-index) (6.0.2)\n",
            "Requirement already satisfied: SQLAlchemy>=1.4.49 in /usr/local/lib/python3.10/dist-packages (from SQLAlchemy[asyncio]>=1.4.49->llama-index-core<0.12.0,>=0.11.10->llama-index) (2.0.35)\n",
            "Requirement already satisfied: aiohttp<4.0.0,>=3.8.6 in /usr/local/lib/python3.10/dist-packages (from llama-index-core<0.12.0,>=0.11.10->llama-index) (3.10.5)\n",
            "Collecting dataclasses-json (from llama-index-core<0.12.0,>=0.11.10->llama-index)\n",
            "  Downloading dataclasses_json-0.6.7-py3-none-any.whl.metadata (25 kB)\n",
            "Collecting deprecated>=1.2.9.3 (from llama-index-core<0.12.0,>=0.11.10->llama-index)\n",
            "  Downloading Deprecated-1.2.14-py2.py3-none-any.whl.metadata (5.4 kB)\n",
            "Collecting dirtyjson<2.0.0,>=1.0.8 (from llama-index-core<0.12.0,>=0.11.10->llama-index)\n",
            "  Downloading dirtyjson-1.0.8-py3-none-any.whl.metadata (11 kB)\n",
            "Requirement already satisfied: fsspec>=2023.5.0 in /usr/local/lib/python3.10/dist-packages (from llama-index-core<0.12.0,>=0.11.10->llama-index) (2024.6.1)\n",
            "Collecting httpx (from llama-index-core<0.12.0,>=0.11.10->llama-index)\n",
            "  Downloading httpx-0.27.2-py3-none-any.whl.metadata (7.1 kB)\n",
            "Requirement already satisfied: nest-asyncio<2.0.0,>=1.5.8 in /usr/local/lib/python3.10/dist-packages (from llama-index-core<0.12.0,>=0.11.10->llama-index) (1.6.0)\n",
            "Requirement already satisfied: networkx>=3.0 in /usr/local/lib/python3.10/dist-packages (from llama-index-core<0.12.0,>=0.11.10->llama-index) (3.3)\n",
            "Requirement already satisfied: numpy<2.0.0 in /usr/local/lib/python3.10/dist-packages (from llama-index-core<0.12.0,>=0.11.10->llama-index) (1.26.4)\n",
            "Requirement already satisfied: pillow>=9.0.0 in /usr/local/lib/python3.10/dist-packages (from llama-index-core<0.12.0,>=0.11.10->llama-index) (10.4.0)\n",
            "Requirement already satisfied: pydantic<3.0.0,>=2.7.0 in /usr/local/lib/python3.10/dist-packages (from llama-index-core<0.12.0,>=0.11.10->llama-index) (2.9.2)\n",
            "Requirement already satisfied: requests>=2.31.0 in /usr/local/lib/python3.10/dist-packages (from llama-index-core<0.12.0,>=0.11.10->llama-index) (2.32.3)\n",
            "Collecting tenacity!=8.4.0,<9.0.0,>=8.2.0 (from llama-index-core<0.12.0,>=0.11.10->llama-index)\n",
            "  Downloading tenacity-8.5.0-py3-none-any.whl.metadata (1.2 kB)\n",
            "Collecting tiktoken>=0.3.3 (from llama-index-core<0.12.0,>=0.11.10->llama-index)\n",
            "  Downloading tiktoken-0.7.0-cp310-cp310-manylinux_2_17_x86_64.manylinux2014_x86_64.whl.metadata (6.6 kB)\n",
            "Requirement already satisfied: tqdm<5.0.0,>=4.66.1 in /usr/local/lib/python3.10/dist-packages (from llama-index-core<0.12.0,>=0.11.10->llama-index) (4.66.5)\n",
            "Requirement already satisfied: typing-extensions>=4.5.0 in /usr/local/lib/python3.10/dist-packages (from llama-index-core<0.12.0,>=0.11.10->llama-index) (4.12.2)\n",
            "Collecting typing-inspect>=0.8.0 (from llama-index-core<0.12.0,>=0.11.10->llama-index)\n",
            "  Downloading typing_inspect-0.9.0-py3-none-any.whl.metadata (1.5 kB)\n",
            "Requirement already satisfied: wrapt in /usr/local/lib/python3.10/dist-packages (from llama-index-core<0.12.0,>=0.11.10->llama-index) (1.16.0)\n",
            "Collecting llama-cloud>=0.0.11 (from llama-index-indices-managed-llama-cloud>=0.3.0->llama-index)\n",
            "  Downloading llama_cloud-0.0.17-py3-none-any.whl.metadata (751 bytes)\n",
            "Requirement already satisfied: pandas in /usr/local/lib/python3.10/dist-packages (from llama-index-legacy<0.10.0,>=0.9.48->llama-index) (2.1.4)\n",
            "Requirement already satisfied: beautifulsoup4<5.0.0,>=4.12.3 in /usr/local/lib/python3.10/dist-packages (from llama-index-readers-file<0.3.0,>=0.2.0->llama-index) (4.12.3)\n",
            "Collecting pypdf<5.0.0,>=4.0.1 (from llama-index-readers-file<0.3.0,>=0.2.0->llama-index)\n",
            "  Downloading pypdf-4.3.1-py3-none-any.whl.metadata (7.4 kB)\n",
            "Collecting striprtf<0.0.27,>=0.0.26 (from llama-index-readers-file<0.3.0,>=0.2.0->llama-index)\n",
            "  Downloading striprtf-0.0.26-py3-none-any.whl.metadata (2.1 kB)\n",
            "Collecting llama-parse>=0.5.0 (from llama-index-readers-llama-parse>=0.3.0->llama-index)\n",
            "  Downloading llama_parse-0.5.6-py3-none-any.whl.metadata (6.1 kB)\n",
            "Requirement already satisfied: click in /usr/local/lib/python3.10/dist-packages (from nltk>3.8.1->llama-index) (8.1.7)\n",
            "Requirement already satisfied: joblib in /usr/local/lib/python3.10/dist-packages (from nltk>3.8.1->llama-index) (1.4.2)\n",
            "Requirement already satisfied: regex>=2021.8.3 in /usr/local/lib/python3.10/dist-packages (from nltk>3.8.1->llama-index) (2024.9.11)\n",
            "Requirement already satisfied: aiohappyeyeballs>=2.3.0 in /usr/local/lib/python3.10/dist-packages (from aiohttp<4.0.0,>=3.8.6->llama-index-core<0.12.0,>=0.11.10->llama-index) (2.4.0)\n",
            "Requirement already satisfied: aiosignal>=1.1.2 in /usr/local/lib/python3.10/dist-packages (from aiohttp<4.0.0,>=3.8.6->llama-index-core<0.12.0,>=0.11.10->llama-index) (1.3.1)\n",
            "Requirement already satisfied: attrs>=17.3.0 in /usr/local/lib/python3.10/dist-packages (from aiohttp<4.0.0,>=3.8.6->llama-index-core<0.12.0,>=0.11.10->llama-index) (24.2.0)\n",
            "Requirement already satisfied: frozenlist>=1.1.1 in /usr/local/lib/python3.10/dist-packages (from aiohttp<4.0.0,>=3.8.6->llama-index-core<0.12.0,>=0.11.10->llama-index) (1.4.1)\n",
            "Requirement already satisfied: multidict<7.0,>=4.5 in /usr/local/lib/python3.10/dist-packages (from aiohttp<4.0.0,>=3.8.6->llama-index-core<0.12.0,>=0.11.10->llama-index) (6.1.0)\n",
            "Requirement already satisfied: yarl<2.0,>=1.0 in /usr/local/lib/python3.10/dist-packages (from aiohttp<4.0.0,>=3.8.6->llama-index-core<0.12.0,>=0.11.10->llama-index) (1.11.1)\n",
            "Requirement already satisfied: async-timeout<5.0,>=4.0 in /usr/local/lib/python3.10/dist-packages (from aiohttp<4.0.0,>=3.8.6->llama-index-core<0.12.0,>=0.11.10->llama-index) (4.0.3)\n",
            "Requirement already satisfied: soupsieve>1.2 in /usr/local/lib/python3.10/dist-packages (from beautifulsoup4<5.0.0,>=4.12.3->llama-index-readers-file<0.3.0,>=0.2.0->llama-index) (2.6)\n",
            "Requirement already satisfied: anyio in /usr/local/lib/python3.10/dist-packages (from httpx->llama-index-core<0.12.0,>=0.11.10->llama-index) (3.7.1)\n",
            "Requirement already satisfied: certifi in /usr/local/lib/python3.10/dist-packages (from httpx->llama-index-core<0.12.0,>=0.11.10->llama-index) (2024.8.30)\n",
            "Collecting httpcore==1.* (from httpx->llama-index-core<0.12.0,>=0.11.10->llama-index)\n",
            "  Downloading httpcore-1.0.5-py3-none-any.whl.metadata (20 kB)\n",
            "Requirement already satisfied: idna in /usr/local/lib/python3.10/dist-packages (from httpx->llama-index-core<0.12.0,>=0.11.10->llama-index) (3.10)\n",
            "Requirement already satisfied: sniffio in /usr/local/lib/python3.10/dist-packages (from httpx->llama-index-core<0.12.0,>=0.11.10->llama-index) (1.3.1)\n",
            "Collecting h11<0.15,>=0.13 (from httpcore==1.*->httpx->llama-index-core<0.12.0,>=0.11.10->llama-index)\n",
            "  Downloading h11-0.14.0-py3-none-any.whl.metadata (8.2 kB)\n",
            "Requirement already satisfied: distro<2,>=1.7.0 in /usr/lib/python3/dist-packages (from openai>=1.14.0->llama-index-agent-openai<0.4.0,>=0.3.4->llama-index) (1.7.0)\n",
            "Collecting jiter<1,>=0.4.0 (from openai>=1.14.0->llama-index-agent-openai<0.4.0,>=0.3.4->llama-index)\n",
            "  Downloading jiter-0.5.0-cp310-cp310-manylinux_2_17_x86_64.manylinux2014_x86_64.whl.metadata (3.6 kB)\n",
            "Requirement already satisfied: annotated-types>=0.6.0 in /usr/local/lib/python3.10/dist-packages (from pydantic<3.0.0,>=2.7.0->llama-index-core<0.12.0,>=0.11.10->llama-index) (0.7.0)\n",
            "Requirement already satisfied: pydantic-core==2.23.4 in /usr/local/lib/python3.10/dist-packages (from pydantic<3.0.0,>=2.7.0->llama-index-core<0.12.0,>=0.11.10->llama-index) (2.23.4)\n",
            "Requirement already satisfied: charset-normalizer<4,>=2 in /usr/local/lib/python3.10/dist-packages (from requests>=2.31.0->llama-index-core<0.12.0,>=0.11.10->llama-index) (3.3.2)\n",
            "Requirement already satisfied: urllib3<3,>=1.21.1 in /usr/local/lib/python3.10/dist-packages (from requests>=2.31.0->llama-index-core<0.12.0,>=0.11.10->llama-index) (2.0.7)\n",
            "Requirement already satisfied: greenlet!=0.4.17 in /usr/local/lib/python3.10/dist-packages (from SQLAlchemy>=1.4.49->SQLAlchemy[asyncio]>=1.4.49->llama-index-core<0.12.0,>=0.11.10->llama-index) (3.1.0)\n",
            "Collecting mypy-extensions>=0.3.0 (from typing-inspect>=0.8.0->llama-index-core<0.12.0,>=0.11.10->llama-index)\n",
            "  Downloading mypy_extensions-1.0.0-py3-none-any.whl.metadata (1.1 kB)\n",
            "Collecting marshmallow<4.0.0,>=3.18.0 (from dataclasses-json->llama-index-core<0.12.0,>=0.11.10->llama-index)\n",
            "  Downloading marshmallow-3.22.0-py3-none-any.whl.metadata (7.2 kB)\n",
            "Requirement already satisfied: python-dateutil>=2.8.2 in /usr/local/lib/python3.10/dist-packages (from pandas->llama-index-legacy<0.10.0,>=0.9.48->llama-index) (2.8.2)\n",
            "Requirement already satisfied: pytz>=2020.1 in /usr/local/lib/python3.10/dist-packages (from pandas->llama-index-legacy<0.10.0,>=0.9.48->llama-index) (2024.2)\n",
            "Requirement already satisfied: tzdata>=2022.1 in /usr/local/lib/python3.10/dist-packages (from pandas->llama-index-legacy<0.10.0,>=0.9.48->llama-index) (2024.1)\n",
            "Requirement already satisfied: exceptiongroup in /usr/local/lib/python3.10/dist-packages (from anyio->httpx->llama-index-core<0.12.0,>=0.11.10->llama-index) (1.2.2)\n",
            "Requirement already satisfied: packaging>=17.0 in /usr/local/lib/python3.10/dist-packages (from marshmallow<4.0.0,>=3.18.0->dataclasses-json->llama-index-core<0.12.0,>=0.11.10->llama-index) (24.1)\n",
            "Requirement already satisfied: six>=1.5 in /usr/local/lib/python3.10/dist-packages (from python-dateutil>=2.8.2->pandas->llama-index-legacy<0.10.0,>=0.9.48->llama-index) (1.16.0)\n",
            "Downloading llama_index-0.11.11-py3-none-any.whl (6.8 kB)\n",
            "Downloading llama_index_agent_openai-0.3.4-py3-none-any.whl (13 kB)\n",
            "Downloading llama_index_cli-0.3.1-py3-none-any.whl (27 kB)\n",
            "Downloading llama_index_core-0.11.11-py3-none-any.whl (1.6 MB)\n",
            "\u001b[2K   \u001b[90m━━━━━━━━━━━━━━━━━━━━━━━━━━━━━━━━━━━━━━━━\u001b[0m \u001b[32m1.6/1.6 MB\u001b[0m \u001b[31m9.5 MB/s\u001b[0m eta \u001b[36m0:00:00\u001b[0m\n",
            "\u001b[?25hDownloading llama_index_embeddings_openai-0.2.5-py3-none-any.whl (6.1 kB)\n",
            "Downloading llama_index_indices_managed_llama_cloud-0.3.1-py3-none-any.whl (10 kB)\n",
            "Downloading llama_index_legacy-0.9.48.post3-py3-none-any.whl (1.2 MB)\n",
            "\u001b[2K   \u001b[90m━━━━━━━━━━━━━━━━━━━━━━━━━━━━━━━━━━━━━━━━\u001b[0m \u001b[32m1.2/1.2 MB\u001b[0m \u001b[31m32.1 MB/s\u001b[0m eta \u001b[36m0:00:00\u001b[0m\n",
            "\u001b[?25hDownloading llama_index_llms_openai-0.2.9-py3-none-any.whl (12 kB)\n",
            "Downloading llama_index_multi_modal_llms_openai-0.2.1-py3-none-any.whl (5.9 kB)\n",
            "Downloading llama_index_program_openai-0.2.0-py3-none-any.whl (5.3 kB)\n",
            "Downloading llama_index_question_gen_openai-0.2.0-py3-none-any.whl (2.9 kB)\n",
            "Downloading llama_index_readers_file-0.2.2-py3-none-any.whl (38 kB)\n",
            "Downloading llama_index_readers_llama_parse-0.3.0-py3-none-any.whl (2.5 kB)\n",
            "Downloading nltk-3.9.1-py3-none-any.whl (1.5 MB)\n",
            "\u001b[2K   \u001b[90m━━━━━━━━━━━━━━━━━━━━━━━━━━━━━━━━━━━━━━━━\u001b[0m \u001b[32m1.5/1.5 MB\u001b[0m \u001b[31m32.6 MB/s\u001b[0m eta \u001b[36m0:00:00\u001b[0m\n",
            "\u001b[?25hDownloading Deprecated-1.2.14-py2.py3-none-any.whl (9.6 kB)\n",
            "Downloading dirtyjson-1.0.8-py3-none-any.whl (25 kB)\n",
            "Downloading llama_cloud-0.0.17-py3-none-any.whl (187 kB)\n",
            "\u001b[2K   \u001b[90m━━━━━━━━━━━━━━━━━━━━━━━━━━━━━━━━━━━━━━━━\u001b[0m \u001b[32m187.4/187.4 kB\u001b[0m \u001b[31m11.3 MB/s\u001b[0m eta \u001b[36m0:00:00\u001b[0m\n",
            "\u001b[?25hDownloading httpx-0.27.2-py3-none-any.whl (76 kB)\n",
            "\u001b[2K   \u001b[90m━━━━━━━━━━━━━━━━━━━━━━━━━━━━━━━━━━━━━━━━\u001b[0m \u001b[32m76.4/76.4 kB\u001b[0m \u001b[31m4.7 MB/s\u001b[0m eta \u001b[36m0:00:00\u001b[0m\n",
            "\u001b[?25hDownloading httpcore-1.0.5-py3-none-any.whl (77 kB)\n",
            "\u001b[2K   \u001b[90m━━━━━━━━━━━━━━━━━━━━━━━━━━━━━━━━━━━━━━━━\u001b[0m \u001b[32m77.9/77.9 kB\u001b[0m \u001b[31m4.2 MB/s\u001b[0m eta \u001b[36m0:00:00\u001b[0m\n",
            "\u001b[?25hDownloading llama_parse-0.5.6-py3-none-any.whl (10 kB)\n",
            "Downloading openai-1.47.0-py3-none-any.whl (375 kB)\n",
            "\u001b[2K   \u001b[90m━━━━━━━━━━━━━━━━━━━━━━━━━━━━━━━━━━━━━━━━\u001b[0m \u001b[32m375.6/375.6 kB\u001b[0m \u001b[31m18.7 MB/s\u001b[0m eta \u001b[36m0:00:00\u001b[0m\n",
            "\u001b[?25hDownloading pypdf-4.3.1-py3-none-any.whl (295 kB)\n",
            "\u001b[2K   \u001b[90m━━━━━━━━━━━━━━━━━━━━━━━━━━━━━━━━━━━━━━━━\u001b[0m \u001b[32m295.8/295.8 kB\u001b[0m \u001b[31m15.4 MB/s\u001b[0m eta \u001b[36m0:00:00\u001b[0m\n",
            "\u001b[?25hDownloading striprtf-0.0.26-py3-none-any.whl (6.9 kB)\n",
            "Downloading tenacity-8.5.0-py3-none-any.whl (28 kB)\n",
            "Downloading tiktoken-0.7.0-cp310-cp310-manylinux_2_17_x86_64.manylinux2014_x86_64.whl (1.1 MB)\n",
            "\u001b[2K   \u001b[90m━━━━━━━━━━━━━━━━━━━━━━━━━━━━━━━━━━━━━━━━\u001b[0m \u001b[32m1.1/1.1 MB\u001b[0m \u001b[31m28.7 MB/s\u001b[0m eta \u001b[36m0:00:00\u001b[0m\n",
            "\u001b[?25hDownloading typing_inspect-0.9.0-py3-none-any.whl (8.8 kB)\n",
            "Downloading dataclasses_json-0.6.7-py3-none-any.whl (28 kB)\n",
            "Downloading jiter-0.5.0-cp310-cp310-manylinux_2_17_x86_64.manylinux2014_x86_64.whl (318 kB)\n",
            "\u001b[2K   \u001b[90m━━━━━━━━━━━━━━━━━━━━━━━━━━━━━━━━━━━━━━━━\u001b[0m \u001b[32m318.9/318.9 kB\u001b[0m \u001b[31m15.1 MB/s\u001b[0m eta \u001b[36m0:00:00\u001b[0m\n",
            "\u001b[?25hDownloading marshmallow-3.22.0-py3-none-any.whl (49 kB)\n",
            "\u001b[2K   \u001b[90m━━━━━━━━━━━━━━━━━━━━━━━━━━━━━━━━━━━━━━━━\u001b[0m \u001b[32m49.3/49.3 kB\u001b[0m \u001b[31m2.3 MB/s\u001b[0m eta \u001b[36m0:00:00\u001b[0m\n",
            "\u001b[?25hDownloading mypy_extensions-1.0.0-py3-none-any.whl (4.7 kB)\n",
            "Downloading h11-0.14.0-py3-none-any.whl (58 kB)\n",
            "\u001b[2K   \u001b[90m━━━━━━━━━━━━━━━━━━━━━━━━━━━━━━━━━━━━━━━━\u001b[0m \u001b[32m58.3/58.3 kB\u001b[0m \u001b[31m2.7 MB/s\u001b[0m eta \u001b[36m0:00:00\u001b[0m\n",
            "\u001b[?25hInstalling collected packages: striprtf, dirtyjson, tenacity, pypdf, nltk, mypy-extensions, marshmallow, jiter, h11, deprecated, typing-inspect, tiktoken, httpcore, httpx, dataclasses-json, openai, llama-index-core, llama-cloud, llama-parse, llama-index-readers-file, llama-index-llms-openai, llama-index-legacy, llama-index-indices-managed-llama-cloud, llama-index-embeddings-openai, llama-index-readers-llama-parse, llama-index-multi-modal-llms-openai, llama-index-cli, llama-index-agent-openai, llama-index-program-openai, llama-index-question-gen-openai, llama-index\n",
            "  Attempting uninstall: tenacity\n",
            "    Found existing installation: tenacity 9.0.0\n",
            "    Uninstalling tenacity-9.0.0:\n",
            "      Successfully uninstalled tenacity-9.0.0\n",
            "  Attempting uninstall: nltk\n",
            "    Found existing installation: nltk 3.8.1\n",
            "    Uninstalling nltk-3.8.1:\n",
            "      Successfully uninstalled nltk-3.8.1\n",
            "Successfully installed dataclasses-json-0.6.7 deprecated-1.2.14 dirtyjson-1.0.8 h11-0.14.0 httpcore-1.0.5 httpx-0.27.2 jiter-0.5.0 llama-cloud-0.0.17 llama-index-0.11.11 llama-index-agent-openai-0.3.4 llama-index-cli-0.3.1 llama-index-core-0.11.11 llama-index-embeddings-openai-0.2.5 llama-index-indices-managed-llama-cloud-0.3.1 llama-index-legacy-0.9.48.post3 llama-index-llms-openai-0.2.9 llama-index-multi-modal-llms-openai-0.2.1 llama-index-program-openai-0.2.0 llama-index-question-gen-openai-0.2.0 llama-index-readers-file-0.2.2 llama-index-readers-llama-parse-0.3.0 llama-parse-0.5.6 marshmallow-3.22.0 mypy-extensions-1.0.0 nltk-3.9.1 openai-1.47.0 pypdf-4.3.1 striprtf-0.0.26 tenacity-8.5.0 tiktoken-0.7.0 typing-inspect-0.9.0\n",
            "Requirement already satisfied: openai in /usr/local/lib/python3.10/dist-packages (1.47.0)\n",
            "Requirement already satisfied: anyio<5,>=3.5.0 in /usr/local/lib/python3.10/dist-packages (from openai) (3.7.1)\n",
            "Requirement already satisfied: distro<2,>=1.7.0 in /usr/lib/python3/dist-packages (from openai) (1.7.0)\n",
            "Requirement already satisfied: httpx<1,>=0.23.0 in /usr/local/lib/python3.10/dist-packages (from openai) (0.27.2)\n",
            "Requirement already satisfied: jiter<1,>=0.4.0 in /usr/local/lib/python3.10/dist-packages (from openai) (0.5.0)\n",
            "Requirement already satisfied: pydantic<3,>=1.9.0 in /usr/local/lib/python3.10/dist-packages (from openai) (2.9.2)\n",
            "Requirement already satisfied: sniffio in /usr/local/lib/python3.10/dist-packages (from openai) (1.3.1)\n",
            "Requirement already satisfied: tqdm>4 in /usr/local/lib/python3.10/dist-packages (from openai) (4.66.5)\n",
            "Requirement already satisfied: typing-extensions<5,>=4.11 in /usr/local/lib/python3.10/dist-packages (from openai) (4.12.2)\n",
            "Requirement already satisfied: idna>=2.8 in /usr/local/lib/python3.10/dist-packages (from anyio<5,>=3.5.0->openai) (3.10)\n",
            "Requirement already satisfied: exceptiongroup in /usr/local/lib/python3.10/dist-packages (from anyio<5,>=3.5.0->openai) (1.2.2)\n",
            "Requirement already satisfied: certifi in /usr/local/lib/python3.10/dist-packages (from httpx<1,>=0.23.0->openai) (2024.8.30)\n",
            "Requirement already satisfied: httpcore==1.* in /usr/local/lib/python3.10/dist-packages (from httpx<1,>=0.23.0->openai) (1.0.5)\n",
            "Requirement already satisfied: h11<0.15,>=0.13 in /usr/local/lib/python3.10/dist-packages (from httpcore==1.*->httpx<1,>=0.23.0->openai) (0.14.0)\n",
            "Requirement already satisfied: annotated-types>=0.6.0 in /usr/local/lib/python3.10/dist-packages (from pydantic<3,>=1.9.0->openai) (0.7.0)\n",
            "Requirement already satisfied: pydantic-core==2.23.4 in /usr/local/lib/python3.10/dist-packages (from pydantic<3,>=1.9.0->openai) (2.23.4)\n",
            "Requirement already satisfied: pandas in /usr/local/lib/python3.10/dist-packages (2.1.4)\n",
            "Requirement already satisfied: numpy<2,>=1.22.4 in /usr/local/lib/python3.10/dist-packages (from pandas) (1.26.4)\n",
            "Requirement already satisfied: python-dateutil>=2.8.2 in /usr/local/lib/python3.10/dist-packages (from pandas) (2.8.2)\n",
            "Requirement already satisfied: pytz>=2020.1 in /usr/local/lib/python3.10/dist-packages (from pandas) (2024.2)\n",
            "Requirement already satisfied: tzdata>=2022.1 in /usr/local/lib/python3.10/dist-packages (from pandas) (2024.1)\n",
            "Requirement already satisfied: six>=1.5 in /usr/local/lib/python3.10/dist-packages (from python-dateutil>=2.8.2->pandas) (1.16.0)\n",
            "Requirement already satisfied: tqdm in /usr/local/lib/python3.10/dist-packages (4.66.5)\n",
            "Collecting llama-index-postprocessor-cohere-rerank\n",
            "  Downloading llama_index_postprocessor_cohere_rerank-0.2.1-py3-none-any.whl.metadata (723 bytes)\n",
            "Collecting cohere<6.0.0,>=5.1.1 (from llama-index-postprocessor-cohere-rerank)\n",
            "  Downloading cohere-5.9.4-py3-none-any.whl.metadata (3.4 kB)\n",
            "Requirement already satisfied: llama-index-core<0.12.0,>=0.11.0 in /usr/local/lib/python3.10/dist-packages (from llama-index-postprocessor-cohere-rerank) (0.11.11)\n",
            "Collecting boto3<2.0.0,>=1.34.0 (from cohere<6.0.0,>=5.1.1->llama-index-postprocessor-cohere-rerank)\n",
            "  Downloading boto3-1.35.24-py3-none-any.whl.metadata (6.6 kB)\n",
            "Collecting fastavro<2.0.0,>=1.9.4 (from cohere<6.0.0,>=5.1.1->llama-index-postprocessor-cohere-rerank)\n",
            "  Downloading fastavro-1.9.7-cp310-cp310-manylinux_2_17_x86_64.manylinux2014_x86_64.whl.metadata (5.5 kB)\n",
            "Requirement already satisfied: httpx>=0.21.2 in /usr/local/lib/python3.10/dist-packages (from cohere<6.0.0,>=5.1.1->llama-index-postprocessor-cohere-rerank) (0.27.2)\n",
            "Collecting httpx-sse==0.4.0 (from cohere<6.0.0,>=5.1.1->llama-index-postprocessor-cohere-rerank)\n",
            "  Downloading httpx_sse-0.4.0-py3-none-any.whl.metadata (9.0 kB)\n",
            "Collecting parameterized<0.10.0,>=0.9.0 (from cohere<6.0.0,>=5.1.1->llama-index-postprocessor-cohere-rerank)\n",
            "  Downloading parameterized-0.9.0-py2.py3-none-any.whl.metadata (18 kB)\n",
            "Requirement already satisfied: pydantic>=1.9.2 in /usr/local/lib/python3.10/dist-packages (from cohere<6.0.0,>=5.1.1->llama-index-postprocessor-cohere-rerank) (2.9.2)\n",
            "Requirement already satisfied: pydantic-core<3.0.0,>=2.18.2 in /usr/local/lib/python3.10/dist-packages (from cohere<6.0.0,>=5.1.1->llama-index-postprocessor-cohere-rerank) (2.23.4)\n",
            "Requirement already satisfied: requests<3.0.0,>=2.0.0 in /usr/local/lib/python3.10/dist-packages (from cohere<6.0.0,>=5.1.1->llama-index-postprocessor-cohere-rerank) (2.32.3)\n",
            "Requirement already satisfied: tokenizers<1,>=0.15 in /usr/local/lib/python3.10/dist-packages (from cohere<6.0.0,>=5.1.1->llama-index-postprocessor-cohere-rerank) (0.19.1)\n",
            "Collecting types-requests<3.0.0,>=2.0.0 (from cohere<6.0.0,>=5.1.1->llama-index-postprocessor-cohere-rerank)\n",
            "  Downloading types_requests-2.32.0.20240914-py3-none-any.whl.metadata (1.9 kB)\n",
            "Requirement already satisfied: typing_extensions>=4.0.0 in /usr/local/lib/python3.10/dist-packages (from cohere<6.0.0,>=5.1.1->llama-index-postprocessor-cohere-rerank) (4.12.2)\n",
            "Requirement already satisfied: PyYAML>=6.0.1 in /usr/local/lib/python3.10/dist-packages (from llama-index-core<0.12.0,>=0.11.0->llama-index-postprocessor-cohere-rerank) (6.0.2)\n",
            "Requirement already satisfied: SQLAlchemy>=1.4.49 in /usr/local/lib/python3.10/dist-packages (from SQLAlchemy[asyncio]>=1.4.49->llama-index-core<0.12.0,>=0.11.0->llama-index-postprocessor-cohere-rerank) (2.0.35)\n",
            "Requirement already satisfied: aiohttp<4.0.0,>=3.8.6 in /usr/local/lib/python3.10/dist-packages (from llama-index-core<0.12.0,>=0.11.0->llama-index-postprocessor-cohere-rerank) (3.10.5)\n",
            "Requirement already satisfied: dataclasses-json in /usr/local/lib/python3.10/dist-packages (from llama-index-core<0.12.0,>=0.11.0->llama-index-postprocessor-cohere-rerank) (0.6.7)\n",
            "Requirement already satisfied: deprecated>=1.2.9.3 in /usr/local/lib/python3.10/dist-packages (from llama-index-core<0.12.0,>=0.11.0->llama-index-postprocessor-cohere-rerank) (1.2.14)\n",
            "Requirement already satisfied: dirtyjson<2.0.0,>=1.0.8 in /usr/local/lib/python3.10/dist-packages (from llama-index-core<0.12.0,>=0.11.0->llama-index-postprocessor-cohere-rerank) (1.0.8)\n",
            "Requirement already satisfied: fsspec>=2023.5.0 in /usr/local/lib/python3.10/dist-packages (from llama-index-core<0.12.0,>=0.11.0->llama-index-postprocessor-cohere-rerank) (2024.6.1)\n",
            "Requirement already satisfied: nest-asyncio<2.0.0,>=1.5.8 in /usr/local/lib/python3.10/dist-packages (from llama-index-core<0.12.0,>=0.11.0->llama-index-postprocessor-cohere-rerank) (1.6.0)\n",
            "Requirement already satisfied: networkx>=3.0 in /usr/local/lib/python3.10/dist-packages (from llama-index-core<0.12.0,>=0.11.0->llama-index-postprocessor-cohere-rerank) (3.3)\n",
            "Requirement already satisfied: nltk>3.8.1 in /usr/local/lib/python3.10/dist-packages (from llama-index-core<0.12.0,>=0.11.0->llama-index-postprocessor-cohere-rerank) (3.9.1)\n",
            "Requirement already satisfied: numpy<2.0.0 in /usr/local/lib/python3.10/dist-packages (from llama-index-core<0.12.0,>=0.11.0->llama-index-postprocessor-cohere-rerank) (1.26.4)\n",
            "Requirement already satisfied: pillow>=9.0.0 in /usr/local/lib/python3.10/dist-packages (from llama-index-core<0.12.0,>=0.11.0->llama-index-postprocessor-cohere-rerank) (10.4.0)\n",
            "Requirement already satisfied: tenacity!=8.4.0,<9.0.0,>=8.2.0 in /usr/local/lib/python3.10/dist-packages (from llama-index-core<0.12.0,>=0.11.0->llama-index-postprocessor-cohere-rerank) (8.5.0)\n",
            "Requirement already satisfied: tiktoken>=0.3.3 in /usr/local/lib/python3.10/dist-packages (from llama-index-core<0.12.0,>=0.11.0->llama-index-postprocessor-cohere-rerank) (0.7.0)\n",
            "Requirement already satisfied: tqdm<5.0.0,>=4.66.1 in /usr/local/lib/python3.10/dist-packages (from llama-index-core<0.12.0,>=0.11.0->llama-index-postprocessor-cohere-rerank) (4.66.5)\n",
            "Requirement already satisfied: typing-inspect>=0.8.0 in /usr/local/lib/python3.10/dist-packages (from llama-index-core<0.12.0,>=0.11.0->llama-index-postprocessor-cohere-rerank) (0.9.0)\n",
            "Requirement already satisfied: wrapt in /usr/local/lib/python3.10/dist-packages (from llama-index-core<0.12.0,>=0.11.0->llama-index-postprocessor-cohere-rerank) (1.16.0)\n",
            "Requirement already satisfied: aiohappyeyeballs>=2.3.0 in /usr/local/lib/python3.10/dist-packages (from aiohttp<4.0.0,>=3.8.6->llama-index-core<0.12.0,>=0.11.0->llama-index-postprocessor-cohere-rerank) (2.4.0)\n",
            "Requirement already satisfied: aiosignal>=1.1.2 in /usr/local/lib/python3.10/dist-packages (from aiohttp<4.0.0,>=3.8.6->llama-index-core<0.12.0,>=0.11.0->llama-index-postprocessor-cohere-rerank) (1.3.1)\n",
            "Requirement already satisfied: attrs>=17.3.0 in /usr/local/lib/python3.10/dist-packages (from aiohttp<4.0.0,>=3.8.6->llama-index-core<0.12.0,>=0.11.0->llama-index-postprocessor-cohere-rerank) (24.2.0)\n",
            "Requirement already satisfied: frozenlist>=1.1.1 in /usr/local/lib/python3.10/dist-packages (from aiohttp<4.0.0,>=3.8.6->llama-index-core<0.12.0,>=0.11.0->llama-index-postprocessor-cohere-rerank) (1.4.1)\n",
            "Requirement already satisfied: multidict<7.0,>=4.5 in /usr/local/lib/python3.10/dist-packages (from aiohttp<4.0.0,>=3.8.6->llama-index-core<0.12.0,>=0.11.0->llama-index-postprocessor-cohere-rerank) (6.1.0)\n",
            "Requirement already satisfied: yarl<2.0,>=1.0 in /usr/local/lib/python3.10/dist-packages (from aiohttp<4.0.0,>=3.8.6->llama-index-core<0.12.0,>=0.11.0->llama-index-postprocessor-cohere-rerank) (1.11.1)\n",
            "Requirement already satisfied: async-timeout<5.0,>=4.0 in /usr/local/lib/python3.10/dist-packages (from aiohttp<4.0.0,>=3.8.6->llama-index-core<0.12.0,>=0.11.0->llama-index-postprocessor-cohere-rerank) (4.0.3)\n",
            "Collecting botocore<1.36.0,>=1.35.24 (from boto3<2.0.0,>=1.34.0->cohere<6.0.0,>=5.1.1->llama-index-postprocessor-cohere-rerank)\n",
            "  Downloading botocore-1.35.24-py3-none-any.whl.metadata (5.7 kB)\n",
            "Collecting jmespath<2.0.0,>=0.7.1 (from boto3<2.0.0,>=1.34.0->cohere<6.0.0,>=5.1.1->llama-index-postprocessor-cohere-rerank)\n",
            "  Downloading jmespath-1.0.1-py3-none-any.whl.metadata (7.6 kB)\n",
            "Collecting s3transfer<0.11.0,>=0.10.0 (from boto3<2.0.0,>=1.34.0->cohere<6.0.0,>=5.1.1->llama-index-postprocessor-cohere-rerank)\n",
            "  Downloading s3transfer-0.10.2-py3-none-any.whl.metadata (1.7 kB)\n",
            "Requirement already satisfied: anyio in /usr/local/lib/python3.10/dist-packages (from httpx>=0.21.2->cohere<6.0.0,>=5.1.1->llama-index-postprocessor-cohere-rerank) (3.7.1)\n",
            "Requirement already satisfied: certifi in /usr/local/lib/python3.10/dist-packages (from httpx>=0.21.2->cohere<6.0.0,>=5.1.1->llama-index-postprocessor-cohere-rerank) (2024.8.30)\n",
            "Requirement already satisfied: httpcore==1.* in /usr/local/lib/python3.10/dist-packages (from httpx>=0.21.2->cohere<6.0.0,>=5.1.1->llama-index-postprocessor-cohere-rerank) (1.0.5)\n",
            "Requirement already satisfied: idna in /usr/local/lib/python3.10/dist-packages (from httpx>=0.21.2->cohere<6.0.0,>=5.1.1->llama-index-postprocessor-cohere-rerank) (3.10)\n",
            "Requirement already satisfied: sniffio in /usr/local/lib/python3.10/dist-packages (from httpx>=0.21.2->cohere<6.0.0,>=5.1.1->llama-index-postprocessor-cohere-rerank) (1.3.1)\n",
            "Requirement already satisfied: h11<0.15,>=0.13 in /usr/local/lib/python3.10/dist-packages (from httpcore==1.*->httpx>=0.21.2->cohere<6.0.0,>=5.1.1->llama-index-postprocessor-cohere-rerank) (0.14.0)\n",
            "Requirement already satisfied: click in /usr/local/lib/python3.10/dist-packages (from nltk>3.8.1->llama-index-core<0.12.0,>=0.11.0->llama-index-postprocessor-cohere-rerank) (8.1.7)\n",
            "Requirement already satisfied: joblib in /usr/local/lib/python3.10/dist-packages (from nltk>3.8.1->llama-index-core<0.12.0,>=0.11.0->llama-index-postprocessor-cohere-rerank) (1.4.2)\n",
            "Requirement already satisfied: regex>=2021.8.3 in /usr/local/lib/python3.10/dist-packages (from nltk>3.8.1->llama-index-core<0.12.0,>=0.11.0->llama-index-postprocessor-cohere-rerank) (2024.9.11)\n",
            "Requirement already satisfied: annotated-types>=0.6.0 in /usr/local/lib/python3.10/dist-packages (from pydantic>=1.9.2->cohere<6.0.0,>=5.1.1->llama-index-postprocessor-cohere-rerank) (0.7.0)\n",
            "Requirement already satisfied: charset-normalizer<4,>=2 in /usr/local/lib/python3.10/dist-packages (from requests<3.0.0,>=2.0.0->cohere<6.0.0,>=5.1.1->llama-index-postprocessor-cohere-rerank) (3.3.2)\n",
            "Requirement already satisfied: urllib3<3,>=1.21.1 in /usr/local/lib/python3.10/dist-packages (from requests<3.0.0,>=2.0.0->cohere<6.0.0,>=5.1.1->llama-index-postprocessor-cohere-rerank) (2.0.7)\n",
            "Requirement already satisfied: greenlet!=0.4.17 in /usr/local/lib/python3.10/dist-packages (from SQLAlchemy>=1.4.49->SQLAlchemy[asyncio]>=1.4.49->llama-index-core<0.12.0,>=0.11.0->llama-index-postprocessor-cohere-rerank) (3.1.0)\n",
            "Requirement already satisfied: huggingface-hub<1.0,>=0.16.4 in /usr/local/lib/python3.10/dist-packages (from tokenizers<1,>=0.15->cohere<6.0.0,>=5.1.1->llama-index-postprocessor-cohere-rerank) (0.24.7)\n",
            "Requirement already satisfied: mypy-extensions>=0.3.0 in /usr/local/lib/python3.10/dist-packages (from typing-inspect>=0.8.0->llama-index-core<0.12.0,>=0.11.0->llama-index-postprocessor-cohere-rerank) (1.0.0)\n",
            "Requirement already satisfied: marshmallow<4.0.0,>=3.18.0 in /usr/local/lib/python3.10/dist-packages (from dataclasses-json->llama-index-core<0.12.0,>=0.11.0->llama-index-postprocessor-cohere-rerank) (3.22.0)\n",
            "Requirement already satisfied: python-dateutil<3.0.0,>=2.1 in /usr/local/lib/python3.10/dist-packages (from botocore<1.36.0,>=1.35.24->boto3<2.0.0,>=1.34.0->cohere<6.0.0,>=5.1.1->llama-index-postprocessor-cohere-rerank) (2.8.2)\n",
            "Requirement already satisfied: filelock in /usr/local/lib/python3.10/dist-packages (from huggingface-hub<1.0,>=0.16.4->tokenizers<1,>=0.15->cohere<6.0.0,>=5.1.1->llama-index-postprocessor-cohere-rerank) (3.16.1)\n",
            "Requirement already satisfied: packaging>=20.9 in /usr/local/lib/python3.10/dist-packages (from huggingface-hub<1.0,>=0.16.4->tokenizers<1,>=0.15->cohere<6.0.0,>=5.1.1->llama-index-postprocessor-cohere-rerank) (24.1)\n",
            "Requirement already satisfied: exceptiongroup in /usr/local/lib/python3.10/dist-packages (from anyio->httpx>=0.21.2->cohere<6.0.0,>=5.1.1->llama-index-postprocessor-cohere-rerank) (1.2.2)\n",
            "Requirement already satisfied: six>=1.5 in /usr/local/lib/python3.10/dist-packages (from python-dateutil<3.0.0,>=2.1->botocore<1.36.0,>=1.35.24->boto3<2.0.0,>=1.34.0->cohere<6.0.0,>=5.1.1->llama-index-postprocessor-cohere-rerank) (1.16.0)\n",
            "Downloading llama_index_postprocessor_cohere_rerank-0.2.1-py3-none-any.whl (2.9 kB)\n",
            "Downloading cohere-5.9.4-py3-none-any.whl (233 kB)\n",
            "\u001b[2K   \u001b[90m━━━━━━━━━━━━━━━━━━━━━━━━━━━━━━━━━━━━━━━━\u001b[0m \u001b[32m233.1/233.1 kB\u001b[0m \u001b[31m2.6 MB/s\u001b[0m eta \u001b[36m0:00:00\u001b[0m\n",
            "\u001b[?25hDownloading httpx_sse-0.4.0-py3-none-any.whl (7.8 kB)\n",
            "Downloading boto3-1.35.24-py3-none-any.whl (139 kB)\n",
            "\u001b[2K   \u001b[90m━━━━━━━━━━━━━━━━━━━━━━━━━━━━━━━━━━━━━━━━\u001b[0m \u001b[32m139.2/139.2 kB\u001b[0m \u001b[31m8.2 MB/s\u001b[0m eta \u001b[36m0:00:00\u001b[0m\n",
            "\u001b[?25hDownloading fastavro-1.9.7-cp310-cp310-manylinux_2_17_x86_64.manylinux2014_x86_64.whl (3.1 MB)\n",
            "\u001b[2K   \u001b[90m━━━━━━━━━━━━━━━━━━━━━━━━━━━━━━━━━━━━━━━━\u001b[0m \u001b[32m3.1/3.1 MB\u001b[0m \u001b[31m20.3 MB/s\u001b[0m eta \u001b[36m0:00:00\u001b[0m\n",
            "\u001b[?25hDownloading parameterized-0.9.0-py2.py3-none-any.whl (20 kB)\n",
            "Downloading types_requests-2.32.0.20240914-py3-none-any.whl (15 kB)\n",
            "Downloading botocore-1.35.24-py3-none-any.whl (12.6 MB)\n",
            "\u001b[2K   \u001b[90m━━━━━━━━━━━━━━━━━━━━━━━━━━━━━━━━━━━━━━━━\u001b[0m \u001b[32m12.6/12.6 MB\u001b[0m \u001b[31m44.3 MB/s\u001b[0m eta \u001b[36m0:00:00\u001b[0m\n",
            "\u001b[?25hDownloading jmespath-1.0.1-py3-none-any.whl (20 kB)\n",
            "Downloading s3transfer-0.10.2-py3-none-any.whl (82 kB)\n",
            "\u001b[2K   \u001b[90m━━━━━━━━━━━━━━━━━━━━━━━━━━━━━━━━━━━━━━━━\u001b[0m \u001b[32m82.7/82.7 kB\u001b[0m \u001b[31m4.9 MB/s\u001b[0m eta \u001b[36m0:00:00\u001b[0m\n",
            "\u001b[?25hInstalling collected packages: types-requests, parameterized, jmespath, httpx-sse, fastavro, botocore, s3transfer, boto3, cohere, llama-index-postprocessor-cohere-rerank\n",
            "Successfully installed boto3-1.35.24 botocore-1.35.24 cohere-5.9.4 fastavro-1.9.7 httpx-sse-0.4.0 jmespath-1.0.1 llama-index-postprocessor-cohere-rerank-0.2.1 parameterized-0.9.0 s3transfer-0.10.2 types-requests-2.32.0.20240914\n",
            "Requirement already satisfied: torch in /usr/local/lib/python3.10/dist-packages (2.4.1+cu121)\n",
            "Collecting sentence-transformers\n",
            "  Downloading sentence_transformers-3.1.1-py3-none-any.whl.metadata (10 kB)\n",
            "Requirement already satisfied: filelock in /usr/local/lib/python3.10/dist-packages (from torch) (3.16.1)\n",
            "Requirement already satisfied: typing-extensions>=4.8.0 in /usr/local/lib/python3.10/dist-packages (from torch) (4.12.2)\n",
            "Requirement already satisfied: sympy in /usr/local/lib/python3.10/dist-packages (from torch) (1.13.2)\n",
            "Requirement already satisfied: networkx in /usr/local/lib/python3.10/dist-packages (from torch) (3.3)\n",
            "Requirement already satisfied: jinja2 in /usr/local/lib/python3.10/dist-packages (from torch) (3.1.4)\n",
            "Requirement already satisfied: fsspec in /usr/local/lib/python3.10/dist-packages (from torch) (2024.6.1)\n",
            "Requirement already satisfied: transformers<5.0.0,>=4.38.0 in /usr/local/lib/python3.10/dist-packages (from sentence-transformers) (4.44.2)\n",
            "Requirement already satisfied: tqdm in /usr/local/lib/python3.10/dist-packages (from sentence-transformers) (4.66.5)\n",
            "Requirement already satisfied: scikit-learn in /usr/local/lib/python3.10/dist-packages (from sentence-transformers) (1.3.2)\n",
            "Requirement already satisfied: scipy in /usr/local/lib/python3.10/dist-packages (from sentence-transformers) (1.13.1)\n",
            "Requirement already satisfied: huggingface-hub>=0.19.3 in /usr/local/lib/python3.10/dist-packages (from sentence-transformers) (0.24.7)\n",
            "Requirement already satisfied: Pillow in /usr/local/lib/python3.10/dist-packages (from sentence-transformers) (10.4.0)\n",
            "Requirement already satisfied: packaging>=20.9 in /usr/local/lib/python3.10/dist-packages (from huggingface-hub>=0.19.3->sentence-transformers) (24.1)\n",
            "Requirement already satisfied: pyyaml>=5.1 in /usr/local/lib/python3.10/dist-packages (from huggingface-hub>=0.19.3->sentence-transformers) (6.0.2)\n",
            "Requirement already satisfied: requests in /usr/local/lib/python3.10/dist-packages (from huggingface-hub>=0.19.3->sentence-transformers) (2.32.3)\n",
            "Requirement already satisfied: numpy>=1.17 in /usr/local/lib/python3.10/dist-packages (from transformers<5.0.0,>=4.38.0->sentence-transformers) (1.26.4)\n",
            "Requirement already satisfied: regex!=2019.12.17 in /usr/local/lib/python3.10/dist-packages (from transformers<5.0.0,>=4.38.0->sentence-transformers) (2024.9.11)\n",
            "Requirement already satisfied: safetensors>=0.4.1 in /usr/local/lib/python3.10/dist-packages (from transformers<5.0.0,>=4.38.0->sentence-transformers) (0.4.5)\n",
            "Requirement already satisfied: tokenizers<0.20,>=0.19 in /usr/local/lib/python3.10/dist-packages (from transformers<5.0.0,>=4.38.0->sentence-transformers) (0.19.1)\n",
            "Requirement already satisfied: MarkupSafe>=2.0 in /usr/local/lib/python3.10/dist-packages (from jinja2->torch) (2.1.5)\n",
            "Requirement already satisfied: joblib>=1.1.1 in /usr/local/lib/python3.10/dist-packages (from scikit-learn->sentence-transformers) (1.4.2)\n",
            "Requirement already satisfied: threadpoolctl>=2.0.0 in /usr/local/lib/python3.10/dist-packages (from scikit-learn->sentence-transformers) (3.5.0)\n",
            "Requirement already satisfied: mpmath<1.4,>=1.1.0 in /usr/local/lib/python3.10/dist-packages (from sympy->torch) (1.3.0)\n",
            "Requirement already satisfied: charset-normalizer<4,>=2 in /usr/local/lib/python3.10/dist-packages (from requests->huggingface-hub>=0.19.3->sentence-transformers) (3.3.2)\n",
            "Requirement already satisfied: idna<4,>=2.5 in /usr/local/lib/python3.10/dist-packages (from requests->huggingface-hub>=0.19.3->sentence-transformers) (3.10)\n",
            "Requirement already satisfied: urllib3<3,>=1.21.1 in /usr/local/lib/python3.10/dist-packages (from requests->huggingface-hub>=0.19.3->sentence-transformers) (2.0.7)\n",
            "Requirement already satisfied: certifi>=2017.4.17 in /usr/local/lib/python3.10/dist-packages (from requests->huggingface-hub>=0.19.3->sentence-transformers) (2024.8.30)\n",
            "Downloading sentence_transformers-3.1.1-py3-none-any.whl (245 kB)\n",
            "\u001b[2K   \u001b[90m━━━━━━━━━━━━━━━━━━━━━━━━━━━━━━━━━━━━━━━━\u001b[0m \u001b[32m245.3/245.3 kB\u001b[0m \u001b[31m1.8 MB/s\u001b[0m eta \u001b[36m0:00:00\u001b[0m\n",
            "\u001b[?25hInstalling collected packages: sentence-transformers\n",
            "Successfully installed sentence-transformers-3.1.1\n",
            "Collecting diskcache\n",
            "  Downloading diskcache-5.6.3-py3-none-any.whl.metadata (20 kB)\n",
            "Downloading diskcache-5.6.3-py3-none-any.whl (45 kB)\n",
            "\u001b[2K   \u001b[90m━━━━━━━━━━━━━━━━━━━━━━━━━━━━━━━━━━━━━━━━\u001b[0m \u001b[32m45.5/45.5 kB\u001b[0m \u001b[31m766.0 kB/s\u001b[0m eta \u001b[36m0:00:00\u001b[0m\n",
            "\u001b[?25hInstalling collected packages: diskcache\n",
            "Successfully installed diskcache-5.6.3\n"
          ]
        }
      ],
      "source": [
        "!pip install llama-index\n",
        "!pip install openai\n",
        "!pip install pandas\n",
        "!pip install tqdm\n",
        "%pip install llama-index-postprocessor-cohere-rerank\n",
        "%pip install torch sentence-transformers\n",
        "%pip install diskcache"
      ]
    },
    {
      "cell_type": "markdown",
      "source": [
        "2. Import required libraries"
      ],
      "metadata": {
        "id": "56VuzZPMrRli"
      }
    },
    {
      "cell_type": "code",
      "source": [
        "import pandas as pd\n",
        "from llama_index.core import SimpleDirectoryReader , VectorStoreIndex, Document, ServiceContext\n",
        "from llama_index.core.node_parser import SimpleNodeParser\n",
        "import openai\n",
        "from tqdm import tqdm\n",
        "from google.colab import userdata\n",
        "from llama_index.core.evaluation import generate_question_context_pairs\n",
        "\n",
        "from llama_index.postprocessor.cohere_rerank import CohereRerank\n",
        "from llama_index.core.postprocessor import SimilarityPostprocessor\n",
        "\n",
        "from llama_index.core.postprocessor import SentenceTransformerRerank\n",
        "\n",
        "from llama_index.core.evaluation import (\n",
        "    CorrectnessEvaluator,\n",
        "    FaithfulnessEvaluator,\n",
        "    RelevancyEvaluator,\n",
        ")\n",
        "import re"
      ],
      "metadata": {
        "id": "5mZQT4rGrRL9"
      },
      "execution_count": 2,
      "outputs": []
    },
    {
      "cell_type": "code",
      "source": [
        "import nest_asyncio\n",
        "\n",
        "nest_asyncio.apply()"
      ],
      "metadata": {
        "id": "k5VX36cjdPIS"
      },
      "execution_count": 3,
      "outputs": []
    },
    {
      "cell_type": "code",
      "source": [
        "# Mount Google Drive\n",
        "from google.colab import drive\n",
        "drive.mount('/content/drive')"
      ],
      "metadata": {
        "colab": {
          "base_uri": "https://localhost:8080/"
        },
        "id": "cUBKMmewqZ7g",
        "outputId": "a959f878-86cb-4863-ad1e-c6f00259b3bf"
      },
      "execution_count": 4,
      "outputs": [
        {
          "output_type": "stream",
          "name": "stdout",
          "text": [
            "Mounted at /content/drive\n"
          ]
        }
      ]
    },
    {
      "cell_type": "markdown",
      "source": [
        "3. Initialize OpenAI/Cohere with Key"
      ],
      "metadata": {
        "id": "qeuDwWaBtwGW"
      }
    },
    {
      "cell_type": "code",
      "source": [
        "openai.api_key = userdata.get('OPENAI_API_KEY')\n",
        "cohere_api_key = userdata.get('cohere_key')"
      ],
      "metadata": {
        "id": "-qqXPlCmqaCa"
      },
      "execution_count": 5,
      "outputs": []
    },
    {
      "cell_type": "markdown",
      "source": [
        "4. Loading pdf as document using SimpleDirectoryReader\n"
      ],
      "metadata": {
        "id": "oVa0XfWItrYB"
      }
    },
    {
      "cell_type": "code",
      "source": [
        "#Read all the pdfs from the below mention path.\n",
        "reader = SimpleDirectoryReader(input_dir=\"/content/drive/Othercomputers/My Laptop/AI-ML/EPG - AIML/GEN AI/Vector DB and RAG\", required_exts=[\".pdf\"])\n",
        "\n",
        "documents = reader.load_data()\n",
        "print(f\"Loaded {len(documents)} docs\")"
      ],
      "metadata": {
        "colab": {
          "base_uri": "https://localhost:8080/"
        },
        "id": "W1Vpy0qZqaEM",
        "outputId": "40941588-915f-4c3c-b8b5-eeb6cee7eb58"
      },
      "execution_count": 6,
      "outputs": [
        {
          "output_type": "stream",
          "name": "stdout",
          "text": [
            "Loaded 217 docs\n"
          ]
        }
      ]
    },
    {
      "cell_type": "markdown",
      "source": [
        "5. Parsing document into nodes"
      ],
      "metadata": {
        "id": "YH_Q-VVKuTiV"
      }
    },
    {
      "cell_type": "code",
      "source": [
        "# Initialize the parser and parse the documents into nodes\n",
        "parser = SimpleNodeParser.from_defaults()\n",
        "\n",
        "# Using tqdm to show progress for document parsing\n",
        "nodes = []\n",
        "for doc in tqdm(documents, desc=\"Parsing documents\"):\n",
        "    nodes.extend(parser.get_nodes_from_documents([doc]))"
      ],
      "metadata": {
        "colab": {
          "base_uri": "https://localhost:8080/"
        },
        "id": "BLLC1hcOqaJC",
        "outputId": "840b2f85-2fa8-435b-a5d7-150a9c014339"
      },
      "execution_count": 7,
      "outputs": [
        {
          "output_type": "stream",
          "name": "stderr",
          "text": [
            "Parsing documents: 100%|██████████| 217/217 [00:00<00:00, 356.18it/s]\n"
          ]
        }
      ]
    },
    {
      "cell_type": "markdown",
      "source": [
        "6. Generating vector index for the nodes"
      ],
      "metadata": {
        "id": "irR4iIGgu0tY"
      }
    },
    {
      "cell_type": "code",
      "source": [
        "# Using tqdm to show progress for indexing\n",
        "index = VectorStoreIndex(nodes)"
      ],
      "metadata": {
        "id": "O2y9mOZIqaMM"
      },
      "execution_count": 8,
      "outputs": []
    },
    {
      "cell_type": "markdown",
      "source": [
        "7. Initialize Query engine"
      ],
      "metadata": {
        "id": "WymPW36qwVwF"
      }
    },
    {
      "cell_type": "code",
      "source": [
        "#Using Cohere Rerank\n",
        "# cohere_rerank = CohereRerank(api_key=cohere_api_key, top_n=3)"
      ],
      "metadata": {
        "id": "MRcAd0eQjjI8"
      },
      "execution_count": 9,
      "outputs": []
    },
    {
      "cell_type": "code",
      "source": [
        "#Using SentenceTransformer Rerank\n",
        "rerank = SentenceTransformerRerank(\n",
        "    model=\"cross-encoder/ms-marco-MiniLM-L-2-v2\", top_n=3\n",
        ")"
      ],
      "metadata": {
        "id": "F2HqZlJ7rdmD",
        "colab": {
          "base_uri": "https://localhost:8080/",
          "height": 371,
          "referenced_widgets": [
            "88edd8c14a9b49df863889f8698d21c3",
            "7935b37f6fa34c3f842b876e21eba340",
            "34529aff0a4f47a7a676abe58492f32e",
            "896e2aa8ebfe4d298e778954db75ed9a",
            "96ac5bae9e7e4484b434bff3647331e9",
            "3f9961dd76a04bdfb4966eb7794db2c2",
            "c43ab9be60144fc8b47afd17003e23cb",
            "910569139b964ba5b0a5a95716a680f4",
            "57b9730ce8e944978e6748859b5f358e",
            "da4243e6de2d45328b34bbd957fba536",
            "162ddfbf238e4dc5bb4d3ed3adda5f20",
            "7b16d9b9cc5f43db8a65f2f620745072",
            "40b9e12e175e4055a8cc427f1ce13d06",
            "0df212d4cf6a4ffe9d30068e89e3abe1",
            "b1464ce576004c2fa63aaace376183ba",
            "d88cc6fade0a4c8491fa85dc480ff9bc",
            "506d193ff4a84c539035c94683d1e286",
            "e43ef872895b45be97593cb752fd6fd0",
            "5b70afd1940a4febb1ea28e0d5090fbf",
            "e24f8306d6364b83979d4caaec3c82d1",
            "e717de67976541868a55c57c61bca814",
            "ca71fec771534173ae5ab99d1a3318d4",
            "c02b445992204c399f6d0c05bea7d95f",
            "fb0cde43ff2d4d22aaf98d91b07edb69",
            "f20019c63d3749bf8d671c0bccdc1425",
            "d838e998e15d4631a93472bd8d6c37b4",
            "c14b8a4f570d4b87b092e5f90fa1a76c",
            "052ce11e8f3942f89858289c1da9011d",
            "bb1f73b5ed994fb6941b8c20d89a6e8e",
            "5c9e56d457a34e6f9eeb9bdc89e86a45",
            "fe2605ed292f4556b4816eec507cc958",
            "f63863b8713d4ca389ed3893200be264",
            "fbe7b851c0f947d48566c883dd4e9d79",
            "6f2cb78e81684f0baa2b075c27ce9732",
            "db722e7cd04e4f669d815a3fa6774154",
            "f27062d3636544d2a43eeb9b1f5a42aa",
            "53b4a7834c0b4c279d40ed464091520a",
            "361a2137c49a44dbad46fbccc55d0ddd",
            "973abd68bb9642fbabca7150d7232276",
            "24c23755812b4c0cb8931c0180f45d9c",
            "c9bc6e5b0a64430db7ead3db8cc2876d",
            "0fd78b5c721c4cd683c9d7f2e5b95f28",
            "5ee6176c14ee4c7bb423ee91d23b15e5",
            "03d0d73b854f48e88165b649da692886",
            "a175249ce8804dffa65c85e736192a29",
            "5786a31e61764305aab5e63f054c4458",
            "98d9e93de0b74d559fa9ceef40a3363b",
            "1531fb57a1084021948fe6e4592d4ef8",
            "3365a95e3e1048c2acca4cb6211a6380",
            "866f34f896614e89a5f2f8bb9ae5b4e7",
            "885342438038486fb65147bfba9fe5ea",
            "37bb7fdc892a4a779430b5df0fa7433b",
            "b67d5106ca5245ad8c8c22572da7bbd5",
            "826fff4d7cbd4fcdb76b87d810ad3ee2",
            "15572df1af3140d5a9cd073b7fc0a0bb"
          ]
        },
        "outputId": "7cf821d6-fc69-4ba3-94d5-1d3c5d50500f"
      },
      "execution_count": 10,
      "outputs": [
        {
          "output_type": "stream",
          "name": "stderr",
          "text": [
            "/usr/local/lib/python3.10/dist-packages/sentence_transformers/cross_encoder/CrossEncoder.py:13: TqdmExperimentalWarning: Using `tqdm.autonotebook.tqdm` in notebook mode. Use `tqdm.tqdm` instead to force console mode (e.g. in jupyter console)\n",
            "  from tqdm.autonotebook import tqdm, trange\n",
            "/usr/local/lib/python3.10/dist-packages/huggingface_hub/utils/_token.py:89: UserWarning: \n",
            "The secret `HF_TOKEN` does not exist in your Colab secrets.\n",
            "To authenticate with the Hugging Face Hub, create a token in your settings tab (https://huggingface.co/settings/tokens), set it as secret in your Google Colab and restart your session.\n",
            "You will be able to reuse this secret in all of your notebooks.\n",
            "Please note that authentication is recommended but still optional to access public models or datasets.\n",
            "  warnings.warn(\n"
          ]
        },
        {
          "output_type": "display_data",
          "data": {
            "text/plain": [
              "config.json:   0%|          | 0.00/794 [00:00<?, ?B/s]"
            ],
            "application/vnd.jupyter.widget-view+json": {
              "version_major": 2,
              "version_minor": 0,
              "model_id": "88edd8c14a9b49df863889f8698d21c3"
            }
          },
          "metadata": {}
        },
        {
          "output_type": "display_data",
          "data": {
            "text/plain": [
              "pytorch_model.bin:   0%|          | 0.00/62.5M [00:00<?, ?B/s]"
            ],
            "application/vnd.jupyter.widget-view+json": {
              "version_major": 2,
              "version_minor": 0,
              "model_id": "7b16d9b9cc5f43db8a65f2f620745072"
            }
          },
          "metadata": {}
        },
        {
          "output_type": "display_data",
          "data": {
            "text/plain": [
              "tokenizer_config.json:   0%|          | 0.00/316 [00:00<?, ?B/s]"
            ],
            "application/vnd.jupyter.widget-view+json": {
              "version_major": 2,
              "version_minor": 0,
              "model_id": "c02b445992204c399f6d0c05bea7d95f"
            }
          },
          "metadata": {}
        },
        {
          "output_type": "display_data",
          "data": {
            "text/plain": [
              "vocab.txt:   0%|          | 0.00/232k [00:00<?, ?B/s]"
            ],
            "application/vnd.jupyter.widget-view+json": {
              "version_major": 2,
              "version_minor": 0,
              "model_id": "6f2cb78e81684f0baa2b075c27ce9732"
            }
          },
          "metadata": {}
        },
        {
          "output_type": "display_data",
          "data": {
            "text/plain": [
              "special_tokens_map.json:   0%|          | 0.00/112 [00:00<?, ?B/s]"
            ],
            "application/vnd.jupyter.widget-view+json": {
              "version_major": 2,
              "version_minor": 0,
              "model_id": "a175249ce8804dffa65c85e736192a29"
            }
          },
          "metadata": {}
        },
        {
          "output_type": "stream",
          "name": "stderr",
          "text": [
            "/usr/local/lib/python3.10/dist-packages/transformers/tokenization_utils_base.py:1601: FutureWarning: `clean_up_tokenization_spaces` was not set. It will be set to `True` by default. This behavior will be depracted in transformers v4.45, and will be then set to `False` by default. For more details check this issue: https://github.com/huggingface/transformers/issues/31884\n",
            "  warnings.warn(\n"
          ]
        }
      ]
    },
    {
      "cell_type": "code",
      "source": [
        "# customizing the prompts.\n",
        "from llama_index.core import PromptTemplate\n",
        "\n",
        "text_qa_template_str = (\n",
        "    \"Context information is\"\n",
        "    \" below.\\n---------------------\\n{context_str}\\n---------------------\\nUsing\"\n",
        "    \" both the context information and also using your own knowledge, answer\"\n",
        "    \" the question: {query_str}\\nIf the context isn't helpful, you can also\"\n",
        "    \" answer the question on your own.\\n\"\n",
        ")\n",
        "text_qa_template = PromptTemplate(text_qa_template_str)\n",
        "\n",
        "\n",
        "refine_template_str = (\n",
        "    \"The original question is as follows: {query_str}\\nWe have provided an\"\n",
        "    \" existing answer: {existing_answer}\\nWe have the opportunity to refine\"\n",
        "    \" the existing answer (only if needed) with some more context\"\n",
        "    \" below.\\n------------\\n{context_msg}\\n------------\\nUsing both the new\"\n",
        "    \" context and your own knowledge, update or repeat the existing answer.\\n\"\n",
        ")\n",
        "refine_template = PromptTemplate(refine_template_str)"
      ],
      "metadata": {
        "id": "4XJMOSelhrFR"
      },
      "execution_count": 11,
      "outputs": []
    },
    {
      "cell_type": "code",
      "source": [
        "# Create the query engine from the index\n",
        "from llama_index.llms.openai import OpenAI\n",
        "gpt35_llm = OpenAI(model=\"gpt-3.5-turbo\", max_tokens=256)\n",
        "gpt4_llm = OpenAI(model=\"gpt-4\", max_tokens=256)\n",
        "\n",
        "query_engine = index.as_query_engine(\n",
        "     similarity_top_k=10,\n",
        "        node_postprocessors=[rerank],\n",
        "        text_qa_template=text_qa_template,\n",
        "        refine_template=refine_template,\n",
        "        llm=gpt35_llm\n",
        ")\n"
      ],
      "metadata": {
        "id": "4-W0j9wxqaOe"
      },
      "execution_count": 12,
      "outputs": []
    },
    {
      "cell_type": "code",
      "source": [
        "from IPython.display import display, HTML\n",
        "# Query the engine.\n",
        "response = query_engine.query(\"What are the exclusions applicable to accidental death benefits in the policy?\")\n",
        "\n",
        "# print the synthesized response.\n",
        "display(HTML(f'<p style=\"font-size:20px\">{response.response}</p>'))"
      ],
      "metadata": {
        "colab": {
          "base_uri": "https://localhost:8080/",
          "height": 128
        },
        "id": "o6FraCX_qaPz",
        "outputId": "c3b1bf6a-0935-4d4f-dbae-0b0a9657c207"
      },
      "execution_count": 13,
      "outputs": [
        {
          "output_type": "display_data",
          "data": {
            "text/plain": [
              "<IPython.core.display.HTML object>"
            ],
            "text/html": [
              "<p style=\"font-size:20px\">The exclusions applicable to accidental death benefits in the policy are as follows:\n",
              "1. No Accidental Death Benefit will be payable if the death of the Scheme Members occurs after 180 days from the date of Accident.\n",
              "2. Accidental Death Benefit will not be paid if the Accidental Death is caused by intentionally self-inflicted injury or suicide while sane or insane, alcohol or solvent abuse, taking drugs or narcotics without lawful prescription, engaging in hazardous activities such as professional sports, war, flying activities, criminal acts, etc.</p>"
            ]
          },
          "metadata": {}
        }
      ]
    },
    {
      "cell_type": "code",
      "source": [
        "dir(response)"
      ],
      "metadata": {
        "id": "7kVweVEwqaRt",
        "colab": {
          "base_uri": "https://localhost:8080/"
        },
        "outputId": "7d659d98-6b0a-4e94-b7b9-5b289efd8a45"
      },
      "execution_count": 14,
      "outputs": [
        {
          "output_type": "execute_result",
          "data": {
            "text/plain": [
              "['__annotations__',\n",
              " '__class__',\n",
              " '__dataclass_fields__',\n",
              " '__dataclass_params__',\n",
              " '__delattr__',\n",
              " '__dict__',\n",
              " '__dir__',\n",
              " '__doc__',\n",
              " '__eq__',\n",
              " '__format__',\n",
              " '__ge__',\n",
              " '__getattribute__',\n",
              " '__gt__',\n",
              " '__hash__',\n",
              " '__init__',\n",
              " '__init_subclass__',\n",
              " '__le__',\n",
              " '__lt__',\n",
              " '__match_args__',\n",
              " '__module__',\n",
              " '__ne__',\n",
              " '__new__',\n",
              " '__reduce__',\n",
              " '__reduce_ex__',\n",
              " '__repr__',\n",
              " '__setattr__',\n",
              " '__sizeof__',\n",
              " '__str__',\n",
              " '__subclasshook__',\n",
              " '__weakref__',\n",
              " 'get_formatted_sources',\n",
              " 'metadata',\n",
              " 'response',\n",
              " 'source_nodes']"
            ]
          },
          "metadata": {},
          "execution_count": 14
        }
      ]
    },
    {
      "cell_type": "code",
      "source": [
        "response.metadata"
      ],
      "metadata": {
        "id": "E6HT2hVaqaTN",
        "colab": {
          "base_uri": "https://localhost:8080/"
        },
        "outputId": "0f114468-b6d1-4a91-abb4-0ec1cc350b8a"
      },
      "execution_count": 15,
      "outputs": [
        {
          "output_type": "execute_result",
          "data": {
            "text/plain": [
              "{'cee1948c-e218-410f-a656-63ea4c95d1da': {'page_label': '15',\n",
              "  'file_name': 'HDFC-Life-Group-Poorna-Suraksha-101N137V02-Policy-Document.pdf',\n",
              "  'file_path': '/content/drive/Othercomputers/My Laptop/AI-ML/EPG - AIML/GEN AI/Vector DB and RAG/HDFC-Life-Group-Poorna-Suraksha-101N137V02-Policy-Document.pdf',\n",
              "  'file_type': 'application/pdf',\n",
              "  'file_size': 1371541,\n",
              "  'creation_date': '2024-08-16',\n",
              "  'last_modified_date': '2023-09-29'},\n",
              " '18a7760f-b499-4d39-8804-51b1d169cde8': {'page_label': '4',\n",
              "  'file_name': 'HDFC-Life-Group-Poorna-Suraksha-101N137V02-Policy-Document.pdf',\n",
              "  'file_path': '/content/drive/Othercomputers/My Laptop/AI-ML/EPG - AIML/GEN AI/Vector DB and RAG/HDFC-Life-Group-Poorna-Suraksha-101N137V02-Policy-Document.pdf',\n",
              "  'file_type': 'application/pdf',\n",
              "  'file_size': 1371541,\n",
              "  'creation_date': '2024-08-16',\n",
              "  'last_modified_date': '2023-09-29'},\n",
              " '5bc35d82-0022-4e3e-a5d2-143b5c61eff5': {'page_label': '7',\n",
              "  'file_name': 'HDFC-Life-Group-Poorna-Suraksha-101N137V02-Policy-Document.pdf',\n",
              "  'file_path': '/content/drive/Othercomputers/My Laptop/AI-ML/EPG - AIML/GEN AI/Vector DB and RAG/HDFC-Life-Group-Poorna-Suraksha-101N137V02-Policy-Document.pdf',\n",
              "  'file_type': 'application/pdf',\n",
              "  'file_size': 1371541,\n",
              "  'creation_date': '2024-08-16',\n",
              "  'last_modified_date': '2023-09-29'}}"
            ]
          },
          "metadata": {},
          "execution_count": 15
        }
      ]
    },
    {
      "cell_type": "code",
      "source": [
        "response.source_nodes"
      ],
      "metadata": {
        "id": "qrJVZubFqaU6",
        "colab": {
          "base_uri": "https://localhost:8080/"
        },
        "outputId": "d1cbe853-4d71-431c-e89d-ceed01bf1876"
      },
      "execution_count": 16,
      "outputs": [
        {
          "output_type": "execute_result",
          "data": {
            "text/plain": [
              "[NodeWithScore(node=TextNode(id_='cee1948c-e218-410f-a656-63ea4c95d1da', embedding=None, metadata={'page_label': '15', 'file_name': 'HDFC-Life-Group-Poorna-Suraksha-101N137V02-Policy-Document.pdf', 'file_path': '/content/drive/Othercomputers/My Laptop/AI-ML/EPG - AIML/GEN AI/Vector DB and RAG/HDFC-Life-Group-Poorna-Suraksha-101N137V02-Policy-Document.pdf', 'file_type': 'application/pdf', 'file_size': 1371541, 'creation_date': '2024-08-16', 'last_modified_date': '2023-09-29'}, excluded_embed_metadata_keys=['file_name', 'file_type', 'file_size', 'creation_date', 'last_modified_date', 'last_accessed_date'], excluded_llm_metadata_keys=['file_name', 'file_type', 'file_size', 'creation_date', 'last_modified_date', 'last_accessed_date'], relationships={<NodeRelationship.SOURCE: '1'>: RelatedNodeInfo(node_id='37f7a334-d13b-4aaa-b226-dc3cf743e3ae', node_type=<ObjectType.DOCUMENT: '4'>, metadata={'page_label': '15', 'file_name': 'HDFC-Life-Group-Poorna-Suraksha-101N137V02-Policy-Document.pdf', 'file_path': '/content/drive/Othercomputers/My Laptop/AI-ML/EPG - AIML/GEN AI/Vector DB and RAG/HDFC-Life-Group-Poorna-Suraksha-101N137V02-Policy-Document.pdf', 'file_type': 'application/pdf', 'file_size': 1371541, 'creation_date': '2024-08-16', 'last_modified_date': '2023-09-29'}, hash='c5f6f762747aea03e727fc886b8beb420f93ea516eea34bca498a60341627525')}, text='Page 15 of 31 \\n  \\nNote: For the purpose of waiting period, Date of commencement or inception of coverage for a benefit option \\nshall mean the date from which the member is covered under that benefit option. \\n \\niv. Accidental Death Benefit Exclusions: \\n1. No Accidental Death Benefit will be payable if the death of the Scheme Members occurs after 180 days \\nfrom the date of Accident. \\nSpecific Exclusions for this benefit are listed below \\nWe will not pay Accidental Death Benefit, if Accidental Death is caused from or due to  any of the \\nfollowing:  \\n\\uf0b7 Intentionally self-inflicted injury or suicide while sane or insane \\n\\uf0b7 Alcohol or Solvent abuse or taking of Drugs, narcotics or psychotropic substances unless taken in \\naccordance with the lawful directions and prescription of a registered medical practitioner. \\n\\uf0b7 Engaging in or taking part in professional sport(s) or any hazardous pursuits, power boat racing, sky \\ndiving, para gliding, parachuting, scuba diving, skydo riding, winter sports, sky jumping, ice hockey, \\nice speedway, ballooning, hand gliding, river rafting / bugging, black water rafting, yachting / \\nboating outside coastal waters, motor rallying, power lifting, quad biking, rodeo and roller hockey. \\n\\uf0b7 War, invasion, hostilities (whether war is declared or not), civil war, rebellion, revolution or taking \\npart in a riot or civil commotion. \\n\\uf0b7 Taking part in any flying activity, other than as a passenger in a commercially licensed aircraft. \\n\\uf0b7 Participation by the life assured in a criminal or unlawful act. \\n \\n \\n2. Claims Procedure: \\n(1) The Master Policyholder shall inform the Insurer within 30 days of the death/ illness of a Scheme \\nMember and shall file a claim with the Insurer on behalf of the Nominee of the deceased Scheme \\nMember in the form prescribed by the Insurer and accompanied by all relevant documents as may be \\nrequired by the Insurer, within 90 days from the date of death/ /illness. \\nHowever, the Insurer will condone the delay caused in intimation of claim where the claim is genuine \\nand the delay is proved to be for reasons beyond the control of the claimant. \\n(2) Subject to Part C Clause 1 sub-clause (1)(n), the Insurer shall pay the Claim amount in relation to the \\nDeath Benefit to the Nominee of the deceased Scheme Member in Single Life cases and to the \\nsurviving life in the Joint Life cases, who shall give a valid discharge/receipt for the same. If the \\nbenefit is in the form of an acceleration of the death benefit and the Scheme Member is alive, then the \\nbenefit shall be payable to the Scheme Member. \\n(3) The documents required for processing a claim are: \\nBasic documentation if death is due to Natural Cause: \\na. Completed claim form, (including NEFT details and bank account proof as specified in the claim \\nform); \\nb. Original Policy; \\nc. Original or copy Death Certificate issued by Municipal Authority/ Gram Panchayat / Tehsildar \\n(attested by issuing authority);  \\nd. Claimant’s identity and residence proof. \\ne. Certificate of Insurance as issued to the Scheme Member \\n \\nBasic Documentation if death is due to un-natural causes: \\na. Completed claim form, (including NEFT details and bank account proof as specified in the claim \\nform); \\na. Original Policy; \\nb. Original or copy Death Certificate issued by Municipal Authority/ Gram Panchayat / Tehsildar \\n(attested by issuing authority);  \\nc. Claimant’s identity and residence proof. \\nd. Certificate of Insurance as issued to the Scheme Member \\ne. Original or copy of First Information Report, Police Panchnama report attested by Police \\nauthorities; and  \\nf. Original or copy of Post mortem report attested by Hospital authority. \\n \\nNote: Depending on the circumstances of the death, further documents may be called for as we deem \\nfit. \\n. \\nCritical Illness Benefit Claim:', mimetype='text/plain', start_char_idx=2, end_char_idx=3809, text_template='{metadata_str}\\n\\n{content}', metadata_template='{key}: {value}', metadata_seperator='\\n'), score=4.735873),\n",
              " NodeWithScore(node=TextNode(id_='18a7760f-b499-4d39-8804-51b1d169cde8', embedding=None, metadata={'page_label': '4', 'file_name': 'HDFC-Life-Group-Poorna-Suraksha-101N137V02-Policy-Document.pdf', 'file_path': '/content/drive/Othercomputers/My Laptop/AI-ML/EPG - AIML/GEN AI/Vector DB and RAG/HDFC-Life-Group-Poorna-Suraksha-101N137V02-Policy-Document.pdf', 'file_type': 'application/pdf', 'file_size': 1371541, 'creation_date': '2024-08-16', 'last_modified_date': '2023-09-29'}, excluded_embed_metadata_keys=['file_name', 'file_type', 'file_size', 'creation_date', 'last_modified_date', 'last_accessed_date'], excluded_llm_metadata_keys=['file_name', 'file_type', 'file_size', 'creation_date', 'last_modified_date', 'last_accessed_date'], relationships={<NodeRelationship.SOURCE: '1'>: RelatedNodeInfo(node_id='3037562f-9138-4e30-ad96-2362ffff1f34', node_type=<ObjectType.DOCUMENT: '4'>, metadata={'page_label': '4', 'file_name': 'HDFC-Life-Group-Poorna-Suraksha-101N137V02-Policy-Document.pdf', 'file_path': '/content/drive/Othercomputers/My Laptop/AI-ML/EPG - AIML/GEN AI/Vector DB and RAG/HDFC-Life-Group-Poorna-Suraksha-101N137V02-Policy-Document.pdf', 'file_type': 'application/pdf', 'file_size': 1371541, 'creation_date': '2024-08-16', 'last_modified_date': '2023-09-29'}, hash='03dc2e908ad9b3b41412a9a126e7c8345756d74a241c3995151554832130ceb9'), <NodeRelationship.NEXT: '3'>: RelatedNodeInfo(node_id='9ba8616c-3111-407b-8db9-f93236592e5c', node_type=<ObjectType.TEXT: '1'>, metadata={}, hash='c40c795daec794e00507e56acd0e7e1855979b40c3b574537526afbb5f4e6f86')}, text='Page 4 of 31 \\n  \\nPart B  \\nDefinitions \\nThe following capitalized terms wherever used in this Policy shall have the meaning given hereunder: \\n(1) Accident- means a sudden, unforeseen and involuntary event caused by external, visible and violent \\nmeans. \\n(2) Accidental Death  - means death by or due to a bodily injury caused by an Accident, independent of all \\nother causes of death and must be caused within 180 days of any bodily injury. \\n(3) Actively at work - An employee of the Company is said to be ‘Actively at Work’ if he/she meets both the \\nfollowing conditions: i) he/she is not absent on the grounds of ill health or maternity leave at the time of \\njoining the Scheme and ii) he/she has not have availed any leave on the grounds of ill-health for a continuous \\nperiod of fifteen (15) days or more in the year preceding his/her admission into the Scheme as applicable. \\n(4) Appointee  – means the person named by the Scheme Member and registered with us in accordance with \\nthe Nomination Schedule, who is authorized to receive the Death Benefit under this Policy on the death \\nof the Scheme Member while the Nominee is a minor  \\n(5) Assignee – means the person to whom the rights and benefits under this Policy are transferred by virtue \\nof assignment under section 38 of the Insurance Act, 1938, as amended from time to time \\n(6) Assignment – means a provision wherein the Scheme Member can assign or transfer a Policy in \\naccordance with Section 38 of the Insurance Act, 1938 as amended from time to time  \\n(7) Certificate of Insurance(COI)  -means the certificate issued to  the Scheme Member under this Master \\nPolicy evidencing proof of insurance and containing details regarding the validity period of cover, \\nbenefits and name of Nominee etc.  \\n(8) Company/Group/Master Policyholder - means the Company/Group named in the Policy Schedule as the \\nMaster Policyholder .  \\n(9) Compulsory Participation - Under Compulsory participation it is mandatory that all the \\nemployees/members of the Company/Group are covered under this Master Policy provided they satisfy \\nthe eligibility criteria set out in Part F Clause 5 (Eligibility) of the Master Policy.  \\n(10) Coverage Term  - means the period for which insurance cover is provided to individual Scheme Member \\nat the Entry Date.  \\n(11) Date of Inception   – means the date, as stated in the Policy Schedule, on which the Policy is first issued \\n(12) Death Benefit  - means the amount which is payable on death of Scheme Member in accordance with Part \\nC. \\n(13) Distance Marketing  - includes every activity of solicitation (including lead generation) and sale of \\ninsurance products through the following modes: (i) Voice mode, which includes telephone-calling; (ii) \\nShort Messaging service (SMS); (iii) Electronic mode which includes e-mail, internet and interactive \\ntelevision (DTH); (iv) Physical mode which includes direct postal mail and newspaper & magazine \\ninserts; and, (v) Solicitation through any means of communication other than in person . \\n(14) Effective Date - means the date from which the Scheme shall first commence as set out in the Schedule.  \\n(15) Eligible Person - means, any person who has satisfied the eligibility criteria set out Part F Clause 5 \\n(Eligibility) in the Master Policy.  \\n(16) Entry Date - in relation to a Scheme Member shall mean the actual date on which an Eligible Person is \\nadmitted by the Insurer as a Scheme Member.  \\n(17) Exit Date - means the date on which the insurance cover of the Scheme Member ceases due to occurrence \\nof any of the following events: a) Death of the Scheme Member; b) Master Policy being terminated; c) \\nEnd of Coverage Term; d) Surrender of Master Policy/Certificate of Insurance; e) Free Look Cancellation  \\n(18) Free Look Period  - means the period specified under Part D clause 9 from the receipt of the Policy \\nduring which Master Policyholder/Member can review the terms and conditions of this Policy and where \\nif the Master Policyholder/Member is not agreeable to any of the provisions stated in the Policy, he/ she \\nhas the option to return this Policy.', mimetype='text/plain', start_char_idx=2, end_char_idx=4103, text_template='{metadata_str}\\n\\n{content}', metadata_template='{key}: {value}', metadata_seperator='\\n'), score=2.6411328),\n",
              " NodeWithScore(node=TextNode(id_='5bc35d82-0022-4e3e-a5d2-143b5c61eff5', embedding=None, metadata={'page_label': '7', 'file_name': 'HDFC-Life-Group-Poorna-Suraksha-101N137V02-Policy-Document.pdf', 'file_path': '/content/drive/Othercomputers/My Laptop/AI-ML/EPG - AIML/GEN AI/Vector DB and RAG/HDFC-Life-Group-Poorna-Suraksha-101N137V02-Policy-Document.pdf', 'file_type': 'application/pdf', 'file_size': 1371541, 'creation_date': '2024-08-16', 'last_modified_date': '2023-09-29'}, excluded_embed_metadata_keys=['file_name', 'file_type', 'file_size', 'creation_date', 'last_modified_date', 'last_accessed_date'], excluded_llm_metadata_keys=['file_name', 'file_type', 'file_size', 'creation_date', 'last_modified_date', 'last_accessed_date'], relationships={<NodeRelationship.SOURCE: '1'>: RelatedNodeInfo(node_id='a1b0f475-5a95-4e14-9975-ac76abe2b037', node_type=<ObjectType.DOCUMENT: '4'>, metadata={'page_label': '7', 'file_name': 'HDFC-Life-Group-Poorna-Suraksha-101N137V02-Policy-Document.pdf', 'file_path': '/content/drive/Othercomputers/My Laptop/AI-ML/EPG - AIML/GEN AI/Vector DB and RAG/HDFC-Life-Group-Poorna-Suraksha-101N137V02-Policy-Document.pdf', 'file_type': 'application/pdf', 'file_size': 1371541, 'creation_date': '2024-08-16', 'last_modified_date': '2023-09-29'}, hash='a069eacd6888bd2a64dcac4fbd5e59b425b60b7d1c75d273d30e6a98610da1a2')}, text=\"Page 7 of 31 \\n Part C \\n1. Benefits: \\n \\n(1) Benefits on Death or diagnosis of contingency covered –  \\n \\nPlan Option Events Benefit \\nLife Death In the event of the death of the Scheme Member, the \\nbenefit payable shall be the Sum Assured.  \\nExtra Life Option Death In the event of the death of the Scheme Member, the \\nbenefit payable shall be the Sum Assured. \\nAccidental Death In event of the Scheme Member’s death due to \\nAccident, an additional death benefit equal to the Sum \\nAssured will be payable. \\nThis is in addition to the death benefit mentioned \\nabove  \\nAccelerated Critical Illness \\nOption \\n Death In the event of the death of the Scheme Member, the \\nbenefit payable shall be the Sum Assured. \\nDiagnosis of a \\nCritical Illness In the event of Scheme Member being diagnosed with \\nany of the covered Critical Illnesses during the Policy \\nTerm, the benefit payable shall be the Sum Assured \\nand the policy will terminate. \\n \\na. The Policy Term, Sum Assured, Cover option, and Mode of Premium Payment will be chosen by Scheme \\nMember and these may vary from one Scheme Member to another. \\nb. The Certificate of Insurance issued to a Scheme Member will set out the benefit payable in respect of that \\nScheme Member during the Coverage Term. \\nc. The benefits specified in the Certificate of Insurance are payable provided the Scheme Member’s death or \\nAccidental Death has occurred during the Coverage Term of the Scheme Member or in case of diagnosis of any \\none of the Critical Illnesses or undergoing any of the covered surgeries during the coverage term, subject to \\nMaster Policy being in force and all due Premiums, Taxes and any Other Levies been paid and subject to any \\nrestrictions or qualifications referred to in these Clauses. \\nd. If Accelerated Critical Illness Option is chosen, in the event of the Scheme Member being diagnosed on first \\noccurrence of any of the Critical Illness or undergoing any of the covered surgeries listed below during the \\ncoverage term, the Accelerated Critical Illness Benefit shall be payable under the Master Policy. After payment \\nof the Accelerated Critical Illness Benefit, the coverage of the Scheme Member shall cease and all benefits shall \\nexpire. \\ne. The covered Critical Illnesses under the Accelerated Critical Illness option are listed herein below and defined \\nunder Annexure IV of this Master Policy: \\nList of covered Critical Illnesses and surgeries \\n1. Myocardial Infarction \\n(First Heart Attack of \\nspecific severity) 2. Open Heart \\nReplacement or \\nRepair of Heart \\nValves 3. Cancer of \\nSpecified \\nSeverity 4. Kidney failure requiring \\nregular dialysis \\n5. Stroke resulting in \\npermanent symptoms  6. Alzheimer's \\nDisease 7. Apallic \\nSyndrome 8. Coma of specified severity \\n9. End Stage Liver \\nFailure  10. End Stage Lung \\nFailure  11. Loss of \\nIndependent \\nExistence 12. Blindness  \\n13. Third Degree Burns  14. Major Head \\nTrauma 15. Parkinson's \\nDisease  16. Permanent paralysis of limbs  \\n17. Multiple Sclerosis \\nwith persisting \\nsymptoms  18. Motor Neuron \\nDisease with \\npermanent \\nsymptoms  19. Benign Brain \\nTumour  20. Major Organ Transplant (as \\nrecipient)\", mimetype='text/plain', start_char_idx=2, end_char_idx=3132, text_template='{metadata_str}\\n\\n{content}', metadata_template='{key}: {value}', metadata_seperator='\\n'), score=2.4775283)]"
            ]
          },
          "metadata": {},
          "execution_count": 16
        }
      ]
    },
    {
      "cell_type": "code",
      "source": [
        "len(response.source_nodes)"
      ],
      "metadata": {
        "id": "HCvFFE32qaYd",
        "colab": {
          "base_uri": "https://localhost:8080/"
        },
        "outputId": "55002261-9a11-42b9-ef76-96c877378f9d"
      },
      "execution_count": 17,
      "outputs": [
        {
          "output_type": "execute_result",
          "data": {
            "text/plain": [
              "3"
            ]
          },
          "metadata": {},
          "execution_count": 17
        }
      ]
    },
    {
      "cell_type": "code",
      "source": [
        "print(response.source_nodes[0].node.metadata['file_name'])\n",
        "print(response.source_nodes[0].node.metadata['page_label'])"
      ],
      "metadata": {
        "id": "_4sM704MqacE",
        "colab": {
          "base_uri": "https://localhost:8080/"
        },
        "outputId": "acb76e1a-9e71-42c0-a7e6-bc71cf18f8f2"
      },
      "execution_count": 18,
      "outputs": [
        {
          "output_type": "stream",
          "name": "stdout",
          "text": [
            "HDFC-Life-Group-Poorna-Suraksha-101N137V02-Policy-Document.pdf\n",
            "15\n"
          ]
        }
      ]
    },
    {
      "cell_type": "code",
      "source": [
        "# Extract the score\n",
        "print(response.source_nodes[0].score)"
      ],
      "metadata": {
        "id": "_2f31cIgqadc",
        "colab": {
          "base_uri": "https://localhost:8080/"
        },
        "outputId": "03d9eb57-e68e-495b-f45b-36e21626d5d2"
      },
      "execution_count": 19,
      "outputs": [
        {
          "output_type": "stream",
          "name": "stdout",
          "text": [
            "4.735873\n"
          ]
        }
      ]
    },
    {
      "cell_type": "code",
      "source": [
        "# Response Node Text\n",
        "response.source_nodes[0].node.text"
      ],
      "metadata": {
        "id": "_EhOe2TQqags",
        "colab": {
          "base_uri": "https://localhost:8080/",
          "height": 139
        },
        "outputId": "c187f418-5844-4b5a-8eb3-066e3cab74e2"
      },
      "execution_count": 20,
      "outputs": [
        {
          "output_type": "execute_result",
          "data": {
            "text/plain": [
              "'Page 15 of 31 \\n  \\nNote: For the purpose of waiting period, Date of commencement or inception of coverage for a benefit option \\nshall mean the date from which the member is covered under that benefit option. \\n \\niv. Accidental Death Benefit Exclusions: \\n1. No Accidental Death Benefit will be payable if the death of the Scheme Members occurs after 180 days \\nfrom the date of Accident. \\nSpecific Exclusions for this benefit are listed below \\nWe will not pay Accidental Death Benefit, if Accidental Death is caused from or due to  any of the \\nfollowing:  \\n\\uf0b7 Intentionally self-inflicted injury or suicide while sane or insane \\n\\uf0b7 Alcohol or Solvent abuse or taking of Drugs, narcotics or psychotropic substances unless taken in \\naccordance with the lawful directions and prescription of a registered medical practitioner. \\n\\uf0b7 Engaging in or taking part in professional sport(s) or any hazardous pursuits, power boat racing, sky \\ndiving, para gliding, parachuting, scuba diving, skydo riding, winter sports, sky jumping, ice hockey, \\nice speedway, ballooning, hand gliding, river rafting / bugging, black water rafting, yachting / \\nboating outside coastal waters, motor rallying, power lifting, quad biking, rodeo and roller hockey. \\n\\uf0b7 War, invasion, hostilities (whether war is declared or not), civil war, rebellion, revolution or taking \\npart in a riot or civil commotion. \\n\\uf0b7 Taking part in any flying activity, other than as a passenger in a commercially licensed aircraft. \\n\\uf0b7 Participation by the life assured in a criminal or unlawful act. \\n \\n \\n2. Claims Procedure: \\n(1) The Master Policyholder shall inform the Insurer within 30 days of the death/ illness of a Scheme \\nMember and shall file a claim with the Insurer on behalf of the Nominee of the deceased Scheme \\nMember in the form prescribed by the Insurer and accompanied by all relevant documents as may be \\nrequired by the Insurer, within 90 days from the date of death/ /illness. \\nHowever, the Insurer will condone the delay caused in intimation of claim where the claim is genuine \\nand the delay is proved to be for reasons beyond the control of the claimant. \\n(2) Subject to Part C Clause 1 sub-clause (1)(n), the Insurer shall pay the Claim amount in relation to the \\nDeath Benefit to the Nominee of the deceased Scheme Member in Single Life cases and to the \\nsurviving life in the Joint Life cases, who shall give a valid discharge/receipt for the same. If the \\nbenefit is in the form of an acceleration of the death benefit and the Scheme Member is alive, then the \\nbenefit shall be payable to the Scheme Member. \\n(3) The documents required for processing a claim are: \\nBasic documentation if death is due to Natural Cause: \\na. Completed claim form, (including NEFT details and bank account proof as specified in the claim \\nform); \\nb. Original Policy; \\nc. Original or copy Death Certificate issued by Municipal Authority/ Gram Panchayat / Tehsildar \\n(attested by issuing authority);  \\nd. Claimant’s identity and residence proof. \\ne. Certificate of Insurance as issued to the Scheme Member \\n \\nBasic Documentation if death is due to un-natural causes: \\na. Completed claim form, (including NEFT details and bank account proof as specified in the claim \\nform); \\na. Original Policy; \\nb. Original or copy Death Certificate issued by Municipal Authority/ Gram Panchayat / Tehsildar \\n(attested by issuing authority);  \\nc. Claimant’s identity and residence proof. \\nd. Certificate of Insurance as issued to the Scheme Member \\ne. Original or copy of First Information Report, Police Panchnama report attested by Police \\nauthorities; and  \\nf. Original or copy of Post mortem report attested by Hospital authority. \\n \\nNote: Depending on the circumstances of the death, further documents may be called for as we deem \\nfit. \\n. \\nCritical Illness Benefit Claim:'"
            ],
            "application/vnd.google.colaboratory.intrinsic+json": {
              "type": "string"
            }
          },
          "metadata": {},
          "execution_count": 20
        }
      ]
    },
    {
      "cell_type": "code",
      "source": [
        "print(response.source_nodes[0].node.metadata['file_name'] + \" Page No \" + response.source_nodes[0].node.metadata['page_label'])\n"
      ],
      "metadata": {
        "id": "xaIy_QNNqajD",
        "colab": {
          "base_uri": "https://localhost:8080/"
        },
        "outputId": "feea1f41-f308-4731-dddf-7a4a9523e744"
      },
      "execution_count": 21,
      "outputs": [
        {
          "output_type": "stream",
          "name": "stdout",
          "text": [
            "HDFC-Life-Group-Poorna-Suraksha-101N137V02-Policy-Document.pdf Page No 15\n"
          ]
        }
      ]
    },
    {
      "cell_type": "markdown",
      "source": [
        "OPTIONAL PART : Generating Question-Context Pairs:\n",
        "\n",
        "queries = generate_question_context_pairs(\n",
        "    nodes,\n",
        "    llm=gpt35,\n",
        "    num_questions_per_chunk=1\n",
        ")\n",
        "\n",
        "query_set = list(queries.queries.values())"
      ],
      "metadata": {
        "id": "upd9Tu7ssJ-B"
      }
    },
    {
      "cell_type": "markdown",
      "source": [
        "Step 8. Generating Evaluators"
      ],
      "metadata": {
        "id": "NsGgx0srrn8C"
      }
    },
    {
      "cell_type": "code",
      "source": [
        "# Pass the LLM directly to the evaluator (or use any other necessary args)\n",
        "faithfulness_gpt4 = FaithfulnessEvaluator(llm=gpt4_llm)\n",
        "relevancy_gpt4 = RelevancyEvaluator(llm=gpt4_llm)\n",
        "correctness_gpt4 = CorrectnessEvaluator(llm=gpt4_llm)"
      ],
      "metadata": {
        "id": "t6yaUge6rmyi"
      },
      "execution_count": 22,
      "outputs": []
    },
    {
      "cell_type": "markdown",
      "source": [
        "Step 9: Creating response pipeline\n"
      ],
      "metadata": {
        "id": "kTuZVysdCgsk"
      }
    },
    {
      "cell_type": "code",
      "source": [
        "import openai\n",
        "import diskcache as dc\n",
        "\n",
        "#Using disk cache\n",
        "cache = dc.Cache('./gpt_cache')"
      ],
      "metadata": {
        "id": "AtobUzw8Io_o"
      },
      "execution_count": 23,
      "outputs": []
    },
    {
      "cell_type": "code",
      "source": [
        "# Query response function\n",
        "def query_response(user_input):\n",
        "    final_response=\"\"\n",
        "    cache_response=None\n",
        "    cache_response=cache.get(user_input)\n",
        "    if cache_response is None:\n",
        "      response=query_engine.query(user_input)\n",
        "      faithfulness_result = faithfulness_gpt4.evaluate_response(response=response)\n",
        "      relevancy_result = relevancy_gpt4.evaluate_response(query=user_input, response=response)\n",
        "      correctness_result = correctness_gpt4.evaluate_response(\n",
        "        query=user_input,\n",
        "        response=response,\n",
        "        )\n",
        "      print(\"Answer from LLM:\")\n",
        "      file_name = response.source_nodes[0].node.metadata['file_name'] + \" Page No \" + response.source_nodes[0].node.metadata['page_label'] + \"\\n\"\n",
        "      response = response.response + '\\nSimilarity score is :' + str(response.source_nodes[0].score) + \"\\n\" + f\"Faithfulness Score: {faithfulness_result.score}\\n\" + f\"Relevancy Score: {relevancy_result.score}\\n\" + f\"Correctness Score: {correctness_result.score}\\n\" + '\\nCheck further for document references at ' + file_name\n",
        "      cache.set(user_input, response)\n",
        "      final_response=response\n",
        "    else:\n",
        "      print(\"Answer  from cache:\")\n",
        "      final_response=cache_response\n",
        "\n",
        "    return final_response"
      ],
      "metadata": {
        "id": "QLCC3GH6brod"
      },
      "execution_count": 24,
      "outputs": []
    },
    {
      "cell_type": "code",
      "source": [
        "#Dynamic question answering function.\n",
        "def initialize_conv():\n",
        "  print(\"Feel free to ask questions related to insurance policies. Enter exit once you are done!\")\n",
        "  while True:\n",
        "    user_input=input()\n",
        "    if user_input.lower() == \"exit\":\n",
        "      print(\"Exiting the program. Bye!!!\")\n",
        "      break\n",
        "    else:\n",
        "      response=query_response(user_input)\n",
        "      print(response)"
      ],
      "metadata": {
        "id": "JvYh0qCDqamU"
      },
      "execution_count": 25,
      "outputs": []
    },
    {
      "cell_type": "code",
      "source": [
        "initialize_conv()"
      ],
      "metadata": {
        "id": "FcyCsaeOqark",
        "colab": {
          "base_uri": "https://localhost:8080/"
        },
        "outputId": "592c03e7-96c9-486d-b119-25bc656168bc"
      },
      "execution_count": 26,
      "outputs": [
        {
          "output_type": "stream",
          "name": "stdout",
          "text": [
            "Feel free to ask questions related to insurance policies. Enter exit once you are done!\n",
            "What does the document talk about?\n",
            "Answer from LLM:\n",
            "The document appears to be a policy document for HDFC Life insurance plans, specifically mentioning details about death claims, maturity claims, requirements for processing claims, grace period for premium payments, suicide exclusion, force majeure events, issuance of duplicate policies, and governing laws and jurisdiction. It also mentions the need for various documents such as death certificates, policy documents, identification proofs, medical treatment records, bank account details, FIR reports, post mortem reports, and more for processing claims. Additionally, it outlines the risks associated with unit-linked life insurance products and the responsibilities of the policyholder in complying with taxation laws. The document emphasizes the importance of communication for address changes and states that the entire contract is subject to the terms and conditions mentioned in the policy document.\n",
            "Similarity score is :-7.3570004\n",
            "Faithfulness Score: 1.0\n",
            "Relevancy Score: 1.0\n",
            "Correctness Score: 5.0\n",
            "\n",
            "Check further for document references at HDFC-Life-Sampoorna-Jeevan-101N158V04-Policy-Document (1).pdf Page No 19\n",
            "\n",
            "exit\n",
            "Exiting the program. Bye!!!\n"
          ]
        }
      ]
    },
    {
      "cell_type": "markdown",
      "source": [
        "Step 10: Building a test pipeline"
      ],
      "metadata": {
        "id": "XjuZYCk_HfCT"
      }
    },
    {
      "cell_type": "code",
      "source": [
        "#Set of questions to be passed to the testing_pipeline.\n",
        "questions=[\"What are the different types of surgeries listed in the context information, and can you provide an example of each type of surgery?\",\n",
        "           \"What are the benefits payable under the Extra Life Option in the event of the Scheme Member's death?\",\n",
        "           \"What are the options available to the policyholder if they are not agreeable to any of the terms and conditions stated in the Policy within the free-look period?\"]\n",
        "\n",
        "#Extra Set of questions.\n",
        "# questions=[\"What are the specific types of complaints or disputes that the Ombudsman can receive and consider according to the document provided?\",\n",
        "#            \"What are the different options available for the Guaranteed Benefit Option in the HDFC Life Sampoorna Jeevan Plan?\",\n",
        "#            \"What are the options available to the policyholder in case of discontinuance of the policy after the lock-in period for other than single premium policies?\",\n",
        "#            \"What is the definition of \"Grace Period\" in the terms and conditions of the HDFC Life Smart Pension Plan?\",\n",
        "#            \"Explain the significance of nomination in the insurance policy as per the provisions of the Insurance Act, 1938.\",\n",
        "#            \"What are the steps involved in making a complaint to the Insurance Ombudsman according to the information provided in the document?\",\n",
        "#            \"What are the specific types of complaints or disputes that the Ombudsman can receive and consider according to the document provided?\",\n",
        "#            \"How does the Systematic Transfer Strategy work in HDFC Life Smart Pension Plan, and what are the conditions for opting out of this strategy?\"]"
      ],
      "metadata": {
        "id": "OAid9mqaqatd"
      },
      "execution_count": 27,
      "outputs": []
    },
    {
      "cell_type": "code",
      "source": [
        "import pandas as pd\n",
        "pattern = r'Faithfulness Score:\\s*(\\d+\\.\\d+)|Relevancy Score:\\s*(\\d+\\.\\d+)|Correctness Score:\\s*(\\d+\\.\\d+)'\n",
        "\n",
        "\n",
        "def testing_pipeline(questions):\n",
        "  test_feedback=[]\n",
        "  for i in questions:\n",
        "    print(f\"Question : {i}\")\n",
        "    response = query_response(i)\n",
        "    # Find all matches\n",
        "    matches = re.findall(pattern, response)\n",
        "    faithfulness, relevancy, correctness = [float(next(filter(None, match))) for match in matches]\n",
        "    print(f'Answer : {response}')\n",
        "    print(\"\\nPlease provide your feedback on the response provided by bot\")\n",
        "    user_input=input()\n",
        "    page=response.split()[-1]\n",
        "    test_feedback.append((i,response,page,user_input,faithfulness,relevancy,correctness))\n",
        "\n",
        "  feedback_df=pd.DataFrame(test_feedback,columns=[\"Question\",\"Response\",\"Page\",\"Good/Bad\",\"Faithfulness\",\"Relevancy\",\"Correctness\"])\n",
        "  return feedback_df"
      ],
      "metadata": {
        "id": "75xx3D7uqauz"
      },
      "execution_count": 28,
      "outputs": []
    },
    {
      "cell_type": "code",
      "source": [
        "testing_pipeline(questions)"
      ],
      "metadata": {
        "id": "E1N_iXu-qawn",
        "colab": {
          "base_uri": "https://localhost:8080/",
          "height": 1000
        },
        "outputId": "d2cc2a24-0758-4e07-98d3-bc43fb558b28"
      },
      "execution_count": 32,
      "outputs": [
        {
          "name": "stdout",
          "output_type": "stream",
          "text": [
            "Question : What are the different types of surgeries listed in the context information, and can you provide an example of each type of surgery?\n",
            "Answer  from cache:\n",
            "Answer : The context information provides a list of surgeries divided into two categories based on severity. \n",
            "\n",
            "Category 1 - Surgeries (100% of the Sum Insured Payable):\n",
            "1. Surgery of the Aorta\n",
            "2. CABG (Coronary Artery Bypass Graft) via open thoracotomy\n",
            "3. Prosthetic replacement of Heart Valve\n",
            "4. Heart/Heart-Lung Transplant\n",
            "5. Lung Transplantation\n",
            "6. Liver Transplantation\n",
            "7. Renal transplant (recipient)\n",
            "8. Proximal Aortic Aneurysmal repair by coronary artery transplantation\n",
            "9. Bone Marrow transplant (as recipient)\n",
            "10. Repair of Cerebral or Spinal Arterio-Venous Malformations or aneurysms\n",
            "11. Craniotomy for malignant Cerebral tumors\n",
            "12. Pineal Gland excision\n",
            "13. Pituitary Gland excision\n",
            "14. Excision of esophagus and stomach\n",
            "15. Abdominal-Perineal Pull Through Resection of rectum with Colo-Anal Anastomosis\n",
            "\n",
            "Category 2 - Surgeries (60% of the Sum Insured Payable):\n",
            "16. Pericardiotomy / Pericardectomy\n",
            "17.\n",
            "Similarity score is :-3.5890374\n",
            "Faithfulness Score: 1.0\n",
            "Relevancy Score: 1.0\n",
            "Correctness Score: 2.5\n",
            "\n",
            "Check further for document references at HDFC-Life-Group-Poorna-Suraksha-101N137V02-Policy-Document.pdf Page No 27\n",
            "\n",
            "\n",
            "Please provide your feedback on the response provided by bot\n",
            "Good\n",
            "Question : What are the benefits payable under the Extra Life Option in the event of the Scheme Member's death?\n",
            "Answer  from cache:\n",
            "Answer : Under the Extra Life Option, in the event of the Scheme Member's death, the benefit payable shall be the Sum Assured. Additionally, if the Scheme Member's death is due to an accident, an additional death benefit equal to the Sum Assured will be payable. This is in addition to the death benefit mentioned above.\n",
            "Similarity score is :6.9279485\n",
            "Faithfulness Score: 1.0\n",
            "Relevancy Score: 1.0\n",
            "Correctness Score: 4.5\n",
            "\n",
            "Check further for document references at HDFC-Life-Group-Poorna-Suraksha-101N137V02-Policy-Document.pdf Page No 7\n",
            "\n",
            "\n",
            "Please provide your feedback on the response provided by bot\n",
            "Good\n",
            "Question : What are the options available to the policyholder if they are not agreeable to any of the terms and conditions stated in the Policy within the free-look period?\n",
            "Answer  from cache:\n",
            "Answer : If the policyholder is not agreeable to any of the terms and conditions stated in the Policy within the free-look period, they have the option to return the Policy to the Company for cancellation. They must state the reasons for their objections. Upon such Free-Look cancellation, the Company shall return the Premium paid subject to deduction of a proportionate risk Premium for the period of insurance cover, as well as any expenses incurred on medical examination (if any) and stamp duty charges. All Benefits and rights under the Policy shall immediately stand terminated on the cancellation of the Policy.\n",
            "Similarity score is :5.5586877\n",
            "Faithfulness Score: 1.0\n",
            "Relevancy Score: 1.0\n",
            "Correctness Score: 5.0\n",
            "\n",
            "Check further for document references at HDFC-Life-Sampoorna-Jeevan-101N158V04-Policy-Document (1).pdf Page No 11\n",
            "\n",
            "\n",
            "Please provide your feedback on the response provided by bot\n",
            "Good\n"
          ]
        },
        {
          "output_type": "execute_result",
          "data": {
            "text/plain": [
              "                                            Question  \\\n",
              "0  What are the different types of surgeries list...   \n",
              "1  What are the benefits payable under the Extra ...   \n",
              "2  What are the options available to the policyho...   \n",
              "\n",
              "                                            Response Page Good/Bad  \\\n",
              "0  The context information provides a list of sur...   27     Good   \n",
              "1  Under the Extra Life Option, in the event of t...    7     Good   \n",
              "2  If the policyholder is not agreeable to any of...   11     Good   \n",
              "\n",
              "   Faithfulness  Relevancy  Correctness  \n",
              "0           1.0        1.0          2.5  \n",
              "1           1.0        1.0          4.5  \n",
              "2           1.0        1.0          5.0  "
            ],
            "text/html": [
              "\n",
              "  <div id=\"df-9eec64f8-3589-44b8-87c0-717019048ac2\" class=\"colab-df-container\">\n",
              "    <div>\n",
              "<style scoped>\n",
              "    .dataframe tbody tr th:only-of-type {\n",
              "        vertical-align: middle;\n",
              "    }\n",
              "\n",
              "    .dataframe tbody tr th {\n",
              "        vertical-align: top;\n",
              "    }\n",
              "\n",
              "    .dataframe thead th {\n",
              "        text-align: right;\n",
              "    }\n",
              "</style>\n",
              "<table border=\"1\" class=\"dataframe\">\n",
              "  <thead>\n",
              "    <tr style=\"text-align: right;\">\n",
              "      <th></th>\n",
              "      <th>Question</th>\n",
              "      <th>Response</th>\n",
              "      <th>Page</th>\n",
              "      <th>Good/Bad</th>\n",
              "      <th>Faithfulness</th>\n",
              "      <th>Relevancy</th>\n",
              "      <th>Correctness</th>\n",
              "    </tr>\n",
              "  </thead>\n",
              "  <tbody>\n",
              "    <tr>\n",
              "      <th>0</th>\n",
              "      <td>What are the different types of surgeries list...</td>\n",
              "      <td>The context information provides a list of sur...</td>\n",
              "      <td>27</td>\n",
              "      <td>Good</td>\n",
              "      <td>1.0</td>\n",
              "      <td>1.0</td>\n",
              "      <td>2.5</td>\n",
              "    </tr>\n",
              "    <tr>\n",
              "      <th>1</th>\n",
              "      <td>What are the benefits payable under the Extra ...</td>\n",
              "      <td>Under the Extra Life Option, in the event of t...</td>\n",
              "      <td>7</td>\n",
              "      <td>Good</td>\n",
              "      <td>1.0</td>\n",
              "      <td>1.0</td>\n",
              "      <td>4.5</td>\n",
              "    </tr>\n",
              "    <tr>\n",
              "      <th>2</th>\n",
              "      <td>What are the options available to the policyho...</td>\n",
              "      <td>If the policyholder is not agreeable to any of...</td>\n",
              "      <td>11</td>\n",
              "      <td>Good</td>\n",
              "      <td>1.0</td>\n",
              "      <td>1.0</td>\n",
              "      <td>5.0</td>\n",
              "    </tr>\n",
              "  </tbody>\n",
              "</table>\n",
              "</div>\n",
              "    <div class=\"colab-df-buttons\">\n",
              "\n",
              "  <div class=\"colab-df-container\">\n",
              "    <button class=\"colab-df-convert\" onclick=\"convertToInteractive('df-9eec64f8-3589-44b8-87c0-717019048ac2')\"\n",
              "            title=\"Convert this dataframe to an interactive table.\"\n",
              "            style=\"display:none;\">\n",
              "\n",
              "  <svg xmlns=\"http://www.w3.org/2000/svg\" height=\"24px\" viewBox=\"0 -960 960 960\">\n",
              "    <path d=\"M120-120v-720h720v720H120Zm60-500h600v-160H180v160Zm220 220h160v-160H400v160Zm0 220h160v-160H400v160ZM180-400h160v-160H180v160Zm440 0h160v-160H620v160ZM180-180h160v-160H180v160Zm440 0h160v-160H620v160Z\"/>\n",
              "  </svg>\n",
              "    </button>\n",
              "\n",
              "  <style>\n",
              "    .colab-df-container {\n",
              "      display:flex;\n",
              "      gap: 12px;\n",
              "    }\n",
              "\n",
              "    .colab-df-convert {\n",
              "      background-color: #E8F0FE;\n",
              "      border: none;\n",
              "      border-radius: 50%;\n",
              "      cursor: pointer;\n",
              "      display: none;\n",
              "      fill: #1967D2;\n",
              "      height: 32px;\n",
              "      padding: 0 0 0 0;\n",
              "      width: 32px;\n",
              "    }\n",
              "\n",
              "    .colab-df-convert:hover {\n",
              "      background-color: #E2EBFA;\n",
              "      box-shadow: 0px 1px 2px rgba(60, 64, 67, 0.3), 0px 1px 3px 1px rgba(60, 64, 67, 0.15);\n",
              "      fill: #174EA6;\n",
              "    }\n",
              "\n",
              "    .colab-df-buttons div {\n",
              "      margin-bottom: 4px;\n",
              "    }\n",
              "\n",
              "    [theme=dark] .colab-df-convert {\n",
              "      background-color: #3B4455;\n",
              "      fill: #D2E3FC;\n",
              "    }\n",
              "\n",
              "    [theme=dark] .colab-df-convert:hover {\n",
              "      background-color: #434B5C;\n",
              "      box-shadow: 0px 1px 3px 1px rgba(0, 0, 0, 0.15);\n",
              "      filter: drop-shadow(0px 1px 2px rgba(0, 0, 0, 0.3));\n",
              "      fill: #FFFFFF;\n",
              "    }\n",
              "  </style>\n",
              "\n",
              "    <script>\n",
              "      const buttonEl =\n",
              "        document.querySelector('#df-9eec64f8-3589-44b8-87c0-717019048ac2 button.colab-df-convert');\n",
              "      buttonEl.style.display =\n",
              "        google.colab.kernel.accessAllowed ? 'block' : 'none';\n",
              "\n",
              "      async function convertToInteractive(key) {\n",
              "        const element = document.querySelector('#df-9eec64f8-3589-44b8-87c0-717019048ac2');\n",
              "        const dataTable =\n",
              "          await google.colab.kernel.invokeFunction('convertToInteractive',\n",
              "                                                    [key], {});\n",
              "        if (!dataTable) return;\n",
              "\n",
              "        const docLinkHtml = 'Like what you see? Visit the ' +\n",
              "          '<a target=\"_blank\" href=https://colab.research.google.com/notebooks/data_table.ipynb>data table notebook</a>'\n",
              "          + ' to learn more about interactive tables.';\n",
              "        element.innerHTML = '';\n",
              "        dataTable['output_type'] = 'display_data';\n",
              "        await google.colab.output.renderOutput(dataTable, element);\n",
              "        const docLink = document.createElement('div');\n",
              "        docLink.innerHTML = docLinkHtml;\n",
              "        element.appendChild(docLink);\n",
              "      }\n",
              "    </script>\n",
              "  </div>\n",
              "\n",
              "\n",
              "<div id=\"df-31e12372-9298-471c-912e-f430704256cf\">\n",
              "  <button class=\"colab-df-quickchart\" onclick=\"quickchart('df-31e12372-9298-471c-912e-f430704256cf')\"\n",
              "            title=\"Suggest charts\"\n",
              "            style=\"display:none;\">\n",
              "\n",
              "<svg xmlns=\"http://www.w3.org/2000/svg\" height=\"24px\"viewBox=\"0 0 24 24\"\n",
              "     width=\"24px\">\n",
              "    <g>\n",
              "        <path d=\"M19 3H5c-1.1 0-2 .9-2 2v14c0 1.1.9 2 2 2h14c1.1 0 2-.9 2-2V5c0-1.1-.9-2-2-2zM9 17H7v-7h2v7zm4 0h-2V7h2v10zm4 0h-2v-4h2v4z\"/>\n",
              "    </g>\n",
              "</svg>\n",
              "  </button>\n",
              "\n",
              "<style>\n",
              "  .colab-df-quickchart {\n",
              "      --bg-color: #E8F0FE;\n",
              "      --fill-color: #1967D2;\n",
              "      --hover-bg-color: #E2EBFA;\n",
              "      --hover-fill-color: #174EA6;\n",
              "      --disabled-fill-color: #AAA;\n",
              "      --disabled-bg-color: #DDD;\n",
              "  }\n",
              "\n",
              "  [theme=dark] .colab-df-quickchart {\n",
              "      --bg-color: #3B4455;\n",
              "      --fill-color: #D2E3FC;\n",
              "      --hover-bg-color: #434B5C;\n",
              "      --hover-fill-color: #FFFFFF;\n",
              "      --disabled-bg-color: #3B4455;\n",
              "      --disabled-fill-color: #666;\n",
              "  }\n",
              "\n",
              "  .colab-df-quickchart {\n",
              "    background-color: var(--bg-color);\n",
              "    border: none;\n",
              "    border-radius: 50%;\n",
              "    cursor: pointer;\n",
              "    display: none;\n",
              "    fill: var(--fill-color);\n",
              "    height: 32px;\n",
              "    padding: 0;\n",
              "    width: 32px;\n",
              "  }\n",
              "\n",
              "  .colab-df-quickchart:hover {\n",
              "    background-color: var(--hover-bg-color);\n",
              "    box-shadow: 0 1px 2px rgba(60, 64, 67, 0.3), 0 1px 3px 1px rgba(60, 64, 67, 0.15);\n",
              "    fill: var(--button-hover-fill-color);\n",
              "  }\n",
              "\n",
              "  .colab-df-quickchart-complete:disabled,\n",
              "  .colab-df-quickchart-complete:disabled:hover {\n",
              "    background-color: var(--disabled-bg-color);\n",
              "    fill: var(--disabled-fill-color);\n",
              "    box-shadow: none;\n",
              "  }\n",
              "\n",
              "  .colab-df-spinner {\n",
              "    border: 2px solid var(--fill-color);\n",
              "    border-color: transparent;\n",
              "    border-bottom-color: var(--fill-color);\n",
              "    animation:\n",
              "      spin 1s steps(1) infinite;\n",
              "  }\n",
              "\n",
              "  @keyframes spin {\n",
              "    0% {\n",
              "      border-color: transparent;\n",
              "      border-bottom-color: var(--fill-color);\n",
              "      border-left-color: var(--fill-color);\n",
              "    }\n",
              "    20% {\n",
              "      border-color: transparent;\n",
              "      border-left-color: var(--fill-color);\n",
              "      border-top-color: var(--fill-color);\n",
              "    }\n",
              "    30% {\n",
              "      border-color: transparent;\n",
              "      border-left-color: var(--fill-color);\n",
              "      border-top-color: var(--fill-color);\n",
              "      border-right-color: var(--fill-color);\n",
              "    }\n",
              "    40% {\n",
              "      border-color: transparent;\n",
              "      border-right-color: var(--fill-color);\n",
              "      border-top-color: var(--fill-color);\n",
              "    }\n",
              "    60% {\n",
              "      border-color: transparent;\n",
              "      border-right-color: var(--fill-color);\n",
              "    }\n",
              "    80% {\n",
              "      border-color: transparent;\n",
              "      border-right-color: var(--fill-color);\n",
              "      border-bottom-color: var(--fill-color);\n",
              "    }\n",
              "    90% {\n",
              "      border-color: transparent;\n",
              "      border-bottom-color: var(--fill-color);\n",
              "    }\n",
              "  }\n",
              "</style>\n",
              "\n",
              "  <script>\n",
              "    async function quickchart(key) {\n",
              "      const quickchartButtonEl =\n",
              "        document.querySelector('#' + key + ' button');\n",
              "      quickchartButtonEl.disabled = true;  // To prevent multiple clicks.\n",
              "      quickchartButtonEl.classList.add('colab-df-spinner');\n",
              "      try {\n",
              "        const charts = await google.colab.kernel.invokeFunction(\n",
              "            'suggestCharts', [key], {});\n",
              "      } catch (error) {\n",
              "        console.error('Error during call to suggestCharts:', error);\n",
              "      }\n",
              "      quickchartButtonEl.classList.remove('colab-df-spinner');\n",
              "      quickchartButtonEl.classList.add('colab-df-quickchart-complete');\n",
              "    }\n",
              "    (() => {\n",
              "      let quickchartButtonEl =\n",
              "        document.querySelector('#df-31e12372-9298-471c-912e-f430704256cf button');\n",
              "      quickchartButtonEl.style.display =\n",
              "        google.colab.kernel.accessAllowed ? 'block' : 'none';\n",
              "    })();\n",
              "  </script>\n",
              "</div>\n",
              "\n",
              "    </div>\n",
              "  </div>\n"
            ],
            "application/vnd.google.colaboratory.intrinsic+json": {
              "type": "dataframe",
              "summary": "{\n  \"name\": \"testing_pipeline(questions)\",\n  \"rows\": 3,\n  \"fields\": [\n    {\n      \"column\": \"Question\",\n      \"properties\": {\n        \"dtype\": \"string\",\n        \"num_unique_values\": 3,\n        \"samples\": [\n          \"What are the different types of surgeries listed in the context information, and can you provide an example of each type of surgery?\",\n          \"What are the benefits payable under the Extra Life Option in the event of the Scheme Member's death?\",\n          \"What are the options available to the policyholder if they are not agreeable to any of the terms and conditions stated in the Policy within the free-look period?\"\n        ],\n        \"semantic_type\": \"\",\n        \"description\": \"\"\n      }\n    },\n    {\n      \"column\": \"Response\",\n      \"properties\": {\n        \"dtype\": \"string\",\n        \"num_unique_values\": 3,\n        \"samples\": [\n          \"The context information provides a list of surgeries divided into two categories based on severity. \\n\\nCategory 1 - Surgeries (100% of the Sum Insured Payable):\\n1. Surgery of the Aorta\\n2. CABG (Coronary Artery Bypass Graft) via open thoracotomy\\n3. Prosthetic replacement of Heart Valve\\n4. Heart/Heart-Lung Transplant\\n5. Lung Transplantation\\n6. Liver Transplantation\\n7. Renal transplant (recipient)\\n8. Proximal Aortic Aneurysmal repair by coronary artery transplantation\\n9. Bone Marrow transplant (as recipient)\\n10. Repair of Cerebral or Spinal Arterio-Venous Malformations or aneurysms\\n11. Craniotomy for malignant Cerebral tumors\\n12. Pineal Gland excision\\n13. Pituitary Gland excision\\n14. Excision of esophagus and stomach\\n15. Abdominal-Perineal Pull Through Resection of rectum with Colo-Anal Anastomosis\\n\\nCategory 2 - Surgeries (60% of the Sum Insured Payable):\\n16. Pericardiotomy / Pericardectomy\\n17.\\nSimilarity score is :-3.5890374\\nFaithfulness Score: 1.0\\nRelevancy Score: 1.0\\nCorrectness Score: 2.5\\n\\nCheck further for document references at HDFC-Life-Group-Poorna-Suraksha-101N137V02-Policy-Document.pdf Page No 27\\n\",\n          \"Under the Extra Life Option, in the event of the Scheme Member's death, the benefit payable shall be the Sum Assured. Additionally, if the Scheme Member's death is due to an accident, an additional death benefit equal to the Sum Assured will be payable. This is in addition to the death benefit mentioned above.\\nSimilarity score is :6.9279485\\nFaithfulness Score: 1.0\\nRelevancy Score: 1.0\\nCorrectness Score: 4.5\\n\\nCheck further for document references at HDFC-Life-Group-Poorna-Suraksha-101N137V02-Policy-Document.pdf Page No 7\\n\",\n          \"If the policyholder is not agreeable to any of the terms and conditions stated in the Policy within the free-look period, they have the option to return the Policy to the Company for cancellation. They must state the reasons for their objections. Upon such Free-Look cancellation, the Company shall return the Premium paid subject to deduction of a proportionate risk Premium for the period of insurance cover, as well as any expenses incurred on medical examination (if any) and stamp duty charges. All Benefits and rights under the Policy shall immediately stand terminated on the cancellation of the Policy.\\nSimilarity score is :5.5586877\\nFaithfulness Score: 1.0\\nRelevancy Score: 1.0\\nCorrectness Score: 5.0\\n\\nCheck further for document references at HDFC-Life-Sampoorna-Jeevan-101N158V04-Policy-Document (1).pdf Page No 11\\n\"\n        ],\n        \"semantic_type\": \"\",\n        \"description\": \"\"\n      }\n    },\n    {\n      \"column\": \"Page\",\n      \"properties\": {\n        \"dtype\": \"string\",\n        \"num_unique_values\": 3,\n        \"samples\": [\n          \"27\",\n          \"7\",\n          \"11\"\n        ],\n        \"semantic_type\": \"\",\n        \"description\": \"\"\n      }\n    },\n    {\n      \"column\": \"Good/Bad\",\n      \"properties\": {\n        \"dtype\": \"category\",\n        \"num_unique_values\": 1,\n        \"samples\": [\n          \"Good\"\n        ],\n        \"semantic_type\": \"\",\n        \"description\": \"\"\n      }\n    },\n    {\n      \"column\": \"Faithfulness\",\n      \"properties\": {\n        \"dtype\": \"number\",\n        \"std\": 0.0,\n        \"min\": 1.0,\n        \"max\": 1.0,\n        \"num_unique_values\": 1,\n        \"samples\": [\n          1.0\n        ],\n        \"semantic_type\": \"\",\n        \"description\": \"\"\n      }\n    },\n    {\n      \"column\": \"Relevancy\",\n      \"properties\": {\n        \"dtype\": \"number\",\n        \"std\": 0.0,\n        \"min\": 1.0,\n        \"max\": 1.0,\n        \"num_unique_values\": 1,\n        \"samples\": [\n          1.0\n        ],\n        \"semantic_type\": \"\",\n        \"description\": \"\"\n      }\n    },\n    {\n      \"column\": \"Correctness\",\n      \"properties\": {\n        \"dtype\": \"number\",\n        \"std\": 1.3228756555322954,\n        \"min\": 2.5,\n        \"max\": 5.0,\n        \"num_unique_values\": 3,\n        \"samples\": [\n          2.5\n        ],\n        \"semantic_type\": \"\",\n        \"description\": \"\"\n      }\n    }\n  ]\n}"
            }
          },
          "metadata": {},
          "execution_count": 32
        }
      ]
    },
    {
      "cell_type": "markdown",
      "source": [
        "### **Building a custom promt template**\n"
      ],
      "metadata": {
        "id": "3yb7ATQ78S2Y"
      }
    },
    {
      "cell_type": "code",
      "source": [
        "response=query_engine.query(\"What is the definition of \\\"Grace Period\\\" in the terms and conditions of the HDFC Life Smart Pension Plan?\")\n",
        "response.response"
      ],
      "metadata": {
        "id": "SZ7rZfwVqayF",
        "colab": {
          "base_uri": "https://localhost:8080/",
          "height": 70
        },
        "outputId": "9678e14b-605a-41be-d381-52596df0a0da"
      },
      "execution_count": 30,
      "outputs": [
        {
          "output_type": "execute_result",
          "data": {
            "text/plain": [
              "'In the terms and conditions of the HDFC Life Smart Pension Plan, the \"Grace Period\" is defined as the time granted by the company from the due date for the payment of Premium, without any penalty or late fee. During this period, the Policy is considered to be in force with the risk cover without any interruption, as per the terms and conditions of the Policy. The Grace Period for payment of the Premiums is fifteen days for monthly premium payments and thirty days for all other cases.'"
            ],
            "application/vnd.google.colaboratory.intrinsic+json": {
              "type": "string"
            }
          },
          "metadata": {},
          "execution_count": 30
        }
      ]
    },
    {
      "cell_type": "code",
      "source": [
        "response.source_nodes"
      ],
      "metadata": {
        "id": "PK91p3Vnqa0U",
        "colab": {
          "base_uri": "https://localhost:8080/"
        },
        "outputId": "7c91a25f-e57b-4978-a395-2f892cecd681"
      },
      "execution_count": 31,
      "outputs": [
        {
          "output_type": "execute_result",
          "data": {
            "text/plain": [
              "[NodeWithScore(node=TextNode(id_='8b9bbfa1-d6c4-4c94-a181-bf98b89f97af', embedding=None, metadata={'page_label': '5', 'file_name': 'HDFC-Life-Smart-Pension-Plan-Policy-Document-Online.pdf', 'file_path': '/content/drive/Othercomputers/My Laptop/AI-ML/EPG - AIML/GEN AI/Vector DB and RAG/HDFC-Life-Smart-Pension-Plan-Policy-Document-Online.pdf', 'file_type': 'application/pdf', 'file_size': 983547, 'creation_date': '2024-08-16', 'last_modified_date': '2023-09-29'}, excluded_embed_metadata_keys=['file_name', 'file_type', 'file_size', 'creation_date', 'last_modified_date', 'last_accessed_date'], excluded_llm_metadata_keys=['file_name', 'file_type', 'file_size', 'creation_date', 'last_modified_date', 'last_accessed_date'], relationships={<NodeRelationship.SOURCE: '1'>: RelatedNodeInfo(node_id='328cf4ed-c078-4247-8e87-404ba793f011', node_type=<ObjectType.DOCUMENT: '4'>, metadata={'page_label': '5', 'file_name': 'HDFC-Life-Smart-Pension-Plan-Policy-Document-Online.pdf', 'file_path': '/content/drive/Othercomputers/My Laptop/AI-ML/EPG - AIML/GEN AI/Vector DB and RAG/HDFC-Life-Smart-Pension-Plan-Policy-Document-Online.pdf', 'file_type': 'application/pdf', 'file_size': 983547, 'creation_date': '2024-08-16', 'last_modified_date': '2023-09-29'}, hash='6f55c43d7fd3745faf5a31a0208cec4759e8d5e9d6ba80d2f1395eddf5041ce0')}, text='HDFC  Life Smart Pension Plan 101L164V02  – Terms and Conditions  (Direct & \\nOnline Sales)  \\n(A Unit Linked Non -Participating Individual Pension Plan)   \\n  Page 5 of 37  \\n \\n\\uf0b7 When one or more stock exchanges which provide a basis for valuation of the assets of the fund are closed \\notherwise than for ordinary holidays.  \\n\\uf0b7 When, as a result of political, economic, monetary or any circumstances which are not in the control of the \\ninsurer, the disposal of the assets of the fund would be detrimental to the interests of the continuing \\nPolicyholders.  \\n\\uf0b7 In the event of natural calamities, strikes, war, civil unrest, riots and bandhs.  \\n\\uf0b7 In the event of any Force Majeure or disaster that affects the normal functioning of the Company . \\n \\n15. Fund Value  means the  total value of the units at a point of time in a Segregated Fund i.e. total number of units \\nunder a policy multiplied by the Net Asset Value (NAV) per unit of that  fund. \\n \\n16. Grace Period means the time granted by the Company  from the due date for the payment of Premium, without \\nany penalty or late fee, during which time the Policy is considered to be In force with the risk cover without any \\ninterruption, as per the terms and conditions of the Policy. The Grace Period for payment of the Premiums shall \\nbe: fifteen d ays where the Policyholder pays the premium on a monthly basis and thirty days in all other cases . \\n \\n17. In Force means the status of the Policy being active, all due Premiums have been paid and the Policy is not \\nterminated.  \\n \\n18. Life Assured shall mean the person named as such in the Policy Schedule on whose name this Policy is effected.  \\n \\n19. Lock -in Period  mean s the period of five consecutive completed years from the Date of Commencement of the \\nPolicy , during which period the proceeds of the discontinued policies cannot be paid by the Company to the \\nPolicyholder or to the Life Assured , as the case may be, except in the case of death  of the Life Assured . \\n \\n20. Net Asset Value  (NAV) of a Unit Linked Fund means the price per unit of the underlying Segregated  Fund and \\nshall be calculated as follows : \\n \\nMarket Value of investment held by the fund + Value of Current Assets – Value of Current Liabilities & \\nProvisions, if any  \\n \\n        Number of Units existing on Valuation Date (before creation / redemption of Units ) \\n      \\n21. Nominee /s means the person/(s) named in the Policy Schedule who has/have been nominated by the \\nPolicyholder (who is also the Life Insured in the Policy) in accordance with the Section 39 of the Insurance Act, \\n1938 as amended from time to time to receive the benefits in respect of this Policy.  \\n \\n22. Partial Withdrawal/s  means any part of fund that is encashed / withdrawn by the Policyholder during the Policy \\nTerm. \\n \\n23. Policy  means the contract of insuranc e entered into between the Policy holder and the insurer as evidenced by \\nthe Policy  document.  \\n \\n24. Policy Anniversary refers to the same date each year as the Policy Commencement Date.  \\n \\n25. Policy Commencement Date /Date of Inception of Policy /Date of Commencement of the Policy  means \\nthe date, month, and year the Policy comes into effect and is specified as such in the Policy Schedule.  \\n \\n26. Policy Discontinuance Charges  means a charge that can be levied upon Discontinuance of the Policy . \\n \\n27. Policy Document  means the Policy Schedule, the signed Proposal Form, Annexure and any other attached \\nendorsements or supplements together with all addendums  and includes necessary documents .', mimetype='text/plain', start_char_idx=0, end_char_idx=3548, text_template='{metadata_str}\\n\\n{content}', metadata_template='{key}: {value}', metadata_seperator='\\n'), score=5.5288577),\n",
              " NodeWithScore(node=TextNode(id_='f574073c-d92c-4976-b01d-a15c2020c487', embedding=None, metadata={'page_label': '6', 'file_name': 'HDFC-Life-Smart-Pension-Plan-Policy-Document-Online.pdf', 'file_path': '/content/drive/Othercomputers/My Laptop/AI-ML/EPG - AIML/GEN AI/Vector DB and RAG/HDFC-Life-Smart-Pension-Plan-Policy-Document-Online.pdf', 'file_type': 'application/pdf', 'file_size': 983547, 'creation_date': '2024-08-16', 'last_modified_date': '2023-09-29'}, excluded_embed_metadata_keys=['file_name', 'file_type', 'file_size', 'creation_date', 'last_modified_date', 'last_accessed_date'], excluded_llm_metadata_keys=['file_name', 'file_type', 'file_size', 'creation_date', 'last_modified_date', 'last_accessed_date'], relationships={<NodeRelationship.SOURCE: '1'>: RelatedNodeInfo(node_id='f18b990f-a7e7-476b-a676-acd920adccaa', node_type=<ObjectType.DOCUMENT: '4'>, metadata={'page_label': '6', 'file_name': 'HDFC-Life-Smart-Pension-Plan-Policy-Document-Online.pdf', 'file_path': '/content/drive/Othercomputers/My Laptop/AI-ML/EPG - AIML/GEN AI/Vector DB and RAG/HDFC-Life-Smart-Pension-Plan-Policy-Document-Online.pdf', 'file_type': 'application/pdf', 'file_size': 983547, 'creation_date': '2024-08-16', 'last_modified_date': '2023-09-29'}, hash='8d98597c5a203c8f9cf8db1ab6c902dca894b215c2ec15c9f8da338cfdc1be95')}, text='HDFC  Life Smart Pension Plan 101L164V02  – Terms and Conditions  (Direct & \\nOnline Sales)  \\n(A Unit Linked Non -Participating Individual Pension Plan)   \\n  Page 6 of 37  \\n \\n \\n28. Policyholder  shall mean the owner of this Policy as specified in Policy  Schedule or any person in whose favour \\nthe Policy is assigned as per the terms of this Policy . \\n \\n29. Policy Schedule  means the schedule issued by the Company that sets out the details of this Policy and is attached \\nto and forming part of this Policy .  \\n \\n30. Policy Term  means the tenure of this Policy during which the contractual Benefit s are payable and is specified as \\nsuch in the Policy Schedule .  \\n \\n31. Policy Year means a period of twelve (12) consecutive months starting from the Policy Commencement Date as \\nstated in the Po licy Schedule and ending on the day immediately preceding the following Policy Anniversary date \\nand each subsequent period of twelve (12) consecutive months thereafter . \\n \\n32. Premium  means the amount payable in a Policy Year on the due date of payment as set ou t in the Policy Schedule.  \\n \\n33. Premium Payment Term (PPT)  means the period in years during the Policy Term in which Premiums are \\npayable by the Policyholder under the Policy, as specified in the Policy Schedule.   \\n \\n34. Premium Redirection  means an option which allows the Policyholder to modify the allocation of amount of \\nrenewal Premium to various Segregated Funds, under the Policy. \\n \\n35. Prevailing Annuity Rate  shall mean the annuity rates of the Annuity Plans that are approved by IRDAI as per \\nthe file and use procedure and are attached to Pension products at the time of utilizing Vesting Benefit, Death \\nBenefit or Surrender Benefit  \\n \\n36. Regulations  mean the laws and  Regulations in effect  as amended  from time to time and applicable to this Policy, \\nincluding without limitation the Regulations and directions issued by the Insurance Regulatory and Development \\nAuthority of India ( ‘IRDAI ’) from time to time.  The applicable Regulation shall form a part and parcel of the terms \\nand conditions, and the terms and conditions shall be read along with the Regulation.  \\n \\n37. Relevant Date  means:  \\na. For the purpose of calculation of the Death Benefit  or death due to suicide, the date of receipt of written \\nintimation of death as detailed in Part C,  by the Company, on any Business Day before the Cut -off time;  \\nb. For the purpose of calculation of Vesting  Benefit , the Policy Vesting  Date; \\nc. For the purpose of calculation of the Surrender Benefit s or the Partial Withdrawal Benefit s or in case of \\nSwitches, the date of receipt of written notice by the Company on any Business Day before the cut -off time;  \\nd. The date of determination of the applicabl e charges, in the case of deduction of the applicable charges;  \\ne. The date of receipt of Premiums paid to the Company by instruments/modes other than ECS, Standing \\nInstructions or Auto debit for the purpose of Premium Payments under this Policy on a Business Day before \\nthe Cut off time;  \\nf. The date of realization of Premium by the Company under this Policy , in case of payments made through ECS, \\nStanding Instruction, Auto Debit Instruction etc; \\ng. In case of death due to suicide within 12 months from the Policy Comm encement Date  of the Policy  , the \\nNominee  or beneficiary of the Policy holder shall be entitled to Fund Value, as available on the date of death.  \\n \\nExplanation : Cut-off time for the purpose of this definition means 3 pm on the relevant Business Day. Any request \\nreceived after the Cut -Off time will be processed on the following Business Day.  \\n \\n38. Revival  of the Policy means restoration of the Policy, which was discontinued due to the non -payment of  Premium, \\nby the Company  with all the Benefits mentioned in the Policy Document, upon the receipt of all the Premiums due \\nand other charges, if any, as per the terms and  conditions of the policy, upon being satisfied as to the continued \\ninsurability of the Life As sured or Policyholder on  the basis of the information, d ocuments and reports furnished \\nby the Policyholder, in accordance with Board  approved Underwriting policy.', mimetype='text/plain', start_char_idx=0, end_char_idx=4199, text_template='{metadata_str}\\n\\n{content}', metadata_template='{key}: {value}', metadata_seperator='\\n'), score=3.5416234),\n",
              " NodeWithScore(node=TextNode(id_='7d68cae2-ff1e-48fc-a858-f088e4188ade', embedding=None, metadata={'page_label': '11', 'file_name': 'HDFC-Life-Smart-Pension-Plan-Policy-Document-Online.pdf', 'file_path': '/content/drive/Othercomputers/My Laptop/AI-ML/EPG - AIML/GEN AI/Vector DB and RAG/HDFC-Life-Smart-Pension-Plan-Policy-Document-Online.pdf', 'file_type': 'application/pdf', 'file_size': 983547, 'creation_date': '2024-08-16', 'last_modified_date': '2023-09-29'}, excluded_embed_metadata_keys=['file_name', 'file_type', 'file_size', 'creation_date', 'last_modified_date', 'last_accessed_date'], excluded_llm_metadata_keys=['file_name', 'file_type', 'file_size', 'creation_date', 'last_modified_date', 'last_accessed_date'], relationships={<NodeRelationship.SOURCE: '1'>: RelatedNodeInfo(node_id='fd73ce7d-a656-480f-93c0-16f8f6239394', node_type=<ObjectType.DOCUMENT: '4'>, metadata={'page_label': '11', 'file_name': 'HDFC-Life-Smart-Pension-Plan-Policy-Document-Online.pdf', 'file_path': '/content/drive/Othercomputers/My Laptop/AI-ML/EPG - AIML/GEN AI/Vector DB and RAG/HDFC-Life-Smart-Pension-Plan-Policy-Document-Online.pdf', 'file_type': 'application/pdf', 'file_size': 983547, 'creation_date': '2024-08-16', 'last_modified_date': '2023-09-29'}, hash='2a20408e584388d8cefd2fbf5d9fa6011a7d6d45a66c7d92e32ebaae1eaadde1'), <NodeRelationship.NEXT: '3'>: RelatedNodeInfo(node_id='364a4a6a-6b02-4b7b-9856-44880f054fa2', node_type=<ObjectType.TEXT: '1'>, metadata={}, hash='3ea849f4e6a27b3361b3f0bb7a02acd59508453a832ee030095b723ea4368bfd')}, text='HDFC  Life Smart Pension Plan 101L164V02  – Terms and Conditions  (Direct & \\nOnline Sales)  \\n(A Unit Linked Non -Participating Individual Pension Plan)   \\n  Page 11 of 37  \\n \\nPART D  \\nPOLICY SERVICING RELATED ASPECTS  \\n \\nThe Policyholder shall have a period of 15 days from the date of receipt of the Policy document to review the terms \\nand conditions of this Policy and if the Policyholder disagrees with the said terms and conditions, the Policyholder shall \\nhave the option t o return the Policy to the Company for cancellation, stating the reasons for His objections. Upon such \\nFree-Look cancellation , the Company shall return the Premium paid subject to deduction of a proportionate risk \\nPremium for the period of insurance cover and medical examination fees (if any) in addition to the stamp duty charges. \\nAll Benefits and rights under this Policy shall immediately stand terminated on the cancellation of the Policy.  \\n \\nThe Policyholder shall have a period of 30 days if the Policy is s ourced through Distance Marketing# from the date of \\nreceipt of the Policy document to review the terms and conditions of this Policy and if the Policyholder disagrees with \\nthe said terms and conditions, the Policyholder shall have the option to return the Policy to the Company for \\ncancellation, stating the reasons for His objections. Upon such Free -Look cancellation , the Company shall return the \\nPremium paid subject to deduction of a proportionate risk Premium for the period of insurance cover and medical \\nexamination fees (if any) in addition to the stamp duty charges. All Benefits and rights under this Policy shall \\nimmediately stand terminated on the cancellation of the Policy.  \\n# Distance Marketing includes every activity of solicitation (including lead gen eration) and sale of insurance products \\nthrough the following modes: (i) voice mode, which includes telephone -calling (ii) short messaging service (SMS) (iii) \\nelectronic mode which includes e -mail, internet and interactive television (DTH) (iv) physical mo de which includes \\ndirect postal mail and newspaper and magazine inserts and (v) solicitation through any means of comm unication other \\nthan in person.  \\nD.2 Discontinuance Provisions:  It is the state of the Policy that could arise on account of Surrender of the Policy \\nor non -payment of the contractual premium.  \\n \\nD.2.1. Discontinuance of the Policy during Lock -in Period:  \\n \\nD.2.1.1.)  For other than single P remium policies,  upon expiry of the Grace Period, in case of D iscontinuanc e of \\nPolicy due to non -payment of Premium, the Fund V alue after deducting the applicabl e Discontinuance charges, shall  \\nbe credited to the Discontinued Policy F und and the risk cover shall cease.  \\n \\nD.2.1.2.)  Such discontinuance charges shall not exceed the charges as stipulated in Clause E.6.5.  All such discontinue d \\npolicies shall be provided a Revival P eriod of three years from date of first  unpaid P remium. On such Discontinuance, \\nthe Company shall communicate th e status of the P olicy, within three  months of the first unpaid Premium, to the \\nPolicyholder and provide the option to revive the P olicy within the  Revival P eriod of three years.  \\n \\nD.2.1.2.1.)  In case the P olicyholder opts to revive but does not revive the Policy during the Revival P eriod, the  \\nproceeds of the Discontinued Policy F und shall be paid * to the P olicyholder a t the end of the Revival P eriod or Lock -in \\nPeriod whi chever is later. In respect of Revival P eriod ending a fter Lock -in Period, the P olicy will remain in  Discontinued \\nPolicy Fund  till the end of Revival P eriod.  The Fund management charges of  Discontinued Policy F und will be applicable \\nduring this period and no other charges will be applied.  \\n \\nD.2.1.2.2.)  In case the P olicyholder does not exercis e the option as set out above, the  Policy shall continue without \\nany ris k cover and the P olicy fun d shall remain invested in the D iscontinu ed Policy Fund.', mimetype='text/plain', start_char_idx=0, end_char_idx=3991, text_template='{metadata_str}\\n\\n{content}', metadata_template='{key}: {value}', metadata_seperator='\\n'), score=3.4199133)]"
            ]
          },
          "metadata": {},
          "execution_count": 31
        }
      ]
    },
    {
      "cell_type": "code",
      "source": [
        "reference_0 = \" Check further at \" + response.source_nodes[0].node.metadata['file_name'] + \" Page No \" + response.source_nodes[0].node.metadata['page_label']\n",
        "reference_1 = \" Check further at \" + response.source_nodes[1].node.metadata['file_name'] + \" Page No \" + response.source_nodes[1].node.metadata['page_label']\n",
        "retrieved = response.source_nodes[0].node.text + reference_0 + response.source_nodes[1].node.text + reference_1\n",
        "retrieved"
      ],
      "metadata": {
        "id": "5kHrw46lqa3S",
        "colab": {
          "base_uri": "https://localhost:8080/",
          "height": 139
        },
        "outputId": "572ad2cf-07df-4315-8d4b-1b845be7b1b6"
      },
      "execution_count": 33,
      "outputs": [
        {
          "output_type": "execute_result",
          "data": {
            "text/plain": [
              "'HDFC  Life Smart Pension Plan 101L164V02  – Terms and Conditions  (Direct & \\nOnline Sales)  \\n(A Unit Linked Non -Participating Individual Pension Plan)   \\n  Page 5 of 37  \\n \\n\\uf0b7 When one or more stock exchanges which provide a basis for valuation of the assets of the fund are closed \\notherwise than for ordinary holidays.  \\n\\uf0b7 When, as a result of political, economic, monetary or any circumstances which are not in the control of the \\ninsurer, the disposal of the assets of the fund would be detrimental to the interests of the continuing \\nPolicyholders.  \\n\\uf0b7 In the event of natural calamities, strikes, war, civil unrest, riots and bandhs.  \\n\\uf0b7 In the event of any Force Majeure or disaster that affects the normal functioning of the Company . \\n \\n15. Fund Value  means the  total value of the units at a point of time in a Segregated Fund i.e. total number of units \\nunder a policy multiplied by the Net Asset Value (NAV) per unit of that  fund. \\n \\n16. Grace Period means the time granted by the Company  from the due date for the payment of Premium, without \\nany penalty or late fee, during which time the Policy is considered to be In force with the risk cover without any \\ninterruption, as per the terms and conditions of the Policy. The Grace Period for payment of the Premiums shall \\nbe: fifteen d ays where the Policyholder pays the premium on a monthly basis and thirty days in all other cases . \\n \\n17. In Force means the status of the Policy being active, all due Premiums have been paid and the Policy is not \\nterminated.  \\n \\n18. Life Assured shall mean the person named as such in the Policy Schedule on whose name this Policy is effected.  \\n \\n19. Lock -in Period  mean s the period of five consecutive completed years from the Date of Commencement of the \\nPolicy , during which period the proceeds of the discontinued policies cannot be paid by the Company to the \\nPolicyholder or to the Life Assured , as the case may be, except in the case of death  of the Life Assured . \\n \\n20. Net Asset Value  (NAV) of a Unit Linked Fund means the price per unit of the underlying Segregated  Fund and \\nshall be calculated as follows : \\n \\nMarket Value of investment held by the fund + Value of Current Assets – Value of Current Liabilities & \\nProvisions, if any  \\n \\n        Number of Units existing on Valuation Date (before creation / redemption of Units ) \\n      \\n21. Nominee /s means the person/(s) named in the Policy Schedule who has/have been nominated by the \\nPolicyholder (who is also the Life Insured in the Policy) in accordance with the Section 39 of the Insurance Act, \\n1938 as amended from time to time to receive the benefits in respect of this Policy.  \\n \\n22. Partial Withdrawal/s  means any part of fund that is encashed / withdrawn by the Policyholder during the Policy \\nTerm. \\n \\n23. Policy  means the contract of insuranc e entered into between the Policy holder and the insurer as evidenced by \\nthe Policy  document.  \\n \\n24. Policy Anniversary refers to the same date each year as the Policy Commencement Date.  \\n \\n25. Policy Commencement Date /Date of Inception of Policy /Date of Commencement of the Policy  means \\nthe date, month, and year the Policy comes into effect and is specified as such in the Policy Schedule.  \\n \\n26. Policy Discontinuance Charges  means a charge that can be levied upon Discontinuance of the Policy . \\n \\n27. Policy Document  means the Policy Schedule, the signed Proposal Form, Annexure and any other attached \\nendorsements or supplements together with all addendums  and includes necessary documents . Check further at HDFC-Life-Smart-Pension-Plan-Policy-Document-Online.pdf Page No 5HDFC  Life Smart Pension Plan 101L164V02  – Terms and Conditions  (Direct & \\nOnline Sales)  \\n(A Unit Linked Non -Participating Individual Pension Plan)   \\n  Page 6 of 37  \\n \\n \\n28. Policyholder  shall mean the owner of this Policy as specified in Policy  Schedule or any person in whose favour \\nthe Policy is assigned as per the terms of this Policy . \\n \\n29. Policy Schedule  means the schedule issued by the Company that sets out the details of this Policy and is attached \\nto and forming part of this Policy .  \\n \\n30. Policy Term  means the tenure of this Policy during which the contractual Benefit s are payable and is specified as \\nsuch in the Policy Schedule .  \\n \\n31. Policy Year means a period of twelve (12) consecutive months starting from the Policy Commencement Date as \\nstated in the Po licy Schedule and ending on the day immediately preceding the following Policy Anniversary date \\nand each subsequent period of twelve (12) consecutive months thereafter . \\n \\n32. Premium  means the amount payable in a Policy Year on the due date of payment as set ou t in the Policy Schedule.  \\n \\n33. Premium Payment Term (PPT)  means the period in years during the Policy Term in which Premiums are \\npayable by the Policyholder under the Policy, as specified in the Policy Schedule.   \\n \\n34. Premium Redirection  means an option which allows the Policyholder to modify the allocation of amount of \\nrenewal Premium to various Segregated Funds, under the Policy. \\n \\n35. Prevailing Annuity Rate  shall mean the annuity rates of the Annuity Plans that are approved by IRDAI as per \\nthe file and use procedure and are attached to Pension products at the time of utilizing Vesting Benefit, Death \\nBenefit or Surrender Benefit  \\n \\n36. Regulations  mean the laws and  Regulations in effect  as amended  from time to time and applicable to this Policy, \\nincluding without limitation the Regulations and directions issued by the Insurance Regulatory and Development \\nAuthority of India ( ‘IRDAI ’) from time to time.  The applicable Regulation shall form a part and parcel of the terms \\nand conditions, and the terms and conditions shall be read along with the Regulation.  \\n \\n37. Relevant Date  means:  \\na. For the purpose of calculation of the Death Benefit  or death due to suicide, the date of receipt of written \\nintimation of death as detailed in Part C,  by the Company, on any Business Day before the Cut -off time;  \\nb. For the purpose of calculation of Vesting  Benefit , the Policy Vesting  Date; \\nc. For the purpose of calculation of the Surrender Benefit s or the Partial Withdrawal Benefit s or in case of \\nSwitches, the date of receipt of written notice by the Company on any Business Day before the cut -off time;  \\nd. The date of determination of the applicabl e charges, in the case of deduction of the applicable charges;  \\ne. The date of receipt of Premiums paid to the Company by instruments/modes other than ECS, Standing \\nInstructions or Auto debit for the purpose of Premium Payments under this Policy on a Business Day before \\nthe Cut off time;  \\nf. The date of realization of Premium by the Company under this Policy , in case of payments made through ECS, \\nStanding Instruction, Auto Debit Instruction etc; \\ng. In case of death due to suicide within 12 months from the Policy Comm encement Date  of the Policy  , the \\nNominee  or beneficiary of the Policy holder shall be entitled to Fund Value, as available on the date of death.  \\n \\nExplanation : Cut-off time for the purpose of this definition means 3 pm on the relevant Business Day. Any request \\nreceived after the Cut -Off time will be processed on the following Business Day.  \\n \\n38. Revival  of the Policy means restoration of the Policy, which was discontinued due to the non -payment of  Premium, \\nby the Company  with all the Benefits mentioned in the Policy Document, upon the receipt of all the Premiums due \\nand other charges, if any, as per the terms and  conditions of the policy, upon being satisfied as to the continued \\ninsurability of the Life As sured or Policyholder on  the basis of the information, d ocuments and reports furnished \\nby the Policyholder, in accordance with Board  approved Underwriting policy. Check further at HDFC-Life-Smart-Pension-Plan-Policy-Document-Online.pdf Page No 6'"
            ],
            "application/vnd.google.colaboratory.intrinsic+json": {
              "type": "string"
            }
          },
          "metadata": {},
          "execution_count": 33
        }
      ]
    },
    {
      "cell_type": "code",
      "source": [
        "#Custom Prompt.\n",
        "messages=[\n",
        "          {\n",
        "              \"role\":\"system\",\n",
        "              \"content\":\"You are AI assistent to user. Provide the brief summary with respect to the retrived context.\"\n",
        "          },\n",
        "          {\n",
        "              \"role\":\"user\",\n",
        "              \"content\": f\"\"\"What is the definition of \\\"Grace Period\\\" in the terms and conditions of the HDFC Life Smart Pension Plan? Check in '{retrieved}'\n",
        "              \"\"\"\n",
        "          }\n",
        "        ]\n",
        "messages"
      ],
      "metadata": {
        "id": "JHCCPun-qa6u",
        "colab": {
          "base_uri": "https://localhost:8080/"
        },
        "outputId": "5e2741bf-681d-41bc-cd33-ed88569788d9"
      },
      "execution_count": 34,
      "outputs": [
        {
          "output_type": "execute_result",
          "data": {
            "text/plain": [
              "[{'role': 'system',\n",
              "  'content': 'You are AI assistent to user. Provide the brief summary with respect to the retrived context.'},\n",
              " {'role': 'user',\n",
              "  'content': 'What is the definition of \"Grace Period\" in the terms and conditions of the HDFC Life Smart Pension Plan? Check in \\'HDFC  Life Smart Pension Plan 101L164V02  – Terms and Conditions  (Direct & \\nOnline Sales)  \\n(A Unit Linked Non -Participating Individual Pension Plan)   \\n  Page 5 of 37  \\n \\n\\uf0b7 When one or more stock exchanges which provide a basis for valuation of the assets of the fund are closed \\notherwise than for ordinary holidays.  \\n\\uf0b7 When, as a result of political, economic, monetary or any circumstances which are not in the control of the \\ninsurer, the disposal of the assets of the fund would be detrimental to the interests of the continuing \\nPolicyholders.  \\n\\uf0b7 In the event of natural calamities, strikes, war, civil unrest, riots and bandhs.  \\n\\uf0b7 In the event of any Force Majeure or disaster that affects the normal functioning of the Company . \\n \\n15. Fund Value  means the  total value of the units at a point of time in a Segregated Fund i.e. total number of units \\nunder a policy multiplied by the Net Asset Value (NAV) per unit of that  fund. \\n \\n16. Grace Period means the time granted by the Company  from the due date for the payment of Premium, without \\nany penalty or late fee, during which time the Policy is considered to be In force with the risk cover without any \\ninterruption, as per the terms and conditions of the Policy. The Grace Period for payment of the Premiums shall \\nbe: fifteen d ays where the Policyholder pays the premium on a monthly basis and thirty days in all other cases . \\n \\n17. In Force means the status of the Policy being active, all due Premiums have been paid and the Policy is not \\nterminated.  \\n \\n18. Life Assured shall mean the person named as such in the Policy Schedule on whose name this Policy is effected.  \\n \\n19. Lock -in Period  mean s the period of five consecutive completed years from the Date of Commencement of the \\nPolicy , during which period the proceeds of the discontinued policies cannot be paid by the Company to the \\nPolicyholder or to the Life Assured , as the case may be, except in the case of death  of the Life Assured . \\n \\n20. Net Asset Value  (NAV) of a Unit Linked Fund means the price per unit of the underlying Segregated  Fund and \\nshall be calculated as follows : \\n \\nMarket Value of investment held by the fund + Value of Current Assets – Value of Current Liabilities & \\nProvisions, if any  \\n \\n        Number of Units existing on Valuation Date (before creation / redemption of Units ) \\n      \\n21. Nominee /s means the person/(s) named in the Policy Schedule who has/have been nominated by the \\nPolicyholder (who is also the Life Insured in the Policy) in accordance with the Section 39 of the Insurance Act, \\n1938 as amended from time to time to receive the benefits in respect of this Policy.  \\n \\n22. Partial Withdrawal/s  means any part of fund that is encashed / withdrawn by the Policyholder during the Policy \\nTerm. \\n \\n23. Policy  means the contract of insuranc e entered into between the Policy holder and the insurer as evidenced by \\nthe Policy  document.  \\n \\n24. Policy Anniversary refers to the same date each year as the Policy Commencement Date.  \\n \\n25. Policy Commencement Date /Date of Inception of Policy /Date of Commencement of the Policy  means \\nthe date, month, and year the Policy comes into effect and is specified as such in the Policy Schedule.  \\n \\n26. Policy Discontinuance Charges  means a charge that can be levied upon Discontinuance of the Policy . \\n \\n27. Policy Document  means the Policy Schedule, the signed Proposal Form, Annexure and any other attached \\nendorsements or supplements together with all addendums  and includes necessary documents . Check further at HDFC-Life-Smart-Pension-Plan-Policy-Document-Online.pdf Page No 5HDFC  Life Smart Pension Plan 101L164V02  – Terms and Conditions  (Direct & \\nOnline Sales)  \\n(A Unit Linked Non -Participating Individual Pension Plan)   \\n  Page 6 of 37  \\n \\n \\n28. Policyholder  shall mean the owner of this Policy as specified in Policy  Schedule or any person in whose favour \\nthe Policy is assigned as per the terms of this Policy . \\n \\n29. Policy Schedule  means the schedule issued by the Company that sets out the details of this Policy and is attached \\nto and forming part of this Policy .  \\n \\n30. Policy Term  means the tenure of this Policy during which the contractual Benefit s are payable and is specified as \\nsuch in the Policy Schedule .  \\n \\n31. Policy Year means a period of twelve (12) consecutive months starting from the Policy Commencement Date as \\nstated in the Po licy Schedule and ending on the day immediately preceding the following Policy Anniversary date \\nand each subsequent period of twelve (12) consecutive months thereafter . \\n \\n32. Premium  means the amount payable in a Policy Year on the due date of payment as set ou t in the Policy Schedule.  \\n \\n33. Premium Payment Term (PPT)  means the period in years during the Policy Term in which Premiums are \\npayable by the Policyholder under the Policy, as specified in the Policy Schedule.   \\n \\n34. Premium Redirection  means an option which allows the Policyholder to modify the allocation of amount of \\nrenewal Premium to various Segregated Funds, under the Policy. \\n \\n35. Prevailing Annuity Rate  shall mean the annuity rates of the Annuity Plans that are approved by IRDAI as per \\nthe file and use procedure and are attached to Pension products at the time of utilizing Vesting Benefit, Death \\nBenefit or Surrender Benefit  \\n \\n36. Regulations  mean the laws and  Regulations in effect  as amended  from time to time and applicable to this Policy, \\nincluding without limitation the Regulations and directions issued by the Insurance Regulatory and Development \\nAuthority of India ( ‘IRDAI ’) from time to time.  The applicable Regulation shall form a part and parcel of the terms \\nand conditions, and the terms and conditions shall be read along with the Regulation.  \\n \\n37. Relevant Date  means:  \\na. For the purpose of calculation of the Death Benefit  or death due to suicide, the date of receipt of written \\nintimation of death as detailed in Part C,  by the Company, on any Business Day before the Cut -off time;  \\nb. For the purpose of calculation of Vesting  Benefit , the Policy Vesting  Date; \\nc. For the purpose of calculation of the Surrender Benefit s or the Partial Withdrawal Benefit s or in case of \\nSwitches, the date of receipt of written notice by the Company on any Business Day before the cut -off time;  \\nd. The date of determination of the applicabl e charges, in the case of deduction of the applicable charges;  \\ne. The date of receipt of Premiums paid to the Company by instruments/modes other than ECS, Standing \\nInstructions or Auto debit for the purpose of Premium Payments under this Policy on a Business Day before \\nthe Cut off time;  \\nf. The date of realization of Premium by the Company under this Policy , in case of payments made through ECS, \\nStanding Instruction, Auto Debit Instruction etc; \\ng. In case of death due to suicide within 12 months from the Policy Comm encement Date  of the Policy  , the \\nNominee  or beneficiary of the Policy holder shall be entitled to Fund Value, as available on the date of death.  \\n \\nExplanation : Cut-off time for the purpose of this definition means 3 pm on the relevant Business Day. Any request \\nreceived after the Cut -Off time will be processed on the following Business Day.  \\n \\n38. Revival  of the Policy means restoration of the Policy, which was discontinued due to the non -payment of  Premium, \\nby the Company  with all the Benefits mentioned in the Policy Document, upon the receipt of all the Premiums due \\nand other charges, if any, as per the terms and  conditions of the policy, upon being satisfied as to the continued \\ninsurability of the Life As sured or Policyholder on  the basis of the information, d ocuments and reports furnished \\nby the Policyholder, in accordance with Board  approved Underwriting policy. Check further at HDFC-Life-Smart-Pension-Plan-Policy-Document-Online.pdf Page No 6\\'\\n              '}]"
            ]
          },
          "metadata": {},
          "execution_count": 34
        }
      ]
    },
    {
      "cell_type": "code",
      "source": [
        "response2=openai.chat.completions.create(\n",
        "    model=\"gpt-3.5-turbo\",\n",
        "    messages=messages\n",
        ")\n",
        "response2.choices[0].message.content"
      ],
      "metadata": {
        "id": "k9zprlG6qa-Y",
        "colab": {
          "base_uri": "https://localhost:8080/",
          "height": 70
        },
        "outputId": "67e5c6e2-e076-44ce-bfac-9290d180b600"
      },
      "execution_count": 35,
      "outputs": [
        {
          "output_type": "execute_result",
          "data": {
            "text/plain": [
              "'In the terms and conditions of the HDFC Life Smart Pension Plan, the \"Grace Period\" is defined as the time granted by the company from the due date for the payment of the premium without any penalty or late fee. During this grace period, the policy is considered to be in force with the risk cover without any interruption. The grace period for payment of premiums is fifteen days for monthly payments and thirty days for other payment frequencies.'"
            ],
            "application/vnd.google.colaboratory.intrinsic+json": {
              "type": "string"
            }
          },
          "metadata": {},
          "execution_count": 35
        }
      ]
    },
    {
      "cell_type": "markdown",
      "source": [
        "### **Using customized nodes and LLMs in LLAMA Index**\n"
      ],
      "metadata": {
        "id": "nPU_d9tZCyEs"
      }
    },
    {
      "cell_type": "code",
      "source": [
        "\n",
        "#import OpenAIEmbedding\n",
        "from llama_index.embeddings.openai import OpenAIEmbedding\n",
        "#import SentenceSplitter\n",
        "from llama_index.core.node_parser import SentenceSplitter\n",
        "#import OpenAI\n",
        "from llama_index.llms.openai import OpenAI\n",
        "#import Settings\n",
        "from llama_index.core import Settings\n",
        "\n",
        "#Initialize the openAI model\n",
        "Settings.lm=OpenAI(model=\"gpt-3.5-turbo\", temperature=0, max_tokens=256)\n",
        "\n",
        "#Initialize the embedding model\n",
        "Settings.embed_model=OpenAIEmbedding()\n",
        "\n",
        "#Initialize the node_parser with custom node settings\n",
        "Settings.node_parser=SentenceSplitter(chunk_size=512, chunk_overlap=20)\n",
        "\n",
        "# Initialize the num_output and context window\n",
        "Settings.num_output=512\n",
        "Settings.context_window=3900\n",
        "\n",
        "#Create a VectorStoreIndex from a list of documents using the service context\n",
        "index=VectorStoreIndex.from_documents(documents)\n",
        "\n",
        "# Initialize a query engine for the index with a specified similiarity with top-k values\n",
        "query_engine=index.as_query_engine(similarity_top_k=3)"
      ],
      "metadata": {
        "id": "Z-bXJk_cqbCB"
      },
      "execution_count": 36,
      "outputs": []
    },
    {
      "cell_type": "code",
      "source": [
        "#Query the engine with specific question\n",
        "query = \"What are the exclusions applicable to accidental death benefits in the policy?\"\n",
        "response=query_engine.query(query)"
      ],
      "metadata": {
        "id": "uyQWQgVcqbFs"
      },
      "execution_count": 37,
      "outputs": []
    },
    {
      "cell_type": "code",
      "source": [
        "response.response"
      ],
      "metadata": {
        "id": "8-M-9FnuqbJV",
        "colab": {
          "base_uri": "https://localhost:8080/",
          "height": 105
        },
        "outputId": "5a90f254-17e7-4a2c-f290-1b9fbf6a4128"
      },
      "execution_count": 38,
      "outputs": [
        {
          "output_type": "execute_result",
          "data": {
            "text/plain": [
              "'The exclusions applicable to accidental death benefits in the policy include:\\n- Intentionally self-inflicted injury or suicide while sane or insane\\n- Alcohol or Solvent abuse or taking of Drugs, narcotics or psychotropic substances unless taken in accordance with the lawful directions and prescription of a registered medical practitioner\\n- Engaging in or taking part in professional sport(s) or any hazardous pursuits\\n- War, invasion, hostilities, civil war, rebellion, revolution, or taking part in a riot or civil commotion\\n- Taking part in any flying activity, other than as a passenger in a commercially licensed aircraft\\n- Participation in a criminal or unlawful act.'"
            ],
            "application/vnd.google.colaboratory.intrinsic+json": {
              "type": "string"
            }
          },
          "metadata": {},
          "execution_count": 38
        }
      ]
    }
  ]
}