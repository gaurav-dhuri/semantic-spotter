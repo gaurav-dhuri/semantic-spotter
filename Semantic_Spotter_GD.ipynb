{
  "nbformat": 4,
  "nbformat_minor": 0,
  "metadata": {
    "colab": {
      "provenance": []
    },
    "kernelspec": {
      "name": "python3",
      "display_name": "Python 3"
    },
    "language_info": {
      "name": "python"
    },
    "widgets": {
      "application/vnd.jupyter.widget-state+json": {
        "113acc511b7c4dd4a9ef430fb06738a5": {
          "model_module": "@jupyter-widgets/controls",
          "model_name": "HBoxModel",
          "model_module_version": "1.5.0",
          "state": {
            "_dom_classes": [],
            "_model_module": "@jupyter-widgets/controls",
            "_model_module_version": "1.5.0",
            "_model_name": "HBoxModel",
            "_view_count": null,
            "_view_module": "@jupyter-widgets/controls",
            "_view_module_version": "1.5.0",
            "_view_name": "HBoxView",
            "box_style": "",
            "children": [
              "IPY_MODEL_bf60332fa05248c4adce09c093a8d44d",
              "IPY_MODEL_e31e091857094dc58c4faa974b2c25ce",
              "IPY_MODEL_9a74f6213d42411c86b58229e067fcff"
            ],
            "layout": "IPY_MODEL_385032a22c0649aeac234cb5b9d1c860"
          }
        },
        "bf60332fa05248c4adce09c093a8d44d": {
          "model_module": "@jupyter-widgets/controls",
          "model_name": "HTMLModel",
          "model_module_version": "1.5.0",
          "state": {
            "_dom_classes": [],
            "_model_module": "@jupyter-widgets/controls",
            "_model_module_version": "1.5.0",
            "_model_name": "HTMLModel",
            "_view_count": null,
            "_view_module": "@jupyter-widgets/controls",
            "_view_module_version": "1.5.0",
            "_view_name": "HTMLView",
            "description": "",
            "description_tooltip": null,
            "layout": "IPY_MODEL_55c05dec765c4777a0e1b2014a3596bd",
            "placeholder": "​",
            "style": "IPY_MODEL_c0e9cd111ebd4521984bed84bf920204",
            "value": "config.json: 100%"
          }
        },
        "e31e091857094dc58c4faa974b2c25ce": {
          "model_module": "@jupyter-widgets/controls",
          "model_name": "FloatProgressModel",
          "model_module_version": "1.5.0",
          "state": {
            "_dom_classes": [],
            "_model_module": "@jupyter-widgets/controls",
            "_model_module_version": "1.5.0",
            "_model_name": "FloatProgressModel",
            "_view_count": null,
            "_view_module": "@jupyter-widgets/controls",
            "_view_module_version": "1.5.0",
            "_view_name": "ProgressView",
            "bar_style": "success",
            "description": "",
            "description_tooltip": null,
            "layout": "IPY_MODEL_e1593a73e8cf443f9a1369382d657db7",
            "max": 794,
            "min": 0,
            "orientation": "horizontal",
            "style": "IPY_MODEL_a82467f732b14849b70be3bb3f69fd42",
            "value": 794
          }
        },
        "9a74f6213d42411c86b58229e067fcff": {
          "model_module": "@jupyter-widgets/controls",
          "model_name": "HTMLModel",
          "model_module_version": "1.5.0",
          "state": {
            "_dom_classes": [],
            "_model_module": "@jupyter-widgets/controls",
            "_model_module_version": "1.5.0",
            "_model_name": "HTMLModel",
            "_view_count": null,
            "_view_module": "@jupyter-widgets/controls",
            "_view_module_version": "1.5.0",
            "_view_name": "HTMLView",
            "description": "",
            "description_tooltip": null,
            "layout": "IPY_MODEL_98beed0b50fd4f888cfc4b1f4958911c",
            "placeholder": "​",
            "style": "IPY_MODEL_d78d6715c92a478a8165de88c2a8fb41",
            "value": " 794/794 [00:00&lt;00:00, 39.8kB/s]"
          }
        },
        "385032a22c0649aeac234cb5b9d1c860": {
          "model_module": "@jupyter-widgets/base",
          "model_name": "LayoutModel",
          "model_module_version": "1.2.0",
          "state": {
            "_model_module": "@jupyter-widgets/base",
            "_model_module_version": "1.2.0",
            "_model_name": "LayoutModel",
            "_view_count": null,
            "_view_module": "@jupyter-widgets/base",
            "_view_module_version": "1.2.0",
            "_view_name": "LayoutView",
            "align_content": null,
            "align_items": null,
            "align_self": null,
            "border": null,
            "bottom": null,
            "display": null,
            "flex": null,
            "flex_flow": null,
            "grid_area": null,
            "grid_auto_columns": null,
            "grid_auto_flow": null,
            "grid_auto_rows": null,
            "grid_column": null,
            "grid_gap": null,
            "grid_row": null,
            "grid_template_areas": null,
            "grid_template_columns": null,
            "grid_template_rows": null,
            "height": null,
            "justify_content": null,
            "justify_items": null,
            "left": null,
            "margin": null,
            "max_height": null,
            "max_width": null,
            "min_height": null,
            "min_width": null,
            "object_fit": null,
            "object_position": null,
            "order": null,
            "overflow": null,
            "overflow_x": null,
            "overflow_y": null,
            "padding": null,
            "right": null,
            "top": null,
            "visibility": null,
            "width": null
          }
        },
        "55c05dec765c4777a0e1b2014a3596bd": {
          "model_module": "@jupyter-widgets/base",
          "model_name": "LayoutModel",
          "model_module_version": "1.2.0",
          "state": {
            "_model_module": "@jupyter-widgets/base",
            "_model_module_version": "1.2.0",
            "_model_name": "LayoutModel",
            "_view_count": null,
            "_view_module": "@jupyter-widgets/base",
            "_view_module_version": "1.2.0",
            "_view_name": "LayoutView",
            "align_content": null,
            "align_items": null,
            "align_self": null,
            "border": null,
            "bottom": null,
            "display": null,
            "flex": null,
            "flex_flow": null,
            "grid_area": null,
            "grid_auto_columns": null,
            "grid_auto_flow": null,
            "grid_auto_rows": null,
            "grid_column": null,
            "grid_gap": null,
            "grid_row": null,
            "grid_template_areas": null,
            "grid_template_columns": null,
            "grid_template_rows": null,
            "height": null,
            "justify_content": null,
            "justify_items": null,
            "left": null,
            "margin": null,
            "max_height": null,
            "max_width": null,
            "min_height": null,
            "min_width": null,
            "object_fit": null,
            "object_position": null,
            "order": null,
            "overflow": null,
            "overflow_x": null,
            "overflow_y": null,
            "padding": null,
            "right": null,
            "top": null,
            "visibility": null,
            "width": null
          }
        },
        "c0e9cd111ebd4521984bed84bf920204": {
          "model_module": "@jupyter-widgets/controls",
          "model_name": "DescriptionStyleModel",
          "model_module_version": "1.5.0",
          "state": {
            "_model_module": "@jupyter-widgets/controls",
            "_model_module_version": "1.5.0",
            "_model_name": "DescriptionStyleModel",
            "_view_count": null,
            "_view_module": "@jupyter-widgets/base",
            "_view_module_version": "1.2.0",
            "_view_name": "StyleView",
            "description_width": ""
          }
        },
        "e1593a73e8cf443f9a1369382d657db7": {
          "model_module": "@jupyter-widgets/base",
          "model_name": "LayoutModel",
          "model_module_version": "1.2.0",
          "state": {
            "_model_module": "@jupyter-widgets/base",
            "_model_module_version": "1.2.0",
            "_model_name": "LayoutModel",
            "_view_count": null,
            "_view_module": "@jupyter-widgets/base",
            "_view_module_version": "1.2.0",
            "_view_name": "LayoutView",
            "align_content": null,
            "align_items": null,
            "align_self": null,
            "border": null,
            "bottom": null,
            "display": null,
            "flex": null,
            "flex_flow": null,
            "grid_area": null,
            "grid_auto_columns": null,
            "grid_auto_flow": null,
            "grid_auto_rows": null,
            "grid_column": null,
            "grid_gap": null,
            "grid_row": null,
            "grid_template_areas": null,
            "grid_template_columns": null,
            "grid_template_rows": null,
            "height": null,
            "justify_content": null,
            "justify_items": null,
            "left": null,
            "margin": null,
            "max_height": null,
            "max_width": null,
            "min_height": null,
            "min_width": null,
            "object_fit": null,
            "object_position": null,
            "order": null,
            "overflow": null,
            "overflow_x": null,
            "overflow_y": null,
            "padding": null,
            "right": null,
            "top": null,
            "visibility": null,
            "width": null
          }
        },
        "a82467f732b14849b70be3bb3f69fd42": {
          "model_module": "@jupyter-widgets/controls",
          "model_name": "ProgressStyleModel",
          "model_module_version": "1.5.0",
          "state": {
            "_model_module": "@jupyter-widgets/controls",
            "_model_module_version": "1.5.0",
            "_model_name": "ProgressStyleModel",
            "_view_count": null,
            "_view_module": "@jupyter-widgets/base",
            "_view_module_version": "1.2.0",
            "_view_name": "StyleView",
            "bar_color": null,
            "description_width": ""
          }
        },
        "98beed0b50fd4f888cfc4b1f4958911c": {
          "model_module": "@jupyter-widgets/base",
          "model_name": "LayoutModel",
          "model_module_version": "1.2.0",
          "state": {
            "_model_module": "@jupyter-widgets/base",
            "_model_module_version": "1.2.0",
            "_model_name": "LayoutModel",
            "_view_count": null,
            "_view_module": "@jupyter-widgets/base",
            "_view_module_version": "1.2.0",
            "_view_name": "LayoutView",
            "align_content": null,
            "align_items": null,
            "align_self": null,
            "border": null,
            "bottom": null,
            "display": null,
            "flex": null,
            "flex_flow": null,
            "grid_area": null,
            "grid_auto_columns": null,
            "grid_auto_flow": null,
            "grid_auto_rows": null,
            "grid_column": null,
            "grid_gap": null,
            "grid_row": null,
            "grid_template_areas": null,
            "grid_template_columns": null,
            "grid_template_rows": null,
            "height": null,
            "justify_content": null,
            "justify_items": null,
            "left": null,
            "margin": null,
            "max_height": null,
            "max_width": null,
            "min_height": null,
            "min_width": null,
            "object_fit": null,
            "object_position": null,
            "order": null,
            "overflow": null,
            "overflow_x": null,
            "overflow_y": null,
            "padding": null,
            "right": null,
            "top": null,
            "visibility": null,
            "width": null
          }
        },
        "d78d6715c92a478a8165de88c2a8fb41": {
          "model_module": "@jupyter-widgets/controls",
          "model_name": "DescriptionStyleModel",
          "model_module_version": "1.5.0",
          "state": {
            "_model_module": "@jupyter-widgets/controls",
            "_model_module_version": "1.5.0",
            "_model_name": "DescriptionStyleModel",
            "_view_count": null,
            "_view_module": "@jupyter-widgets/base",
            "_view_module_version": "1.2.0",
            "_view_name": "StyleView",
            "description_width": ""
          }
        },
        "a9ddf4fdeed64ac698a8e20142b46a2d": {
          "model_module": "@jupyter-widgets/controls",
          "model_name": "HBoxModel",
          "model_module_version": "1.5.0",
          "state": {
            "_dom_classes": [],
            "_model_module": "@jupyter-widgets/controls",
            "_model_module_version": "1.5.0",
            "_model_name": "HBoxModel",
            "_view_count": null,
            "_view_module": "@jupyter-widgets/controls",
            "_view_module_version": "1.5.0",
            "_view_name": "HBoxView",
            "box_style": "",
            "children": [
              "IPY_MODEL_b6cec61e62ba43b1949c9057516e143a",
              "IPY_MODEL_fbe6fdccbcbf4178a0a38a8a8d2a0ff8",
              "IPY_MODEL_d036f5849c0f49848fbb20cda9f3d436"
            ],
            "layout": "IPY_MODEL_51e1cf41e2d0432bb9875fd55f804e76"
          }
        },
        "b6cec61e62ba43b1949c9057516e143a": {
          "model_module": "@jupyter-widgets/controls",
          "model_name": "HTMLModel",
          "model_module_version": "1.5.0",
          "state": {
            "_dom_classes": [],
            "_model_module": "@jupyter-widgets/controls",
            "_model_module_version": "1.5.0",
            "_model_name": "HTMLModel",
            "_view_count": null,
            "_view_module": "@jupyter-widgets/controls",
            "_view_module_version": "1.5.0",
            "_view_name": "HTMLView",
            "description": "",
            "description_tooltip": null,
            "layout": "IPY_MODEL_7323259da5c34059b94caa1433000254",
            "placeholder": "​",
            "style": "IPY_MODEL_2918b6a29ffd4fa2b371922227ce54fe",
            "value": "pytorch_model.bin: 100%"
          }
        },
        "fbe6fdccbcbf4178a0a38a8a8d2a0ff8": {
          "model_module": "@jupyter-widgets/controls",
          "model_name": "FloatProgressModel",
          "model_module_version": "1.5.0",
          "state": {
            "_dom_classes": [],
            "_model_module": "@jupyter-widgets/controls",
            "_model_module_version": "1.5.0",
            "_model_name": "FloatProgressModel",
            "_view_count": null,
            "_view_module": "@jupyter-widgets/controls",
            "_view_module_version": "1.5.0",
            "_view_name": "ProgressView",
            "bar_style": "success",
            "description": "",
            "description_tooltip": null,
            "layout": "IPY_MODEL_24a4db762d454a199b1e28c029cf5764",
            "max": 62484521,
            "min": 0,
            "orientation": "horizontal",
            "style": "IPY_MODEL_e912551c069246438c58978e889b1436",
            "value": 62484521
          }
        },
        "d036f5849c0f49848fbb20cda9f3d436": {
          "model_module": "@jupyter-widgets/controls",
          "model_name": "HTMLModel",
          "model_module_version": "1.5.0",
          "state": {
            "_dom_classes": [],
            "_model_module": "@jupyter-widgets/controls",
            "_model_module_version": "1.5.0",
            "_model_name": "HTMLModel",
            "_view_count": null,
            "_view_module": "@jupyter-widgets/controls",
            "_view_module_version": "1.5.0",
            "_view_name": "HTMLView",
            "description": "",
            "description_tooltip": null,
            "layout": "IPY_MODEL_2db077b5c3da4638a3f78be9ffbd88d4",
            "placeholder": "​",
            "style": "IPY_MODEL_89ffef1964124312b5a43a9a6470dde8",
            "value": " 62.5M/62.5M [00:00&lt;00:00, 77.1MB/s]"
          }
        },
        "51e1cf41e2d0432bb9875fd55f804e76": {
          "model_module": "@jupyter-widgets/base",
          "model_name": "LayoutModel",
          "model_module_version": "1.2.0",
          "state": {
            "_model_module": "@jupyter-widgets/base",
            "_model_module_version": "1.2.0",
            "_model_name": "LayoutModel",
            "_view_count": null,
            "_view_module": "@jupyter-widgets/base",
            "_view_module_version": "1.2.0",
            "_view_name": "LayoutView",
            "align_content": null,
            "align_items": null,
            "align_self": null,
            "border": null,
            "bottom": null,
            "display": null,
            "flex": null,
            "flex_flow": null,
            "grid_area": null,
            "grid_auto_columns": null,
            "grid_auto_flow": null,
            "grid_auto_rows": null,
            "grid_column": null,
            "grid_gap": null,
            "grid_row": null,
            "grid_template_areas": null,
            "grid_template_columns": null,
            "grid_template_rows": null,
            "height": null,
            "justify_content": null,
            "justify_items": null,
            "left": null,
            "margin": null,
            "max_height": null,
            "max_width": null,
            "min_height": null,
            "min_width": null,
            "object_fit": null,
            "object_position": null,
            "order": null,
            "overflow": null,
            "overflow_x": null,
            "overflow_y": null,
            "padding": null,
            "right": null,
            "top": null,
            "visibility": null,
            "width": null
          }
        },
        "7323259da5c34059b94caa1433000254": {
          "model_module": "@jupyter-widgets/base",
          "model_name": "LayoutModel",
          "model_module_version": "1.2.0",
          "state": {
            "_model_module": "@jupyter-widgets/base",
            "_model_module_version": "1.2.0",
            "_model_name": "LayoutModel",
            "_view_count": null,
            "_view_module": "@jupyter-widgets/base",
            "_view_module_version": "1.2.0",
            "_view_name": "LayoutView",
            "align_content": null,
            "align_items": null,
            "align_self": null,
            "border": null,
            "bottom": null,
            "display": null,
            "flex": null,
            "flex_flow": null,
            "grid_area": null,
            "grid_auto_columns": null,
            "grid_auto_flow": null,
            "grid_auto_rows": null,
            "grid_column": null,
            "grid_gap": null,
            "grid_row": null,
            "grid_template_areas": null,
            "grid_template_columns": null,
            "grid_template_rows": null,
            "height": null,
            "justify_content": null,
            "justify_items": null,
            "left": null,
            "margin": null,
            "max_height": null,
            "max_width": null,
            "min_height": null,
            "min_width": null,
            "object_fit": null,
            "object_position": null,
            "order": null,
            "overflow": null,
            "overflow_x": null,
            "overflow_y": null,
            "padding": null,
            "right": null,
            "top": null,
            "visibility": null,
            "width": null
          }
        },
        "2918b6a29ffd4fa2b371922227ce54fe": {
          "model_module": "@jupyter-widgets/controls",
          "model_name": "DescriptionStyleModel",
          "model_module_version": "1.5.0",
          "state": {
            "_model_module": "@jupyter-widgets/controls",
            "_model_module_version": "1.5.0",
            "_model_name": "DescriptionStyleModel",
            "_view_count": null,
            "_view_module": "@jupyter-widgets/base",
            "_view_module_version": "1.2.0",
            "_view_name": "StyleView",
            "description_width": ""
          }
        },
        "24a4db762d454a199b1e28c029cf5764": {
          "model_module": "@jupyter-widgets/base",
          "model_name": "LayoutModel",
          "model_module_version": "1.2.0",
          "state": {
            "_model_module": "@jupyter-widgets/base",
            "_model_module_version": "1.2.0",
            "_model_name": "LayoutModel",
            "_view_count": null,
            "_view_module": "@jupyter-widgets/base",
            "_view_module_version": "1.2.0",
            "_view_name": "LayoutView",
            "align_content": null,
            "align_items": null,
            "align_self": null,
            "border": null,
            "bottom": null,
            "display": null,
            "flex": null,
            "flex_flow": null,
            "grid_area": null,
            "grid_auto_columns": null,
            "grid_auto_flow": null,
            "grid_auto_rows": null,
            "grid_column": null,
            "grid_gap": null,
            "grid_row": null,
            "grid_template_areas": null,
            "grid_template_columns": null,
            "grid_template_rows": null,
            "height": null,
            "justify_content": null,
            "justify_items": null,
            "left": null,
            "margin": null,
            "max_height": null,
            "max_width": null,
            "min_height": null,
            "min_width": null,
            "object_fit": null,
            "object_position": null,
            "order": null,
            "overflow": null,
            "overflow_x": null,
            "overflow_y": null,
            "padding": null,
            "right": null,
            "top": null,
            "visibility": null,
            "width": null
          }
        },
        "e912551c069246438c58978e889b1436": {
          "model_module": "@jupyter-widgets/controls",
          "model_name": "ProgressStyleModel",
          "model_module_version": "1.5.0",
          "state": {
            "_model_module": "@jupyter-widgets/controls",
            "_model_module_version": "1.5.0",
            "_model_name": "ProgressStyleModel",
            "_view_count": null,
            "_view_module": "@jupyter-widgets/base",
            "_view_module_version": "1.2.0",
            "_view_name": "StyleView",
            "bar_color": null,
            "description_width": ""
          }
        },
        "2db077b5c3da4638a3f78be9ffbd88d4": {
          "model_module": "@jupyter-widgets/base",
          "model_name": "LayoutModel",
          "model_module_version": "1.2.0",
          "state": {
            "_model_module": "@jupyter-widgets/base",
            "_model_module_version": "1.2.0",
            "_model_name": "LayoutModel",
            "_view_count": null,
            "_view_module": "@jupyter-widgets/base",
            "_view_module_version": "1.2.0",
            "_view_name": "LayoutView",
            "align_content": null,
            "align_items": null,
            "align_self": null,
            "border": null,
            "bottom": null,
            "display": null,
            "flex": null,
            "flex_flow": null,
            "grid_area": null,
            "grid_auto_columns": null,
            "grid_auto_flow": null,
            "grid_auto_rows": null,
            "grid_column": null,
            "grid_gap": null,
            "grid_row": null,
            "grid_template_areas": null,
            "grid_template_columns": null,
            "grid_template_rows": null,
            "height": null,
            "justify_content": null,
            "justify_items": null,
            "left": null,
            "margin": null,
            "max_height": null,
            "max_width": null,
            "min_height": null,
            "min_width": null,
            "object_fit": null,
            "object_position": null,
            "order": null,
            "overflow": null,
            "overflow_x": null,
            "overflow_y": null,
            "padding": null,
            "right": null,
            "top": null,
            "visibility": null,
            "width": null
          }
        },
        "89ffef1964124312b5a43a9a6470dde8": {
          "model_module": "@jupyter-widgets/controls",
          "model_name": "DescriptionStyleModel",
          "model_module_version": "1.5.0",
          "state": {
            "_model_module": "@jupyter-widgets/controls",
            "_model_module_version": "1.5.0",
            "_model_name": "DescriptionStyleModel",
            "_view_count": null,
            "_view_module": "@jupyter-widgets/base",
            "_view_module_version": "1.2.0",
            "_view_name": "StyleView",
            "description_width": ""
          }
        },
        "83cb5bda89c14ce3a2c711d55a4b965e": {
          "model_module": "@jupyter-widgets/controls",
          "model_name": "HBoxModel",
          "model_module_version": "1.5.0",
          "state": {
            "_dom_classes": [],
            "_model_module": "@jupyter-widgets/controls",
            "_model_module_version": "1.5.0",
            "_model_name": "HBoxModel",
            "_view_count": null,
            "_view_module": "@jupyter-widgets/controls",
            "_view_module_version": "1.5.0",
            "_view_name": "HBoxView",
            "box_style": "",
            "children": [
              "IPY_MODEL_fb7c93a983d6483bae172eadbffd437f",
              "IPY_MODEL_35bd28639dc6460194365c181c2f7dfb",
              "IPY_MODEL_4f694675f7cd4582b08fcb3ffa9d8ca1"
            ],
            "layout": "IPY_MODEL_ef4170cfb77749f684d93c4944c3ce7a"
          }
        },
        "fb7c93a983d6483bae172eadbffd437f": {
          "model_module": "@jupyter-widgets/controls",
          "model_name": "HTMLModel",
          "model_module_version": "1.5.0",
          "state": {
            "_dom_classes": [],
            "_model_module": "@jupyter-widgets/controls",
            "_model_module_version": "1.5.0",
            "_model_name": "HTMLModel",
            "_view_count": null,
            "_view_module": "@jupyter-widgets/controls",
            "_view_module_version": "1.5.0",
            "_view_name": "HTMLView",
            "description": "",
            "description_tooltip": null,
            "layout": "IPY_MODEL_32e09e83c27146e2adbbb6dd5746e25c",
            "placeholder": "​",
            "style": "IPY_MODEL_2abe1cc16f0142138397638f51ad91e9",
            "value": "tokenizer_config.json: 100%"
          }
        },
        "35bd28639dc6460194365c181c2f7dfb": {
          "model_module": "@jupyter-widgets/controls",
          "model_name": "FloatProgressModel",
          "model_module_version": "1.5.0",
          "state": {
            "_dom_classes": [],
            "_model_module": "@jupyter-widgets/controls",
            "_model_module_version": "1.5.0",
            "_model_name": "FloatProgressModel",
            "_view_count": null,
            "_view_module": "@jupyter-widgets/controls",
            "_view_module_version": "1.5.0",
            "_view_name": "ProgressView",
            "bar_style": "success",
            "description": "",
            "description_tooltip": null,
            "layout": "IPY_MODEL_3c0ad41620b3433ca72a9dbf852c9d43",
            "max": 316,
            "min": 0,
            "orientation": "horizontal",
            "style": "IPY_MODEL_4f5411857bb045289cfac1fb3b4bca80",
            "value": 316
          }
        },
        "4f694675f7cd4582b08fcb3ffa9d8ca1": {
          "model_module": "@jupyter-widgets/controls",
          "model_name": "HTMLModel",
          "model_module_version": "1.5.0",
          "state": {
            "_dom_classes": [],
            "_model_module": "@jupyter-widgets/controls",
            "_model_module_version": "1.5.0",
            "_model_name": "HTMLModel",
            "_view_count": null,
            "_view_module": "@jupyter-widgets/controls",
            "_view_module_version": "1.5.0",
            "_view_name": "HTMLView",
            "description": "",
            "description_tooltip": null,
            "layout": "IPY_MODEL_e38efc31b75246afbd07e05b13afe194",
            "placeholder": "​",
            "style": "IPY_MODEL_f2f6656d6da542a38ebfdc9d85fd5389",
            "value": " 316/316 [00:00&lt;00:00, 16.5kB/s]"
          }
        },
        "ef4170cfb77749f684d93c4944c3ce7a": {
          "model_module": "@jupyter-widgets/base",
          "model_name": "LayoutModel",
          "model_module_version": "1.2.0",
          "state": {
            "_model_module": "@jupyter-widgets/base",
            "_model_module_version": "1.2.0",
            "_model_name": "LayoutModel",
            "_view_count": null,
            "_view_module": "@jupyter-widgets/base",
            "_view_module_version": "1.2.0",
            "_view_name": "LayoutView",
            "align_content": null,
            "align_items": null,
            "align_self": null,
            "border": null,
            "bottom": null,
            "display": null,
            "flex": null,
            "flex_flow": null,
            "grid_area": null,
            "grid_auto_columns": null,
            "grid_auto_flow": null,
            "grid_auto_rows": null,
            "grid_column": null,
            "grid_gap": null,
            "grid_row": null,
            "grid_template_areas": null,
            "grid_template_columns": null,
            "grid_template_rows": null,
            "height": null,
            "justify_content": null,
            "justify_items": null,
            "left": null,
            "margin": null,
            "max_height": null,
            "max_width": null,
            "min_height": null,
            "min_width": null,
            "object_fit": null,
            "object_position": null,
            "order": null,
            "overflow": null,
            "overflow_x": null,
            "overflow_y": null,
            "padding": null,
            "right": null,
            "top": null,
            "visibility": null,
            "width": null
          }
        },
        "32e09e83c27146e2adbbb6dd5746e25c": {
          "model_module": "@jupyter-widgets/base",
          "model_name": "LayoutModel",
          "model_module_version": "1.2.0",
          "state": {
            "_model_module": "@jupyter-widgets/base",
            "_model_module_version": "1.2.0",
            "_model_name": "LayoutModel",
            "_view_count": null,
            "_view_module": "@jupyter-widgets/base",
            "_view_module_version": "1.2.0",
            "_view_name": "LayoutView",
            "align_content": null,
            "align_items": null,
            "align_self": null,
            "border": null,
            "bottom": null,
            "display": null,
            "flex": null,
            "flex_flow": null,
            "grid_area": null,
            "grid_auto_columns": null,
            "grid_auto_flow": null,
            "grid_auto_rows": null,
            "grid_column": null,
            "grid_gap": null,
            "grid_row": null,
            "grid_template_areas": null,
            "grid_template_columns": null,
            "grid_template_rows": null,
            "height": null,
            "justify_content": null,
            "justify_items": null,
            "left": null,
            "margin": null,
            "max_height": null,
            "max_width": null,
            "min_height": null,
            "min_width": null,
            "object_fit": null,
            "object_position": null,
            "order": null,
            "overflow": null,
            "overflow_x": null,
            "overflow_y": null,
            "padding": null,
            "right": null,
            "top": null,
            "visibility": null,
            "width": null
          }
        },
        "2abe1cc16f0142138397638f51ad91e9": {
          "model_module": "@jupyter-widgets/controls",
          "model_name": "DescriptionStyleModel",
          "model_module_version": "1.5.0",
          "state": {
            "_model_module": "@jupyter-widgets/controls",
            "_model_module_version": "1.5.0",
            "_model_name": "DescriptionStyleModel",
            "_view_count": null,
            "_view_module": "@jupyter-widgets/base",
            "_view_module_version": "1.2.0",
            "_view_name": "StyleView",
            "description_width": ""
          }
        },
        "3c0ad41620b3433ca72a9dbf852c9d43": {
          "model_module": "@jupyter-widgets/base",
          "model_name": "LayoutModel",
          "model_module_version": "1.2.0",
          "state": {
            "_model_module": "@jupyter-widgets/base",
            "_model_module_version": "1.2.0",
            "_model_name": "LayoutModel",
            "_view_count": null,
            "_view_module": "@jupyter-widgets/base",
            "_view_module_version": "1.2.0",
            "_view_name": "LayoutView",
            "align_content": null,
            "align_items": null,
            "align_self": null,
            "border": null,
            "bottom": null,
            "display": null,
            "flex": null,
            "flex_flow": null,
            "grid_area": null,
            "grid_auto_columns": null,
            "grid_auto_flow": null,
            "grid_auto_rows": null,
            "grid_column": null,
            "grid_gap": null,
            "grid_row": null,
            "grid_template_areas": null,
            "grid_template_columns": null,
            "grid_template_rows": null,
            "height": null,
            "justify_content": null,
            "justify_items": null,
            "left": null,
            "margin": null,
            "max_height": null,
            "max_width": null,
            "min_height": null,
            "min_width": null,
            "object_fit": null,
            "object_position": null,
            "order": null,
            "overflow": null,
            "overflow_x": null,
            "overflow_y": null,
            "padding": null,
            "right": null,
            "top": null,
            "visibility": null,
            "width": null
          }
        },
        "4f5411857bb045289cfac1fb3b4bca80": {
          "model_module": "@jupyter-widgets/controls",
          "model_name": "ProgressStyleModel",
          "model_module_version": "1.5.0",
          "state": {
            "_model_module": "@jupyter-widgets/controls",
            "_model_module_version": "1.5.0",
            "_model_name": "ProgressStyleModel",
            "_view_count": null,
            "_view_module": "@jupyter-widgets/base",
            "_view_module_version": "1.2.0",
            "_view_name": "StyleView",
            "bar_color": null,
            "description_width": ""
          }
        },
        "e38efc31b75246afbd07e05b13afe194": {
          "model_module": "@jupyter-widgets/base",
          "model_name": "LayoutModel",
          "model_module_version": "1.2.0",
          "state": {
            "_model_module": "@jupyter-widgets/base",
            "_model_module_version": "1.2.0",
            "_model_name": "LayoutModel",
            "_view_count": null,
            "_view_module": "@jupyter-widgets/base",
            "_view_module_version": "1.2.0",
            "_view_name": "LayoutView",
            "align_content": null,
            "align_items": null,
            "align_self": null,
            "border": null,
            "bottom": null,
            "display": null,
            "flex": null,
            "flex_flow": null,
            "grid_area": null,
            "grid_auto_columns": null,
            "grid_auto_flow": null,
            "grid_auto_rows": null,
            "grid_column": null,
            "grid_gap": null,
            "grid_row": null,
            "grid_template_areas": null,
            "grid_template_columns": null,
            "grid_template_rows": null,
            "height": null,
            "justify_content": null,
            "justify_items": null,
            "left": null,
            "margin": null,
            "max_height": null,
            "max_width": null,
            "min_height": null,
            "min_width": null,
            "object_fit": null,
            "object_position": null,
            "order": null,
            "overflow": null,
            "overflow_x": null,
            "overflow_y": null,
            "padding": null,
            "right": null,
            "top": null,
            "visibility": null,
            "width": null
          }
        },
        "f2f6656d6da542a38ebfdc9d85fd5389": {
          "model_module": "@jupyter-widgets/controls",
          "model_name": "DescriptionStyleModel",
          "model_module_version": "1.5.0",
          "state": {
            "_model_module": "@jupyter-widgets/controls",
            "_model_module_version": "1.5.0",
            "_model_name": "DescriptionStyleModel",
            "_view_count": null,
            "_view_module": "@jupyter-widgets/base",
            "_view_module_version": "1.2.0",
            "_view_name": "StyleView",
            "description_width": ""
          }
        },
        "e0eea1519260475db14880cb7036c117": {
          "model_module": "@jupyter-widgets/controls",
          "model_name": "HBoxModel",
          "model_module_version": "1.5.0",
          "state": {
            "_dom_classes": [],
            "_model_module": "@jupyter-widgets/controls",
            "_model_module_version": "1.5.0",
            "_model_name": "HBoxModel",
            "_view_count": null,
            "_view_module": "@jupyter-widgets/controls",
            "_view_module_version": "1.5.0",
            "_view_name": "HBoxView",
            "box_style": "",
            "children": [
              "IPY_MODEL_69e9de5c04e14e0493dcbed7730f08f9",
              "IPY_MODEL_bc3a7a95f623405e914fc83ce5a50a1f",
              "IPY_MODEL_4cbeae23170545b0863a5f51bd796e45"
            ],
            "layout": "IPY_MODEL_335b98db3fc04b80b84e03980d3e5f09"
          }
        },
        "69e9de5c04e14e0493dcbed7730f08f9": {
          "model_module": "@jupyter-widgets/controls",
          "model_name": "HTMLModel",
          "model_module_version": "1.5.0",
          "state": {
            "_dom_classes": [],
            "_model_module": "@jupyter-widgets/controls",
            "_model_module_version": "1.5.0",
            "_model_name": "HTMLModel",
            "_view_count": null,
            "_view_module": "@jupyter-widgets/controls",
            "_view_module_version": "1.5.0",
            "_view_name": "HTMLView",
            "description": "",
            "description_tooltip": null,
            "layout": "IPY_MODEL_06cd1edafd95423982dc6572d81f3f72",
            "placeholder": "​",
            "style": "IPY_MODEL_cb16c63fee4540b2a46eb0497159188f",
            "value": "vocab.txt: 100%"
          }
        },
        "bc3a7a95f623405e914fc83ce5a50a1f": {
          "model_module": "@jupyter-widgets/controls",
          "model_name": "FloatProgressModel",
          "model_module_version": "1.5.0",
          "state": {
            "_dom_classes": [],
            "_model_module": "@jupyter-widgets/controls",
            "_model_module_version": "1.5.0",
            "_model_name": "FloatProgressModel",
            "_view_count": null,
            "_view_module": "@jupyter-widgets/controls",
            "_view_module_version": "1.5.0",
            "_view_name": "ProgressView",
            "bar_style": "success",
            "description": "",
            "description_tooltip": null,
            "layout": "IPY_MODEL_6d327456cc6748bbaf1b221d5b82f923",
            "max": 231508,
            "min": 0,
            "orientation": "horizontal",
            "style": "IPY_MODEL_6b1f01f7edfc49478b0dfbbd1f153f6c",
            "value": 231508
          }
        },
        "4cbeae23170545b0863a5f51bd796e45": {
          "model_module": "@jupyter-widgets/controls",
          "model_name": "HTMLModel",
          "model_module_version": "1.5.0",
          "state": {
            "_dom_classes": [],
            "_model_module": "@jupyter-widgets/controls",
            "_model_module_version": "1.5.0",
            "_model_name": "HTMLModel",
            "_view_count": null,
            "_view_module": "@jupyter-widgets/controls",
            "_view_module_version": "1.5.0",
            "_view_name": "HTMLView",
            "description": "",
            "description_tooltip": null,
            "layout": "IPY_MODEL_e3ae1db367b64978ab2beb573a8c075d",
            "placeholder": "​",
            "style": "IPY_MODEL_19e6da0bb9f44739b4c56b5fc279d1a8",
            "value": " 232k/232k [00:00&lt;00:00, 3.36MB/s]"
          }
        },
        "335b98db3fc04b80b84e03980d3e5f09": {
          "model_module": "@jupyter-widgets/base",
          "model_name": "LayoutModel",
          "model_module_version": "1.2.0",
          "state": {
            "_model_module": "@jupyter-widgets/base",
            "_model_module_version": "1.2.0",
            "_model_name": "LayoutModel",
            "_view_count": null,
            "_view_module": "@jupyter-widgets/base",
            "_view_module_version": "1.2.0",
            "_view_name": "LayoutView",
            "align_content": null,
            "align_items": null,
            "align_self": null,
            "border": null,
            "bottom": null,
            "display": null,
            "flex": null,
            "flex_flow": null,
            "grid_area": null,
            "grid_auto_columns": null,
            "grid_auto_flow": null,
            "grid_auto_rows": null,
            "grid_column": null,
            "grid_gap": null,
            "grid_row": null,
            "grid_template_areas": null,
            "grid_template_columns": null,
            "grid_template_rows": null,
            "height": null,
            "justify_content": null,
            "justify_items": null,
            "left": null,
            "margin": null,
            "max_height": null,
            "max_width": null,
            "min_height": null,
            "min_width": null,
            "object_fit": null,
            "object_position": null,
            "order": null,
            "overflow": null,
            "overflow_x": null,
            "overflow_y": null,
            "padding": null,
            "right": null,
            "top": null,
            "visibility": null,
            "width": null
          }
        },
        "06cd1edafd95423982dc6572d81f3f72": {
          "model_module": "@jupyter-widgets/base",
          "model_name": "LayoutModel",
          "model_module_version": "1.2.0",
          "state": {
            "_model_module": "@jupyter-widgets/base",
            "_model_module_version": "1.2.0",
            "_model_name": "LayoutModel",
            "_view_count": null,
            "_view_module": "@jupyter-widgets/base",
            "_view_module_version": "1.2.0",
            "_view_name": "LayoutView",
            "align_content": null,
            "align_items": null,
            "align_self": null,
            "border": null,
            "bottom": null,
            "display": null,
            "flex": null,
            "flex_flow": null,
            "grid_area": null,
            "grid_auto_columns": null,
            "grid_auto_flow": null,
            "grid_auto_rows": null,
            "grid_column": null,
            "grid_gap": null,
            "grid_row": null,
            "grid_template_areas": null,
            "grid_template_columns": null,
            "grid_template_rows": null,
            "height": null,
            "justify_content": null,
            "justify_items": null,
            "left": null,
            "margin": null,
            "max_height": null,
            "max_width": null,
            "min_height": null,
            "min_width": null,
            "object_fit": null,
            "object_position": null,
            "order": null,
            "overflow": null,
            "overflow_x": null,
            "overflow_y": null,
            "padding": null,
            "right": null,
            "top": null,
            "visibility": null,
            "width": null
          }
        },
        "cb16c63fee4540b2a46eb0497159188f": {
          "model_module": "@jupyter-widgets/controls",
          "model_name": "DescriptionStyleModel",
          "model_module_version": "1.5.0",
          "state": {
            "_model_module": "@jupyter-widgets/controls",
            "_model_module_version": "1.5.0",
            "_model_name": "DescriptionStyleModel",
            "_view_count": null,
            "_view_module": "@jupyter-widgets/base",
            "_view_module_version": "1.2.0",
            "_view_name": "StyleView",
            "description_width": ""
          }
        },
        "6d327456cc6748bbaf1b221d5b82f923": {
          "model_module": "@jupyter-widgets/base",
          "model_name": "LayoutModel",
          "model_module_version": "1.2.0",
          "state": {
            "_model_module": "@jupyter-widgets/base",
            "_model_module_version": "1.2.0",
            "_model_name": "LayoutModel",
            "_view_count": null,
            "_view_module": "@jupyter-widgets/base",
            "_view_module_version": "1.2.0",
            "_view_name": "LayoutView",
            "align_content": null,
            "align_items": null,
            "align_self": null,
            "border": null,
            "bottom": null,
            "display": null,
            "flex": null,
            "flex_flow": null,
            "grid_area": null,
            "grid_auto_columns": null,
            "grid_auto_flow": null,
            "grid_auto_rows": null,
            "grid_column": null,
            "grid_gap": null,
            "grid_row": null,
            "grid_template_areas": null,
            "grid_template_columns": null,
            "grid_template_rows": null,
            "height": null,
            "justify_content": null,
            "justify_items": null,
            "left": null,
            "margin": null,
            "max_height": null,
            "max_width": null,
            "min_height": null,
            "min_width": null,
            "object_fit": null,
            "object_position": null,
            "order": null,
            "overflow": null,
            "overflow_x": null,
            "overflow_y": null,
            "padding": null,
            "right": null,
            "top": null,
            "visibility": null,
            "width": null
          }
        },
        "6b1f01f7edfc49478b0dfbbd1f153f6c": {
          "model_module": "@jupyter-widgets/controls",
          "model_name": "ProgressStyleModel",
          "model_module_version": "1.5.0",
          "state": {
            "_model_module": "@jupyter-widgets/controls",
            "_model_module_version": "1.5.0",
            "_model_name": "ProgressStyleModel",
            "_view_count": null,
            "_view_module": "@jupyter-widgets/base",
            "_view_module_version": "1.2.0",
            "_view_name": "StyleView",
            "bar_color": null,
            "description_width": ""
          }
        },
        "e3ae1db367b64978ab2beb573a8c075d": {
          "model_module": "@jupyter-widgets/base",
          "model_name": "LayoutModel",
          "model_module_version": "1.2.0",
          "state": {
            "_model_module": "@jupyter-widgets/base",
            "_model_module_version": "1.2.0",
            "_model_name": "LayoutModel",
            "_view_count": null,
            "_view_module": "@jupyter-widgets/base",
            "_view_module_version": "1.2.0",
            "_view_name": "LayoutView",
            "align_content": null,
            "align_items": null,
            "align_self": null,
            "border": null,
            "bottom": null,
            "display": null,
            "flex": null,
            "flex_flow": null,
            "grid_area": null,
            "grid_auto_columns": null,
            "grid_auto_flow": null,
            "grid_auto_rows": null,
            "grid_column": null,
            "grid_gap": null,
            "grid_row": null,
            "grid_template_areas": null,
            "grid_template_columns": null,
            "grid_template_rows": null,
            "height": null,
            "justify_content": null,
            "justify_items": null,
            "left": null,
            "margin": null,
            "max_height": null,
            "max_width": null,
            "min_height": null,
            "min_width": null,
            "object_fit": null,
            "object_position": null,
            "order": null,
            "overflow": null,
            "overflow_x": null,
            "overflow_y": null,
            "padding": null,
            "right": null,
            "top": null,
            "visibility": null,
            "width": null
          }
        },
        "19e6da0bb9f44739b4c56b5fc279d1a8": {
          "model_module": "@jupyter-widgets/controls",
          "model_name": "DescriptionStyleModel",
          "model_module_version": "1.5.0",
          "state": {
            "_model_module": "@jupyter-widgets/controls",
            "_model_module_version": "1.5.0",
            "_model_name": "DescriptionStyleModel",
            "_view_count": null,
            "_view_module": "@jupyter-widgets/base",
            "_view_module_version": "1.2.0",
            "_view_name": "StyleView",
            "description_width": ""
          }
        },
        "939a7b1da4eb4304858fa6383b8eb0b5": {
          "model_module": "@jupyter-widgets/controls",
          "model_name": "HBoxModel",
          "model_module_version": "1.5.0",
          "state": {
            "_dom_classes": [],
            "_model_module": "@jupyter-widgets/controls",
            "_model_module_version": "1.5.0",
            "_model_name": "HBoxModel",
            "_view_count": null,
            "_view_module": "@jupyter-widgets/controls",
            "_view_module_version": "1.5.0",
            "_view_name": "HBoxView",
            "box_style": "",
            "children": [
              "IPY_MODEL_6e66393458a14458946cf2d07d981594",
              "IPY_MODEL_a8903c486e7e4fa39c80be38e726c6b1",
              "IPY_MODEL_58b9fb3a3cf742518c4277b147548465"
            ],
            "layout": "IPY_MODEL_5332ca0d8fb64e489ea488a058d63d6b"
          }
        },
        "6e66393458a14458946cf2d07d981594": {
          "model_module": "@jupyter-widgets/controls",
          "model_name": "HTMLModel",
          "model_module_version": "1.5.0",
          "state": {
            "_dom_classes": [],
            "_model_module": "@jupyter-widgets/controls",
            "_model_module_version": "1.5.0",
            "_model_name": "HTMLModel",
            "_view_count": null,
            "_view_module": "@jupyter-widgets/controls",
            "_view_module_version": "1.5.0",
            "_view_name": "HTMLView",
            "description": "",
            "description_tooltip": null,
            "layout": "IPY_MODEL_f29bed020dc64f509507d89e858a4c25",
            "placeholder": "​",
            "style": "IPY_MODEL_a8d5e1e9e882486cba150fba3a9f9016",
            "value": "special_tokens_map.json: 100%"
          }
        },
        "a8903c486e7e4fa39c80be38e726c6b1": {
          "model_module": "@jupyter-widgets/controls",
          "model_name": "FloatProgressModel",
          "model_module_version": "1.5.0",
          "state": {
            "_dom_classes": [],
            "_model_module": "@jupyter-widgets/controls",
            "_model_module_version": "1.5.0",
            "_model_name": "FloatProgressModel",
            "_view_count": null,
            "_view_module": "@jupyter-widgets/controls",
            "_view_module_version": "1.5.0",
            "_view_name": "ProgressView",
            "bar_style": "success",
            "description": "",
            "description_tooltip": null,
            "layout": "IPY_MODEL_434394de3ec14e7eb3e2f26f9b027330",
            "max": 112,
            "min": 0,
            "orientation": "horizontal",
            "style": "IPY_MODEL_34e70763bd8f457791b23522498d2cf1",
            "value": 112
          }
        },
        "58b9fb3a3cf742518c4277b147548465": {
          "model_module": "@jupyter-widgets/controls",
          "model_name": "HTMLModel",
          "model_module_version": "1.5.0",
          "state": {
            "_dom_classes": [],
            "_model_module": "@jupyter-widgets/controls",
            "_model_module_version": "1.5.0",
            "_model_name": "HTMLModel",
            "_view_count": null,
            "_view_module": "@jupyter-widgets/controls",
            "_view_module_version": "1.5.0",
            "_view_name": "HTMLView",
            "description": "",
            "description_tooltip": null,
            "layout": "IPY_MODEL_5b9f4fadec2448f18a7995cbbfe4fbe9",
            "placeholder": "​",
            "style": "IPY_MODEL_b940e5ca456f474a9dd8e0b42faa83d2",
            "value": " 112/112 [00:00&lt;00:00, 4.34kB/s]"
          }
        },
        "5332ca0d8fb64e489ea488a058d63d6b": {
          "model_module": "@jupyter-widgets/base",
          "model_name": "LayoutModel",
          "model_module_version": "1.2.0",
          "state": {
            "_model_module": "@jupyter-widgets/base",
            "_model_module_version": "1.2.0",
            "_model_name": "LayoutModel",
            "_view_count": null,
            "_view_module": "@jupyter-widgets/base",
            "_view_module_version": "1.2.0",
            "_view_name": "LayoutView",
            "align_content": null,
            "align_items": null,
            "align_self": null,
            "border": null,
            "bottom": null,
            "display": null,
            "flex": null,
            "flex_flow": null,
            "grid_area": null,
            "grid_auto_columns": null,
            "grid_auto_flow": null,
            "grid_auto_rows": null,
            "grid_column": null,
            "grid_gap": null,
            "grid_row": null,
            "grid_template_areas": null,
            "grid_template_columns": null,
            "grid_template_rows": null,
            "height": null,
            "justify_content": null,
            "justify_items": null,
            "left": null,
            "margin": null,
            "max_height": null,
            "max_width": null,
            "min_height": null,
            "min_width": null,
            "object_fit": null,
            "object_position": null,
            "order": null,
            "overflow": null,
            "overflow_x": null,
            "overflow_y": null,
            "padding": null,
            "right": null,
            "top": null,
            "visibility": null,
            "width": null
          }
        },
        "f29bed020dc64f509507d89e858a4c25": {
          "model_module": "@jupyter-widgets/base",
          "model_name": "LayoutModel",
          "model_module_version": "1.2.0",
          "state": {
            "_model_module": "@jupyter-widgets/base",
            "_model_module_version": "1.2.0",
            "_model_name": "LayoutModel",
            "_view_count": null,
            "_view_module": "@jupyter-widgets/base",
            "_view_module_version": "1.2.0",
            "_view_name": "LayoutView",
            "align_content": null,
            "align_items": null,
            "align_self": null,
            "border": null,
            "bottom": null,
            "display": null,
            "flex": null,
            "flex_flow": null,
            "grid_area": null,
            "grid_auto_columns": null,
            "grid_auto_flow": null,
            "grid_auto_rows": null,
            "grid_column": null,
            "grid_gap": null,
            "grid_row": null,
            "grid_template_areas": null,
            "grid_template_columns": null,
            "grid_template_rows": null,
            "height": null,
            "justify_content": null,
            "justify_items": null,
            "left": null,
            "margin": null,
            "max_height": null,
            "max_width": null,
            "min_height": null,
            "min_width": null,
            "object_fit": null,
            "object_position": null,
            "order": null,
            "overflow": null,
            "overflow_x": null,
            "overflow_y": null,
            "padding": null,
            "right": null,
            "top": null,
            "visibility": null,
            "width": null
          }
        },
        "a8d5e1e9e882486cba150fba3a9f9016": {
          "model_module": "@jupyter-widgets/controls",
          "model_name": "DescriptionStyleModel",
          "model_module_version": "1.5.0",
          "state": {
            "_model_module": "@jupyter-widgets/controls",
            "_model_module_version": "1.5.0",
            "_model_name": "DescriptionStyleModel",
            "_view_count": null,
            "_view_module": "@jupyter-widgets/base",
            "_view_module_version": "1.2.0",
            "_view_name": "StyleView",
            "description_width": ""
          }
        },
        "434394de3ec14e7eb3e2f26f9b027330": {
          "model_module": "@jupyter-widgets/base",
          "model_name": "LayoutModel",
          "model_module_version": "1.2.0",
          "state": {
            "_model_module": "@jupyter-widgets/base",
            "_model_module_version": "1.2.0",
            "_model_name": "LayoutModel",
            "_view_count": null,
            "_view_module": "@jupyter-widgets/base",
            "_view_module_version": "1.2.0",
            "_view_name": "LayoutView",
            "align_content": null,
            "align_items": null,
            "align_self": null,
            "border": null,
            "bottom": null,
            "display": null,
            "flex": null,
            "flex_flow": null,
            "grid_area": null,
            "grid_auto_columns": null,
            "grid_auto_flow": null,
            "grid_auto_rows": null,
            "grid_column": null,
            "grid_gap": null,
            "grid_row": null,
            "grid_template_areas": null,
            "grid_template_columns": null,
            "grid_template_rows": null,
            "height": null,
            "justify_content": null,
            "justify_items": null,
            "left": null,
            "margin": null,
            "max_height": null,
            "max_width": null,
            "min_height": null,
            "min_width": null,
            "object_fit": null,
            "object_position": null,
            "order": null,
            "overflow": null,
            "overflow_x": null,
            "overflow_y": null,
            "padding": null,
            "right": null,
            "top": null,
            "visibility": null,
            "width": null
          }
        },
        "34e70763bd8f457791b23522498d2cf1": {
          "model_module": "@jupyter-widgets/controls",
          "model_name": "ProgressStyleModel",
          "model_module_version": "1.5.0",
          "state": {
            "_model_module": "@jupyter-widgets/controls",
            "_model_module_version": "1.5.0",
            "_model_name": "ProgressStyleModel",
            "_view_count": null,
            "_view_module": "@jupyter-widgets/base",
            "_view_module_version": "1.2.0",
            "_view_name": "StyleView",
            "bar_color": null,
            "description_width": ""
          }
        },
        "5b9f4fadec2448f18a7995cbbfe4fbe9": {
          "model_module": "@jupyter-widgets/base",
          "model_name": "LayoutModel",
          "model_module_version": "1.2.0",
          "state": {
            "_model_module": "@jupyter-widgets/base",
            "_model_module_version": "1.2.0",
            "_model_name": "LayoutModel",
            "_view_count": null,
            "_view_module": "@jupyter-widgets/base",
            "_view_module_version": "1.2.0",
            "_view_name": "LayoutView",
            "align_content": null,
            "align_items": null,
            "align_self": null,
            "border": null,
            "bottom": null,
            "display": null,
            "flex": null,
            "flex_flow": null,
            "grid_area": null,
            "grid_auto_columns": null,
            "grid_auto_flow": null,
            "grid_auto_rows": null,
            "grid_column": null,
            "grid_gap": null,
            "grid_row": null,
            "grid_template_areas": null,
            "grid_template_columns": null,
            "grid_template_rows": null,
            "height": null,
            "justify_content": null,
            "justify_items": null,
            "left": null,
            "margin": null,
            "max_height": null,
            "max_width": null,
            "min_height": null,
            "min_width": null,
            "object_fit": null,
            "object_position": null,
            "order": null,
            "overflow": null,
            "overflow_x": null,
            "overflow_y": null,
            "padding": null,
            "right": null,
            "top": null,
            "visibility": null,
            "width": null
          }
        },
        "b940e5ca456f474a9dd8e0b42faa83d2": {
          "model_module": "@jupyter-widgets/controls",
          "model_name": "DescriptionStyleModel",
          "model_module_version": "1.5.0",
          "state": {
            "_model_module": "@jupyter-widgets/controls",
            "_model_module_version": "1.5.0",
            "_model_name": "DescriptionStyleModel",
            "_view_count": null,
            "_view_module": "@jupyter-widgets/base",
            "_view_module_version": "1.2.0",
            "_view_name": "StyleView",
            "description_width": ""
          }
        }
      }
    }
  },
  "cells": [
    {
      "cell_type": "markdown",
      "source": [
        "### PROBLEM STATEMENT\n",
        "\n",
        "Build a project in the insurance domain, similar to ‘Retrieval Augmented Generation’. The goal of the project will be to build a robust generative search system capable of effectively and accurately answering questions from various policy documents using LlamaIndex to build the generative search application."
      ],
      "metadata": {
        "id": "c-xUBCmOWmMI"
      }
    },
    {
      "cell_type": "markdown",
      "source": [
        "## Why LlamaIndex?\n",
        "\n",
        "LlamaIndex is an innovative data framework specially designed to support LLM-based RAG framework application development. It offers an advanced framework that empowers developers to integrate diverse data sources with large language models.\n",
        "\n",
        "LlamaIndex includes a variety of file formats, such as PDFs and PowerPoints, as well as applications like Notion and Slack and even databases like Postgres and MongoDB.\n",
        "\n",
        "The framework brings an array of connectors that assist in data ingestion, facilitating a seamless interaction with LLMs. Moreover, LlamaIndex boasts an efficient data retrieval and query interface.\n",
        "\n",
        "LlamaIndex enables developers to input any LLM prompt and, in return, receive an output that is both context-rich and knowledge-augmementation.\n",
        "![image.png](data:image/png;base64,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)\n",
        "\n",
        "\n",
        "#### Key Feature of LlamaIndex:\n",
        "*   Data connectors allow ingestion from various data sources and formats.\n",
        "*   It can synthesize data from multiple documents or heterogeneous data sources.\n",
        "* It provides numerous integrations with vector stores, ChatGPT plugins, tracing tools, LangChain, and more.\n",
        "\n",
        "\n",
        "\n"
      ],
      "metadata": {
        "id": "0My4ykRX04t3"
      }
    },
    {
      "cell_type": "markdown",
      "source": [
        "1. Install required libraries"
      ],
      "metadata": {
        "id": "Evr2iC30qzmu"
      }
    },
    {
      "cell_type": "code",
      "execution_count": 1,
      "metadata": {
        "id": "ONpIo3CzqIOK",
        "colab": {
          "base_uri": "https://localhost:8080/"
        },
        "outputId": "4d2f0219-8d9a-4672-c6d5-d29017d979fa",
        "collapsed": true
      },
      "outputs": [
        {
          "output_type": "stream",
          "name": "stdout",
          "text": [
            "Collecting llama-index\n",
            "  Downloading llama_index-0.11.12-py3-none-any.whl.metadata (11 kB)\n",
            "Collecting llama-index-agent-openai<0.4.0,>=0.3.4 (from llama-index)\n",
            "  Downloading llama_index_agent_openai-0.3.4-py3-none-any.whl.metadata (728 bytes)\n",
            "Collecting llama-index-cli<0.4.0,>=0.3.1 (from llama-index)\n",
            "  Downloading llama_index_cli-0.3.1-py3-none-any.whl.metadata (1.5 kB)\n",
            "Collecting llama-index-core<0.12.0,>=0.11.11 (from llama-index)\n",
            "  Downloading llama_index_core-0.11.12-py3-none-any.whl.metadata (2.4 kB)\n",
            "Collecting llama-index-embeddings-openai<0.3.0,>=0.2.4 (from llama-index)\n",
            "  Downloading llama_index_embeddings_openai-0.2.5-py3-none-any.whl.metadata (686 bytes)\n",
            "Collecting llama-index-indices-managed-llama-cloud>=0.3.0 (from llama-index)\n",
            "  Downloading llama_index_indices_managed_llama_cloud-0.3.1-py3-none-any.whl.metadata (3.8 kB)\n",
            "Collecting llama-index-legacy<0.10.0,>=0.9.48 (from llama-index)\n",
            "  Downloading llama_index_legacy-0.9.48.post3-py3-none-any.whl.metadata (8.5 kB)\n",
            "Collecting llama-index-llms-openai<0.3.0,>=0.2.9 (from llama-index)\n",
            "  Downloading llama_index_llms_openai-0.2.9-py3-none-any.whl.metadata (648 bytes)\n",
            "Collecting llama-index-multi-modal-llms-openai<0.3.0,>=0.2.0 (from llama-index)\n",
            "  Downloading llama_index_multi_modal_llms_openai-0.2.1-py3-none-any.whl.metadata (728 bytes)\n",
            "Collecting llama-index-program-openai<0.3.0,>=0.2.0 (from llama-index)\n",
            "  Downloading llama_index_program_openai-0.2.0-py3-none-any.whl.metadata (766 bytes)\n",
            "Collecting llama-index-question-gen-openai<0.3.0,>=0.2.0 (from llama-index)\n",
            "  Downloading llama_index_question_gen_openai-0.2.0-py3-none-any.whl.metadata (785 bytes)\n",
            "Collecting llama-index-readers-file<0.3.0,>=0.2.0 (from llama-index)\n",
            "  Downloading llama_index_readers_file-0.2.2-py3-none-any.whl.metadata (5.4 kB)\n",
            "Collecting llama-index-readers-llama-parse>=0.3.0 (from llama-index)\n",
            "  Downloading llama_index_readers_llama_parse-0.3.0-py3-none-any.whl.metadata (3.5 kB)\n",
            "Collecting nltk>3.8.1 (from llama-index)\n",
            "  Downloading nltk-3.9.1-py3-none-any.whl.metadata (2.9 kB)\n",
            "Collecting openai>=1.14.0 (from llama-index-agent-openai<0.4.0,>=0.3.4->llama-index)\n",
            "  Downloading openai-1.47.0-py3-none-any.whl.metadata (24 kB)\n",
            "Requirement already satisfied: PyYAML>=6.0.1 in /usr/local/lib/python3.10/dist-packages (from llama-index-core<0.12.0,>=0.11.11->llama-index) (6.0.2)\n",
            "Requirement already satisfied: SQLAlchemy>=1.4.49 in /usr/local/lib/python3.10/dist-packages (from SQLAlchemy[asyncio]>=1.4.49->llama-index-core<0.12.0,>=0.11.11->llama-index) (2.0.35)\n",
            "Requirement already satisfied: aiohttp<4.0.0,>=3.8.6 in /usr/local/lib/python3.10/dist-packages (from llama-index-core<0.12.0,>=0.11.11->llama-index) (3.10.5)\n",
            "Collecting dataclasses-json (from llama-index-core<0.12.0,>=0.11.11->llama-index)\n",
            "  Downloading dataclasses_json-0.6.7-py3-none-any.whl.metadata (25 kB)\n",
            "Collecting deprecated>=1.2.9.3 (from llama-index-core<0.12.0,>=0.11.11->llama-index)\n",
            "  Downloading Deprecated-1.2.14-py2.py3-none-any.whl.metadata (5.4 kB)\n",
            "Collecting dirtyjson<2.0.0,>=1.0.8 (from llama-index-core<0.12.0,>=0.11.11->llama-index)\n",
            "  Downloading dirtyjson-1.0.8-py3-none-any.whl.metadata (11 kB)\n",
            "Requirement already satisfied: fsspec>=2023.5.0 in /usr/local/lib/python3.10/dist-packages (from llama-index-core<0.12.0,>=0.11.11->llama-index) (2024.6.1)\n",
            "Collecting httpx (from llama-index-core<0.12.0,>=0.11.11->llama-index)\n",
            "  Downloading httpx-0.27.2-py3-none-any.whl.metadata (7.1 kB)\n",
            "Requirement already satisfied: nest-asyncio<2.0.0,>=1.5.8 in /usr/local/lib/python3.10/dist-packages (from llama-index-core<0.12.0,>=0.11.11->llama-index) (1.6.0)\n",
            "Requirement already satisfied: networkx>=3.0 in /usr/local/lib/python3.10/dist-packages (from llama-index-core<0.12.0,>=0.11.11->llama-index) (3.3)\n",
            "Requirement already satisfied: numpy<2.0.0 in /usr/local/lib/python3.10/dist-packages (from llama-index-core<0.12.0,>=0.11.11->llama-index) (1.26.4)\n",
            "Requirement already satisfied: pillow>=9.0.0 in /usr/local/lib/python3.10/dist-packages (from llama-index-core<0.12.0,>=0.11.11->llama-index) (10.4.0)\n",
            "Requirement already satisfied: pydantic<3.0.0,>=2.7.0 in /usr/local/lib/python3.10/dist-packages (from llama-index-core<0.12.0,>=0.11.11->llama-index) (2.9.2)\n",
            "Requirement already satisfied: requests>=2.31.0 in /usr/local/lib/python3.10/dist-packages (from llama-index-core<0.12.0,>=0.11.11->llama-index) (2.32.3)\n",
            "Collecting tenacity!=8.4.0,<9.0.0,>=8.2.0 (from llama-index-core<0.12.0,>=0.11.11->llama-index)\n",
            "  Downloading tenacity-8.5.0-py3-none-any.whl.metadata (1.2 kB)\n",
            "Collecting tiktoken>=0.3.3 (from llama-index-core<0.12.0,>=0.11.11->llama-index)\n",
            "  Downloading tiktoken-0.7.0-cp310-cp310-manylinux_2_17_x86_64.manylinux2014_x86_64.whl.metadata (6.6 kB)\n",
            "Requirement already satisfied: tqdm<5.0.0,>=4.66.1 in /usr/local/lib/python3.10/dist-packages (from llama-index-core<0.12.0,>=0.11.11->llama-index) (4.66.5)\n",
            "Requirement already satisfied: typing-extensions>=4.5.0 in /usr/local/lib/python3.10/dist-packages (from llama-index-core<0.12.0,>=0.11.11->llama-index) (4.12.2)\n",
            "Collecting typing-inspect>=0.8.0 (from llama-index-core<0.12.0,>=0.11.11->llama-index)\n",
            "  Downloading typing_inspect-0.9.0-py3-none-any.whl.metadata (1.5 kB)\n",
            "Requirement already satisfied: wrapt in /usr/local/lib/python3.10/dist-packages (from llama-index-core<0.12.0,>=0.11.11->llama-index) (1.16.0)\n",
            "Collecting llama-cloud>=0.0.11 (from llama-index-indices-managed-llama-cloud>=0.3.0->llama-index)\n",
            "  Downloading llama_cloud-0.0.17-py3-none-any.whl.metadata (751 bytes)\n",
            "Requirement already satisfied: pandas in /usr/local/lib/python3.10/dist-packages (from llama-index-legacy<0.10.0,>=0.9.48->llama-index) (2.1.4)\n",
            "Requirement already satisfied: beautifulsoup4<5.0.0,>=4.12.3 in /usr/local/lib/python3.10/dist-packages (from llama-index-readers-file<0.3.0,>=0.2.0->llama-index) (4.12.3)\n",
            "Collecting pypdf<5.0.0,>=4.0.1 (from llama-index-readers-file<0.3.0,>=0.2.0->llama-index)\n",
            "  Downloading pypdf-4.3.1-py3-none-any.whl.metadata (7.4 kB)\n",
            "Collecting striprtf<0.0.27,>=0.0.26 (from llama-index-readers-file<0.3.0,>=0.2.0->llama-index)\n",
            "  Downloading striprtf-0.0.26-py3-none-any.whl.metadata (2.1 kB)\n",
            "Collecting llama-parse>=0.5.0 (from llama-index-readers-llama-parse>=0.3.0->llama-index)\n",
            "  Downloading llama_parse-0.5.6-py3-none-any.whl.metadata (6.1 kB)\n",
            "Requirement already satisfied: click in /usr/local/lib/python3.10/dist-packages (from nltk>3.8.1->llama-index) (8.1.7)\n",
            "Requirement already satisfied: joblib in /usr/local/lib/python3.10/dist-packages (from nltk>3.8.1->llama-index) (1.4.2)\n",
            "Requirement already satisfied: regex>=2021.8.3 in /usr/local/lib/python3.10/dist-packages (from nltk>3.8.1->llama-index) (2024.9.11)\n",
            "Requirement already satisfied: aiohappyeyeballs>=2.3.0 in /usr/local/lib/python3.10/dist-packages (from aiohttp<4.0.0,>=3.8.6->llama-index-core<0.12.0,>=0.11.11->llama-index) (2.4.0)\n",
            "Requirement already satisfied: aiosignal>=1.1.2 in /usr/local/lib/python3.10/dist-packages (from aiohttp<4.0.0,>=3.8.6->llama-index-core<0.12.0,>=0.11.11->llama-index) (1.3.1)\n",
            "Requirement already satisfied: attrs>=17.3.0 in /usr/local/lib/python3.10/dist-packages (from aiohttp<4.0.0,>=3.8.6->llama-index-core<0.12.0,>=0.11.11->llama-index) (24.2.0)\n",
            "Requirement already satisfied: frozenlist>=1.1.1 in /usr/local/lib/python3.10/dist-packages (from aiohttp<4.0.0,>=3.8.6->llama-index-core<0.12.0,>=0.11.11->llama-index) (1.4.1)\n",
            "Requirement already satisfied: multidict<7.0,>=4.5 in /usr/local/lib/python3.10/dist-packages (from aiohttp<4.0.0,>=3.8.6->llama-index-core<0.12.0,>=0.11.11->llama-index) (6.1.0)\n",
            "Requirement already satisfied: yarl<2.0,>=1.0 in /usr/local/lib/python3.10/dist-packages (from aiohttp<4.0.0,>=3.8.6->llama-index-core<0.12.0,>=0.11.11->llama-index) (1.11.1)\n",
            "Requirement already satisfied: async-timeout<5.0,>=4.0 in /usr/local/lib/python3.10/dist-packages (from aiohttp<4.0.0,>=3.8.6->llama-index-core<0.12.0,>=0.11.11->llama-index) (4.0.3)\n",
            "Requirement already satisfied: soupsieve>1.2 in /usr/local/lib/python3.10/dist-packages (from beautifulsoup4<5.0.0,>=4.12.3->llama-index-readers-file<0.3.0,>=0.2.0->llama-index) (2.6)\n",
            "Requirement already satisfied: anyio in /usr/local/lib/python3.10/dist-packages (from httpx->llama-index-core<0.12.0,>=0.11.11->llama-index) (3.7.1)\n",
            "Requirement already satisfied: certifi in /usr/local/lib/python3.10/dist-packages (from httpx->llama-index-core<0.12.0,>=0.11.11->llama-index) (2024.8.30)\n",
            "Collecting httpcore==1.* (from httpx->llama-index-core<0.12.0,>=0.11.11->llama-index)\n",
            "  Downloading httpcore-1.0.5-py3-none-any.whl.metadata (20 kB)\n",
            "Requirement already satisfied: idna in /usr/local/lib/python3.10/dist-packages (from httpx->llama-index-core<0.12.0,>=0.11.11->llama-index) (3.10)\n",
            "Requirement already satisfied: sniffio in /usr/local/lib/python3.10/dist-packages (from httpx->llama-index-core<0.12.0,>=0.11.11->llama-index) (1.3.1)\n",
            "Collecting h11<0.15,>=0.13 (from httpcore==1.*->httpx->llama-index-core<0.12.0,>=0.11.11->llama-index)\n",
            "  Downloading h11-0.14.0-py3-none-any.whl.metadata (8.2 kB)\n",
            "Requirement already satisfied: distro<2,>=1.7.0 in /usr/lib/python3/dist-packages (from openai>=1.14.0->llama-index-agent-openai<0.4.0,>=0.3.4->llama-index) (1.7.0)\n",
            "Collecting jiter<1,>=0.4.0 (from openai>=1.14.0->llama-index-agent-openai<0.4.0,>=0.3.4->llama-index)\n",
            "  Downloading jiter-0.5.0-cp310-cp310-manylinux_2_17_x86_64.manylinux2014_x86_64.whl.metadata (3.6 kB)\n",
            "Requirement already satisfied: annotated-types>=0.6.0 in /usr/local/lib/python3.10/dist-packages (from pydantic<3.0.0,>=2.7.0->llama-index-core<0.12.0,>=0.11.11->llama-index) (0.7.0)\n",
            "Requirement already satisfied: pydantic-core==2.23.4 in /usr/local/lib/python3.10/dist-packages (from pydantic<3.0.0,>=2.7.0->llama-index-core<0.12.0,>=0.11.11->llama-index) (2.23.4)\n",
            "Requirement already satisfied: charset-normalizer<4,>=2 in /usr/local/lib/python3.10/dist-packages (from requests>=2.31.0->llama-index-core<0.12.0,>=0.11.11->llama-index) (3.3.2)\n",
            "Requirement already satisfied: urllib3<3,>=1.21.1 in /usr/local/lib/python3.10/dist-packages (from requests>=2.31.0->llama-index-core<0.12.0,>=0.11.11->llama-index) (2.0.7)\n",
            "Requirement already satisfied: greenlet!=0.4.17 in /usr/local/lib/python3.10/dist-packages (from SQLAlchemy>=1.4.49->SQLAlchemy[asyncio]>=1.4.49->llama-index-core<0.12.0,>=0.11.11->llama-index) (3.1.0)\n",
            "Collecting mypy-extensions>=0.3.0 (from typing-inspect>=0.8.0->llama-index-core<0.12.0,>=0.11.11->llama-index)\n",
            "  Downloading mypy_extensions-1.0.0-py3-none-any.whl.metadata (1.1 kB)\n",
            "Collecting marshmallow<4.0.0,>=3.18.0 (from dataclasses-json->llama-index-core<0.12.0,>=0.11.11->llama-index)\n",
            "  Downloading marshmallow-3.22.0-py3-none-any.whl.metadata (7.2 kB)\n",
            "Requirement already satisfied: python-dateutil>=2.8.2 in /usr/local/lib/python3.10/dist-packages (from pandas->llama-index-legacy<0.10.0,>=0.9.48->llama-index) (2.8.2)\n",
            "Requirement already satisfied: pytz>=2020.1 in /usr/local/lib/python3.10/dist-packages (from pandas->llama-index-legacy<0.10.0,>=0.9.48->llama-index) (2024.2)\n",
            "Requirement already satisfied: tzdata>=2022.1 in /usr/local/lib/python3.10/dist-packages (from pandas->llama-index-legacy<0.10.0,>=0.9.48->llama-index) (2024.1)\n",
            "Requirement already satisfied: exceptiongroup in /usr/local/lib/python3.10/dist-packages (from anyio->httpx->llama-index-core<0.12.0,>=0.11.11->llama-index) (1.2.2)\n",
            "Requirement already satisfied: packaging>=17.0 in /usr/local/lib/python3.10/dist-packages (from marshmallow<4.0.0,>=3.18.0->dataclasses-json->llama-index-core<0.12.0,>=0.11.11->llama-index) (24.1)\n",
            "Requirement already satisfied: six>=1.5 in /usr/local/lib/python3.10/dist-packages (from python-dateutil>=2.8.2->pandas->llama-index-legacy<0.10.0,>=0.9.48->llama-index) (1.16.0)\n",
            "Downloading llama_index-0.11.12-py3-none-any.whl (6.8 kB)\n",
            "Downloading llama_index_agent_openai-0.3.4-py3-none-any.whl (13 kB)\n",
            "Downloading llama_index_cli-0.3.1-py3-none-any.whl (27 kB)\n",
            "Downloading llama_index_core-0.11.12-py3-none-any.whl (1.6 MB)\n",
            "\u001b[2K   \u001b[90m━━━━━━━━━━━━━━━━━━━━━━━━━━━━━━━━━━━━━━━━\u001b[0m \u001b[32m1.6/1.6 MB\u001b[0m \u001b[31m8.0 MB/s\u001b[0m eta \u001b[36m0:00:00\u001b[0m\n",
            "\u001b[?25hDownloading llama_index_embeddings_openai-0.2.5-py3-none-any.whl (6.1 kB)\n",
            "Downloading llama_index_indices_managed_llama_cloud-0.3.1-py3-none-any.whl (10 kB)\n",
            "Downloading llama_index_legacy-0.9.48.post3-py3-none-any.whl (1.2 MB)\n",
            "\u001b[2K   \u001b[90m━━━━━━━━━━━━━━━━━━━━━━━━━━━━━━━━━━━━━━━━\u001b[0m \u001b[32m1.2/1.2 MB\u001b[0m \u001b[31m23.5 MB/s\u001b[0m eta \u001b[36m0:00:00\u001b[0m\n",
            "\u001b[?25hDownloading llama_index_llms_openai-0.2.9-py3-none-any.whl (12 kB)\n",
            "Downloading llama_index_multi_modal_llms_openai-0.2.1-py3-none-any.whl (5.9 kB)\n",
            "Downloading llama_index_program_openai-0.2.0-py3-none-any.whl (5.3 kB)\n",
            "Downloading llama_index_question_gen_openai-0.2.0-py3-none-any.whl (2.9 kB)\n",
            "Downloading llama_index_readers_file-0.2.2-py3-none-any.whl (38 kB)\n",
            "Downloading llama_index_readers_llama_parse-0.3.0-py3-none-any.whl (2.5 kB)\n",
            "Downloading nltk-3.9.1-py3-none-any.whl (1.5 MB)\n",
            "\u001b[2K   \u001b[90m━━━━━━━━━━━━━━━━━━━━━━━━━━━━━━━━━━━━━━━━\u001b[0m \u001b[32m1.5/1.5 MB\u001b[0m \u001b[31m37.1 MB/s\u001b[0m eta \u001b[36m0:00:00\u001b[0m\n",
            "\u001b[?25hDownloading Deprecated-1.2.14-py2.py3-none-any.whl (9.6 kB)\n",
            "Downloading dirtyjson-1.0.8-py3-none-any.whl (25 kB)\n",
            "Downloading llama_cloud-0.0.17-py3-none-any.whl (187 kB)\n",
            "\u001b[2K   \u001b[90m━━━━━━━━━━━━━━━━━━━━━━━━━━━━━━━━━━━━━━━━\u001b[0m \u001b[32m187.4/187.4 kB\u001b[0m \u001b[31m10.6 MB/s\u001b[0m eta \u001b[36m0:00:00\u001b[0m\n",
            "\u001b[?25hDownloading httpx-0.27.2-py3-none-any.whl (76 kB)\n",
            "\u001b[2K   \u001b[90m━━━━━━━━━━━━━━━━━━━━━━━━━━━━━━━━━━━━━━━━\u001b[0m \u001b[32m76.4/76.4 kB\u001b[0m \u001b[31m4.9 MB/s\u001b[0m eta \u001b[36m0:00:00\u001b[0m\n",
            "\u001b[?25hDownloading httpcore-1.0.5-py3-none-any.whl (77 kB)\n",
            "\u001b[2K   \u001b[90m━━━━━━━━━━━━━━━━━━━━━━━━━━━━━━━━━━━━━━━━\u001b[0m \u001b[32m77.9/77.9 kB\u001b[0m \u001b[31m1.4 MB/s\u001b[0m eta \u001b[36m0:00:00\u001b[0m\n",
            "\u001b[?25hDownloading llama_parse-0.5.6-py3-none-any.whl (10 kB)\n",
            "Downloading openai-1.47.0-py3-none-any.whl (375 kB)\n",
            "\u001b[2K   \u001b[90m━━━━━━━━━━━━━━━━━━━━━━━━━━━━━━━━━━━━━━━━\u001b[0m \u001b[32m375.6/375.6 kB\u001b[0m \u001b[31m7.0 MB/s\u001b[0m eta \u001b[36m0:00:00\u001b[0m\n",
            "\u001b[?25hDownloading pypdf-4.3.1-py3-none-any.whl (295 kB)\n",
            "\u001b[2K   \u001b[90m━━━━━━━━━━━━━━━━━━━━━━━━━━━━━━━━━━━━━━━━\u001b[0m \u001b[32m295.8/295.8 kB\u001b[0m \u001b[31m12.0 MB/s\u001b[0m eta \u001b[36m0:00:00\u001b[0m\n",
            "\u001b[?25hDownloading striprtf-0.0.26-py3-none-any.whl (6.9 kB)\n",
            "Downloading tenacity-8.5.0-py3-none-any.whl (28 kB)\n",
            "Downloading tiktoken-0.7.0-cp310-cp310-manylinux_2_17_x86_64.manylinux2014_x86_64.whl (1.1 MB)\n",
            "\u001b[2K   \u001b[90m━━━━━━━━━━━━━━━━━━━━━━━━━━━━━━━━━━━━━━━━\u001b[0m \u001b[32m1.1/1.1 MB\u001b[0m \u001b[31m36.1 MB/s\u001b[0m eta \u001b[36m0:00:00\u001b[0m\n",
            "\u001b[?25hDownloading typing_inspect-0.9.0-py3-none-any.whl (8.8 kB)\n",
            "Downloading dataclasses_json-0.6.7-py3-none-any.whl (28 kB)\n",
            "Downloading jiter-0.5.0-cp310-cp310-manylinux_2_17_x86_64.manylinux2014_x86_64.whl (318 kB)\n",
            "\u001b[2K   \u001b[90m━━━━━━━━━━━━━━━━━━━━━━━━━━━━━━━━━━━━━━━━\u001b[0m \u001b[32m318.9/318.9 kB\u001b[0m \u001b[31m4.3 MB/s\u001b[0m eta \u001b[36m0:00:00\u001b[0m\n",
            "\u001b[?25hDownloading marshmallow-3.22.0-py3-none-any.whl (49 kB)\n",
            "\u001b[2K   \u001b[90m━━━━━━━━━━━━━━━━━━━━━━━━━━━━━━━━━━━━━━━━\u001b[0m \u001b[32m49.3/49.3 kB\u001b[0m \u001b[31m2.5 MB/s\u001b[0m eta \u001b[36m0:00:00\u001b[0m\n",
            "\u001b[?25hDownloading mypy_extensions-1.0.0-py3-none-any.whl (4.7 kB)\n",
            "Downloading h11-0.14.0-py3-none-any.whl (58 kB)\n",
            "\u001b[2K   \u001b[90m━━━━━━━━━━━━━━━━━━━━━━━━━━━━━━━━━━━━━━━━\u001b[0m \u001b[32m58.3/58.3 kB\u001b[0m \u001b[31m4.3 MB/s\u001b[0m eta \u001b[36m0:00:00\u001b[0m\n",
            "\u001b[?25hInstalling collected packages: striprtf, dirtyjson, tenacity, pypdf, nltk, mypy-extensions, marshmallow, jiter, h11, deprecated, typing-inspect, tiktoken, httpcore, httpx, dataclasses-json, openai, llama-index-core, llama-cloud, llama-parse, llama-index-readers-file, llama-index-llms-openai, llama-index-legacy, llama-index-indices-managed-llama-cloud, llama-index-embeddings-openai, llama-index-readers-llama-parse, llama-index-multi-modal-llms-openai, llama-index-cli, llama-index-agent-openai, llama-index-program-openai, llama-index-question-gen-openai, llama-index\n",
            "  Attempting uninstall: tenacity\n",
            "    Found existing installation: tenacity 9.0.0\n",
            "    Uninstalling tenacity-9.0.0:\n",
            "      Successfully uninstalled tenacity-9.0.0\n",
            "  Attempting uninstall: nltk\n",
            "    Found existing installation: nltk 3.8.1\n",
            "    Uninstalling nltk-3.8.1:\n",
            "      Successfully uninstalled nltk-3.8.1\n",
            "Successfully installed dataclasses-json-0.6.7 deprecated-1.2.14 dirtyjson-1.0.8 h11-0.14.0 httpcore-1.0.5 httpx-0.27.2 jiter-0.5.0 llama-cloud-0.0.17 llama-index-0.11.12 llama-index-agent-openai-0.3.4 llama-index-cli-0.3.1 llama-index-core-0.11.12 llama-index-embeddings-openai-0.2.5 llama-index-indices-managed-llama-cloud-0.3.1 llama-index-legacy-0.9.48.post3 llama-index-llms-openai-0.2.9 llama-index-multi-modal-llms-openai-0.2.1 llama-index-program-openai-0.2.0 llama-index-question-gen-openai-0.2.0 llama-index-readers-file-0.2.2 llama-index-readers-llama-parse-0.3.0 llama-parse-0.5.6 marshmallow-3.22.0 mypy-extensions-1.0.0 nltk-3.9.1 openai-1.47.0 pypdf-4.3.1 striprtf-0.0.26 tenacity-8.5.0 tiktoken-0.7.0 typing-inspect-0.9.0\n",
            "Requirement already satisfied: openai in /usr/local/lib/python3.10/dist-packages (1.47.0)\n",
            "Requirement already satisfied: anyio<5,>=3.5.0 in /usr/local/lib/python3.10/dist-packages (from openai) (3.7.1)\n",
            "Requirement already satisfied: distro<2,>=1.7.0 in /usr/lib/python3/dist-packages (from openai) (1.7.0)\n",
            "Requirement already satisfied: httpx<1,>=0.23.0 in /usr/local/lib/python3.10/dist-packages (from openai) (0.27.2)\n",
            "Requirement already satisfied: jiter<1,>=0.4.0 in /usr/local/lib/python3.10/dist-packages (from openai) (0.5.0)\n",
            "Requirement already satisfied: pydantic<3,>=1.9.0 in /usr/local/lib/python3.10/dist-packages (from openai) (2.9.2)\n",
            "Requirement already satisfied: sniffio in /usr/local/lib/python3.10/dist-packages (from openai) (1.3.1)\n",
            "Requirement already satisfied: tqdm>4 in /usr/local/lib/python3.10/dist-packages (from openai) (4.66.5)\n",
            "Requirement already satisfied: typing-extensions<5,>=4.11 in /usr/local/lib/python3.10/dist-packages (from openai) (4.12.2)\n",
            "Requirement already satisfied: idna>=2.8 in /usr/local/lib/python3.10/dist-packages (from anyio<5,>=3.5.0->openai) (3.10)\n",
            "Requirement already satisfied: exceptiongroup in /usr/local/lib/python3.10/dist-packages (from anyio<5,>=3.5.0->openai) (1.2.2)\n",
            "Requirement already satisfied: certifi in /usr/local/lib/python3.10/dist-packages (from httpx<1,>=0.23.0->openai) (2024.8.30)\n",
            "Requirement already satisfied: httpcore==1.* in /usr/local/lib/python3.10/dist-packages (from httpx<1,>=0.23.0->openai) (1.0.5)\n",
            "Requirement already satisfied: h11<0.15,>=0.13 in /usr/local/lib/python3.10/dist-packages (from httpcore==1.*->httpx<1,>=0.23.0->openai) (0.14.0)\n",
            "Requirement already satisfied: annotated-types>=0.6.0 in /usr/local/lib/python3.10/dist-packages (from pydantic<3,>=1.9.0->openai) (0.7.0)\n",
            "Requirement already satisfied: pydantic-core==2.23.4 in /usr/local/lib/python3.10/dist-packages (from pydantic<3,>=1.9.0->openai) (2.23.4)\n",
            "Requirement already satisfied: pandas in /usr/local/lib/python3.10/dist-packages (2.1.4)\n",
            "Requirement already satisfied: numpy<2,>=1.22.4 in /usr/local/lib/python3.10/dist-packages (from pandas) (1.26.4)\n",
            "Requirement already satisfied: python-dateutil>=2.8.2 in /usr/local/lib/python3.10/dist-packages (from pandas) (2.8.2)\n",
            "Requirement already satisfied: pytz>=2020.1 in /usr/local/lib/python3.10/dist-packages (from pandas) (2024.2)\n",
            "Requirement already satisfied: tzdata>=2022.1 in /usr/local/lib/python3.10/dist-packages (from pandas) (2024.1)\n",
            "Requirement already satisfied: six>=1.5 in /usr/local/lib/python3.10/dist-packages (from python-dateutil>=2.8.2->pandas) (1.16.0)\n",
            "Requirement already satisfied: tqdm in /usr/local/lib/python3.10/dist-packages (4.66.5)\n",
            "Collecting llama-index-postprocessor-cohere-rerank\n",
            "  Downloading llama_index_postprocessor_cohere_rerank-0.2.1-py3-none-any.whl.metadata (723 bytes)\n",
            "Collecting cohere<6.0.0,>=5.1.1 (from llama-index-postprocessor-cohere-rerank)\n",
            "  Downloading cohere-5.9.4-py3-none-any.whl.metadata (3.4 kB)\n",
            "Requirement already satisfied: llama-index-core<0.12.0,>=0.11.0 in /usr/local/lib/python3.10/dist-packages (from llama-index-postprocessor-cohere-rerank) (0.11.12)\n",
            "Collecting boto3<2.0.0,>=1.34.0 (from cohere<6.0.0,>=5.1.1->llama-index-postprocessor-cohere-rerank)\n",
            "  Downloading boto3-1.35.24-py3-none-any.whl.metadata (6.6 kB)\n",
            "Collecting fastavro<2.0.0,>=1.9.4 (from cohere<6.0.0,>=5.1.1->llama-index-postprocessor-cohere-rerank)\n",
            "  Downloading fastavro-1.9.7-cp310-cp310-manylinux_2_17_x86_64.manylinux2014_x86_64.whl.metadata (5.5 kB)\n",
            "Requirement already satisfied: httpx>=0.21.2 in /usr/local/lib/python3.10/dist-packages (from cohere<6.0.0,>=5.1.1->llama-index-postprocessor-cohere-rerank) (0.27.2)\n",
            "Collecting httpx-sse==0.4.0 (from cohere<6.0.0,>=5.1.1->llama-index-postprocessor-cohere-rerank)\n",
            "  Downloading httpx_sse-0.4.0-py3-none-any.whl.metadata (9.0 kB)\n",
            "Collecting parameterized<0.10.0,>=0.9.0 (from cohere<6.0.0,>=5.1.1->llama-index-postprocessor-cohere-rerank)\n",
            "  Downloading parameterized-0.9.0-py2.py3-none-any.whl.metadata (18 kB)\n",
            "Requirement already satisfied: pydantic>=1.9.2 in /usr/local/lib/python3.10/dist-packages (from cohere<6.0.0,>=5.1.1->llama-index-postprocessor-cohere-rerank) (2.9.2)\n",
            "Requirement already satisfied: pydantic-core<3.0.0,>=2.18.2 in /usr/local/lib/python3.10/dist-packages (from cohere<6.0.0,>=5.1.1->llama-index-postprocessor-cohere-rerank) (2.23.4)\n",
            "Requirement already satisfied: requests<3.0.0,>=2.0.0 in /usr/local/lib/python3.10/dist-packages (from cohere<6.0.0,>=5.1.1->llama-index-postprocessor-cohere-rerank) (2.32.3)\n",
            "Requirement already satisfied: tokenizers<1,>=0.15 in /usr/local/lib/python3.10/dist-packages (from cohere<6.0.0,>=5.1.1->llama-index-postprocessor-cohere-rerank) (0.19.1)\n",
            "Collecting types-requests<3.0.0,>=2.0.0 (from cohere<6.0.0,>=5.1.1->llama-index-postprocessor-cohere-rerank)\n",
            "  Downloading types_requests-2.32.0.20240914-py3-none-any.whl.metadata (1.9 kB)\n",
            "Requirement already satisfied: typing_extensions>=4.0.0 in /usr/local/lib/python3.10/dist-packages (from cohere<6.0.0,>=5.1.1->llama-index-postprocessor-cohere-rerank) (4.12.2)\n",
            "Requirement already satisfied: PyYAML>=6.0.1 in /usr/local/lib/python3.10/dist-packages (from llama-index-core<0.12.0,>=0.11.0->llama-index-postprocessor-cohere-rerank) (6.0.2)\n",
            "Requirement already satisfied: SQLAlchemy>=1.4.49 in /usr/local/lib/python3.10/dist-packages (from SQLAlchemy[asyncio]>=1.4.49->llama-index-core<0.12.0,>=0.11.0->llama-index-postprocessor-cohere-rerank) (2.0.35)\n",
            "Requirement already satisfied: aiohttp<4.0.0,>=3.8.6 in /usr/local/lib/python3.10/dist-packages (from llama-index-core<0.12.0,>=0.11.0->llama-index-postprocessor-cohere-rerank) (3.10.5)\n",
            "Requirement already satisfied: dataclasses-json in /usr/local/lib/python3.10/dist-packages (from llama-index-core<0.12.0,>=0.11.0->llama-index-postprocessor-cohere-rerank) (0.6.7)\n",
            "Requirement already satisfied: deprecated>=1.2.9.3 in /usr/local/lib/python3.10/dist-packages (from llama-index-core<0.12.0,>=0.11.0->llama-index-postprocessor-cohere-rerank) (1.2.14)\n",
            "Requirement already satisfied: dirtyjson<2.0.0,>=1.0.8 in /usr/local/lib/python3.10/dist-packages (from llama-index-core<0.12.0,>=0.11.0->llama-index-postprocessor-cohere-rerank) (1.0.8)\n",
            "Requirement already satisfied: fsspec>=2023.5.0 in /usr/local/lib/python3.10/dist-packages (from llama-index-core<0.12.0,>=0.11.0->llama-index-postprocessor-cohere-rerank) (2024.6.1)\n",
            "Requirement already satisfied: nest-asyncio<2.0.0,>=1.5.8 in /usr/local/lib/python3.10/dist-packages (from llama-index-core<0.12.0,>=0.11.0->llama-index-postprocessor-cohere-rerank) (1.6.0)\n",
            "Requirement already satisfied: networkx>=3.0 in /usr/local/lib/python3.10/dist-packages (from llama-index-core<0.12.0,>=0.11.0->llama-index-postprocessor-cohere-rerank) (3.3)\n",
            "Requirement already satisfied: nltk>3.8.1 in /usr/local/lib/python3.10/dist-packages (from llama-index-core<0.12.0,>=0.11.0->llama-index-postprocessor-cohere-rerank) (3.9.1)\n",
            "Requirement already satisfied: numpy<2.0.0 in /usr/local/lib/python3.10/dist-packages (from llama-index-core<0.12.0,>=0.11.0->llama-index-postprocessor-cohere-rerank) (1.26.4)\n",
            "Requirement already satisfied: pillow>=9.0.0 in /usr/local/lib/python3.10/dist-packages (from llama-index-core<0.12.0,>=0.11.0->llama-index-postprocessor-cohere-rerank) (10.4.0)\n",
            "Requirement already satisfied: tenacity!=8.4.0,<9.0.0,>=8.2.0 in /usr/local/lib/python3.10/dist-packages (from llama-index-core<0.12.0,>=0.11.0->llama-index-postprocessor-cohere-rerank) (8.5.0)\n",
            "Requirement already satisfied: tiktoken>=0.3.3 in /usr/local/lib/python3.10/dist-packages (from llama-index-core<0.12.0,>=0.11.0->llama-index-postprocessor-cohere-rerank) (0.7.0)\n",
            "Requirement already satisfied: tqdm<5.0.0,>=4.66.1 in /usr/local/lib/python3.10/dist-packages (from llama-index-core<0.12.0,>=0.11.0->llama-index-postprocessor-cohere-rerank) (4.66.5)\n",
            "Requirement already satisfied: typing-inspect>=0.8.0 in /usr/local/lib/python3.10/dist-packages (from llama-index-core<0.12.0,>=0.11.0->llama-index-postprocessor-cohere-rerank) (0.9.0)\n",
            "Requirement already satisfied: wrapt in /usr/local/lib/python3.10/dist-packages (from llama-index-core<0.12.0,>=0.11.0->llama-index-postprocessor-cohere-rerank) (1.16.0)\n",
            "Requirement already satisfied: aiohappyeyeballs>=2.3.0 in /usr/local/lib/python3.10/dist-packages (from aiohttp<4.0.0,>=3.8.6->llama-index-core<0.12.0,>=0.11.0->llama-index-postprocessor-cohere-rerank) (2.4.0)\n",
            "Requirement already satisfied: aiosignal>=1.1.2 in /usr/local/lib/python3.10/dist-packages (from aiohttp<4.0.0,>=3.8.6->llama-index-core<0.12.0,>=0.11.0->llama-index-postprocessor-cohere-rerank) (1.3.1)\n",
            "Requirement already satisfied: attrs>=17.3.0 in /usr/local/lib/python3.10/dist-packages (from aiohttp<4.0.0,>=3.8.6->llama-index-core<0.12.0,>=0.11.0->llama-index-postprocessor-cohere-rerank) (24.2.0)\n",
            "Requirement already satisfied: frozenlist>=1.1.1 in /usr/local/lib/python3.10/dist-packages (from aiohttp<4.0.0,>=3.8.6->llama-index-core<0.12.0,>=0.11.0->llama-index-postprocessor-cohere-rerank) (1.4.1)\n",
            "Requirement already satisfied: multidict<7.0,>=4.5 in /usr/local/lib/python3.10/dist-packages (from aiohttp<4.0.0,>=3.8.6->llama-index-core<0.12.0,>=0.11.0->llama-index-postprocessor-cohere-rerank) (6.1.0)\n",
            "Requirement already satisfied: yarl<2.0,>=1.0 in /usr/local/lib/python3.10/dist-packages (from aiohttp<4.0.0,>=3.8.6->llama-index-core<0.12.0,>=0.11.0->llama-index-postprocessor-cohere-rerank) (1.11.1)\n",
            "Requirement already satisfied: async-timeout<5.0,>=4.0 in /usr/local/lib/python3.10/dist-packages (from aiohttp<4.0.0,>=3.8.6->llama-index-core<0.12.0,>=0.11.0->llama-index-postprocessor-cohere-rerank) (4.0.3)\n",
            "Collecting botocore<1.36.0,>=1.35.24 (from boto3<2.0.0,>=1.34.0->cohere<6.0.0,>=5.1.1->llama-index-postprocessor-cohere-rerank)\n",
            "  Downloading botocore-1.35.24-py3-none-any.whl.metadata (5.7 kB)\n",
            "Collecting jmespath<2.0.0,>=0.7.1 (from boto3<2.0.0,>=1.34.0->cohere<6.0.0,>=5.1.1->llama-index-postprocessor-cohere-rerank)\n",
            "  Downloading jmespath-1.0.1-py3-none-any.whl.metadata (7.6 kB)\n",
            "Collecting s3transfer<0.11.0,>=0.10.0 (from boto3<2.0.0,>=1.34.0->cohere<6.0.0,>=5.1.1->llama-index-postprocessor-cohere-rerank)\n",
            "  Downloading s3transfer-0.10.2-py3-none-any.whl.metadata (1.7 kB)\n",
            "Requirement already satisfied: anyio in /usr/local/lib/python3.10/dist-packages (from httpx>=0.21.2->cohere<6.0.0,>=5.1.1->llama-index-postprocessor-cohere-rerank) (3.7.1)\n",
            "Requirement already satisfied: certifi in /usr/local/lib/python3.10/dist-packages (from httpx>=0.21.2->cohere<6.0.0,>=5.1.1->llama-index-postprocessor-cohere-rerank) (2024.8.30)\n",
            "Requirement already satisfied: httpcore==1.* in /usr/local/lib/python3.10/dist-packages (from httpx>=0.21.2->cohere<6.0.0,>=5.1.1->llama-index-postprocessor-cohere-rerank) (1.0.5)\n",
            "Requirement already satisfied: idna in /usr/local/lib/python3.10/dist-packages (from httpx>=0.21.2->cohere<6.0.0,>=5.1.1->llama-index-postprocessor-cohere-rerank) (3.10)\n",
            "Requirement already satisfied: sniffio in /usr/local/lib/python3.10/dist-packages (from httpx>=0.21.2->cohere<6.0.0,>=5.1.1->llama-index-postprocessor-cohere-rerank) (1.3.1)\n",
            "Requirement already satisfied: h11<0.15,>=0.13 in /usr/local/lib/python3.10/dist-packages (from httpcore==1.*->httpx>=0.21.2->cohere<6.0.0,>=5.1.1->llama-index-postprocessor-cohere-rerank) (0.14.0)\n",
            "Requirement already satisfied: click in /usr/local/lib/python3.10/dist-packages (from nltk>3.8.1->llama-index-core<0.12.0,>=0.11.0->llama-index-postprocessor-cohere-rerank) (8.1.7)\n",
            "Requirement already satisfied: joblib in /usr/local/lib/python3.10/dist-packages (from nltk>3.8.1->llama-index-core<0.12.0,>=0.11.0->llama-index-postprocessor-cohere-rerank) (1.4.2)\n",
            "Requirement already satisfied: regex>=2021.8.3 in /usr/local/lib/python3.10/dist-packages (from nltk>3.8.1->llama-index-core<0.12.0,>=0.11.0->llama-index-postprocessor-cohere-rerank) (2024.9.11)\n",
            "Requirement already satisfied: annotated-types>=0.6.0 in /usr/local/lib/python3.10/dist-packages (from pydantic>=1.9.2->cohere<6.0.0,>=5.1.1->llama-index-postprocessor-cohere-rerank) (0.7.0)\n",
            "Requirement already satisfied: charset-normalizer<4,>=2 in /usr/local/lib/python3.10/dist-packages (from requests<3.0.0,>=2.0.0->cohere<6.0.0,>=5.1.1->llama-index-postprocessor-cohere-rerank) (3.3.2)\n",
            "Requirement already satisfied: urllib3<3,>=1.21.1 in /usr/local/lib/python3.10/dist-packages (from requests<3.0.0,>=2.0.0->cohere<6.0.0,>=5.1.1->llama-index-postprocessor-cohere-rerank) (2.0.7)\n",
            "Requirement already satisfied: greenlet!=0.4.17 in /usr/local/lib/python3.10/dist-packages (from SQLAlchemy>=1.4.49->SQLAlchemy[asyncio]>=1.4.49->llama-index-core<0.12.0,>=0.11.0->llama-index-postprocessor-cohere-rerank) (3.1.0)\n",
            "Requirement already satisfied: huggingface-hub<1.0,>=0.16.4 in /usr/local/lib/python3.10/dist-packages (from tokenizers<1,>=0.15->cohere<6.0.0,>=5.1.1->llama-index-postprocessor-cohere-rerank) (0.24.7)\n",
            "Requirement already satisfied: mypy-extensions>=0.3.0 in /usr/local/lib/python3.10/dist-packages (from typing-inspect>=0.8.0->llama-index-core<0.12.0,>=0.11.0->llama-index-postprocessor-cohere-rerank) (1.0.0)\n",
            "Requirement already satisfied: marshmallow<4.0.0,>=3.18.0 in /usr/local/lib/python3.10/dist-packages (from dataclasses-json->llama-index-core<0.12.0,>=0.11.0->llama-index-postprocessor-cohere-rerank) (3.22.0)\n",
            "Requirement already satisfied: python-dateutil<3.0.0,>=2.1 in /usr/local/lib/python3.10/dist-packages (from botocore<1.36.0,>=1.35.24->boto3<2.0.0,>=1.34.0->cohere<6.0.0,>=5.1.1->llama-index-postprocessor-cohere-rerank) (2.8.2)\n",
            "Requirement already satisfied: filelock in /usr/local/lib/python3.10/dist-packages (from huggingface-hub<1.0,>=0.16.4->tokenizers<1,>=0.15->cohere<6.0.0,>=5.1.1->llama-index-postprocessor-cohere-rerank) (3.16.1)\n",
            "Requirement already satisfied: packaging>=20.9 in /usr/local/lib/python3.10/dist-packages (from huggingface-hub<1.0,>=0.16.4->tokenizers<1,>=0.15->cohere<6.0.0,>=5.1.1->llama-index-postprocessor-cohere-rerank) (24.1)\n",
            "Requirement already satisfied: exceptiongroup in /usr/local/lib/python3.10/dist-packages (from anyio->httpx>=0.21.2->cohere<6.0.0,>=5.1.1->llama-index-postprocessor-cohere-rerank) (1.2.2)\n",
            "Requirement already satisfied: six>=1.5 in /usr/local/lib/python3.10/dist-packages (from python-dateutil<3.0.0,>=2.1->botocore<1.36.0,>=1.35.24->boto3<2.0.0,>=1.34.0->cohere<6.0.0,>=5.1.1->llama-index-postprocessor-cohere-rerank) (1.16.0)\n",
            "Downloading llama_index_postprocessor_cohere_rerank-0.2.1-py3-none-any.whl (2.9 kB)\n",
            "Downloading cohere-5.9.4-py3-none-any.whl (233 kB)\n",
            "\u001b[2K   \u001b[90m━━━━━━━━━━━━━━━━━━━━━━━━━━━━━━━━━━━━━━━━\u001b[0m \u001b[32m233.1/233.1 kB\u001b[0m \u001b[31m6.2 MB/s\u001b[0m eta \u001b[36m0:00:00\u001b[0m\n",
            "\u001b[?25hDownloading httpx_sse-0.4.0-py3-none-any.whl (7.8 kB)\n",
            "Downloading boto3-1.35.24-py3-none-any.whl (139 kB)\n",
            "\u001b[2K   \u001b[90m━━━━━━━━━━━━━━━━━━━━━━━━━━━━━━━━━━━━━━━━\u001b[0m \u001b[32m139.2/139.2 kB\u001b[0m \u001b[31m9.6 MB/s\u001b[0m eta \u001b[36m0:00:00\u001b[0m\n",
            "\u001b[?25hDownloading fastavro-1.9.7-cp310-cp310-manylinux_2_17_x86_64.manylinux2014_x86_64.whl (3.1 MB)\n",
            "\u001b[2K   \u001b[90m━━━━━━━━━━━━━━━━━━━━━━━━━━━━━━━━━━━━━━━━\u001b[0m \u001b[32m3.1/3.1 MB\u001b[0m \u001b[31m35.0 MB/s\u001b[0m eta \u001b[36m0:00:00\u001b[0m\n",
            "\u001b[?25hDownloading parameterized-0.9.0-py2.py3-none-any.whl (20 kB)\n",
            "Downloading types_requests-2.32.0.20240914-py3-none-any.whl (15 kB)\n",
            "Downloading botocore-1.35.24-py3-none-any.whl (12.6 MB)\n",
            "\u001b[2K   \u001b[90m━━━━━━━━━━━━━━━━━━━━━━━━━━━━━━━━━━━━━━━━\u001b[0m \u001b[32m12.6/12.6 MB\u001b[0m \u001b[31m82.2 MB/s\u001b[0m eta \u001b[36m0:00:00\u001b[0m\n",
            "\u001b[?25hDownloading jmespath-1.0.1-py3-none-any.whl (20 kB)\n",
            "Downloading s3transfer-0.10.2-py3-none-any.whl (82 kB)\n",
            "\u001b[2K   \u001b[90m━━━━━━━━━━━━━━━━━━━━━━━━━━━━━━━━━━━━━━━━\u001b[0m \u001b[32m82.7/82.7 kB\u001b[0m \u001b[31m5.4 MB/s\u001b[0m eta \u001b[36m0:00:00\u001b[0m\n",
            "\u001b[?25hInstalling collected packages: types-requests, parameterized, jmespath, httpx-sse, fastavro, botocore, s3transfer, boto3, cohere, llama-index-postprocessor-cohere-rerank\n",
            "Successfully installed boto3-1.35.24 botocore-1.35.24 cohere-5.9.4 fastavro-1.9.7 httpx-sse-0.4.0 jmespath-1.0.1 llama-index-postprocessor-cohere-rerank-0.2.1 parameterized-0.9.0 s3transfer-0.10.2 types-requests-2.32.0.20240914\n",
            "Requirement already satisfied: torch in /usr/local/lib/python3.10/dist-packages (2.4.1+cu121)\n",
            "Collecting sentence-transformers\n",
            "  Downloading sentence_transformers-3.1.1-py3-none-any.whl.metadata (10 kB)\n",
            "Requirement already satisfied: filelock in /usr/local/lib/python3.10/dist-packages (from torch) (3.16.1)\n",
            "Requirement already satisfied: typing-extensions>=4.8.0 in /usr/local/lib/python3.10/dist-packages (from torch) (4.12.2)\n",
            "Requirement already satisfied: sympy in /usr/local/lib/python3.10/dist-packages (from torch) (1.13.2)\n",
            "Requirement already satisfied: networkx in /usr/local/lib/python3.10/dist-packages (from torch) (3.3)\n",
            "Requirement already satisfied: jinja2 in /usr/local/lib/python3.10/dist-packages (from torch) (3.1.4)\n",
            "Requirement already satisfied: fsspec in /usr/local/lib/python3.10/dist-packages (from torch) (2024.6.1)\n",
            "Requirement already satisfied: transformers<5.0.0,>=4.38.0 in /usr/local/lib/python3.10/dist-packages (from sentence-transformers) (4.44.2)\n",
            "Requirement already satisfied: tqdm in /usr/local/lib/python3.10/dist-packages (from sentence-transformers) (4.66.5)\n",
            "Requirement already satisfied: scikit-learn in /usr/local/lib/python3.10/dist-packages (from sentence-transformers) (1.3.2)\n",
            "Requirement already satisfied: scipy in /usr/local/lib/python3.10/dist-packages (from sentence-transformers) (1.13.1)\n",
            "Requirement already satisfied: huggingface-hub>=0.19.3 in /usr/local/lib/python3.10/dist-packages (from sentence-transformers) (0.24.7)\n",
            "Requirement already satisfied: Pillow in /usr/local/lib/python3.10/dist-packages (from sentence-transformers) (10.4.0)\n",
            "Requirement already satisfied: packaging>=20.9 in /usr/local/lib/python3.10/dist-packages (from huggingface-hub>=0.19.3->sentence-transformers) (24.1)\n",
            "Requirement already satisfied: pyyaml>=5.1 in /usr/local/lib/python3.10/dist-packages (from huggingface-hub>=0.19.3->sentence-transformers) (6.0.2)\n",
            "Requirement already satisfied: requests in /usr/local/lib/python3.10/dist-packages (from huggingface-hub>=0.19.3->sentence-transformers) (2.32.3)\n",
            "Requirement already satisfied: numpy>=1.17 in /usr/local/lib/python3.10/dist-packages (from transformers<5.0.0,>=4.38.0->sentence-transformers) (1.26.4)\n",
            "Requirement already satisfied: regex!=2019.12.17 in /usr/local/lib/python3.10/dist-packages (from transformers<5.0.0,>=4.38.0->sentence-transformers) (2024.9.11)\n",
            "Requirement already satisfied: safetensors>=0.4.1 in /usr/local/lib/python3.10/dist-packages (from transformers<5.0.0,>=4.38.0->sentence-transformers) (0.4.5)\n",
            "Requirement already satisfied: tokenizers<0.20,>=0.19 in /usr/local/lib/python3.10/dist-packages (from transformers<5.0.0,>=4.38.0->sentence-transformers) (0.19.1)\n",
            "Requirement already satisfied: MarkupSafe>=2.0 in /usr/local/lib/python3.10/dist-packages (from jinja2->torch) (2.1.5)\n",
            "Requirement already satisfied: joblib>=1.1.1 in /usr/local/lib/python3.10/dist-packages (from scikit-learn->sentence-transformers) (1.4.2)\n",
            "Requirement already satisfied: threadpoolctl>=2.0.0 in /usr/local/lib/python3.10/dist-packages (from scikit-learn->sentence-transformers) (3.5.0)\n",
            "Requirement already satisfied: mpmath<1.4,>=1.1.0 in /usr/local/lib/python3.10/dist-packages (from sympy->torch) (1.3.0)\n",
            "Requirement already satisfied: charset-normalizer<4,>=2 in /usr/local/lib/python3.10/dist-packages (from requests->huggingface-hub>=0.19.3->sentence-transformers) (3.3.2)\n",
            "Requirement already satisfied: idna<4,>=2.5 in /usr/local/lib/python3.10/dist-packages (from requests->huggingface-hub>=0.19.3->sentence-transformers) (3.10)\n",
            "Requirement already satisfied: urllib3<3,>=1.21.1 in /usr/local/lib/python3.10/dist-packages (from requests->huggingface-hub>=0.19.3->sentence-transformers) (2.0.7)\n",
            "Requirement already satisfied: certifi>=2017.4.17 in /usr/local/lib/python3.10/dist-packages (from requests->huggingface-hub>=0.19.3->sentence-transformers) (2024.8.30)\n",
            "Downloading sentence_transformers-3.1.1-py3-none-any.whl (245 kB)\n",
            "\u001b[2K   \u001b[90m━━━━━━━━━━━━━━━━━━━━━━━━━━━━━━━━━━━━━━━━\u001b[0m \u001b[32m245.3/245.3 kB\u001b[0m \u001b[31m4.4 MB/s\u001b[0m eta \u001b[36m0:00:00\u001b[0m\n",
            "\u001b[?25hInstalling collected packages: sentence-transformers\n",
            "Successfully installed sentence-transformers-3.1.1\n",
            "Collecting diskcache\n",
            "  Downloading diskcache-5.6.3-py3-none-any.whl.metadata (20 kB)\n",
            "Downloading diskcache-5.6.3-py3-none-any.whl (45 kB)\n",
            "\u001b[2K   \u001b[90m━━━━━━━━━━━━━━━━━━━━━━━━━━━━━━━━━━━━━━━━\u001b[0m \u001b[32m45.5/45.5 kB\u001b[0m \u001b[31m1.9 MB/s\u001b[0m eta \u001b[36m0:00:00\u001b[0m\n",
            "\u001b[?25hInstalling collected packages: diskcache\n",
            "Successfully installed diskcache-5.6.3\n"
          ]
        }
      ],
      "source": [
        "!pip install llama-index\n",
        "!pip install openai\n",
        "!pip install pandas\n",
        "!pip install tqdm\n",
        "%pip install llama-index-postprocessor-cohere-rerank\n",
        "%pip install torch sentence-transformers\n",
        "%pip install diskcache"
      ]
    },
    {
      "cell_type": "markdown",
      "source": [
        "2. Import required libraries"
      ],
      "metadata": {
        "id": "56VuzZPMrRli"
      }
    },
    {
      "cell_type": "code",
      "source": [
        "import pandas as pd\n",
        "from llama_index.core import SimpleDirectoryReader , VectorStoreIndex, Document, ServiceContext\n",
        "from llama_index.core.node_parser import SimpleNodeParser\n",
        "import openai\n",
        "from tqdm import tqdm\n",
        "from google.colab import userdata\n",
        "from llama_index.core.evaluation import generate_question_context_pairs\n",
        "from llama_index.postprocessor.cohere_rerank import CohereRerank\n",
        "from llama_index.core.postprocessor import SimilarityPostprocessor\n",
        "from llama_index.core.postprocessor import SentenceTransformerRerank\n",
        "from llama_index.core.evaluation import (\n",
        "    CorrectnessEvaluator,\n",
        "    FaithfulnessEvaluator,\n",
        "    RelevancyEvaluator,\n",
        ")\n",
        "import re"
      ],
      "metadata": {
        "id": "5mZQT4rGrRL9"
      },
      "execution_count": 2,
      "outputs": []
    },
    {
      "cell_type": "code",
      "source": [
        "import nest_asyncio\n",
        "\n",
        "nest_asyncio.apply()"
      ],
      "metadata": {
        "id": "k5VX36cjdPIS"
      },
      "execution_count": 3,
      "outputs": []
    },
    {
      "cell_type": "code",
      "source": [
        "# Mount Google Drive\n",
        "from google.colab import drive\n",
        "drive.mount('/content/drive')"
      ],
      "metadata": {
        "colab": {
          "base_uri": "https://localhost:8080/"
        },
        "id": "cUBKMmewqZ7g",
        "outputId": "cb3f998c-f76d-4e15-b93e-aed7ca410da0"
      },
      "execution_count": 4,
      "outputs": [
        {
          "output_type": "stream",
          "name": "stdout",
          "text": [
            "Mounted at /content/drive\n"
          ]
        }
      ]
    },
    {
      "cell_type": "markdown",
      "source": [
        "3. Initialize OpenAI/Cohere with Key"
      ],
      "metadata": {
        "id": "qeuDwWaBtwGW"
      }
    },
    {
      "cell_type": "code",
      "source": [
        "#Read the API keys from userdata in collab.\n",
        "openai.api_key = userdata.get('OPENAI_API_KEY')\n",
        "# cohere_api_key = userdata.get('cohere_key')"
      ],
      "metadata": {
        "id": "-qqXPlCmqaCa"
      },
      "execution_count": 8,
      "outputs": []
    },
    {
      "cell_type": "markdown",
      "source": [
        "4. Loading pdf as document using SimpleDirectoryReader\n"
      ],
      "metadata": {
        "id": "oVa0XfWItrYB"
      }
    },
    {
      "cell_type": "code",
      "source": [
        "#Read all the pdfs from the below mention path.\n",
        "reader = SimpleDirectoryReader(input_dir=\"/content/drive/Othercomputers/My Laptop/AI-ML/EPG - AIML/GEN AI/Vector DB and RAG\", required_exts=[\".pdf\"])\n",
        "\n",
        "documents = reader.load_data()\n",
        "print(f\"Loaded {len(documents)} docs\")"
      ],
      "metadata": {
        "colab": {
          "base_uri": "https://localhost:8080/"
        },
        "id": "W1Vpy0qZqaEM",
        "outputId": "94d1ad43-2ad3-415b-f7fa-c77557416995"
      },
      "execution_count": 9,
      "outputs": [
        {
          "output_type": "stream",
          "name": "stdout",
          "text": [
            "Loaded 217 docs\n"
          ]
        }
      ]
    },
    {
      "cell_type": "markdown",
      "source": [
        "5. Parsing document into nodes"
      ],
      "metadata": {
        "id": "YH_Q-VVKuTiV"
      }
    },
    {
      "cell_type": "code",
      "source": [
        "# Initialize the parser and parse the documents into nodes\n",
        "parser = SimpleNodeParser.from_defaults()\n",
        "\n",
        "# Using tqdm to show progress for document parsing\n",
        "nodes = []\n",
        "for doc in tqdm(documents, desc=\"Parsing documents\"):\n",
        "    nodes.extend(parser.get_nodes_from_documents([doc]))"
      ],
      "metadata": {
        "colab": {
          "base_uri": "https://localhost:8080/"
        },
        "id": "BLLC1hcOqaJC",
        "outputId": "85342540-5bde-4a62-f779-60019acee6c9"
      },
      "execution_count": 10,
      "outputs": [
        {
          "output_type": "stream",
          "name": "stderr",
          "text": [
            "Parsing documents: 100%|██████████| 217/217 [00:00<00:00, 628.40it/s]\n"
          ]
        }
      ]
    },
    {
      "cell_type": "markdown",
      "source": [
        "6. Generating vector index for the nodes"
      ],
      "metadata": {
        "id": "irR4iIGgu0tY"
      }
    },
    {
      "cell_type": "code",
      "source": [
        "# Using tqdm to show progress for indexing\n",
        "index = VectorStoreIndex(nodes)"
      ],
      "metadata": {
        "id": "O2y9mOZIqaMM"
      },
      "execution_count": 11,
      "outputs": []
    },
    {
      "cell_type": "markdown",
      "source": [
        "7. Initialize Query engine"
      ],
      "metadata": {
        "id": "WymPW36qwVwF"
      }
    },
    {
      "cell_type": "code",
      "source": [
        "#Using Cohere Rerank\n",
        "# cohere_rerank = CohereRerank(api_key=cohere_api_key, top_n=3)"
      ],
      "metadata": {
        "id": "MRcAd0eQjjI8"
      },
      "execution_count": null,
      "outputs": []
    },
    {
      "cell_type": "code",
      "source": [
        "#Using SentenceTransformer Rerank\n",
        "rerank = SentenceTransformerRerank(\n",
        "    model=\"cross-encoder/ms-marco-MiniLM-L-2-v2\", top_n=3\n",
        ")"
      ],
      "metadata": {
        "id": "F2HqZlJ7rdmD",
        "colab": {
          "base_uri": "https://localhost:8080/",
          "height": 371,
          "referenced_widgets": [
            "113acc511b7c4dd4a9ef430fb06738a5",
            "bf60332fa05248c4adce09c093a8d44d",
            "e31e091857094dc58c4faa974b2c25ce",
            "9a74f6213d42411c86b58229e067fcff",
            "385032a22c0649aeac234cb5b9d1c860",
            "55c05dec765c4777a0e1b2014a3596bd",
            "c0e9cd111ebd4521984bed84bf920204",
            "e1593a73e8cf443f9a1369382d657db7",
            "a82467f732b14849b70be3bb3f69fd42",
            "98beed0b50fd4f888cfc4b1f4958911c",
            "d78d6715c92a478a8165de88c2a8fb41",
            "a9ddf4fdeed64ac698a8e20142b46a2d",
            "b6cec61e62ba43b1949c9057516e143a",
            "fbe6fdccbcbf4178a0a38a8a8d2a0ff8",
            "d036f5849c0f49848fbb20cda9f3d436",
            "51e1cf41e2d0432bb9875fd55f804e76",
            "7323259da5c34059b94caa1433000254",
            "2918b6a29ffd4fa2b371922227ce54fe",
            "24a4db762d454a199b1e28c029cf5764",
            "e912551c069246438c58978e889b1436",
            "2db077b5c3da4638a3f78be9ffbd88d4",
            "89ffef1964124312b5a43a9a6470dde8",
            "83cb5bda89c14ce3a2c711d55a4b965e",
            "fb7c93a983d6483bae172eadbffd437f",
            "35bd28639dc6460194365c181c2f7dfb",
            "4f694675f7cd4582b08fcb3ffa9d8ca1",
            "ef4170cfb77749f684d93c4944c3ce7a",
            "32e09e83c27146e2adbbb6dd5746e25c",
            "2abe1cc16f0142138397638f51ad91e9",
            "3c0ad41620b3433ca72a9dbf852c9d43",
            "4f5411857bb045289cfac1fb3b4bca80",
            "e38efc31b75246afbd07e05b13afe194",
            "f2f6656d6da542a38ebfdc9d85fd5389",
            "e0eea1519260475db14880cb7036c117",
            "69e9de5c04e14e0493dcbed7730f08f9",
            "bc3a7a95f623405e914fc83ce5a50a1f",
            "4cbeae23170545b0863a5f51bd796e45",
            "335b98db3fc04b80b84e03980d3e5f09",
            "06cd1edafd95423982dc6572d81f3f72",
            "cb16c63fee4540b2a46eb0497159188f",
            "6d327456cc6748bbaf1b221d5b82f923",
            "6b1f01f7edfc49478b0dfbbd1f153f6c",
            "e3ae1db367b64978ab2beb573a8c075d",
            "19e6da0bb9f44739b4c56b5fc279d1a8",
            "939a7b1da4eb4304858fa6383b8eb0b5",
            "6e66393458a14458946cf2d07d981594",
            "a8903c486e7e4fa39c80be38e726c6b1",
            "58b9fb3a3cf742518c4277b147548465",
            "5332ca0d8fb64e489ea488a058d63d6b",
            "f29bed020dc64f509507d89e858a4c25",
            "a8d5e1e9e882486cba150fba3a9f9016",
            "434394de3ec14e7eb3e2f26f9b027330",
            "34e70763bd8f457791b23522498d2cf1",
            "5b9f4fadec2448f18a7995cbbfe4fbe9",
            "b940e5ca456f474a9dd8e0b42faa83d2"
          ]
        },
        "outputId": "149db23f-567a-42b3-e82b-87e4b9d164a5"
      },
      "execution_count": 12,
      "outputs": [
        {
          "output_type": "stream",
          "name": "stderr",
          "text": [
            "/usr/local/lib/python3.10/dist-packages/sentence_transformers/cross_encoder/CrossEncoder.py:13: TqdmExperimentalWarning: Using `tqdm.autonotebook.tqdm` in notebook mode. Use `tqdm.tqdm` instead to force console mode (e.g. in jupyter console)\n",
            "  from tqdm.autonotebook import tqdm, trange\n",
            "/usr/local/lib/python3.10/dist-packages/huggingface_hub/utils/_token.py:89: UserWarning: \n",
            "The secret `HF_TOKEN` does not exist in your Colab secrets.\n",
            "To authenticate with the Hugging Face Hub, create a token in your settings tab (https://huggingface.co/settings/tokens), set it as secret in your Google Colab and restart your session.\n",
            "You will be able to reuse this secret in all of your notebooks.\n",
            "Please note that authentication is recommended but still optional to access public models or datasets.\n",
            "  warnings.warn(\n"
          ]
        },
        {
          "output_type": "display_data",
          "data": {
            "text/plain": [
              "config.json:   0%|          | 0.00/794 [00:00<?, ?B/s]"
            ],
            "application/vnd.jupyter.widget-view+json": {
              "version_major": 2,
              "version_minor": 0,
              "model_id": "113acc511b7c4dd4a9ef430fb06738a5"
            }
          },
          "metadata": {}
        },
        {
          "output_type": "display_data",
          "data": {
            "text/plain": [
              "pytorch_model.bin:   0%|          | 0.00/62.5M [00:00<?, ?B/s]"
            ],
            "application/vnd.jupyter.widget-view+json": {
              "version_major": 2,
              "version_minor": 0,
              "model_id": "a9ddf4fdeed64ac698a8e20142b46a2d"
            }
          },
          "metadata": {}
        },
        {
          "output_type": "display_data",
          "data": {
            "text/plain": [
              "tokenizer_config.json:   0%|          | 0.00/316 [00:00<?, ?B/s]"
            ],
            "application/vnd.jupyter.widget-view+json": {
              "version_major": 2,
              "version_minor": 0,
              "model_id": "83cb5bda89c14ce3a2c711d55a4b965e"
            }
          },
          "metadata": {}
        },
        {
          "output_type": "display_data",
          "data": {
            "text/plain": [
              "vocab.txt:   0%|          | 0.00/232k [00:00<?, ?B/s]"
            ],
            "application/vnd.jupyter.widget-view+json": {
              "version_major": 2,
              "version_minor": 0,
              "model_id": "e0eea1519260475db14880cb7036c117"
            }
          },
          "metadata": {}
        },
        {
          "output_type": "display_data",
          "data": {
            "text/plain": [
              "special_tokens_map.json:   0%|          | 0.00/112 [00:00<?, ?B/s]"
            ],
            "application/vnd.jupyter.widget-view+json": {
              "version_major": 2,
              "version_minor": 0,
              "model_id": "939a7b1da4eb4304858fa6383b8eb0b5"
            }
          },
          "metadata": {}
        },
        {
          "output_type": "stream",
          "name": "stderr",
          "text": [
            "/usr/local/lib/python3.10/dist-packages/transformers/tokenization_utils_base.py:1601: FutureWarning: `clean_up_tokenization_spaces` was not set. It will be set to `True` by default. This behavior will be depracted in transformers v4.45, and will be then set to `False` by default. For more details check this issue: https://github.com/huggingface/transformers/issues/31884\n",
            "  warnings.warn(\n"
          ]
        }
      ]
    },
    {
      "cell_type": "code",
      "source": [
        "# customizing the prompts.\n",
        "from llama_index.core import PromptTemplate\n",
        "\n",
        "text_qa_template_str = (\n",
        "    \"Context information is\"\n",
        "    \" below.\\n---------------------\\n{context_str}\\n---------------------\\nUsing\"\n",
        "    \" both the context information and also using your own knowledge, answer\"\n",
        "    \" the question: {query_str}\\nIf the context isn't helpful, you can also\"\n",
        "    \" answer the question on your own.\\n\"\n",
        ")\n",
        "text_qa_template = PromptTemplate(text_qa_template_str)\n",
        "\n",
        "\n",
        "refine_template_str = (\n",
        "    \"The original question is as follows: {query_str}\\nWe have provided an\"\n",
        "    \" existing answer: {existing_answer}\\nWe have the opportunity to refine\"\n",
        "    \" the existing answer (only if needed) with some more context\"\n",
        "    \" below.\\n------------\\n{context_msg}\\n------------\\nUsing both the new\"\n",
        "    \" context and your own knowledge, update or repeat the existing answer.\\n\"\n",
        ")\n",
        "refine_template = PromptTemplate(refine_template_str)"
      ],
      "metadata": {
        "id": "4XJMOSelhrFR"
      },
      "execution_count": 13,
      "outputs": []
    },
    {
      "cell_type": "code",
      "source": [
        "# Create the query engine from the index\n",
        "from llama_index.llms.openai import OpenAI\n",
        "gpt35_llm = OpenAI(model=\"gpt-3.5-turbo\", max_tokens=256)\n",
        "gpt4_llm = OpenAI(model=\"gpt-4\", max_tokens=256)\n",
        "\n",
        "query_engine = index.as_query_engine(\n",
        "     similarity_top_k=10,\n",
        "        node_postprocessors=[rerank],\n",
        "        text_qa_template=text_qa_template,\n",
        "        refine_template=refine_template,\n",
        "        llm=gpt35_llm\n",
        ")\n"
      ],
      "metadata": {
        "id": "4-W0j9wxqaOe"
      },
      "execution_count": 14,
      "outputs": []
    },
    {
      "cell_type": "code",
      "source": [
        "from IPython.display import display, HTML\n",
        "# Query the engine.\n",
        "response = query_engine.query(\"What are the exclusions applicable to accidental death benefits in the policy?\")\n",
        "\n",
        "# print the synthesized response.\n",
        "display(HTML(f'<p style=\"font-size:20px\">{response.response}</p>'))"
      ],
      "metadata": {
        "colab": {
          "base_uri": "https://localhost:8080/",
          "height": 128
        },
        "id": "o6FraCX_qaPz",
        "outputId": "514147ff-6105-49d5-b3d1-0bdd41b8f478"
      },
      "execution_count": 15,
      "outputs": [
        {
          "output_type": "display_data",
          "data": {
            "text/plain": [
              "<IPython.core.display.HTML object>"
            ],
            "text/html": [
              "<p style=\"font-size:20px\">The exclusions applicable to accidental death benefits in the policy are as follows:\n",
              "1. No Accidental Death Benefit will be payable if the death of the Scheme Members occurs after 180 days from the date of Accident.\n",
              "2. Accidental Death Benefit will not be paid if the Accidental Death is caused by intentionally self-inflicted injury or suicide while sane or insane, alcohol or solvent abuse, taking drugs or narcotics without lawful prescription, engaging in hazardous activities such as professional sports, war, flying activities, criminal acts, etc.</p>"
            ]
          },
          "metadata": {}
        }
      ]
    },
    {
      "cell_type": "code",
      "source": [
        "dir(response)"
      ],
      "metadata": {
        "id": "7kVweVEwqaRt",
        "colab": {
          "base_uri": "https://localhost:8080/"
        },
        "outputId": "6a684506-45d7-4c6a-b33e-aa9dbfd11242"
      },
      "execution_count": 16,
      "outputs": [
        {
          "output_type": "execute_result",
          "data": {
            "text/plain": [
              "['__annotations__',\n",
              " '__class__',\n",
              " '__dataclass_fields__',\n",
              " '__dataclass_params__',\n",
              " '__delattr__',\n",
              " '__dict__',\n",
              " '__dir__',\n",
              " '__doc__',\n",
              " '__eq__',\n",
              " '__format__',\n",
              " '__ge__',\n",
              " '__getattribute__',\n",
              " '__gt__',\n",
              " '__hash__',\n",
              " '__init__',\n",
              " '__init_subclass__',\n",
              " '__le__',\n",
              " '__lt__',\n",
              " '__match_args__',\n",
              " '__module__',\n",
              " '__ne__',\n",
              " '__new__',\n",
              " '__reduce__',\n",
              " '__reduce_ex__',\n",
              " '__repr__',\n",
              " '__setattr__',\n",
              " '__sizeof__',\n",
              " '__str__',\n",
              " '__subclasshook__',\n",
              " '__weakref__',\n",
              " 'get_formatted_sources',\n",
              " 'metadata',\n",
              " 'response',\n",
              " 'source_nodes']"
            ]
          },
          "metadata": {},
          "execution_count": 16
        }
      ]
    },
    {
      "cell_type": "code",
      "source": [
        "response.metadata"
      ],
      "metadata": {
        "id": "E6HT2hVaqaTN",
        "colab": {
          "base_uri": "https://localhost:8080/"
        },
        "outputId": "e441a86e-ce28-4339-91e0-e6dc78f9adfc"
      },
      "execution_count": 17,
      "outputs": [
        {
          "output_type": "execute_result",
          "data": {
            "text/plain": [
              "{'7730bdac-0087-4e75-aa14-69673dbff41b': {'page_label': '15',\n",
              "  'file_name': 'HDFC-Life-Group-Poorna-Suraksha-101N137V02-Policy-Document.pdf',\n",
              "  'file_path': '/content/drive/Othercomputers/My Laptop/AI-ML/EPG - AIML/GEN AI/Vector DB and RAG/HDFC-Life-Group-Poorna-Suraksha-101N137V02-Policy-Document.pdf',\n",
              "  'file_type': 'application/pdf',\n",
              "  'file_size': 1371541,\n",
              "  'creation_date': '2024-09-23',\n",
              "  'last_modified_date': '2023-09-29'},\n",
              " '22c96717-55d2-413b-9054-9a11ea767f34': {'page_label': '4',\n",
              "  'file_name': 'HDFC-Life-Group-Poorna-Suraksha-101N137V02-Policy-Document.pdf',\n",
              "  'file_path': '/content/drive/Othercomputers/My Laptop/AI-ML/EPG - AIML/GEN AI/Vector DB and RAG/HDFC-Life-Group-Poorna-Suraksha-101N137V02-Policy-Document.pdf',\n",
              "  'file_type': 'application/pdf',\n",
              "  'file_size': 1371541,\n",
              "  'creation_date': '2024-09-23',\n",
              "  'last_modified_date': '2023-09-29'},\n",
              " '2614a2c3-db07-4508-838b-50556af4b236': {'page_label': '7',\n",
              "  'file_name': 'HDFC-Life-Group-Poorna-Suraksha-101N137V02-Policy-Document.pdf',\n",
              "  'file_path': '/content/drive/Othercomputers/My Laptop/AI-ML/EPG - AIML/GEN AI/Vector DB and RAG/HDFC-Life-Group-Poorna-Suraksha-101N137V02-Policy-Document.pdf',\n",
              "  'file_type': 'application/pdf',\n",
              "  'file_size': 1371541,\n",
              "  'creation_date': '2024-09-23',\n",
              "  'last_modified_date': '2023-09-29'}}"
            ]
          },
          "metadata": {},
          "execution_count": 17
        }
      ]
    },
    {
      "cell_type": "code",
      "source": [
        "response.source_nodes"
      ],
      "metadata": {
        "id": "qrJVZubFqaU6",
        "colab": {
          "base_uri": "https://localhost:8080/"
        },
        "outputId": "0e3f8ead-ff14-41d7-afb8-9c8399d9e314"
      },
      "execution_count": 18,
      "outputs": [
        {
          "output_type": "execute_result",
          "data": {
            "text/plain": [
              "[NodeWithScore(node=TextNode(id_='7730bdac-0087-4e75-aa14-69673dbff41b', embedding=None, metadata={'page_label': '15', 'file_name': 'HDFC-Life-Group-Poorna-Suraksha-101N137V02-Policy-Document.pdf', 'file_path': '/content/drive/Othercomputers/My Laptop/AI-ML/EPG - AIML/GEN AI/Vector DB and RAG/HDFC-Life-Group-Poorna-Suraksha-101N137V02-Policy-Document.pdf', 'file_type': 'application/pdf', 'file_size': 1371541, 'creation_date': '2024-09-23', 'last_modified_date': '2023-09-29'}, excluded_embed_metadata_keys=['file_name', 'file_type', 'file_size', 'creation_date', 'last_modified_date', 'last_accessed_date'], excluded_llm_metadata_keys=['file_name', 'file_type', 'file_size', 'creation_date', 'last_modified_date', 'last_accessed_date'], relationships={<NodeRelationship.SOURCE: '1'>: RelatedNodeInfo(node_id='d9e5e23e-1e8e-48f1-9683-ca118f0dd2de', node_type=<ObjectType.DOCUMENT: '4'>, metadata={'page_label': '15', 'file_name': 'HDFC-Life-Group-Poorna-Suraksha-101N137V02-Policy-Document.pdf', 'file_path': '/content/drive/Othercomputers/My Laptop/AI-ML/EPG - AIML/GEN AI/Vector DB and RAG/HDFC-Life-Group-Poorna-Suraksha-101N137V02-Policy-Document.pdf', 'file_type': 'application/pdf', 'file_size': 1371541, 'creation_date': '2024-09-23', 'last_modified_date': '2023-09-29'}, hash='249c246c7a855ff8a833ac27e683aa781b10e741ffe20a66a3a7e6b4eff40798')}, text='Page 15 of 31 \\n  \\nNote: For the purpose of waiting period, Date of commencement or inception of coverage for a benefit option \\nshall mean the date from which the member is covered under that benefit option. \\n \\niv. Accidental Death Benefit Exclusions: \\n1. No Accidental Death Benefit will be payable if the death of the Scheme Members occurs after 180 days \\nfrom the date of Accident. \\nSpecific Exclusions for this benefit are listed below \\nWe will not pay Accidental Death Benefit, if Accidental Death is caused from or due to  any of the \\nfollowing:  \\n\\uf0b7 Intentionally self-inflicted injury or suicide while sane or insane \\n\\uf0b7 Alcohol or Solvent abuse or taking of Drugs, narcotics or psychotropic substances unless taken in \\naccordance with the lawful directions and prescription of a registered medical practitioner. \\n\\uf0b7 Engaging in or taking part in professional sport(s) or any hazardous pursuits, power boat racing, sky \\ndiving, para gliding, parachuting, scuba diving, skydo riding, winter sports, sky jumping, ice hockey, \\nice speedway, ballooning, hand gliding, river rafting / bugging, black water rafting, yachting / \\nboating outside coastal waters, motor rallying, power lifting, quad biking, rodeo and roller hockey. \\n\\uf0b7 War, invasion, hostilities (whether war is declared or not), civil war, rebellion, revolution or taking \\npart in a riot or civil commotion. \\n\\uf0b7 Taking part in any flying activity, other than as a passenger in a commercially licensed aircraft. \\n\\uf0b7 Participation by the life assured in a criminal or unlawful act. \\n \\n \\n2. Claims Procedure: \\n(1) The Master Policyholder shall inform the Insurer within 30 days of the death/ illness of a Scheme \\nMember and shall file a claim with the Insurer on behalf of the Nominee of the deceased Scheme \\nMember in the form prescribed by the Insurer and accompanied by all relevant documents as may be \\nrequired by the Insurer, within 90 days from the date of death/ /illness. \\nHowever, the Insurer will condone the delay caused in intimation of claim where the claim is genuine \\nand the delay is proved to be for reasons beyond the control of the claimant. \\n(2) Subject to Part C Clause 1 sub-clause (1)(n), the Insurer shall pay the Claim amount in relation to the \\nDeath Benefit to the Nominee of the deceased Scheme Member in Single Life cases and to the \\nsurviving life in the Joint Life cases, who shall give a valid discharge/receipt for the same. If the \\nbenefit is in the form of an acceleration of the death benefit and the Scheme Member is alive, then the \\nbenefit shall be payable to the Scheme Member. \\n(3) The documents required for processing a claim are: \\nBasic documentation if death is due to Natural Cause: \\na. Completed claim form, (including NEFT details and bank account proof as specified in the claim \\nform); \\nb. Original Policy; \\nc. Original or copy Death Certificate issued by Municipal Authority/ Gram Panchayat / Tehsildar \\n(attested by issuing authority);  \\nd. Claimant’s identity and residence proof. \\ne. Certificate of Insurance as issued to the Scheme Member \\n \\nBasic Documentation if death is due to un-natural causes: \\na. Completed claim form, (including NEFT details and bank account proof as specified in the claim \\nform); \\na. Original Policy; \\nb. Original or copy Death Certificate issued by Municipal Authority/ Gram Panchayat / Tehsildar \\n(attested by issuing authority);  \\nc. Claimant’s identity and residence proof. \\nd. Certificate of Insurance as issued to the Scheme Member \\ne. Original or copy of First Information Report, Police Panchnama report attested by Police \\nauthorities; and  \\nf. Original or copy of Post mortem report attested by Hospital authority. \\n \\nNote: Depending on the circumstances of the death, further documents may be called for as we deem \\nfit. \\n. \\nCritical Illness Benefit Claim:', mimetype='text/plain', start_char_idx=2, end_char_idx=3809, text_template='{metadata_str}\\n\\n{content}', metadata_template='{key}: {value}', metadata_seperator='\\n'), score=4.735873),\n",
              " NodeWithScore(node=TextNode(id_='22c96717-55d2-413b-9054-9a11ea767f34', embedding=None, metadata={'page_label': '4', 'file_name': 'HDFC-Life-Group-Poorna-Suraksha-101N137V02-Policy-Document.pdf', 'file_path': '/content/drive/Othercomputers/My Laptop/AI-ML/EPG - AIML/GEN AI/Vector DB and RAG/HDFC-Life-Group-Poorna-Suraksha-101N137V02-Policy-Document.pdf', 'file_type': 'application/pdf', 'file_size': 1371541, 'creation_date': '2024-09-23', 'last_modified_date': '2023-09-29'}, excluded_embed_metadata_keys=['file_name', 'file_type', 'file_size', 'creation_date', 'last_modified_date', 'last_accessed_date'], excluded_llm_metadata_keys=['file_name', 'file_type', 'file_size', 'creation_date', 'last_modified_date', 'last_accessed_date'], relationships={<NodeRelationship.SOURCE: '1'>: RelatedNodeInfo(node_id='2808be51-389a-451c-850d-06057e861129', node_type=<ObjectType.DOCUMENT: '4'>, metadata={'page_label': '4', 'file_name': 'HDFC-Life-Group-Poorna-Suraksha-101N137V02-Policy-Document.pdf', 'file_path': '/content/drive/Othercomputers/My Laptop/AI-ML/EPG - AIML/GEN AI/Vector DB and RAG/HDFC-Life-Group-Poorna-Suraksha-101N137V02-Policy-Document.pdf', 'file_type': 'application/pdf', 'file_size': 1371541, 'creation_date': '2024-09-23', 'last_modified_date': '2023-09-29'}, hash='b8a3f875a24868b2b95b98653a44fc43f98d2d6de2f34c02ea2f434d6b57db47'), <NodeRelationship.NEXT: '3'>: RelatedNodeInfo(node_id='65cbfe13-c7d9-4719-9c3c-de0d0ddbc15f', node_type=<ObjectType.TEXT: '1'>, metadata={}, hash='c40c795daec794e00507e56acd0e7e1855979b40c3b574537526afbb5f4e6f86')}, text='Page 4 of 31 \\n  \\nPart B  \\nDefinitions \\nThe following capitalized terms wherever used in this Policy shall have the meaning given hereunder: \\n(1) Accident- means a sudden, unforeseen and involuntary event caused by external, visible and violent \\nmeans. \\n(2) Accidental Death  - means death by or due to a bodily injury caused by an Accident, independent of all \\nother causes of death and must be caused within 180 days of any bodily injury. \\n(3) Actively at work - An employee of the Company is said to be ‘Actively at Work’ if he/she meets both the \\nfollowing conditions: i) he/she is not absent on the grounds of ill health or maternity leave at the time of \\njoining the Scheme and ii) he/she has not have availed any leave on the grounds of ill-health for a continuous \\nperiod of fifteen (15) days or more in the year preceding his/her admission into the Scheme as applicable. \\n(4) Appointee  – means the person named by the Scheme Member and registered with us in accordance with \\nthe Nomination Schedule, who is authorized to receive the Death Benefit under this Policy on the death \\nof the Scheme Member while the Nominee is a minor  \\n(5) Assignee – means the person to whom the rights and benefits under this Policy are transferred by virtue \\nof assignment under section 38 of the Insurance Act, 1938, as amended from time to time \\n(6) Assignment – means a provision wherein the Scheme Member can assign or transfer a Policy in \\naccordance with Section 38 of the Insurance Act, 1938 as amended from time to time  \\n(7) Certificate of Insurance(COI)  -means the certificate issued to  the Scheme Member under this Master \\nPolicy evidencing proof of insurance and containing details regarding the validity period of cover, \\nbenefits and name of Nominee etc.  \\n(8) Company/Group/Master Policyholder - means the Company/Group named in the Policy Schedule as the \\nMaster Policyholder .  \\n(9) Compulsory Participation - Under Compulsory participation it is mandatory that all the \\nemployees/members of the Company/Group are covered under this Master Policy provided they satisfy \\nthe eligibility criteria set out in Part F Clause 5 (Eligibility) of the Master Policy.  \\n(10) Coverage Term  - means the period for which insurance cover is provided to individual Scheme Member \\nat the Entry Date.  \\n(11) Date of Inception   – means the date, as stated in the Policy Schedule, on which the Policy is first issued \\n(12) Death Benefit  - means the amount which is payable on death of Scheme Member in accordance with Part \\nC. \\n(13) Distance Marketing  - includes every activity of solicitation (including lead generation) and sale of \\ninsurance products through the following modes: (i) Voice mode, which includes telephone-calling; (ii) \\nShort Messaging service (SMS); (iii) Electronic mode which includes e-mail, internet and interactive \\ntelevision (DTH); (iv) Physical mode which includes direct postal mail and newspaper & magazine \\ninserts; and, (v) Solicitation through any means of communication other than in person . \\n(14) Effective Date - means the date from which the Scheme shall first commence as set out in the Schedule.  \\n(15) Eligible Person - means, any person who has satisfied the eligibility criteria set out Part F Clause 5 \\n(Eligibility) in the Master Policy.  \\n(16) Entry Date - in relation to a Scheme Member shall mean the actual date on which an Eligible Person is \\nadmitted by the Insurer as a Scheme Member.  \\n(17) Exit Date - means the date on which the insurance cover of the Scheme Member ceases due to occurrence \\nof any of the following events: a) Death of the Scheme Member; b) Master Policy being terminated; c) \\nEnd of Coverage Term; d) Surrender of Master Policy/Certificate of Insurance; e) Free Look Cancellation  \\n(18) Free Look Period  - means the period specified under Part D clause 9 from the receipt of the Policy \\nduring which Master Policyholder/Member can review the terms and conditions of this Policy and where \\nif the Master Policyholder/Member is not agreeable to any of the provisions stated in the Policy, he/ she \\nhas the option to return this Policy.', mimetype='text/plain', start_char_idx=2, end_char_idx=4103, text_template='{metadata_str}\\n\\n{content}', metadata_template='{key}: {value}', metadata_seperator='\\n'), score=2.6411328),\n",
              " NodeWithScore(node=TextNode(id_='2614a2c3-db07-4508-838b-50556af4b236', embedding=None, metadata={'page_label': '7', 'file_name': 'HDFC-Life-Group-Poorna-Suraksha-101N137V02-Policy-Document.pdf', 'file_path': '/content/drive/Othercomputers/My Laptop/AI-ML/EPG - AIML/GEN AI/Vector DB and RAG/HDFC-Life-Group-Poorna-Suraksha-101N137V02-Policy-Document.pdf', 'file_type': 'application/pdf', 'file_size': 1371541, 'creation_date': '2024-09-23', 'last_modified_date': '2023-09-29'}, excluded_embed_metadata_keys=['file_name', 'file_type', 'file_size', 'creation_date', 'last_modified_date', 'last_accessed_date'], excluded_llm_metadata_keys=['file_name', 'file_type', 'file_size', 'creation_date', 'last_modified_date', 'last_accessed_date'], relationships={<NodeRelationship.SOURCE: '1'>: RelatedNodeInfo(node_id='454f3dd5-fd1d-443f-a63d-fb18aafffe5b', node_type=<ObjectType.DOCUMENT: '4'>, metadata={'page_label': '7', 'file_name': 'HDFC-Life-Group-Poorna-Suraksha-101N137V02-Policy-Document.pdf', 'file_path': '/content/drive/Othercomputers/My Laptop/AI-ML/EPG - AIML/GEN AI/Vector DB and RAG/HDFC-Life-Group-Poorna-Suraksha-101N137V02-Policy-Document.pdf', 'file_type': 'application/pdf', 'file_size': 1371541, 'creation_date': '2024-09-23', 'last_modified_date': '2023-09-29'}, hash='9bd7cd3cc0319819e3bdf7a55a1d17129c369ac90c08fc6ef232a13367906f0a')}, text=\"Page 7 of 31 \\n Part C \\n1. Benefits: \\n \\n(1) Benefits on Death or diagnosis of contingency covered –  \\n \\nPlan Option Events Benefit \\nLife Death In the event of the death of the Scheme Member, the \\nbenefit payable shall be the Sum Assured.  \\nExtra Life Option Death In the event of the death of the Scheme Member, the \\nbenefit payable shall be the Sum Assured. \\nAccidental Death In event of the Scheme Member’s death due to \\nAccident, an additional death benefit equal to the Sum \\nAssured will be payable. \\nThis is in addition to the death benefit mentioned \\nabove  \\nAccelerated Critical Illness \\nOption \\n Death In the event of the death of the Scheme Member, the \\nbenefit payable shall be the Sum Assured. \\nDiagnosis of a \\nCritical Illness In the event of Scheme Member being diagnosed with \\nany of the covered Critical Illnesses during the Policy \\nTerm, the benefit payable shall be the Sum Assured \\nand the policy will terminate. \\n \\na. The Policy Term, Sum Assured, Cover option, and Mode of Premium Payment will be chosen by Scheme \\nMember and these may vary from one Scheme Member to another. \\nb. The Certificate of Insurance issued to a Scheme Member will set out the benefit payable in respect of that \\nScheme Member during the Coverage Term. \\nc. The benefits specified in the Certificate of Insurance are payable provided the Scheme Member’s death or \\nAccidental Death has occurred during the Coverage Term of the Scheme Member or in case of diagnosis of any \\none of the Critical Illnesses or undergoing any of the covered surgeries during the coverage term, subject to \\nMaster Policy being in force and all due Premiums, Taxes and any Other Levies been paid and subject to any \\nrestrictions or qualifications referred to in these Clauses. \\nd. If Accelerated Critical Illness Option is chosen, in the event of the Scheme Member being diagnosed on first \\noccurrence of any of the Critical Illness or undergoing any of the covered surgeries listed below during the \\ncoverage term, the Accelerated Critical Illness Benefit shall be payable under the Master Policy. After payment \\nof the Accelerated Critical Illness Benefit, the coverage of the Scheme Member shall cease and all benefits shall \\nexpire. \\ne. The covered Critical Illnesses under the Accelerated Critical Illness option are listed herein below and defined \\nunder Annexure IV of this Master Policy: \\nList of covered Critical Illnesses and surgeries \\n1. Myocardial Infarction \\n(First Heart Attack of \\nspecific severity) 2. Open Heart \\nReplacement or \\nRepair of Heart \\nValves 3. Cancer of \\nSpecified \\nSeverity 4. Kidney failure requiring \\nregular dialysis \\n5. Stroke resulting in \\npermanent symptoms  6. Alzheimer's \\nDisease 7. Apallic \\nSyndrome 8. Coma of specified severity \\n9. End Stage Liver \\nFailure  10. End Stage Lung \\nFailure  11. Loss of \\nIndependent \\nExistence 12. Blindness  \\n13. Third Degree Burns  14. Major Head \\nTrauma 15. Parkinson's \\nDisease  16. Permanent paralysis of limbs  \\n17. Multiple Sclerosis \\nwith persisting \\nsymptoms  18. Motor Neuron \\nDisease with \\npermanent \\nsymptoms  19. Benign Brain \\nTumour  20. Major Organ Transplant (as \\nrecipient)\", mimetype='text/plain', start_char_idx=2, end_char_idx=3132, text_template='{metadata_str}\\n\\n{content}', metadata_template='{key}: {value}', metadata_seperator='\\n'), score=2.4775283)]"
            ]
          },
          "metadata": {},
          "execution_count": 18
        }
      ]
    },
    {
      "cell_type": "code",
      "source": [
        "len(response.source_nodes)"
      ],
      "metadata": {
        "id": "HCvFFE32qaYd",
        "colab": {
          "base_uri": "https://localhost:8080/"
        },
        "outputId": "02c6ceca-cb3b-4103-c264-be9b10ad07ea"
      },
      "execution_count": 19,
      "outputs": [
        {
          "output_type": "execute_result",
          "data": {
            "text/plain": [
              "3"
            ]
          },
          "metadata": {},
          "execution_count": 19
        }
      ]
    },
    {
      "cell_type": "code",
      "source": [
        "print(response.source_nodes[0].node.metadata['file_name'])\n",
        "print(response.source_nodes[0].node.metadata['page_label'])"
      ],
      "metadata": {
        "id": "_4sM704MqacE",
        "colab": {
          "base_uri": "https://localhost:8080/"
        },
        "outputId": "9f782843-297f-4583-820e-bff2dd1443d3"
      },
      "execution_count": 20,
      "outputs": [
        {
          "output_type": "stream",
          "name": "stdout",
          "text": [
            "HDFC-Life-Group-Poorna-Suraksha-101N137V02-Policy-Document.pdf\n",
            "15\n"
          ]
        }
      ]
    },
    {
      "cell_type": "code",
      "source": [
        "# Extract the score\n",
        "print(response.source_nodes[0].score)"
      ],
      "metadata": {
        "id": "_2f31cIgqadc",
        "colab": {
          "base_uri": "https://localhost:8080/"
        },
        "outputId": "78073cb0-49e0-4649-cb46-71e7919418b4"
      },
      "execution_count": 21,
      "outputs": [
        {
          "output_type": "stream",
          "name": "stdout",
          "text": [
            "4.735873\n"
          ]
        }
      ]
    },
    {
      "cell_type": "code",
      "source": [
        "# Response Node Text\n",
        "response.source_nodes[0].node.text"
      ],
      "metadata": {
        "id": "_EhOe2TQqags",
        "colab": {
          "base_uri": "https://localhost:8080/",
          "height": 139
        },
        "outputId": "ca4a173f-f66e-44c8-c8a2-f33621f52869"
      },
      "execution_count": 22,
      "outputs": [
        {
          "output_type": "execute_result",
          "data": {
            "text/plain": [
              "'Page 15 of 31 \\n  \\nNote: For the purpose of waiting period, Date of commencement or inception of coverage for a benefit option \\nshall mean the date from which the member is covered under that benefit option. \\n \\niv. Accidental Death Benefit Exclusions: \\n1. No Accidental Death Benefit will be payable if the death of the Scheme Members occurs after 180 days \\nfrom the date of Accident. \\nSpecific Exclusions for this benefit are listed below \\nWe will not pay Accidental Death Benefit, if Accidental Death is caused from or due to  any of the \\nfollowing:  \\n\\uf0b7 Intentionally self-inflicted injury or suicide while sane or insane \\n\\uf0b7 Alcohol or Solvent abuse or taking of Drugs, narcotics or psychotropic substances unless taken in \\naccordance with the lawful directions and prescription of a registered medical practitioner. \\n\\uf0b7 Engaging in or taking part in professional sport(s) or any hazardous pursuits, power boat racing, sky \\ndiving, para gliding, parachuting, scuba diving, skydo riding, winter sports, sky jumping, ice hockey, \\nice speedway, ballooning, hand gliding, river rafting / bugging, black water rafting, yachting / \\nboating outside coastal waters, motor rallying, power lifting, quad biking, rodeo and roller hockey. \\n\\uf0b7 War, invasion, hostilities (whether war is declared or not), civil war, rebellion, revolution or taking \\npart in a riot or civil commotion. \\n\\uf0b7 Taking part in any flying activity, other than as a passenger in a commercially licensed aircraft. \\n\\uf0b7 Participation by the life assured in a criminal or unlawful act. \\n \\n \\n2. Claims Procedure: \\n(1) The Master Policyholder shall inform the Insurer within 30 days of the death/ illness of a Scheme \\nMember and shall file a claim with the Insurer on behalf of the Nominee of the deceased Scheme \\nMember in the form prescribed by the Insurer and accompanied by all relevant documents as may be \\nrequired by the Insurer, within 90 days from the date of death/ /illness. \\nHowever, the Insurer will condone the delay caused in intimation of claim where the claim is genuine \\nand the delay is proved to be for reasons beyond the control of the claimant. \\n(2) Subject to Part C Clause 1 sub-clause (1)(n), the Insurer shall pay the Claim amount in relation to the \\nDeath Benefit to the Nominee of the deceased Scheme Member in Single Life cases and to the \\nsurviving life in the Joint Life cases, who shall give a valid discharge/receipt for the same. If the \\nbenefit is in the form of an acceleration of the death benefit and the Scheme Member is alive, then the \\nbenefit shall be payable to the Scheme Member. \\n(3) The documents required for processing a claim are: \\nBasic documentation if death is due to Natural Cause: \\na. Completed claim form, (including NEFT details and bank account proof as specified in the claim \\nform); \\nb. Original Policy; \\nc. Original or copy Death Certificate issued by Municipal Authority/ Gram Panchayat / Tehsildar \\n(attested by issuing authority);  \\nd. Claimant’s identity and residence proof. \\ne. Certificate of Insurance as issued to the Scheme Member \\n \\nBasic Documentation if death is due to un-natural causes: \\na. Completed claim form, (including NEFT details and bank account proof as specified in the claim \\nform); \\na. Original Policy; \\nb. Original or copy Death Certificate issued by Municipal Authority/ Gram Panchayat / Tehsildar \\n(attested by issuing authority);  \\nc. Claimant’s identity and residence proof. \\nd. Certificate of Insurance as issued to the Scheme Member \\ne. Original or copy of First Information Report, Police Panchnama report attested by Police \\nauthorities; and  \\nf. Original or copy of Post mortem report attested by Hospital authority. \\n \\nNote: Depending on the circumstances of the death, further documents may be called for as we deem \\nfit. \\n. \\nCritical Illness Benefit Claim:'"
            ],
            "application/vnd.google.colaboratory.intrinsic+json": {
              "type": "string"
            }
          },
          "metadata": {},
          "execution_count": 22
        }
      ]
    },
    {
      "cell_type": "code",
      "source": [
        "print(response.source_nodes[0].node.metadata['file_name'] + \" Page No \" + response.source_nodes[0].node.metadata['page_label'])"
      ],
      "metadata": {
        "id": "xaIy_QNNqajD",
        "colab": {
          "base_uri": "https://localhost:8080/"
        },
        "outputId": "708e7df8-8dc0-4eb0-c5e4-5ce2297f13e2"
      },
      "execution_count": 23,
      "outputs": [
        {
          "output_type": "stream",
          "name": "stdout",
          "text": [
            "HDFC-Life-Group-Poorna-Suraksha-101N137V02-Policy-Document.pdf Page No 15\n"
          ]
        }
      ]
    },
    {
      "cell_type": "markdown",
      "source": [
        "Step 8. Generating Evaluators"
      ],
      "metadata": {
        "id": "NsGgx0srrn8C"
      }
    },
    {
      "cell_type": "code",
      "source": [
        "# Pass the LLM directly to the evaluator (or use any other necessary args)\n",
        "faithfulness_gpt4 = FaithfulnessEvaluator(llm=gpt4_llm)\n",
        "relevancy_gpt4 = RelevancyEvaluator(llm=gpt4_llm)\n",
        "correctness_gpt4 = CorrectnessEvaluator(llm=gpt4_llm)"
      ],
      "metadata": {
        "id": "t6yaUge6rmyi"
      },
      "execution_count": 24,
      "outputs": []
    },
    {
      "cell_type": "markdown",
      "source": [
        "Step 9: Creating response pipeline\n"
      ],
      "metadata": {
        "id": "kTuZVysdCgsk"
      }
    },
    {
      "cell_type": "code",
      "source": [
        "import openai\n",
        "import diskcache as dc\n",
        "\n",
        "#Using disk cache\n",
        "cache = dc.Cache('./gpt_cache')"
      ],
      "metadata": {
        "id": "AtobUzw8Io_o"
      },
      "execution_count": 25,
      "outputs": []
    },
    {
      "cell_type": "code",
      "source": [
        "# Query response function\n",
        "def query_response(user_input):\n",
        "    final_response=\"\"\n",
        "    cache_response=None\n",
        "    cache_response=cache.get(user_input)\n",
        "    if cache_response is None:\n",
        "      response=query_engine.query(user_input)\n",
        "      faithfulness_result = faithfulness_gpt4.evaluate_response(response=response)\n",
        "      relevancy_result = relevancy_gpt4.evaluate_response(query=user_input, response=response)\n",
        "      correctness_result = correctness_gpt4.evaluate_response(\n",
        "        query=user_input,\n",
        "        response=response,\n",
        "        )\n",
        "      print(\"Answer from LLM:\")\n",
        "      file_name = response.source_nodes[0].node.metadata['file_name'] + \" Page No \" + response.source_nodes[0].node.metadata['page_label'] + \"\\n\"\n",
        "      response = response.response + '\\nSimilarity score is :' + str(response.source_nodes[0].score) + \"\\n\" + f\"Faithfulness Score: {faithfulness_result.score}\\n\" + f\"Relevancy Score: {relevancy_result.score}\\n\" + f\"Correctness Score: {correctness_result.score}\\n\" + '\\nCheck further for document references at ' + file_name\n",
        "      cache.set(user_input, response)\n",
        "      final_response=response\n",
        "    else:\n",
        "      print(\"Answer  from cache:\")\n",
        "      final_response=cache_response\n",
        "\n",
        "    return final_response"
      ],
      "metadata": {
        "id": "QLCC3GH6brod"
      },
      "execution_count": 26,
      "outputs": []
    },
    {
      "cell_type": "code",
      "source": [
        "#Dynamic question answering function.\n",
        "def initialize_conv():\n",
        "  print(\"Feel free to ask questions related to insurance policies. Enter exit once you are done!\")\n",
        "  while True:\n",
        "    user_input=input()\n",
        "    if user_input.lower() == \"exit\":\n",
        "      print(\"Exiting the program. Bye!!!\")\n",
        "      break\n",
        "    else:\n",
        "      response=query_response(user_input)\n",
        "      print(response)"
      ],
      "metadata": {
        "id": "JvYh0qCDqamU"
      },
      "execution_count": 27,
      "outputs": []
    },
    {
      "cell_type": "code",
      "source": [
        "initialize_conv()"
      ],
      "metadata": {
        "id": "FcyCsaeOqark",
        "colab": {
          "base_uri": "https://localhost:8080/"
        },
        "outputId": "65a26a53-04b3-4d3b-999e-9416d774241d"
      },
      "execution_count": 29,
      "outputs": [
        {
          "output_type": "stream",
          "name": "stdout",
          "text": [
            "Feel free to ask questions related to insurance policies. Enter exit once you are done!\n",
            "Explain the significance of nomination in the insurance policy as per the provisions of the Insurance Act, 1938.\n",
            "Answer from LLM:\n",
            "Nomination in an insurance policy is a crucial aspect as per the provisions of the Insurance Act, 1938. It allows the policyholder to designate a person or persons who will receive the money secured by the policy in the event of the policyholder's death. This ensures that the intended beneficiaries receive the financial benefits of the policy without any ambiguity or dispute.\n",
            "\n",
            "The significance of nomination can be summarized as follows:\n",
            "1. Clarity and certainty: By nominating specific individuals, the policyholder ensures that there is clarity on who will receive the benefits of the policy. This helps in avoiding any confusion or disputes among potential claimants.\n",
            "\n",
            "2. Protection for minors: In cases where the nominee is a minor, the policyholder can appoint a trusted individual to receive the benefits on behalf of the minor. This ensures that the minor's interests are protected until they reach adulthood.\n",
            "\n",
            "3. Flexibility: The policyholder has the flexibility to make changes to the nomination at any time before the policy matures. This allows for adjustments based on changing circumstances or relationships.\n",
            "\n",
            "4. Legal protection: The Insurance Act, 1938 provides a legal framework for nominations, ensuring that the rights of the nominees are protected. The act specifies the procedures for making, changing, and canceling nominations, as well as\n",
            "Similarity score is :3.5741472\n",
            "Faithfulness Score: 1.0\n",
            "Relevancy Score: 1.0\n",
            "Correctness Score: 5.0\n",
            "\n",
            "Check further for document references at HDFC-Life-Sampoorna-Jeevan-101N158V04-Policy-Document (1).pdf Page No 29\n",
            "\n",
            "Exit\n",
            "Exiting the program. Bye!!!\n"
          ]
        }
      ]
    },
    {
      "cell_type": "markdown",
      "source": [
        "Step 10: Building a test pipeline"
      ],
      "metadata": {
        "id": "XjuZYCk_HfCT"
      }
    },
    {
      "cell_type": "code",
      "source": [
        "#Set of questions to be passed to the testing_pipeline.\n",
        "questions=[\"What are the different types of surgeries listed in the context information, and can you provide an example of each type of surgery?\",\n",
        "           \"What are the benefits payable under the Extra Life Option in the event of the Scheme Member's death?\",\n",
        "           \"What are the options available to the policyholder if they are not agreeable to any of the terms and conditions stated in the Policy within the free-look period?\"]\n",
        "\n",
        "#Extra Set of questions.\n",
        "# questions=[\"What are the specific types of complaints or disputes that the Ombudsman can receive and consider according to the document provided?\",\n",
        "#            \"What are the different options available for the Guaranteed Benefit Option in the HDFC Life Sampoorna Jeevan Plan?\",\n",
        "#            \"What are the options available to the policyholder in case of discontinuance of the policy after the lock-in period for other than single premium policies?\",\n",
        "#            \"What is the definition of \"Grace Period\" in the terms and conditions of the HDFC Life Smart Pension Plan?\",\n",
        "#            \"Explain the significance of nomination in the insurance policy as per the provisions of the Insurance Act, 1938.\",\n",
        "#            \"What are the steps involved in making a complaint to the Insurance Ombudsman according to the information provided in the document?\",\n",
        "#            \"What are the specific types of complaints or disputes that the Ombudsman can receive and consider according to the document provided?\",\n",
        "#            \"How does the Systematic Transfer Strategy work in HDFC Life Smart Pension Plan, and what are the conditions for opting out of this strategy?\"]"
      ],
      "metadata": {
        "id": "OAid9mqaqatd"
      },
      "execution_count": 30,
      "outputs": []
    },
    {
      "cell_type": "code",
      "source": [
        "import pandas as pd\n",
        "pattern = r'Faithfulness Score:\\s*(\\d+\\.\\d+)|Relevancy Score:\\s*(\\d+\\.\\d+)|Correctness Score:\\s*(\\d+\\.\\d+)'\n",
        "\n",
        "def testing_pipeline(questions):\n",
        "  test_feedback=[]\n",
        "  for i in questions:\n",
        "    print(f\"Question : {i}\")\n",
        "    response = query_response(i)\n",
        "    # Find all matches\n",
        "    matches = re.findall(pattern, response)\n",
        "    faithfulness, relevancy, correctness = [float(next(filter(None, match))) for match in matches]\n",
        "    print(f'Answer : {response}')\n",
        "    print(\"\\nPlease provide your feedback on the response provided by bot\")\n",
        "    user_input=input()\n",
        "    page=response.split()[-1]\n",
        "    test_feedback.append((i,response,page,user_input,faithfulness,relevancy,correctness))\n",
        "\n",
        "  feedback_df=pd.DataFrame(test_feedback,columns=[\"Question\",\"Response\",\"Page\",\"Good/Bad\",\"Faithfulness\",\"Relevancy\",\"Correctness\"])\n",
        "  return feedback_df"
      ],
      "metadata": {
        "id": "75xx3D7uqauz"
      },
      "execution_count": 32,
      "outputs": []
    },
    {
      "cell_type": "code",
      "source": [
        "testing_pipeline(questions)"
      ],
      "metadata": {
        "id": "E1N_iXu-qawn",
        "colab": {
          "base_uri": "https://localhost:8080/",
          "height": 1000
        },
        "outputId": "1c1f5807-378a-4a07-ecef-3e29d74394c2"
      },
      "execution_count": 33,
      "outputs": [
        {
          "name": "stdout",
          "output_type": "stream",
          "text": [
            "Question : What are the different types of surgeries listed in the context information, and can you provide an example of each type of surgery?\n",
            "Answer from LLM:\n",
            "Answer : The context information provides a list of surgeries divided into four categories based on severity. Here are some examples of surgeries from each category:\n",
            "\n",
            "Category 1 - Surgeries (100% of the Sum Insured Payable):\n",
            "1. Surgery of the Aorta\n",
            "2. CABG (Coronary Artery Bypass Graft) via open thoracotomy\n",
            "3. Prosthetic replacement of Heart Valve\n",
            "4. Heart/Heart-Lung Transplant\n",
            "\n",
            "Category 2 - Surgeries (60% of the Sum Insured Payable):\n",
            "1. Pericardiotomy / Pericardectomy\n",
            "2. Permanent pacemaker Implantation in heart\n",
            "3. Mitral valve repair\n",
            "4. Aortic valve repair\n",
            "\n",
            "These are just a few examples of the surgeries listed in the context information. Each surgery is specific to a certain medical condition or procedure and may require different levels of expertise and resources to perform.\n",
            "Similarity score is :-3.5890374\n",
            "Faithfulness Score: 1.0\n",
            "Relevancy Score: 1.0\n",
            "Correctness Score: 5.0\n",
            "\n",
            "Check further for document references at HDFC-Life-Group-Poorna-Suraksha-101N137V02-Policy-Document.pdf Page No 27\n",
            "\n",
            "\n",
            "Please provide your feedback on the response provided by bot\n",
            "Good\n",
            "Question : What are the benefits payable under the Extra Life Option in the event of the Scheme Member's death?\n",
            "Answer from LLM:\n",
            "Answer : Under the Extra Life Option, in the event of the Scheme Member's death, the benefit payable shall be the Sum Assured. Additionally, if the Scheme Member's death is due to an accident, an additional death benefit equal to the Sum Assured will be payable. This is in addition to the death benefit mentioned above.\n",
            "Similarity score is :6.9279485\n",
            "Faithfulness Score: 1.0\n",
            "Relevancy Score: 1.0\n",
            "Correctness Score: 4.5\n",
            "\n",
            "Check further for document references at HDFC-Life-Group-Poorna-Suraksha-101N137V02-Policy-Document.pdf Page No 7\n",
            "\n",
            "\n",
            "Please provide your feedback on the response provided by bot\n",
            "Good\n",
            "Question : What are the options available to the policyholder if they are not agreeable to any of the terms and conditions stated in the Policy within the free-look period?\n",
            "Answer from LLM:\n",
            "Answer : If the policyholder is not agreeable to any of the terms and conditions stated in the Policy within the free-look period, they have the option to return the Policy to the Company for cancellation. They must state the reasons for their objections. Upon such Free-Look cancellation, the Company shall return the Premium paid subject to deduction of a proportionate risk Premium for the period of insurance cover and any expenses incurred on medical examination fees and stamp duty charges. All Benefits and rights under the Policy shall immediately stand terminated on the cancellation of the Policy.\n",
            "Similarity score is :5.5586877\n",
            "Faithfulness Score: 1.0\n",
            "Relevancy Score: 1.0\n",
            "Correctness Score: 5.0\n",
            "\n",
            "Check further for document references at HDFC-Life-Sampoorna-Jeevan-101N158V04-Policy-Document (1).pdf Page No 11\n",
            "\n",
            "\n",
            "Please provide your feedback on the response provided by bot\n",
            "Good\n"
          ]
        },
        {
          "output_type": "execute_result",
          "data": {
            "text/plain": [
              "                                            Question  \\\n",
              "0  What are the different types of surgeries list...   \n",
              "1  What are the benefits payable under the Extra ...   \n",
              "2  What are the options available to the policyho...   \n",
              "\n",
              "                                            Response Page Good/Bad  \\\n",
              "0  The context information provides a list of sur...   27     Good   \n",
              "1  Under the Extra Life Option, in the event of t...    7     Good   \n",
              "2  If the policyholder is not agreeable to any of...   11     Good   \n",
              "\n",
              "   Faithfulness  Relevancy  Correctness  \n",
              "0           1.0        1.0          5.0  \n",
              "1           1.0        1.0          4.5  \n",
              "2           1.0        1.0          5.0  "
            ],
            "text/html": [
              "\n",
              "  <div id=\"df-b8c5ae4e-1a5f-4dd8-b7d8-0dbb3488e945\" class=\"colab-df-container\">\n",
              "    <div>\n",
              "<style scoped>\n",
              "    .dataframe tbody tr th:only-of-type {\n",
              "        vertical-align: middle;\n",
              "    }\n",
              "\n",
              "    .dataframe tbody tr th {\n",
              "        vertical-align: top;\n",
              "    }\n",
              "\n",
              "    .dataframe thead th {\n",
              "        text-align: right;\n",
              "    }\n",
              "</style>\n",
              "<table border=\"1\" class=\"dataframe\">\n",
              "  <thead>\n",
              "    <tr style=\"text-align: right;\">\n",
              "      <th></th>\n",
              "      <th>Question</th>\n",
              "      <th>Response</th>\n",
              "      <th>Page</th>\n",
              "      <th>Good/Bad</th>\n",
              "      <th>Faithfulness</th>\n",
              "      <th>Relevancy</th>\n",
              "      <th>Correctness</th>\n",
              "    </tr>\n",
              "  </thead>\n",
              "  <tbody>\n",
              "    <tr>\n",
              "      <th>0</th>\n",
              "      <td>What are the different types of surgeries list...</td>\n",
              "      <td>The context information provides a list of sur...</td>\n",
              "      <td>27</td>\n",
              "      <td>Good</td>\n",
              "      <td>1.0</td>\n",
              "      <td>1.0</td>\n",
              "      <td>5.0</td>\n",
              "    </tr>\n",
              "    <tr>\n",
              "      <th>1</th>\n",
              "      <td>What are the benefits payable under the Extra ...</td>\n",
              "      <td>Under the Extra Life Option, in the event of t...</td>\n",
              "      <td>7</td>\n",
              "      <td>Good</td>\n",
              "      <td>1.0</td>\n",
              "      <td>1.0</td>\n",
              "      <td>4.5</td>\n",
              "    </tr>\n",
              "    <tr>\n",
              "      <th>2</th>\n",
              "      <td>What are the options available to the policyho...</td>\n",
              "      <td>If the policyholder is not agreeable to any of...</td>\n",
              "      <td>11</td>\n",
              "      <td>Good</td>\n",
              "      <td>1.0</td>\n",
              "      <td>1.0</td>\n",
              "      <td>5.0</td>\n",
              "    </tr>\n",
              "  </tbody>\n",
              "</table>\n",
              "</div>\n",
              "    <div class=\"colab-df-buttons\">\n",
              "\n",
              "  <div class=\"colab-df-container\">\n",
              "    <button class=\"colab-df-convert\" onclick=\"convertToInteractive('df-b8c5ae4e-1a5f-4dd8-b7d8-0dbb3488e945')\"\n",
              "            title=\"Convert this dataframe to an interactive table.\"\n",
              "            style=\"display:none;\">\n",
              "\n",
              "  <svg xmlns=\"http://www.w3.org/2000/svg\" height=\"24px\" viewBox=\"0 -960 960 960\">\n",
              "    <path d=\"M120-120v-720h720v720H120Zm60-500h600v-160H180v160Zm220 220h160v-160H400v160Zm0 220h160v-160H400v160ZM180-400h160v-160H180v160Zm440 0h160v-160H620v160ZM180-180h160v-160H180v160Zm440 0h160v-160H620v160Z\"/>\n",
              "  </svg>\n",
              "    </button>\n",
              "\n",
              "  <style>\n",
              "    .colab-df-container {\n",
              "      display:flex;\n",
              "      gap: 12px;\n",
              "    }\n",
              "\n",
              "    .colab-df-convert {\n",
              "      background-color: #E8F0FE;\n",
              "      border: none;\n",
              "      border-radius: 50%;\n",
              "      cursor: pointer;\n",
              "      display: none;\n",
              "      fill: #1967D2;\n",
              "      height: 32px;\n",
              "      padding: 0 0 0 0;\n",
              "      width: 32px;\n",
              "    }\n",
              "\n",
              "    .colab-df-convert:hover {\n",
              "      background-color: #E2EBFA;\n",
              "      box-shadow: 0px 1px 2px rgba(60, 64, 67, 0.3), 0px 1px 3px 1px rgba(60, 64, 67, 0.15);\n",
              "      fill: #174EA6;\n",
              "    }\n",
              "\n",
              "    .colab-df-buttons div {\n",
              "      margin-bottom: 4px;\n",
              "    }\n",
              "\n",
              "    [theme=dark] .colab-df-convert {\n",
              "      background-color: #3B4455;\n",
              "      fill: #D2E3FC;\n",
              "    }\n",
              "\n",
              "    [theme=dark] .colab-df-convert:hover {\n",
              "      background-color: #434B5C;\n",
              "      box-shadow: 0px 1px 3px 1px rgba(0, 0, 0, 0.15);\n",
              "      filter: drop-shadow(0px 1px 2px rgba(0, 0, 0, 0.3));\n",
              "      fill: #FFFFFF;\n",
              "    }\n",
              "  </style>\n",
              "\n",
              "    <script>\n",
              "      const buttonEl =\n",
              "        document.querySelector('#df-b8c5ae4e-1a5f-4dd8-b7d8-0dbb3488e945 button.colab-df-convert');\n",
              "      buttonEl.style.display =\n",
              "        google.colab.kernel.accessAllowed ? 'block' : 'none';\n",
              "\n",
              "      async function convertToInteractive(key) {\n",
              "        const element = document.querySelector('#df-b8c5ae4e-1a5f-4dd8-b7d8-0dbb3488e945');\n",
              "        const dataTable =\n",
              "          await google.colab.kernel.invokeFunction('convertToInteractive',\n",
              "                                                    [key], {});\n",
              "        if (!dataTable) return;\n",
              "\n",
              "        const docLinkHtml = 'Like what you see? Visit the ' +\n",
              "          '<a target=\"_blank\" href=https://colab.research.google.com/notebooks/data_table.ipynb>data table notebook</a>'\n",
              "          + ' to learn more about interactive tables.';\n",
              "        element.innerHTML = '';\n",
              "        dataTable['output_type'] = 'display_data';\n",
              "        await google.colab.output.renderOutput(dataTable, element);\n",
              "        const docLink = document.createElement('div');\n",
              "        docLink.innerHTML = docLinkHtml;\n",
              "        element.appendChild(docLink);\n",
              "      }\n",
              "    </script>\n",
              "  </div>\n",
              "\n",
              "\n",
              "<div id=\"df-b05cb0ae-f6b0-4c1e-ab15-63f0c078cdb3\">\n",
              "  <button class=\"colab-df-quickchart\" onclick=\"quickchart('df-b05cb0ae-f6b0-4c1e-ab15-63f0c078cdb3')\"\n",
              "            title=\"Suggest charts\"\n",
              "            style=\"display:none;\">\n",
              "\n",
              "<svg xmlns=\"http://www.w3.org/2000/svg\" height=\"24px\"viewBox=\"0 0 24 24\"\n",
              "     width=\"24px\">\n",
              "    <g>\n",
              "        <path d=\"M19 3H5c-1.1 0-2 .9-2 2v14c0 1.1.9 2 2 2h14c1.1 0 2-.9 2-2V5c0-1.1-.9-2-2-2zM9 17H7v-7h2v7zm4 0h-2V7h2v10zm4 0h-2v-4h2v4z\"/>\n",
              "    </g>\n",
              "</svg>\n",
              "  </button>\n",
              "\n",
              "<style>\n",
              "  .colab-df-quickchart {\n",
              "      --bg-color: #E8F0FE;\n",
              "      --fill-color: #1967D2;\n",
              "      --hover-bg-color: #E2EBFA;\n",
              "      --hover-fill-color: #174EA6;\n",
              "      --disabled-fill-color: #AAA;\n",
              "      --disabled-bg-color: #DDD;\n",
              "  }\n",
              "\n",
              "  [theme=dark] .colab-df-quickchart {\n",
              "      --bg-color: #3B4455;\n",
              "      --fill-color: #D2E3FC;\n",
              "      --hover-bg-color: #434B5C;\n",
              "      --hover-fill-color: #FFFFFF;\n",
              "      --disabled-bg-color: #3B4455;\n",
              "      --disabled-fill-color: #666;\n",
              "  }\n",
              "\n",
              "  .colab-df-quickchart {\n",
              "    background-color: var(--bg-color);\n",
              "    border: none;\n",
              "    border-radius: 50%;\n",
              "    cursor: pointer;\n",
              "    display: none;\n",
              "    fill: var(--fill-color);\n",
              "    height: 32px;\n",
              "    padding: 0;\n",
              "    width: 32px;\n",
              "  }\n",
              "\n",
              "  .colab-df-quickchart:hover {\n",
              "    background-color: var(--hover-bg-color);\n",
              "    box-shadow: 0 1px 2px rgba(60, 64, 67, 0.3), 0 1px 3px 1px rgba(60, 64, 67, 0.15);\n",
              "    fill: var(--button-hover-fill-color);\n",
              "  }\n",
              "\n",
              "  .colab-df-quickchart-complete:disabled,\n",
              "  .colab-df-quickchart-complete:disabled:hover {\n",
              "    background-color: var(--disabled-bg-color);\n",
              "    fill: var(--disabled-fill-color);\n",
              "    box-shadow: none;\n",
              "  }\n",
              "\n",
              "  .colab-df-spinner {\n",
              "    border: 2px solid var(--fill-color);\n",
              "    border-color: transparent;\n",
              "    border-bottom-color: var(--fill-color);\n",
              "    animation:\n",
              "      spin 1s steps(1) infinite;\n",
              "  }\n",
              "\n",
              "  @keyframes spin {\n",
              "    0% {\n",
              "      border-color: transparent;\n",
              "      border-bottom-color: var(--fill-color);\n",
              "      border-left-color: var(--fill-color);\n",
              "    }\n",
              "    20% {\n",
              "      border-color: transparent;\n",
              "      border-left-color: var(--fill-color);\n",
              "      border-top-color: var(--fill-color);\n",
              "    }\n",
              "    30% {\n",
              "      border-color: transparent;\n",
              "      border-left-color: var(--fill-color);\n",
              "      border-top-color: var(--fill-color);\n",
              "      border-right-color: var(--fill-color);\n",
              "    }\n",
              "    40% {\n",
              "      border-color: transparent;\n",
              "      border-right-color: var(--fill-color);\n",
              "      border-top-color: var(--fill-color);\n",
              "    }\n",
              "    60% {\n",
              "      border-color: transparent;\n",
              "      border-right-color: var(--fill-color);\n",
              "    }\n",
              "    80% {\n",
              "      border-color: transparent;\n",
              "      border-right-color: var(--fill-color);\n",
              "      border-bottom-color: var(--fill-color);\n",
              "    }\n",
              "    90% {\n",
              "      border-color: transparent;\n",
              "      border-bottom-color: var(--fill-color);\n",
              "    }\n",
              "  }\n",
              "</style>\n",
              "\n",
              "  <script>\n",
              "    async function quickchart(key) {\n",
              "      const quickchartButtonEl =\n",
              "        document.querySelector('#' + key + ' button');\n",
              "      quickchartButtonEl.disabled = true;  // To prevent multiple clicks.\n",
              "      quickchartButtonEl.classList.add('colab-df-spinner');\n",
              "      try {\n",
              "        const charts = await google.colab.kernel.invokeFunction(\n",
              "            'suggestCharts', [key], {});\n",
              "      } catch (error) {\n",
              "        console.error('Error during call to suggestCharts:', error);\n",
              "      }\n",
              "      quickchartButtonEl.classList.remove('colab-df-spinner');\n",
              "      quickchartButtonEl.classList.add('colab-df-quickchart-complete');\n",
              "    }\n",
              "    (() => {\n",
              "      let quickchartButtonEl =\n",
              "        document.querySelector('#df-b05cb0ae-f6b0-4c1e-ab15-63f0c078cdb3 button');\n",
              "      quickchartButtonEl.style.display =\n",
              "        google.colab.kernel.accessAllowed ? 'block' : 'none';\n",
              "    })();\n",
              "  </script>\n",
              "</div>\n",
              "\n",
              "    </div>\n",
              "  </div>\n"
            ],
            "application/vnd.google.colaboratory.intrinsic+json": {
              "type": "dataframe",
              "summary": "{\n  \"name\": \"testing_pipeline(questions)\",\n  \"rows\": 3,\n  \"fields\": [\n    {\n      \"column\": \"Question\",\n      \"properties\": {\n        \"dtype\": \"string\",\n        \"num_unique_values\": 3,\n        \"samples\": [\n          \"What are the different types of surgeries listed in the context information, and can you provide an example of each type of surgery?\",\n          \"What are the benefits payable under the Extra Life Option in the event of the Scheme Member's death?\",\n          \"What are the options available to the policyholder if they are not agreeable to any of the terms and conditions stated in the Policy within the free-look period?\"\n        ],\n        \"semantic_type\": \"\",\n        \"description\": \"\"\n      }\n    },\n    {\n      \"column\": \"Response\",\n      \"properties\": {\n        \"dtype\": \"string\",\n        \"num_unique_values\": 3,\n        \"samples\": [\n          \"The context information provides a list of surgeries divided into four categories based on severity. Here are some examples of surgeries from each category:\\n\\nCategory 1 - Surgeries (100% of the Sum Insured Payable):\\n1. Surgery of the Aorta\\n2. CABG (Coronary Artery Bypass Graft) via open thoracotomy\\n3. Prosthetic replacement of Heart Valve\\n4. Heart/Heart-Lung Transplant\\n\\nCategory 2 - Surgeries (60% of the Sum Insured Payable):\\n1. Pericardiotomy / Pericardectomy\\n2. Permanent pacemaker Implantation in heart\\n3. Mitral valve repair\\n4. Aortic valve repair\\n\\nThese are just a few examples of the surgeries listed in the context information. Each surgery is specific to a certain medical condition or procedure and may require different levels of expertise and resources to perform.\\nSimilarity score is :-3.5890374\\nFaithfulness Score: 1.0\\nRelevancy Score: 1.0\\nCorrectness Score: 5.0\\n\\nCheck further for document references at HDFC-Life-Group-Poorna-Suraksha-101N137V02-Policy-Document.pdf Page No 27\\n\",\n          \"Under the Extra Life Option, in the event of the Scheme Member's death, the benefit payable shall be the Sum Assured. Additionally, if the Scheme Member's death is due to an accident, an additional death benefit equal to the Sum Assured will be payable. This is in addition to the death benefit mentioned above.\\nSimilarity score is :6.9279485\\nFaithfulness Score: 1.0\\nRelevancy Score: 1.0\\nCorrectness Score: 4.5\\n\\nCheck further for document references at HDFC-Life-Group-Poorna-Suraksha-101N137V02-Policy-Document.pdf Page No 7\\n\",\n          \"If the policyholder is not agreeable to any of the terms and conditions stated in the Policy within the free-look period, they have the option to return the Policy to the Company for cancellation. They must state the reasons for their objections. Upon such Free-Look cancellation, the Company shall return the Premium paid subject to deduction of a proportionate risk Premium for the period of insurance cover and any expenses incurred on medical examination fees and stamp duty charges. All Benefits and rights under the Policy shall immediately stand terminated on the cancellation of the Policy.\\nSimilarity score is :5.5586877\\nFaithfulness Score: 1.0\\nRelevancy Score: 1.0\\nCorrectness Score: 5.0\\n\\nCheck further for document references at HDFC-Life-Sampoorna-Jeevan-101N158V04-Policy-Document (1).pdf Page No 11\\n\"\n        ],\n        \"semantic_type\": \"\",\n        \"description\": \"\"\n      }\n    },\n    {\n      \"column\": \"Page\",\n      \"properties\": {\n        \"dtype\": \"string\",\n        \"num_unique_values\": 3,\n        \"samples\": [\n          \"27\",\n          \"7\",\n          \"11\"\n        ],\n        \"semantic_type\": \"\",\n        \"description\": \"\"\n      }\n    },\n    {\n      \"column\": \"Good/Bad\",\n      \"properties\": {\n        \"dtype\": \"category\",\n        \"num_unique_values\": 1,\n        \"samples\": [\n          \"Good\"\n        ],\n        \"semantic_type\": \"\",\n        \"description\": \"\"\n      }\n    },\n    {\n      \"column\": \"Faithfulness\",\n      \"properties\": {\n        \"dtype\": \"number\",\n        \"std\": 0.0,\n        \"min\": 1.0,\n        \"max\": 1.0,\n        \"num_unique_values\": 1,\n        \"samples\": [\n          1.0\n        ],\n        \"semantic_type\": \"\",\n        \"description\": \"\"\n      }\n    },\n    {\n      \"column\": \"Relevancy\",\n      \"properties\": {\n        \"dtype\": \"number\",\n        \"std\": 0.0,\n        \"min\": 1.0,\n        \"max\": 1.0,\n        \"num_unique_values\": 1,\n        \"samples\": [\n          1.0\n        ],\n        \"semantic_type\": \"\",\n        \"description\": \"\"\n      }\n    },\n    {\n      \"column\": \"Correctness\",\n      \"properties\": {\n        \"dtype\": \"number\",\n        \"std\": 0.28867513459481287,\n        \"min\": 4.5,\n        \"max\": 5.0,\n        \"num_unique_values\": 2,\n        \"samples\": [\n          4.5\n        ],\n        \"semantic_type\": \"\",\n        \"description\": \"\"\n      }\n    }\n  ]\n}"
            }
          },
          "metadata": {},
          "execution_count": 33
        }
      ]
    },
    {
      "cell_type": "markdown",
      "source": [
        "### **Building a custom promt template**\n"
      ],
      "metadata": {
        "id": "3yb7ATQ78S2Y"
      }
    },
    {
      "cell_type": "code",
      "source": [
        "response=query_engine.query(\"What is the definition of \\\"Grace Period\\\" in the terms and conditions of the HDFC Life Smart Pension Plan?\")\n",
        "response.response"
      ],
      "metadata": {
        "id": "SZ7rZfwVqayF",
        "colab": {
          "base_uri": "https://localhost:8080/",
          "height": 70
        },
        "outputId": "3b43f413-8454-43b1-c8f3-6914a6a25b68"
      },
      "execution_count": 34,
      "outputs": [
        {
          "output_type": "execute_result",
          "data": {
            "text/plain": [
              "'In the terms and conditions of the HDFC Life Smart Pension Plan, the \"Grace Period\" is defined as the time granted by the company from the due date for the payment of Premium, without any penalty or late fee. During this period, the Policy is considered to be in force with the risk cover without any interruption, as per the terms and conditions of the Policy. The Grace Period for payment of the Premiums is fifteen days for monthly premium payments and thirty days for all other cases.'"
            ],
            "application/vnd.google.colaboratory.intrinsic+json": {
              "type": "string"
            }
          },
          "metadata": {},
          "execution_count": 34
        }
      ]
    },
    {
      "cell_type": "code",
      "source": [
        "response.source_nodes"
      ],
      "metadata": {
        "id": "PK91p3Vnqa0U",
        "colab": {
          "base_uri": "https://localhost:8080/"
        },
        "outputId": "85a461a5-8231-4242-8055-831540335dd7"
      },
      "execution_count": 35,
      "outputs": [
        {
          "output_type": "execute_result",
          "data": {
            "text/plain": [
              "[NodeWithScore(node=TextNode(id_='27cb6e88-649e-4c69-be6b-a69930f45d10', embedding=None, metadata={'page_label': '5', 'file_name': 'HDFC-Life-Smart-Pension-Plan-Policy-Document-Online.pdf', 'file_path': '/content/drive/Othercomputers/My Laptop/AI-ML/EPG - AIML/GEN AI/Vector DB and RAG/HDFC-Life-Smart-Pension-Plan-Policy-Document-Online.pdf', 'file_type': 'application/pdf', 'file_size': 983547, 'creation_date': '2024-09-23', 'last_modified_date': '2023-09-29'}, excluded_embed_metadata_keys=['file_name', 'file_type', 'file_size', 'creation_date', 'last_modified_date', 'last_accessed_date'], excluded_llm_metadata_keys=['file_name', 'file_type', 'file_size', 'creation_date', 'last_modified_date', 'last_accessed_date'], relationships={<NodeRelationship.SOURCE: '1'>: RelatedNodeInfo(node_id='81e4dbce-6d9f-4268-a174-5b31bcb03708', node_type=<ObjectType.DOCUMENT: '4'>, metadata={'page_label': '5', 'file_name': 'HDFC-Life-Smart-Pension-Plan-Policy-Document-Online.pdf', 'file_path': '/content/drive/Othercomputers/My Laptop/AI-ML/EPG - AIML/GEN AI/Vector DB and RAG/HDFC-Life-Smart-Pension-Plan-Policy-Document-Online.pdf', 'file_type': 'application/pdf', 'file_size': 983547, 'creation_date': '2024-09-23', 'last_modified_date': '2023-09-29'}, hash='d34548623d07bf480baf7d592b717a4920396956f9c45e7a836469f5b81478ec')}, text='HDFC  Life Smart Pension Plan 101L164V02  – Terms and Conditions  (Direct & \\nOnline Sales)  \\n(A Unit Linked Non -Participating Individual Pension Plan)   \\n  Page 5 of 37  \\n \\n\\uf0b7 When one or more stock exchanges which provide a basis for valuation of the assets of the fund are closed \\notherwise than for ordinary holidays.  \\n\\uf0b7 When, as a result of political, economic, monetary or any circumstances which are not in the control of the \\ninsurer, the disposal of the assets of the fund would be detrimental to the interests of the continuing \\nPolicyholders.  \\n\\uf0b7 In the event of natural calamities, strikes, war, civil unrest, riots and bandhs.  \\n\\uf0b7 In the event of any Force Majeure or disaster that affects the normal functioning of the Company . \\n \\n15. Fund Value  means the  total value of the units at a point of time in a Segregated Fund i.e. total number of units \\nunder a policy multiplied by the Net Asset Value (NAV) per unit of that  fund. \\n \\n16. Grace Period means the time granted by the Company  from the due date for the payment of Premium, without \\nany penalty or late fee, during which time the Policy is considered to be In force with the risk cover without any \\ninterruption, as per the terms and conditions of the Policy. The Grace Period for payment of the Premiums shall \\nbe: fifteen d ays where the Policyholder pays the premium on a monthly basis and thirty days in all other cases . \\n \\n17. In Force means the status of the Policy being active, all due Premiums have been paid and the Policy is not \\nterminated.  \\n \\n18. Life Assured shall mean the person named as such in the Policy Schedule on whose name this Policy is effected.  \\n \\n19. Lock -in Period  mean s the period of five consecutive completed years from the Date of Commencement of the \\nPolicy , during which period the proceeds of the discontinued policies cannot be paid by the Company to the \\nPolicyholder or to the Life Assured , as the case may be, except in the case of death  of the Life Assured . \\n \\n20. Net Asset Value  (NAV) of a Unit Linked Fund means the price per unit of the underlying Segregated  Fund and \\nshall be calculated as follows : \\n \\nMarket Value of investment held by the fund + Value of Current Assets – Value of Current Liabilities & \\nProvisions, if any  \\n \\n        Number of Units existing on Valuation Date (before creation / redemption of Units ) \\n      \\n21. Nominee /s means the person/(s) named in the Policy Schedule who has/have been nominated by the \\nPolicyholder (who is also the Life Insured in the Policy) in accordance with the Section 39 of the Insurance Act, \\n1938 as amended from time to time to receive the benefits in respect of this Policy.  \\n \\n22. Partial Withdrawal/s  means any part of fund that is encashed / withdrawn by the Policyholder during the Policy \\nTerm. \\n \\n23. Policy  means the contract of insuranc e entered into between the Policy holder and the insurer as evidenced by \\nthe Policy  document.  \\n \\n24. Policy Anniversary refers to the same date each year as the Policy Commencement Date.  \\n \\n25. Policy Commencement Date /Date of Inception of Policy /Date of Commencement of the Policy  means \\nthe date, month, and year the Policy comes into effect and is specified as such in the Policy Schedule.  \\n \\n26. Policy Discontinuance Charges  means a charge that can be levied upon Discontinuance of the Policy . \\n \\n27. Policy Document  means the Policy Schedule, the signed Proposal Form, Annexure and any other attached \\nendorsements or supplements together with all addendums  and includes necessary documents .', mimetype='text/plain', start_char_idx=0, end_char_idx=3548, text_template='{metadata_str}\\n\\n{content}', metadata_template='{key}: {value}', metadata_seperator='\\n'), score=5.5288577),\n",
              " NodeWithScore(node=TextNode(id_='3aee7376-9036-48fa-998a-effb1dda9e5e', embedding=None, metadata={'page_label': '6', 'file_name': 'HDFC-Life-Smart-Pension-Plan-Policy-Document-Online.pdf', 'file_path': '/content/drive/Othercomputers/My Laptop/AI-ML/EPG - AIML/GEN AI/Vector DB and RAG/HDFC-Life-Smart-Pension-Plan-Policy-Document-Online.pdf', 'file_type': 'application/pdf', 'file_size': 983547, 'creation_date': '2024-09-23', 'last_modified_date': '2023-09-29'}, excluded_embed_metadata_keys=['file_name', 'file_type', 'file_size', 'creation_date', 'last_modified_date', 'last_accessed_date'], excluded_llm_metadata_keys=['file_name', 'file_type', 'file_size', 'creation_date', 'last_modified_date', 'last_accessed_date'], relationships={<NodeRelationship.SOURCE: '1'>: RelatedNodeInfo(node_id='39eb8c5a-a2f8-4abc-bb74-c12fa6e54f0c', node_type=<ObjectType.DOCUMENT: '4'>, metadata={'page_label': '6', 'file_name': 'HDFC-Life-Smart-Pension-Plan-Policy-Document-Online.pdf', 'file_path': '/content/drive/Othercomputers/My Laptop/AI-ML/EPG - AIML/GEN AI/Vector DB and RAG/HDFC-Life-Smart-Pension-Plan-Policy-Document-Online.pdf', 'file_type': 'application/pdf', 'file_size': 983547, 'creation_date': '2024-09-23', 'last_modified_date': '2023-09-29'}, hash='4d73745c060fb77d147bf9273aa8294c58d1d6814bf065dd3315390b98eb8320')}, text='HDFC  Life Smart Pension Plan 101L164V02  – Terms and Conditions  (Direct & \\nOnline Sales)  \\n(A Unit Linked Non -Participating Individual Pension Plan)   \\n  Page 6 of 37  \\n \\n \\n28. Policyholder  shall mean the owner of this Policy as specified in Policy  Schedule or any person in whose favour \\nthe Policy is assigned as per the terms of this Policy . \\n \\n29. Policy Schedule  means the schedule issued by the Company that sets out the details of this Policy and is attached \\nto and forming part of this Policy .  \\n \\n30. Policy Term  means the tenure of this Policy during which the contractual Benefit s are payable and is specified as \\nsuch in the Policy Schedule .  \\n \\n31. Policy Year means a period of twelve (12) consecutive months starting from the Policy Commencement Date as \\nstated in the Po licy Schedule and ending on the day immediately preceding the following Policy Anniversary date \\nand each subsequent period of twelve (12) consecutive months thereafter . \\n \\n32. Premium  means the amount payable in a Policy Year on the due date of payment as set ou t in the Policy Schedule.  \\n \\n33. Premium Payment Term (PPT)  means the period in years during the Policy Term in which Premiums are \\npayable by the Policyholder under the Policy, as specified in the Policy Schedule.   \\n \\n34. Premium Redirection  means an option which allows the Policyholder to modify the allocation of amount of \\nrenewal Premium to various Segregated Funds, under the Policy. \\n \\n35. Prevailing Annuity Rate  shall mean the annuity rates of the Annuity Plans that are approved by IRDAI as per \\nthe file and use procedure and are attached to Pension products at the time of utilizing Vesting Benefit, Death \\nBenefit or Surrender Benefit  \\n \\n36. Regulations  mean the laws and  Regulations in effect  as amended  from time to time and applicable to this Policy, \\nincluding without limitation the Regulations and directions issued by the Insurance Regulatory and Development \\nAuthority of India ( ‘IRDAI ’) from time to time.  The applicable Regulation shall form a part and parcel of the terms \\nand conditions, and the terms and conditions shall be read along with the Regulation.  \\n \\n37. Relevant Date  means:  \\na. For the purpose of calculation of the Death Benefit  or death due to suicide, the date of receipt of written \\nintimation of death as detailed in Part C,  by the Company, on any Business Day before the Cut -off time;  \\nb. For the purpose of calculation of Vesting  Benefit , the Policy Vesting  Date; \\nc. For the purpose of calculation of the Surrender Benefit s or the Partial Withdrawal Benefit s or in case of \\nSwitches, the date of receipt of written notice by the Company on any Business Day before the cut -off time;  \\nd. The date of determination of the applicabl e charges, in the case of deduction of the applicable charges;  \\ne. The date of receipt of Premiums paid to the Company by instruments/modes other than ECS, Standing \\nInstructions or Auto debit for the purpose of Premium Payments under this Policy on a Business Day before \\nthe Cut off time;  \\nf. The date of realization of Premium by the Company under this Policy , in case of payments made through ECS, \\nStanding Instruction, Auto Debit Instruction etc; \\ng. In case of death due to suicide within 12 months from the Policy Comm encement Date  of the Policy  , the \\nNominee  or beneficiary of the Policy holder shall be entitled to Fund Value, as available on the date of death.  \\n \\nExplanation : Cut-off time for the purpose of this definition means 3 pm on the relevant Business Day. Any request \\nreceived after the Cut -Off time will be processed on the following Business Day.  \\n \\n38. Revival  of the Policy means restoration of the Policy, which was discontinued due to the non -payment of  Premium, \\nby the Company  with all the Benefits mentioned in the Policy Document, upon the receipt of all the Premiums due \\nand other charges, if any, as per the terms and  conditions of the policy, upon being satisfied as to the continued \\ninsurability of the Life As sured or Policyholder on  the basis of the information, d ocuments and reports furnished \\nby the Policyholder, in accordance with Board  approved Underwriting policy.', mimetype='text/plain', start_char_idx=0, end_char_idx=4199, text_template='{metadata_str}\\n\\n{content}', metadata_template='{key}: {value}', metadata_seperator='\\n'), score=3.5416234),\n",
              " NodeWithScore(node=TextNode(id_='f5bd19e7-1e6a-4e4a-b5b8-64a9092d723c', embedding=None, metadata={'page_label': '11', 'file_name': 'HDFC-Life-Smart-Pension-Plan-Policy-Document-Online.pdf', 'file_path': '/content/drive/Othercomputers/My Laptop/AI-ML/EPG - AIML/GEN AI/Vector DB and RAG/HDFC-Life-Smart-Pension-Plan-Policy-Document-Online.pdf', 'file_type': 'application/pdf', 'file_size': 983547, 'creation_date': '2024-09-23', 'last_modified_date': '2023-09-29'}, excluded_embed_metadata_keys=['file_name', 'file_type', 'file_size', 'creation_date', 'last_modified_date', 'last_accessed_date'], excluded_llm_metadata_keys=['file_name', 'file_type', 'file_size', 'creation_date', 'last_modified_date', 'last_accessed_date'], relationships={<NodeRelationship.SOURCE: '1'>: RelatedNodeInfo(node_id='ad98c749-0a7d-4b3b-852f-7002320678c6', node_type=<ObjectType.DOCUMENT: '4'>, metadata={'page_label': '11', 'file_name': 'HDFC-Life-Smart-Pension-Plan-Policy-Document-Online.pdf', 'file_path': '/content/drive/Othercomputers/My Laptop/AI-ML/EPG - AIML/GEN AI/Vector DB and RAG/HDFC-Life-Smart-Pension-Plan-Policy-Document-Online.pdf', 'file_type': 'application/pdf', 'file_size': 983547, 'creation_date': '2024-09-23', 'last_modified_date': '2023-09-29'}, hash='8f6ee987359977150676a2584fad73adafe56e7cec7fa553d4cf726df3c05077'), <NodeRelationship.NEXT: '3'>: RelatedNodeInfo(node_id='8f136c1c-ea1d-4adc-b3ca-87098d548977', node_type=<ObjectType.TEXT: '1'>, metadata={}, hash='3ea849f4e6a27b3361b3f0bb7a02acd59508453a832ee030095b723ea4368bfd')}, text='HDFC  Life Smart Pension Plan 101L164V02  – Terms and Conditions  (Direct & \\nOnline Sales)  \\n(A Unit Linked Non -Participating Individual Pension Plan)   \\n  Page 11 of 37  \\n \\nPART D  \\nPOLICY SERVICING RELATED ASPECTS  \\n \\nThe Policyholder shall have a period of 15 days from the date of receipt of the Policy document to review the terms \\nand conditions of this Policy and if the Policyholder disagrees with the said terms and conditions, the Policyholder shall \\nhave the option t o return the Policy to the Company for cancellation, stating the reasons for His objections. Upon such \\nFree-Look cancellation , the Company shall return the Premium paid subject to deduction of a proportionate risk \\nPremium for the period of insurance cover and medical examination fees (if any) in addition to the stamp duty charges. \\nAll Benefits and rights under this Policy shall immediately stand terminated on the cancellation of the Policy.  \\n \\nThe Policyholder shall have a period of 30 days if the Policy is s ourced through Distance Marketing# from the date of \\nreceipt of the Policy document to review the terms and conditions of this Policy and if the Policyholder disagrees with \\nthe said terms and conditions, the Policyholder shall have the option to return the Policy to the Company for \\ncancellation, stating the reasons for His objections. Upon such Free -Look cancellation , the Company shall return the \\nPremium paid subject to deduction of a proportionate risk Premium for the period of insurance cover and medical \\nexamination fees (if any) in addition to the stamp duty charges. All Benefits and rights under this Policy shall \\nimmediately stand terminated on the cancellation of the Policy.  \\n# Distance Marketing includes every activity of solicitation (including lead gen eration) and sale of insurance products \\nthrough the following modes: (i) voice mode, which includes telephone -calling (ii) short messaging service (SMS) (iii) \\nelectronic mode which includes e -mail, internet and interactive television (DTH) (iv) physical mo de which includes \\ndirect postal mail and newspaper and magazine inserts and (v) solicitation through any means of comm unication other \\nthan in person.  \\nD.2 Discontinuance Provisions:  It is the state of the Policy that could arise on account of Surrender of the Policy \\nor non -payment of the contractual premium.  \\n \\nD.2.1. Discontinuance of the Policy during Lock -in Period:  \\n \\nD.2.1.1.)  For other than single P remium policies,  upon expiry of the Grace Period, in case of D iscontinuanc e of \\nPolicy due to non -payment of Premium, the Fund V alue after deducting the applicabl e Discontinuance charges, shall  \\nbe credited to the Discontinued Policy F und and the risk cover shall cease.  \\n \\nD.2.1.2.)  Such discontinuance charges shall not exceed the charges as stipulated in Clause E.6.5.  All such discontinue d \\npolicies shall be provided a Revival P eriod of three years from date of first  unpaid P remium. On such Discontinuance, \\nthe Company shall communicate th e status of the P olicy, within three  months of the first unpaid Premium, to the \\nPolicyholder and provide the option to revive the P olicy within the  Revival P eriod of three years.  \\n \\nD.2.1.2.1.)  In case the P olicyholder opts to revive but does not revive the Policy during the Revival P eriod, the  \\nproceeds of the Discontinued Policy F und shall be paid * to the P olicyholder a t the end of the Revival P eriod or Lock -in \\nPeriod whi chever is later. In respect of Revival P eriod ending a fter Lock -in Period, the P olicy will remain in  Discontinued \\nPolicy Fund  till the end of Revival P eriod.  The Fund management charges of  Discontinued Policy F und will be applicable \\nduring this period and no other charges will be applied.  \\n \\nD.2.1.2.2.)  In case the P olicyholder does not exercis e the option as set out above, the  Policy shall continue without \\nany ris k cover and the P olicy fun d shall remain invested in the D iscontinu ed Policy Fund.', mimetype='text/plain', start_char_idx=0, end_char_idx=3991, text_template='{metadata_str}\\n\\n{content}', metadata_template='{key}: {value}', metadata_seperator='\\n'), score=3.4199133)]"
            ]
          },
          "metadata": {},
          "execution_count": 35
        }
      ]
    },
    {
      "cell_type": "code",
      "source": [
        "reference_0 = \" Check further at \" + response.source_nodes[0].node.metadata['file_name'] + \" Page No \" + response.source_nodes[0].node.metadata['page_label']\n",
        "reference_1 = \" Check further at \" + response.source_nodes[1].node.metadata['file_name'] + \" Page No \" + response.source_nodes[1].node.metadata['page_label']\n",
        "retrieved = response.source_nodes[0].node.text + reference_0 + response.source_nodes[1].node.text + reference_1\n",
        "retrieved"
      ],
      "metadata": {
        "id": "5kHrw46lqa3S",
        "colab": {
          "base_uri": "https://localhost:8080/",
          "height": 139
        },
        "outputId": "07c35e4a-7948-46ab-f4f1-855d0c345d6d"
      },
      "execution_count": 36,
      "outputs": [
        {
          "output_type": "execute_result",
          "data": {
            "text/plain": [
              "'HDFC  Life Smart Pension Plan 101L164V02  – Terms and Conditions  (Direct & \\nOnline Sales)  \\n(A Unit Linked Non -Participating Individual Pension Plan)   \\n  Page 5 of 37  \\n \\n\\uf0b7 When one or more stock exchanges which provide a basis for valuation of the assets of the fund are closed \\notherwise than for ordinary holidays.  \\n\\uf0b7 When, as a result of political, economic, monetary or any circumstances which are not in the control of the \\ninsurer, the disposal of the assets of the fund would be detrimental to the interests of the continuing \\nPolicyholders.  \\n\\uf0b7 In the event of natural calamities, strikes, war, civil unrest, riots and bandhs.  \\n\\uf0b7 In the event of any Force Majeure or disaster that affects the normal functioning of the Company . \\n \\n15. Fund Value  means the  total value of the units at a point of time in a Segregated Fund i.e. total number of units \\nunder a policy multiplied by the Net Asset Value (NAV) per unit of that  fund. \\n \\n16. Grace Period means the time granted by the Company  from the due date for the payment of Premium, without \\nany penalty or late fee, during which time the Policy is considered to be In force with the risk cover without any \\ninterruption, as per the terms and conditions of the Policy. The Grace Period for payment of the Premiums shall \\nbe: fifteen d ays where the Policyholder pays the premium on a monthly basis and thirty days in all other cases . \\n \\n17. In Force means the status of the Policy being active, all due Premiums have been paid and the Policy is not \\nterminated.  \\n \\n18. Life Assured shall mean the person named as such in the Policy Schedule on whose name this Policy is effected.  \\n \\n19. Lock -in Period  mean s the period of five consecutive completed years from the Date of Commencement of the \\nPolicy , during which period the proceeds of the discontinued policies cannot be paid by the Company to the \\nPolicyholder or to the Life Assured , as the case may be, except in the case of death  of the Life Assured . \\n \\n20. Net Asset Value  (NAV) of a Unit Linked Fund means the price per unit of the underlying Segregated  Fund and \\nshall be calculated as follows : \\n \\nMarket Value of investment held by the fund + Value of Current Assets – Value of Current Liabilities & \\nProvisions, if any  \\n \\n        Number of Units existing on Valuation Date (before creation / redemption of Units ) \\n      \\n21. Nominee /s means the person/(s) named in the Policy Schedule who has/have been nominated by the \\nPolicyholder (who is also the Life Insured in the Policy) in accordance with the Section 39 of the Insurance Act, \\n1938 as amended from time to time to receive the benefits in respect of this Policy.  \\n \\n22. Partial Withdrawal/s  means any part of fund that is encashed / withdrawn by the Policyholder during the Policy \\nTerm. \\n \\n23. Policy  means the contract of insuranc e entered into between the Policy holder and the insurer as evidenced by \\nthe Policy  document.  \\n \\n24. Policy Anniversary refers to the same date each year as the Policy Commencement Date.  \\n \\n25. Policy Commencement Date /Date of Inception of Policy /Date of Commencement of the Policy  means \\nthe date, month, and year the Policy comes into effect and is specified as such in the Policy Schedule.  \\n \\n26. Policy Discontinuance Charges  means a charge that can be levied upon Discontinuance of the Policy . \\n \\n27. Policy Document  means the Policy Schedule, the signed Proposal Form, Annexure and any other attached \\nendorsements or supplements together with all addendums  and includes necessary documents . Check further at HDFC-Life-Smart-Pension-Plan-Policy-Document-Online.pdf Page No 5HDFC  Life Smart Pension Plan 101L164V02  – Terms and Conditions  (Direct & \\nOnline Sales)  \\n(A Unit Linked Non -Participating Individual Pension Plan)   \\n  Page 6 of 37  \\n \\n \\n28. Policyholder  shall mean the owner of this Policy as specified in Policy  Schedule or any person in whose favour \\nthe Policy is assigned as per the terms of this Policy . \\n \\n29. Policy Schedule  means the schedule issued by the Company that sets out the details of this Policy and is attached \\nto and forming part of this Policy .  \\n \\n30. Policy Term  means the tenure of this Policy during which the contractual Benefit s are payable and is specified as \\nsuch in the Policy Schedule .  \\n \\n31. Policy Year means a period of twelve (12) consecutive months starting from the Policy Commencement Date as \\nstated in the Po licy Schedule and ending on the day immediately preceding the following Policy Anniversary date \\nand each subsequent period of twelve (12) consecutive months thereafter . \\n \\n32. Premium  means the amount payable in a Policy Year on the due date of payment as set ou t in the Policy Schedule.  \\n \\n33. Premium Payment Term (PPT)  means the period in years during the Policy Term in which Premiums are \\npayable by the Policyholder under the Policy, as specified in the Policy Schedule.   \\n \\n34. Premium Redirection  means an option which allows the Policyholder to modify the allocation of amount of \\nrenewal Premium to various Segregated Funds, under the Policy. \\n \\n35. Prevailing Annuity Rate  shall mean the annuity rates of the Annuity Plans that are approved by IRDAI as per \\nthe file and use procedure and are attached to Pension products at the time of utilizing Vesting Benefit, Death \\nBenefit or Surrender Benefit  \\n \\n36. Regulations  mean the laws and  Regulations in effect  as amended  from time to time and applicable to this Policy, \\nincluding without limitation the Regulations and directions issued by the Insurance Regulatory and Development \\nAuthority of India ( ‘IRDAI ’) from time to time.  The applicable Regulation shall form a part and parcel of the terms \\nand conditions, and the terms and conditions shall be read along with the Regulation.  \\n \\n37. Relevant Date  means:  \\na. For the purpose of calculation of the Death Benefit  or death due to suicide, the date of receipt of written \\nintimation of death as detailed in Part C,  by the Company, on any Business Day before the Cut -off time;  \\nb. For the purpose of calculation of Vesting  Benefit , the Policy Vesting  Date; \\nc. For the purpose of calculation of the Surrender Benefit s or the Partial Withdrawal Benefit s or in case of \\nSwitches, the date of receipt of written notice by the Company on any Business Day before the cut -off time;  \\nd. The date of determination of the applicabl e charges, in the case of deduction of the applicable charges;  \\ne. The date of receipt of Premiums paid to the Company by instruments/modes other than ECS, Standing \\nInstructions or Auto debit for the purpose of Premium Payments under this Policy on a Business Day before \\nthe Cut off time;  \\nf. The date of realization of Premium by the Company under this Policy , in case of payments made through ECS, \\nStanding Instruction, Auto Debit Instruction etc; \\ng. In case of death due to suicide within 12 months from the Policy Comm encement Date  of the Policy  , the \\nNominee  or beneficiary of the Policy holder shall be entitled to Fund Value, as available on the date of death.  \\n \\nExplanation : Cut-off time for the purpose of this definition means 3 pm on the relevant Business Day. Any request \\nreceived after the Cut -Off time will be processed on the following Business Day.  \\n \\n38. Revival  of the Policy means restoration of the Policy, which was discontinued due to the non -payment of  Premium, \\nby the Company  with all the Benefits mentioned in the Policy Document, upon the receipt of all the Premiums due \\nand other charges, if any, as per the terms and  conditions of the policy, upon being satisfied as to the continued \\ninsurability of the Life As sured or Policyholder on  the basis of the information, d ocuments and reports furnished \\nby the Policyholder, in accordance with Board  approved Underwriting policy. Check further at HDFC-Life-Smart-Pension-Plan-Policy-Document-Online.pdf Page No 6'"
            ],
            "application/vnd.google.colaboratory.intrinsic+json": {
              "type": "string"
            }
          },
          "metadata": {},
          "execution_count": 36
        }
      ]
    },
    {
      "cell_type": "code",
      "source": [
        "#Custom Prompt.\n",
        "messages=[\n",
        "          {\n",
        "              \"role\":\"system\",\n",
        "              \"content\":\"You are AI assistent to user. Provide the brief summary with respect to the retrived context.\"\n",
        "          },\n",
        "          {\n",
        "              \"role\":\"user\",\n",
        "              \"content\": f\"\"\"What is the definition of \\\"Grace Period\\\" in the terms and conditions of the HDFC Life Smart Pension Plan? Check in '{retrieved}'\n",
        "              \"\"\"\n",
        "          }\n",
        "        ]\n",
        "messages"
      ],
      "metadata": {
        "id": "JHCCPun-qa6u",
        "colab": {
          "base_uri": "https://localhost:8080/"
        },
        "outputId": "92823916-fc95-4cc9-be9e-d616ec294551"
      },
      "execution_count": 37,
      "outputs": [
        {
          "output_type": "execute_result",
          "data": {
            "text/plain": [
              "[{'role': 'system',\n",
              "  'content': 'You are AI assistent to user. Provide the brief summary with respect to the retrived context.'},\n",
              " {'role': 'user',\n",
              "  'content': 'What is the definition of \"Grace Period\" in the terms and conditions of the HDFC Life Smart Pension Plan? Check in \\'HDFC  Life Smart Pension Plan 101L164V02  – Terms and Conditions  (Direct & \\nOnline Sales)  \\n(A Unit Linked Non -Participating Individual Pension Plan)   \\n  Page 5 of 37  \\n \\n\\uf0b7 When one or more stock exchanges which provide a basis for valuation of the assets of the fund are closed \\notherwise than for ordinary holidays.  \\n\\uf0b7 When, as a result of political, economic, monetary or any circumstances which are not in the control of the \\ninsurer, the disposal of the assets of the fund would be detrimental to the interests of the continuing \\nPolicyholders.  \\n\\uf0b7 In the event of natural calamities, strikes, war, civil unrest, riots and bandhs.  \\n\\uf0b7 In the event of any Force Majeure or disaster that affects the normal functioning of the Company . \\n \\n15. Fund Value  means the  total value of the units at a point of time in a Segregated Fund i.e. total number of units \\nunder a policy multiplied by the Net Asset Value (NAV) per unit of that  fund. \\n \\n16. Grace Period means the time granted by the Company  from the due date for the payment of Premium, without \\nany penalty or late fee, during which time the Policy is considered to be In force with the risk cover without any \\ninterruption, as per the terms and conditions of the Policy. The Grace Period for payment of the Premiums shall \\nbe: fifteen d ays where the Policyholder pays the premium on a monthly basis and thirty days in all other cases . \\n \\n17. In Force means the status of the Policy being active, all due Premiums have been paid and the Policy is not \\nterminated.  \\n \\n18. Life Assured shall mean the person named as such in the Policy Schedule on whose name this Policy is effected.  \\n \\n19. Lock -in Period  mean s the period of five consecutive completed years from the Date of Commencement of the \\nPolicy , during which period the proceeds of the discontinued policies cannot be paid by the Company to the \\nPolicyholder or to the Life Assured , as the case may be, except in the case of death  of the Life Assured . \\n \\n20. Net Asset Value  (NAV) of a Unit Linked Fund means the price per unit of the underlying Segregated  Fund and \\nshall be calculated as follows : \\n \\nMarket Value of investment held by the fund + Value of Current Assets – Value of Current Liabilities & \\nProvisions, if any  \\n \\n        Number of Units existing on Valuation Date (before creation / redemption of Units ) \\n      \\n21. Nominee /s means the person/(s) named in the Policy Schedule who has/have been nominated by the \\nPolicyholder (who is also the Life Insured in the Policy) in accordance with the Section 39 of the Insurance Act, \\n1938 as amended from time to time to receive the benefits in respect of this Policy.  \\n \\n22. Partial Withdrawal/s  means any part of fund that is encashed / withdrawn by the Policyholder during the Policy \\nTerm. \\n \\n23. Policy  means the contract of insuranc e entered into between the Policy holder and the insurer as evidenced by \\nthe Policy  document.  \\n \\n24. Policy Anniversary refers to the same date each year as the Policy Commencement Date.  \\n \\n25. Policy Commencement Date /Date of Inception of Policy /Date of Commencement of the Policy  means \\nthe date, month, and year the Policy comes into effect and is specified as such in the Policy Schedule.  \\n \\n26. Policy Discontinuance Charges  means a charge that can be levied upon Discontinuance of the Policy . \\n \\n27. Policy Document  means the Policy Schedule, the signed Proposal Form, Annexure and any other attached \\nendorsements or supplements together with all addendums  and includes necessary documents . Check further at HDFC-Life-Smart-Pension-Plan-Policy-Document-Online.pdf Page No 5HDFC  Life Smart Pension Plan 101L164V02  – Terms and Conditions  (Direct & \\nOnline Sales)  \\n(A Unit Linked Non -Participating Individual Pension Plan)   \\n  Page 6 of 37  \\n \\n \\n28. Policyholder  shall mean the owner of this Policy as specified in Policy  Schedule or any person in whose favour \\nthe Policy is assigned as per the terms of this Policy . \\n \\n29. Policy Schedule  means the schedule issued by the Company that sets out the details of this Policy and is attached \\nto and forming part of this Policy .  \\n \\n30. Policy Term  means the tenure of this Policy during which the contractual Benefit s are payable and is specified as \\nsuch in the Policy Schedule .  \\n \\n31. Policy Year means a period of twelve (12) consecutive months starting from the Policy Commencement Date as \\nstated in the Po licy Schedule and ending on the day immediately preceding the following Policy Anniversary date \\nand each subsequent period of twelve (12) consecutive months thereafter . \\n \\n32. Premium  means the amount payable in a Policy Year on the due date of payment as set ou t in the Policy Schedule.  \\n \\n33. Premium Payment Term (PPT)  means the period in years during the Policy Term in which Premiums are \\npayable by the Policyholder under the Policy, as specified in the Policy Schedule.   \\n \\n34. Premium Redirection  means an option which allows the Policyholder to modify the allocation of amount of \\nrenewal Premium to various Segregated Funds, under the Policy. \\n \\n35. Prevailing Annuity Rate  shall mean the annuity rates of the Annuity Plans that are approved by IRDAI as per \\nthe file and use procedure and are attached to Pension products at the time of utilizing Vesting Benefit, Death \\nBenefit or Surrender Benefit  \\n \\n36. Regulations  mean the laws and  Regulations in effect  as amended  from time to time and applicable to this Policy, \\nincluding without limitation the Regulations and directions issued by the Insurance Regulatory and Development \\nAuthority of India ( ‘IRDAI ’) from time to time.  The applicable Regulation shall form a part and parcel of the terms \\nand conditions, and the terms and conditions shall be read along with the Regulation.  \\n \\n37. Relevant Date  means:  \\na. For the purpose of calculation of the Death Benefit  or death due to suicide, the date of receipt of written \\nintimation of death as detailed in Part C,  by the Company, on any Business Day before the Cut -off time;  \\nb. For the purpose of calculation of Vesting  Benefit , the Policy Vesting  Date; \\nc. For the purpose of calculation of the Surrender Benefit s or the Partial Withdrawal Benefit s or in case of \\nSwitches, the date of receipt of written notice by the Company on any Business Day before the cut -off time;  \\nd. The date of determination of the applicabl e charges, in the case of deduction of the applicable charges;  \\ne. The date of receipt of Premiums paid to the Company by instruments/modes other than ECS, Standing \\nInstructions or Auto debit for the purpose of Premium Payments under this Policy on a Business Day before \\nthe Cut off time;  \\nf. The date of realization of Premium by the Company under this Policy , in case of payments made through ECS, \\nStanding Instruction, Auto Debit Instruction etc; \\ng. In case of death due to suicide within 12 months from the Policy Comm encement Date  of the Policy  , the \\nNominee  or beneficiary of the Policy holder shall be entitled to Fund Value, as available on the date of death.  \\n \\nExplanation : Cut-off time for the purpose of this definition means 3 pm on the relevant Business Day. Any request \\nreceived after the Cut -Off time will be processed on the following Business Day.  \\n \\n38. Revival  of the Policy means restoration of the Policy, which was discontinued due to the non -payment of  Premium, \\nby the Company  with all the Benefits mentioned in the Policy Document, upon the receipt of all the Premiums due \\nand other charges, if any, as per the terms and  conditions of the policy, upon being satisfied as to the continued \\ninsurability of the Life As sured or Policyholder on  the basis of the information, d ocuments and reports furnished \\nby the Policyholder, in accordance with Board  approved Underwriting policy. Check further at HDFC-Life-Smart-Pension-Plan-Policy-Document-Online.pdf Page No 6\\'\\n              '}]"
            ]
          },
          "metadata": {},
          "execution_count": 37
        }
      ]
    },
    {
      "cell_type": "code",
      "source": [
        "response2=openai.chat.completions.create(\n",
        "    model=\"gpt-3.5-turbo\",\n",
        "    messages=messages\n",
        ")\n",
        "response2.choices[0].message.content"
      ],
      "metadata": {
        "id": "k9zprlG6qa-Y",
        "colab": {
          "base_uri": "https://localhost:8080/",
          "height": 70
        },
        "outputId": "c52f5036-d7cc-4e65-af2c-61194ee1123c"
      },
      "execution_count": 38,
      "outputs": [
        {
          "output_type": "execute_result",
          "data": {
            "text/plain": [
              "'In the HDFC Life Smart Pension Plan, the \"Grace Period\" is defined as the time period granted by the company from the due date for the payment of premium without any penalty or late fee, during which the policy is considered to be in force with the risk cover without any interruption. The grace period for payment of premiums is fifteen days for monthly payments and thirty days for other payment frequencies.'"
            ],
            "application/vnd.google.colaboratory.intrinsic+json": {
              "type": "string"
            }
          },
          "metadata": {},
          "execution_count": 38
        }
      ]
    },
    {
      "cell_type": "markdown",
      "source": [
        "### **Using customized nodes and LLMs in LLAMA Index**\n"
      ],
      "metadata": {
        "id": "nPU_d9tZCyEs"
      }
    },
    {
      "cell_type": "code",
      "source": [
        "\n",
        "#import OpenAIEmbedding\n",
        "from llama_index.embeddings.openai import OpenAIEmbedding\n",
        "#import SentenceSplitter\n",
        "from llama_index.core.node_parser import SentenceSplitter\n",
        "#import OpenAI\n",
        "from llama_index.llms.openai import OpenAI\n",
        "#import Settings\n",
        "from llama_index.core import Settings\n",
        "\n",
        "#Initialize the openAI model\n",
        "Settings.lm=OpenAI(model=\"gpt-3.5-turbo\", temperature=0, max_tokens=256)\n",
        "\n",
        "#Initialize the embedding model\n",
        "Settings.embed_model=OpenAIEmbedding()\n",
        "\n",
        "#Initialize the node_parser with custom node settings\n",
        "Settings.node_parser=SentenceSplitter(chunk_size=512, chunk_overlap=20)\n",
        "\n",
        "# Initialize the num_output and context window\n",
        "Settings.num_output=512\n",
        "Settings.context_window=3900\n",
        "\n",
        "#Create a VectorStoreIndex from a list of documents using the service context\n",
        "index=VectorStoreIndex.from_documents(documents)\n",
        "\n",
        "# Initialize a query engine for the index with a specified similiarity with top-k values\n",
        "query_engine=index.as_query_engine(similarity_top_k=3)"
      ],
      "metadata": {
        "id": "Z-bXJk_cqbCB"
      },
      "execution_count": 39,
      "outputs": []
    },
    {
      "cell_type": "code",
      "source": [
        "#Query the engine with specific question\n",
        "query = \"What are the exclusions applicable to accidental death benefits in the policy?\"\n",
        "response=query_engine.query(query)"
      ],
      "metadata": {
        "id": "uyQWQgVcqbFs"
      },
      "execution_count": 40,
      "outputs": []
    },
    {
      "cell_type": "code",
      "source": [
        "response.response"
      ],
      "metadata": {
        "id": "8-M-9FnuqbJV",
        "colab": {
          "base_uri": "https://localhost:8080/",
          "height": 105
        },
        "outputId": "cd1363d5-71ac-4989-82c4-5290f8008559"
      },
      "execution_count": 41,
      "outputs": [
        {
          "output_type": "execute_result",
          "data": {
            "text/plain": [
              "'The exclusions applicable to accidental death benefits in the policy include:\\n- Intentionally self-inflicted injury or suicide while sane or insane\\n- Alcohol or Solvent abuse or taking of Drugs, narcotics or psychotropic substances unless taken in accordance with the lawful directions and prescription of a registered medical practitioner\\n- Engaging in or taking part in professional sport(s) or any hazardous pursuits\\n- War, invasion, hostilities, civil war, rebellion, revolution, or taking part in a riot or civil commotion\\n- Taking part in any flying activity, other than as a passenger in a commercially licensed aircraft\\n- Participation in a criminal or unlawful act.'"
            ],
            "application/vnd.google.colaboratory.intrinsic+json": {
              "type": "string"
            }
          },
          "metadata": {},
          "execution_count": 41
        }
      ]
    }
  ]
}